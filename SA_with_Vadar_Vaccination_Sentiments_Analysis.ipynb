{
  "nbformat": 4,
  "nbformat_minor": 0,
  "metadata": {
    "colab": {
      "provenance": [],
      "include_colab_link": true
    },
    "kernelspec": {
      "name": "python3",
      "display_name": "Python 3"
    },
    "language_info": {
      "name": "python"
    },
    "accelerator": "GPU",
    "gpuClass": "standard"
  },
  "cells": [
    {
      "cell_type": "markdown",
      "metadata": {
        "id": "view-in-github",
        "colab_type": "text"
      },
      "source": [
        "<a href=\"https://colab.research.google.com/github/Sarmin-smrity/-introdatascience/blob/main/SA_with_Vadar_Vaccination_Sentiments_Analysis.ipynb\" target=\"_parent\"><img src=\"https://colab.research.google.com/assets/colab-badge.svg\" alt=\"Open In Colab\"/></a>"
      ]
    },
    {
      "cell_type": "markdown",
      "source": [
        "## Data Exploration"
      ],
      "metadata": {
        "id": "5tGC9nzv3oGC"
      }
    },
    {
      "cell_type": "code",
      "source": [
        "import pandas as pd\n",
        "import numpy as np\n",
        "import re\n",
        "import string\n",
        "import nltk\n",
        "import matplotlib.pyplot as plt\n",
        "plt.rc('figure',figsize=(17,13))\n",
        "import seaborn as sns\n",
        "sns.set_style('darkgrid')\n",
        "import plotly.express as ex\n",
        "from plotly.subplots import make_subplots\n",
        "nltk.download('vader_lexicon')\n",
        "from nltk.sentiment.vader import SentimentIntensityAnalyzer as SIA\n",
        "from wordcloud import WordCloud,STOPWORDS, ImageColorGenerator\n",
        "from nltk.corpus import stopwords\n",
        "from nltk.stem import WordNetLemmatizer\n",
        "import datetime\n",
        "import warnings\n",
        "warnings.filterwarnings(\"ignore\")\n",
        "print(\"Library Setup Complete.\")"
      ],
      "metadata": {
        "id": "C3yaL6Wh0zM7",
        "colab": {
          "base_uri": "https://localhost:8080/"
        },
        "outputId": "5068e2c0-0ec5-4c37-e579-8306195b31a6"
      },
      "execution_count": 4,
      "outputs": [
        {
          "output_type": "stream",
          "name": "stderr",
          "text": [
            "[nltk_data] Downloading package vader_lexicon to /root/nltk_data...\n"
          ]
        },
        {
          "output_type": "stream",
          "name": "stdout",
          "text": [
            "Library Setup Complete.\n"
          ]
        }
      ]
    },
    {
      "cell_type": "code",
      "source": [
        "from google.colab import drive\n",
        "drive.mount('/content/drive')"
      ],
      "metadata": {
        "colab": {
          "base_uri": "https://localhost:8080/"
        },
        "id": "zXhESoHU0u7-",
        "outputId": "2f1d9924-9123-40a2-9949-a632f8b4586f"
      },
      "execution_count": 5,
      "outputs": [
        {
          "output_type": "stream",
          "name": "stdout",
          "text": [
            "Mounted at /content/drive\n"
          ]
        }
      ]
    },
    {
      "cell_type": "code",
      "source": [
        "# df = pd.read_csv(\"/content/drive/MyDrive/project twit/vaccination_tweets.csv\")"
      ],
      "metadata": {
        "id": "_JRtZTS82Fes"
      },
      "execution_count": null,
      "outputs": []
    },
    {
      "cell_type": "code",
      "source": [
        "df = pd.read_csv(\"/content/drive/MyDrive/P2/vaccination_tweets.csv\")\n"
      ],
      "metadata": {
        "id": "Mt7Gwt9A9bXW"
      },
      "execution_count": 6,
      "outputs": []
    },
    {
      "cell_type": "code",
      "source": [
        "# getting \n",
        "df.head()"
      ],
      "metadata": {
        "colab": {
          "base_uri": "https://localhost:8080/",
          "height": 565
        },
        "id": "uq3c0XMRK9Lx",
        "outputId": "2d3d6953-d94b-4a23-e9b4-e6ad58f6d758"
      },
      "execution_count": 7,
      "outputs": [
        {
          "output_type": "execute_result",
          "data": {
            "text/plain": [
              "                    id             user_name              user_location  \\\n",
              "0  1340539111971510000            Rachel Roh  La Crescenta-Montrose, CA   \n",
              "1  1338158543359250000           Albert Fong          San Francisco, CA   \n",
              "2  1337858199140110000              eli🇱🇹🇪🇺👌                   Your Bed   \n",
              "3  1337855739918830000         Charles Adler     Vancouver, BC - Canada   \n",
              "4  1337854064604960000  Citizen News Channel                        NaN   \n",
              "\n",
              "                                    user_description     user_created  \\\n",
              "0  Aggregator of Asian American news; scanning di...   4/8/2009 17:52   \n",
              "1  Marketing dude, tech geek, heavy metal & '80s ...  9/21/2009 15:27   \n",
              "2                                     heil, hydra 🖐☺  6/25/2020 23:30   \n",
              "3  Hosting \"CharlesAdlerTonight\" Global News Radi...  9/10/2008 11:28   \n",
              "4  Citizen News Channel bringing you an alternati...  4/23/2020 17:58   \n",
              "\n",
              "   user_followers  user_friends  user_favourites  user_verified  \\\n",
              "0             405          1692             3247          False   \n",
              "1             834           666              178          False   \n",
              "2              10            88              155          False   \n",
              "3           49165          3933            21853           True   \n",
              "4             152           580             1473          False   \n",
              "\n",
              "               date                                               text  \\\n",
              "0   12/20/2020 6:06  Same folks said daikon paste could treat a cyt...   \n",
              "1  12/13/2020 16:27  While the world has been on the wrong side of ...   \n",
              "2  12/12/2020 20:33  #coronavirus #SputnikV #AstraZeneca #PfizerBio...   \n",
              "3  12/12/2020 20:23  Facts are immutable, Senator, even when you're...   \n",
              "4  12/12/2020 20:17  Explain to me again why we need a vaccine @Bor...   \n",
              "\n",
              "                                            hashtags               source  \\\n",
              "0                                 ['PfizerBioNTech']  Twitter for Android   \n",
              "1                                                NaN      Twitter Web App   \n",
              "2  ['coronavirus', 'SputnikV', 'AstraZeneca', 'Pf...  Twitter for Android   \n",
              "3                                                NaN      Twitter Web App   \n",
              "4     ['whereareallthesickpeople', 'PfizerBioNTech']   Twitter for iPhone   \n",
              "\n",
              "   retweets  favorites  is_retweet  \n",
              "0         0          0       False  \n",
              "1         1          1       False  \n",
              "2         0          0       False  \n",
              "3       446       2129       False  \n",
              "4         0          0       False  "
            ],
            "text/html": [
              "\n",
              "  <div id=\"df-68065e3e-7f2e-4f32-8634-51347372ade2\">\n",
              "    <div class=\"colab-df-container\">\n",
              "      <div>\n",
              "<style scoped>\n",
              "    .dataframe tbody tr th:only-of-type {\n",
              "        vertical-align: middle;\n",
              "    }\n",
              "\n",
              "    .dataframe tbody tr th {\n",
              "        vertical-align: top;\n",
              "    }\n",
              "\n",
              "    .dataframe thead th {\n",
              "        text-align: right;\n",
              "    }\n",
              "</style>\n",
              "<table border=\"1\" class=\"dataframe\">\n",
              "  <thead>\n",
              "    <tr style=\"text-align: right;\">\n",
              "      <th></th>\n",
              "      <th>id</th>\n",
              "      <th>user_name</th>\n",
              "      <th>user_location</th>\n",
              "      <th>user_description</th>\n",
              "      <th>user_created</th>\n",
              "      <th>user_followers</th>\n",
              "      <th>user_friends</th>\n",
              "      <th>user_favourites</th>\n",
              "      <th>user_verified</th>\n",
              "      <th>date</th>\n",
              "      <th>text</th>\n",
              "      <th>hashtags</th>\n",
              "      <th>source</th>\n",
              "      <th>retweets</th>\n",
              "      <th>favorites</th>\n",
              "      <th>is_retweet</th>\n",
              "    </tr>\n",
              "  </thead>\n",
              "  <tbody>\n",
              "    <tr>\n",
              "      <th>0</th>\n",
              "      <td>1340539111971510000</td>\n",
              "      <td>Rachel Roh</td>\n",
              "      <td>La Crescenta-Montrose, CA</td>\n",
              "      <td>Aggregator of Asian American news; scanning di...</td>\n",
              "      <td>4/8/2009 17:52</td>\n",
              "      <td>405</td>\n",
              "      <td>1692</td>\n",
              "      <td>3247</td>\n",
              "      <td>False</td>\n",
              "      <td>12/20/2020 6:06</td>\n",
              "      <td>Same folks said daikon paste could treat a cyt...</td>\n",
              "      <td>['PfizerBioNTech']</td>\n",
              "      <td>Twitter for Android</td>\n",
              "      <td>0</td>\n",
              "      <td>0</td>\n",
              "      <td>False</td>\n",
              "    </tr>\n",
              "    <tr>\n",
              "      <th>1</th>\n",
              "      <td>1338158543359250000</td>\n",
              "      <td>Albert Fong</td>\n",
              "      <td>San Francisco, CA</td>\n",
              "      <td>Marketing dude, tech geek, heavy metal &amp; '80s ...</td>\n",
              "      <td>9/21/2009 15:27</td>\n",
              "      <td>834</td>\n",
              "      <td>666</td>\n",
              "      <td>178</td>\n",
              "      <td>False</td>\n",
              "      <td>12/13/2020 16:27</td>\n",
              "      <td>While the world has been on the wrong side of ...</td>\n",
              "      <td>NaN</td>\n",
              "      <td>Twitter Web App</td>\n",
              "      <td>1</td>\n",
              "      <td>1</td>\n",
              "      <td>False</td>\n",
              "    </tr>\n",
              "    <tr>\n",
              "      <th>2</th>\n",
              "      <td>1337858199140110000</td>\n",
              "      <td>eli🇱🇹🇪🇺👌</td>\n",
              "      <td>Your Bed</td>\n",
              "      <td>heil, hydra 🖐☺</td>\n",
              "      <td>6/25/2020 23:30</td>\n",
              "      <td>10</td>\n",
              "      <td>88</td>\n",
              "      <td>155</td>\n",
              "      <td>False</td>\n",
              "      <td>12/12/2020 20:33</td>\n",
              "      <td>#coronavirus #SputnikV #AstraZeneca #PfizerBio...</td>\n",
              "      <td>['coronavirus', 'SputnikV', 'AstraZeneca', 'Pf...</td>\n",
              "      <td>Twitter for Android</td>\n",
              "      <td>0</td>\n",
              "      <td>0</td>\n",
              "      <td>False</td>\n",
              "    </tr>\n",
              "    <tr>\n",
              "      <th>3</th>\n",
              "      <td>1337855739918830000</td>\n",
              "      <td>Charles Adler</td>\n",
              "      <td>Vancouver, BC - Canada</td>\n",
              "      <td>Hosting \"CharlesAdlerTonight\" Global News Radi...</td>\n",
              "      <td>9/10/2008 11:28</td>\n",
              "      <td>49165</td>\n",
              "      <td>3933</td>\n",
              "      <td>21853</td>\n",
              "      <td>True</td>\n",
              "      <td>12/12/2020 20:23</td>\n",
              "      <td>Facts are immutable, Senator, even when you're...</td>\n",
              "      <td>NaN</td>\n",
              "      <td>Twitter Web App</td>\n",
              "      <td>446</td>\n",
              "      <td>2129</td>\n",
              "      <td>False</td>\n",
              "    </tr>\n",
              "    <tr>\n",
              "      <th>4</th>\n",
              "      <td>1337854064604960000</td>\n",
              "      <td>Citizen News Channel</td>\n",
              "      <td>NaN</td>\n",
              "      <td>Citizen News Channel bringing you an alternati...</td>\n",
              "      <td>4/23/2020 17:58</td>\n",
              "      <td>152</td>\n",
              "      <td>580</td>\n",
              "      <td>1473</td>\n",
              "      <td>False</td>\n",
              "      <td>12/12/2020 20:17</td>\n",
              "      <td>Explain to me again why we need a vaccine @Bor...</td>\n",
              "      <td>['whereareallthesickpeople', 'PfizerBioNTech']</td>\n",
              "      <td>Twitter for iPhone</td>\n",
              "      <td>0</td>\n",
              "      <td>0</td>\n",
              "      <td>False</td>\n",
              "    </tr>\n",
              "  </tbody>\n",
              "</table>\n",
              "</div>\n",
              "      <button class=\"colab-df-convert\" onclick=\"convertToInteractive('df-68065e3e-7f2e-4f32-8634-51347372ade2')\"\n",
              "              title=\"Convert this dataframe to an interactive table.\"\n",
              "              style=\"display:none;\">\n",
              "        \n",
              "  <svg xmlns=\"http://www.w3.org/2000/svg\" height=\"24px\"viewBox=\"0 0 24 24\"\n",
              "       width=\"24px\">\n",
              "    <path d=\"M0 0h24v24H0V0z\" fill=\"none\"/>\n",
              "    <path d=\"M18.56 5.44l.94 2.06.94-2.06 2.06-.94-2.06-.94-.94-2.06-.94 2.06-2.06.94zm-11 1L8.5 8.5l.94-2.06 2.06-.94-2.06-.94L8.5 2.5l-.94 2.06-2.06.94zm10 10l.94 2.06.94-2.06 2.06-.94-2.06-.94-.94-2.06-.94 2.06-2.06.94z\"/><path d=\"M17.41 7.96l-1.37-1.37c-.4-.4-.92-.59-1.43-.59-.52 0-1.04.2-1.43.59L10.3 9.45l-7.72 7.72c-.78.78-.78 2.05 0 2.83L4 21.41c.39.39.9.59 1.41.59.51 0 1.02-.2 1.41-.59l7.78-7.78 2.81-2.81c.8-.78.8-2.07 0-2.86zM5.41 20L4 18.59l7.72-7.72 1.47 1.35L5.41 20z\"/>\n",
              "  </svg>\n",
              "      </button>\n",
              "      \n",
              "  <style>\n",
              "    .colab-df-container {\n",
              "      display:flex;\n",
              "      flex-wrap:wrap;\n",
              "      gap: 12px;\n",
              "    }\n",
              "\n",
              "    .colab-df-convert {\n",
              "      background-color: #E8F0FE;\n",
              "      border: none;\n",
              "      border-radius: 50%;\n",
              "      cursor: pointer;\n",
              "      display: none;\n",
              "      fill: #1967D2;\n",
              "      height: 32px;\n",
              "      padding: 0 0 0 0;\n",
              "      width: 32px;\n",
              "    }\n",
              "\n",
              "    .colab-df-convert:hover {\n",
              "      background-color: #E2EBFA;\n",
              "      box-shadow: 0px 1px 2px rgba(60, 64, 67, 0.3), 0px 1px 3px 1px rgba(60, 64, 67, 0.15);\n",
              "      fill: #174EA6;\n",
              "    }\n",
              "\n",
              "    [theme=dark] .colab-df-convert {\n",
              "      background-color: #3B4455;\n",
              "      fill: #D2E3FC;\n",
              "    }\n",
              "\n",
              "    [theme=dark] .colab-df-convert:hover {\n",
              "      background-color: #434B5C;\n",
              "      box-shadow: 0px 1px 3px 1px rgba(0, 0, 0, 0.15);\n",
              "      filter: drop-shadow(0px 1px 2px rgba(0, 0, 0, 0.3));\n",
              "      fill: #FFFFFF;\n",
              "    }\n",
              "  </style>\n",
              "\n",
              "      <script>\n",
              "        const buttonEl =\n",
              "          document.querySelector('#df-68065e3e-7f2e-4f32-8634-51347372ade2 button.colab-df-convert');\n",
              "        buttonEl.style.display =\n",
              "          google.colab.kernel.accessAllowed ? 'block' : 'none';\n",
              "\n",
              "        async function convertToInteractive(key) {\n",
              "          const element = document.querySelector('#df-68065e3e-7f2e-4f32-8634-51347372ade2');\n",
              "          const dataTable =\n",
              "            await google.colab.kernel.invokeFunction('convertToInteractive',\n",
              "                                                     [key], {});\n",
              "          if (!dataTable) return;\n",
              "\n",
              "          const docLinkHtml = 'Like what you see? Visit the ' +\n",
              "            '<a target=\"_blank\" href=https://colab.research.google.com/notebooks/data_table.ipynb>data table notebook</a>'\n",
              "            + ' to learn more about interactive tables.';\n",
              "          element.innerHTML = '';\n",
              "          dataTable['output_type'] = 'display_data';\n",
              "          await google.colab.output.renderOutput(dataTable, element);\n",
              "          const docLink = document.createElement('div');\n",
              "          docLink.innerHTML = docLinkHtml;\n",
              "          element.appendChild(docLink);\n",
              "        }\n",
              "      </script>\n",
              "    </div>\n",
              "  </div>\n",
              "  "
            ]
          },
          "metadata": {},
          "execution_count": 7
        }
      ]
    },
    {
      "cell_type": "code",
      "source": [
        "# getting info of raw data\n",
        "df.shape"
      ],
      "metadata": {
        "colab": {
          "base_uri": "https://localhost:8080/"
        },
        "id": "Nq4nqM_BK0AR",
        "outputId": "b5b85aae-ecb8-4ab1-84bb-a012b6c2ae7b"
      },
      "execution_count": 8,
      "outputs": [
        {
          "output_type": "execute_result",
          "data": {
            "text/plain": [
              "(228207, 16)"
            ]
          },
          "metadata": {},
          "execution_count": 8
        }
      ]
    },
    {
      "cell_type": "code",
      "source": [
        "## checking null value on raw data\n",
        "\n",
        "df.isnull().sum()"
      ],
      "metadata": {
        "colab": {
          "base_uri": "https://localhost:8080/"
        },
        "id": "IHDwrx9-Lmaq",
        "outputId": "9811d4a9-320a-4fef-9bb2-0f7edd424576"
      },
      "execution_count": 10,
      "outputs": [
        {
          "output_type": "execute_result",
          "data": {
            "text/plain": [
              "id                      0\n",
              "user_name               2\n",
              "user_location       66911\n",
              "user_description    17018\n",
              "user_created            0\n",
              "user_followers          0\n",
              "user_friends            0\n",
              "user_favourites         0\n",
              "user_verified           0\n",
              "date                    0\n",
              "text                    0\n",
              "hashtags            49703\n",
              "source                119\n",
              "retweets                0\n",
              "favorites               0\n",
              "is_retweet              0\n",
              "dtype: int64"
            ]
          },
          "metadata": {},
          "execution_count": 10
        }
      ]
    },
    {
      "cell_type": "code",
      "source": [
        "## Filling up null value to perform transofrmation\n",
        "\n",
        "df['user_location'] = df['user_location'].fillna('Unknown')\n",
        "df.isnull().sum()"
      ],
      "metadata": {
        "colab": {
          "base_uri": "https://localhost:8080/"
        },
        "id": "wZYEhy046bLW",
        "outputId": "8a2e72ce-9680-4482-9281-90d00e465cf6"
      },
      "execution_count": 11,
      "outputs": [
        {
          "output_type": "execute_result",
          "data": {
            "text/plain": [
              "id                      0\n",
              "user_name               2\n",
              "user_location           0\n",
              "user_description    17018\n",
              "user_created            0\n",
              "user_followers          0\n",
              "user_friends            0\n",
              "user_favourites         0\n",
              "user_verified           0\n",
              "date                    0\n",
              "text                    0\n",
              "hashtags            49703\n",
              "source                119\n",
              "retweets                0\n",
              "favorites               0\n",
              "is_retweet              0\n",
              "dtype: int64"
            ]
          },
          "metadata": {},
          "execution_count": 11
        }
      ]
    },
    {
      "cell_type": "code",
      "source": [],
      "metadata": {
        "id": "u3cHjRDAMDDR"
      },
      "execution_count": null,
      "outputs": []
    },
    {
      "cell_type": "code",
      "source": [
        "## performing transofrmation of data\n",
        "\n",
        "conditions = [\n",
        "    (df['user_location'].str.contains('india', case=False)),\n",
        "    (df['user_location'].str.contains('pakistan', case=False)),\n",
        "    (df['user_location'].str.contains('bangladesh', case=False)),\n",
        "    (df['user_location'].str.contains('nepal', case=False)),\n",
        "    (df['user_location'].str.contains('bhutan', case=False)),\n",
        "    (df['user_location'].str.contains('sri lanka', case=False)),\n",
        "]\n",
        "\n",
        "\n",
        "values = ['India', 'Pakistan', 'Bangladesh', 'Nepal', 'Bhutan', 'Sri Lanka']\n",
        "\n",
        "df['user_country'] = np.select(conditions,values)"
      ],
      "metadata": {
        "id": "4i2EzYUlGqjY"
      },
      "execution_count": 12,
      "outputs": []
    },
    {
      "cell_type": "code",
      "source": [],
      "metadata": {
        "id": "bYdsZO6uHIuw"
      },
      "execution_count": null,
      "outputs": []
    },
    {
      "cell_type": "code",
      "source": [
        "## overview country group data\n",
        "df.groupby(['user_country']).count()"
      ],
      "metadata": {
        "colab": {
          "base_uri": "https://localhost:8080/",
          "height": 364
        },
        "id": "baGB1Yz-H0xQ",
        "outputId": "ec915a7f-7fc0-4e25-e0e9-06a32b611276"
      },
      "execution_count": 13,
      "outputs": [
        {
          "output_type": "execute_result",
          "data": {
            "text/plain": [
              "                  id  user_name  user_location  user_description  \\\n",
              "user_country                                                       \n",
              "0             178212     178210         178212            162831   \n",
              "Bangladesh       617        617            617               595   \n",
              "Bhutan            11         11             11                10   \n",
              "India          45077      45077          45077             43749   \n",
              "Nepal             92         92             92                86   \n",
              "Pakistan        2085       2085           2085              1968   \n",
              "Sri Lanka       2113       2113           2113              1950   \n",
              "\n",
              "              user_created  user_followers  user_friends  user_favourites  \\\n",
              "user_country                                                                \n",
              "0                   178212          178212        178212           178212   \n",
              "Bangladesh             617             617           617              617   \n",
              "Bhutan                  11              11            11               11   \n",
              "India                45077           45077         45077            45077   \n",
              "Nepal                   92              92            92               92   \n",
              "Pakistan              2085            2085          2085             2085   \n",
              "Sri Lanka             2113            2113          2113             2113   \n",
              "\n",
              "              user_verified    date    text  hashtags  source  retweets  \\\n",
              "user_country                                                              \n",
              "0                    178212  178212  178212    147091  178094    178212   \n",
              "Bangladesh              617     617     617       528     617       617   \n",
              "Bhutan                   11      11      11        10      11        11   \n",
              "India                 45077   45077   45077     27420   45076     45077   \n",
              "Nepal                    92      92      92        73      92        92   \n",
              "Pakistan               2085    2085    2085      1717    2085      2085   \n",
              "Sri Lanka              2113    2113    2113      1665    2113      2113   \n",
              "\n",
              "              favorites  is_retweet  \n",
              "user_country                         \n",
              "0                178212      178212  \n",
              "Bangladesh          617         617  \n",
              "Bhutan               11          11  \n",
              "India             45077       45077  \n",
              "Nepal                92          92  \n",
              "Pakistan           2085        2085  \n",
              "Sri Lanka          2113        2113  "
            ],
            "text/html": [
              "\n",
              "  <div id=\"df-ca78bc1f-565f-42ac-90a9-b3f19d3829c5\">\n",
              "    <div class=\"colab-df-container\">\n",
              "      <div>\n",
              "<style scoped>\n",
              "    .dataframe tbody tr th:only-of-type {\n",
              "        vertical-align: middle;\n",
              "    }\n",
              "\n",
              "    .dataframe tbody tr th {\n",
              "        vertical-align: top;\n",
              "    }\n",
              "\n",
              "    .dataframe thead th {\n",
              "        text-align: right;\n",
              "    }\n",
              "</style>\n",
              "<table border=\"1\" class=\"dataframe\">\n",
              "  <thead>\n",
              "    <tr style=\"text-align: right;\">\n",
              "      <th></th>\n",
              "      <th>id</th>\n",
              "      <th>user_name</th>\n",
              "      <th>user_location</th>\n",
              "      <th>user_description</th>\n",
              "      <th>user_created</th>\n",
              "      <th>user_followers</th>\n",
              "      <th>user_friends</th>\n",
              "      <th>user_favourites</th>\n",
              "      <th>user_verified</th>\n",
              "      <th>date</th>\n",
              "      <th>text</th>\n",
              "      <th>hashtags</th>\n",
              "      <th>source</th>\n",
              "      <th>retweets</th>\n",
              "      <th>favorites</th>\n",
              "      <th>is_retweet</th>\n",
              "    </tr>\n",
              "    <tr>\n",
              "      <th>user_country</th>\n",
              "      <th></th>\n",
              "      <th></th>\n",
              "      <th></th>\n",
              "      <th></th>\n",
              "      <th></th>\n",
              "      <th></th>\n",
              "      <th></th>\n",
              "      <th></th>\n",
              "      <th></th>\n",
              "      <th></th>\n",
              "      <th></th>\n",
              "      <th></th>\n",
              "      <th></th>\n",
              "      <th></th>\n",
              "      <th></th>\n",
              "      <th></th>\n",
              "    </tr>\n",
              "  </thead>\n",
              "  <tbody>\n",
              "    <tr>\n",
              "      <th>0</th>\n",
              "      <td>178212</td>\n",
              "      <td>178210</td>\n",
              "      <td>178212</td>\n",
              "      <td>162831</td>\n",
              "      <td>178212</td>\n",
              "      <td>178212</td>\n",
              "      <td>178212</td>\n",
              "      <td>178212</td>\n",
              "      <td>178212</td>\n",
              "      <td>178212</td>\n",
              "      <td>178212</td>\n",
              "      <td>147091</td>\n",
              "      <td>178094</td>\n",
              "      <td>178212</td>\n",
              "      <td>178212</td>\n",
              "      <td>178212</td>\n",
              "    </tr>\n",
              "    <tr>\n",
              "      <th>Bangladesh</th>\n",
              "      <td>617</td>\n",
              "      <td>617</td>\n",
              "      <td>617</td>\n",
              "      <td>595</td>\n",
              "      <td>617</td>\n",
              "      <td>617</td>\n",
              "      <td>617</td>\n",
              "      <td>617</td>\n",
              "      <td>617</td>\n",
              "      <td>617</td>\n",
              "      <td>617</td>\n",
              "      <td>528</td>\n",
              "      <td>617</td>\n",
              "      <td>617</td>\n",
              "      <td>617</td>\n",
              "      <td>617</td>\n",
              "    </tr>\n",
              "    <tr>\n",
              "      <th>Bhutan</th>\n",
              "      <td>11</td>\n",
              "      <td>11</td>\n",
              "      <td>11</td>\n",
              "      <td>10</td>\n",
              "      <td>11</td>\n",
              "      <td>11</td>\n",
              "      <td>11</td>\n",
              "      <td>11</td>\n",
              "      <td>11</td>\n",
              "      <td>11</td>\n",
              "      <td>11</td>\n",
              "      <td>10</td>\n",
              "      <td>11</td>\n",
              "      <td>11</td>\n",
              "      <td>11</td>\n",
              "      <td>11</td>\n",
              "    </tr>\n",
              "    <tr>\n",
              "      <th>India</th>\n",
              "      <td>45077</td>\n",
              "      <td>45077</td>\n",
              "      <td>45077</td>\n",
              "      <td>43749</td>\n",
              "      <td>45077</td>\n",
              "      <td>45077</td>\n",
              "      <td>45077</td>\n",
              "      <td>45077</td>\n",
              "      <td>45077</td>\n",
              "      <td>45077</td>\n",
              "      <td>45077</td>\n",
              "      <td>27420</td>\n",
              "      <td>45076</td>\n",
              "      <td>45077</td>\n",
              "      <td>45077</td>\n",
              "      <td>45077</td>\n",
              "    </tr>\n",
              "    <tr>\n",
              "      <th>Nepal</th>\n",
              "      <td>92</td>\n",
              "      <td>92</td>\n",
              "      <td>92</td>\n",
              "      <td>86</td>\n",
              "      <td>92</td>\n",
              "      <td>92</td>\n",
              "      <td>92</td>\n",
              "      <td>92</td>\n",
              "      <td>92</td>\n",
              "      <td>92</td>\n",
              "      <td>92</td>\n",
              "      <td>73</td>\n",
              "      <td>92</td>\n",
              "      <td>92</td>\n",
              "      <td>92</td>\n",
              "      <td>92</td>\n",
              "    </tr>\n",
              "    <tr>\n",
              "      <th>Pakistan</th>\n",
              "      <td>2085</td>\n",
              "      <td>2085</td>\n",
              "      <td>2085</td>\n",
              "      <td>1968</td>\n",
              "      <td>2085</td>\n",
              "      <td>2085</td>\n",
              "      <td>2085</td>\n",
              "      <td>2085</td>\n",
              "      <td>2085</td>\n",
              "      <td>2085</td>\n",
              "      <td>2085</td>\n",
              "      <td>1717</td>\n",
              "      <td>2085</td>\n",
              "      <td>2085</td>\n",
              "      <td>2085</td>\n",
              "      <td>2085</td>\n",
              "    </tr>\n",
              "    <tr>\n",
              "      <th>Sri Lanka</th>\n",
              "      <td>2113</td>\n",
              "      <td>2113</td>\n",
              "      <td>2113</td>\n",
              "      <td>1950</td>\n",
              "      <td>2113</td>\n",
              "      <td>2113</td>\n",
              "      <td>2113</td>\n",
              "      <td>2113</td>\n",
              "      <td>2113</td>\n",
              "      <td>2113</td>\n",
              "      <td>2113</td>\n",
              "      <td>1665</td>\n",
              "      <td>2113</td>\n",
              "      <td>2113</td>\n",
              "      <td>2113</td>\n",
              "      <td>2113</td>\n",
              "    </tr>\n",
              "  </tbody>\n",
              "</table>\n",
              "</div>\n",
              "      <button class=\"colab-df-convert\" onclick=\"convertToInteractive('df-ca78bc1f-565f-42ac-90a9-b3f19d3829c5')\"\n",
              "              title=\"Convert this dataframe to an interactive table.\"\n",
              "              style=\"display:none;\">\n",
              "        \n",
              "  <svg xmlns=\"http://www.w3.org/2000/svg\" height=\"24px\"viewBox=\"0 0 24 24\"\n",
              "       width=\"24px\">\n",
              "    <path d=\"M0 0h24v24H0V0z\" fill=\"none\"/>\n",
              "    <path d=\"M18.56 5.44l.94 2.06.94-2.06 2.06-.94-2.06-.94-.94-2.06-.94 2.06-2.06.94zm-11 1L8.5 8.5l.94-2.06 2.06-.94-2.06-.94L8.5 2.5l-.94 2.06-2.06.94zm10 10l.94 2.06.94-2.06 2.06-.94-2.06-.94-.94-2.06-.94 2.06-2.06.94z\"/><path d=\"M17.41 7.96l-1.37-1.37c-.4-.4-.92-.59-1.43-.59-.52 0-1.04.2-1.43.59L10.3 9.45l-7.72 7.72c-.78.78-.78 2.05 0 2.83L4 21.41c.39.39.9.59 1.41.59.51 0 1.02-.2 1.41-.59l7.78-7.78 2.81-2.81c.8-.78.8-2.07 0-2.86zM5.41 20L4 18.59l7.72-7.72 1.47 1.35L5.41 20z\"/>\n",
              "  </svg>\n",
              "      </button>\n",
              "      \n",
              "  <style>\n",
              "    .colab-df-container {\n",
              "      display:flex;\n",
              "      flex-wrap:wrap;\n",
              "      gap: 12px;\n",
              "    }\n",
              "\n",
              "    .colab-df-convert {\n",
              "      background-color: #E8F0FE;\n",
              "      border: none;\n",
              "      border-radius: 50%;\n",
              "      cursor: pointer;\n",
              "      display: none;\n",
              "      fill: #1967D2;\n",
              "      height: 32px;\n",
              "      padding: 0 0 0 0;\n",
              "      width: 32px;\n",
              "    }\n",
              "\n",
              "    .colab-df-convert:hover {\n",
              "      background-color: #E2EBFA;\n",
              "      box-shadow: 0px 1px 2px rgba(60, 64, 67, 0.3), 0px 1px 3px 1px rgba(60, 64, 67, 0.15);\n",
              "      fill: #174EA6;\n",
              "    }\n",
              "\n",
              "    [theme=dark] .colab-df-convert {\n",
              "      background-color: #3B4455;\n",
              "      fill: #D2E3FC;\n",
              "    }\n",
              "\n",
              "    [theme=dark] .colab-df-convert:hover {\n",
              "      background-color: #434B5C;\n",
              "      box-shadow: 0px 1px 3px 1px rgba(0, 0, 0, 0.15);\n",
              "      filter: drop-shadow(0px 1px 2px rgba(0, 0, 0, 0.3));\n",
              "      fill: #FFFFFF;\n",
              "    }\n",
              "  </style>\n",
              "\n",
              "      <script>\n",
              "        const buttonEl =\n",
              "          document.querySelector('#df-ca78bc1f-565f-42ac-90a9-b3f19d3829c5 button.colab-df-convert');\n",
              "        buttonEl.style.display =\n",
              "          google.colab.kernel.accessAllowed ? 'block' : 'none';\n",
              "\n",
              "        async function convertToInteractive(key) {\n",
              "          const element = document.querySelector('#df-ca78bc1f-565f-42ac-90a9-b3f19d3829c5');\n",
              "          const dataTable =\n",
              "            await google.colab.kernel.invokeFunction('convertToInteractive',\n",
              "                                                     [key], {});\n",
              "          if (!dataTable) return;\n",
              "\n",
              "          const docLinkHtml = 'Like what you see? Visit the ' +\n",
              "            '<a target=\"_blank\" href=https://colab.research.google.com/notebooks/data_table.ipynb>data table notebook</a>'\n",
              "            + ' to learn more about interactive tables.';\n",
              "          element.innerHTML = '';\n",
              "          dataTable['output_type'] = 'display_data';\n",
              "          await google.colab.output.renderOutput(dataTable, element);\n",
              "          const docLink = document.createElement('div');\n",
              "          docLink.innerHTML = docLinkHtml;\n",
              "          element.appendChild(docLink);\n",
              "        }\n",
              "      </script>\n",
              "    </div>\n",
              "  </div>\n",
              "  "
            ]
          },
          "metadata": {},
          "execution_count": 13
        }
      ]
    },
    {
      "cell_type": "code",
      "source": [
        "## droping non South Asian country\n",
        "\n",
        "df_c = df.loc[df['user_country'] != '0'].reset_index(drop=True)"
      ],
      "metadata": {
        "id": "4ORGSHOzJ_IJ"
      },
      "execution_count": 14,
      "outputs": []
    },
    {
      "cell_type": "code",
      "source": [
        "# print 5 first values of the dataset\n",
        "\n",
        "df_c.head()"
      ],
      "metadata": {
        "colab": {
          "base_uri": "https://localhost:8080/",
          "height": 583
        },
        "id": "nWwuM8y-KHaJ",
        "outputId": "d7b4382a-2203-4079-cfb1-2c58d59a96f0"
      },
      "execution_count": 15,
      "outputs": [
        {
          "output_type": "execute_result",
          "data": {
            "text/plain": [
              "                    id            user_name  user_location  \\\n",
              "0  1337815730486700000                 WION          India   \n",
              "1  1337773751841140000            BOOM Live  Mumbai, India   \n",
              "2  1338631874814610000        Dr. Taha Khan    India | USA   \n",
              "3  1338574693087930000  Prof. Manish Thakur          India   \n",
              "4  1338551175587780000         India Blooms          India   \n",
              "\n",
              "                                    user_description      user_created  \\\n",
              "0  #WION: World Is One | Welcome to India’s first...    3/21/2016 3:44   \n",
              "1  IFCN certified fact-driven journalism. India's...    3/16/2014 3:52   \n",
              "2  MD/MPH • PGY1 Peds/Child Neurology @theBCRP (@...   12/30/2013 8:51   \n",
              "3  #Proprietor English Academy #Blockchain #AI #I...   6/11/2012 13:50   \n",
              "4  A news and reference portal on India and a 24X...  10/10/2009 11:19   \n",
              "\n",
              "   user_followers  user_friends  user_favourites  user_verified  \\\n",
              "0          292510            91             7531           True   \n",
              "1           64185          1183             1794           True   \n",
              "2             855          3046             8236          False   \n",
              "3            3372          1713           119631          False   \n",
              "4           16816          2448               20          False   \n",
              "\n",
              "               date                                               text  \\\n",
              "0  12/12/2020 17:45  The agency also released new information for h...   \n",
              "1  12/12/2020 14:58  The US Food and Drug Administration (FDA) has ...   \n",
              "2  12/14/2020 23:48  I’ve never been so excited to get a vaccine 💉💉...   \n",
              "3  12/14/2020 20:00  #UgurSahin #ozlemtureci the #Muslim Scientists...   \n",
              "4  12/14/2020 18:27  Toronto to receive Ontario's 1st doses of Pfiz...   \n",
              "\n",
              "                                            hashtags               source  \\\n",
              "0                                                NaN            TweetDeck   \n",
              "1                                                NaN      Twitter Web App   \n",
              "2  ['CovidVaccine', 'PfizerBioNTech', 'VaccinesSa...   Twitter for iPhone   \n",
              "3  ['UgurSahin', 'ozlemtureci', 'Muslim', 'Pfizer...  Twitter for Android   \n",
              "4                                        ['Ontario']      Twitter Web App   \n",
              "\n",
              "   retweets  favorites  is_retweet user_country  \n",
              "0         0         18       False        India  \n",
              "1         1          5       False        India  \n",
              "2         1         10       False        India  \n",
              "3         0          0       False        India  \n",
              "4         0          0       False        India  "
            ],
            "text/html": [
              "\n",
              "  <div id=\"df-fc9d5108-35c1-4d2f-8700-e935e22d701a\">\n",
              "    <div class=\"colab-df-container\">\n",
              "      <div>\n",
              "<style scoped>\n",
              "    .dataframe tbody tr th:only-of-type {\n",
              "        vertical-align: middle;\n",
              "    }\n",
              "\n",
              "    .dataframe tbody tr th {\n",
              "        vertical-align: top;\n",
              "    }\n",
              "\n",
              "    .dataframe thead th {\n",
              "        text-align: right;\n",
              "    }\n",
              "</style>\n",
              "<table border=\"1\" class=\"dataframe\">\n",
              "  <thead>\n",
              "    <tr style=\"text-align: right;\">\n",
              "      <th></th>\n",
              "      <th>id</th>\n",
              "      <th>user_name</th>\n",
              "      <th>user_location</th>\n",
              "      <th>user_description</th>\n",
              "      <th>user_created</th>\n",
              "      <th>user_followers</th>\n",
              "      <th>user_friends</th>\n",
              "      <th>user_favourites</th>\n",
              "      <th>user_verified</th>\n",
              "      <th>date</th>\n",
              "      <th>text</th>\n",
              "      <th>hashtags</th>\n",
              "      <th>source</th>\n",
              "      <th>retweets</th>\n",
              "      <th>favorites</th>\n",
              "      <th>is_retweet</th>\n",
              "      <th>user_country</th>\n",
              "    </tr>\n",
              "  </thead>\n",
              "  <tbody>\n",
              "    <tr>\n",
              "      <th>0</th>\n",
              "      <td>1337815730486700000</td>\n",
              "      <td>WION</td>\n",
              "      <td>India</td>\n",
              "      <td>#WION: World Is One | Welcome to India’s first...</td>\n",
              "      <td>3/21/2016 3:44</td>\n",
              "      <td>292510</td>\n",
              "      <td>91</td>\n",
              "      <td>7531</td>\n",
              "      <td>True</td>\n",
              "      <td>12/12/2020 17:45</td>\n",
              "      <td>The agency also released new information for h...</td>\n",
              "      <td>NaN</td>\n",
              "      <td>TweetDeck</td>\n",
              "      <td>0</td>\n",
              "      <td>18</td>\n",
              "      <td>False</td>\n",
              "      <td>India</td>\n",
              "    </tr>\n",
              "    <tr>\n",
              "      <th>1</th>\n",
              "      <td>1337773751841140000</td>\n",
              "      <td>BOOM Live</td>\n",
              "      <td>Mumbai, India</td>\n",
              "      <td>IFCN certified fact-driven journalism. India's...</td>\n",
              "      <td>3/16/2014 3:52</td>\n",
              "      <td>64185</td>\n",
              "      <td>1183</td>\n",
              "      <td>1794</td>\n",
              "      <td>True</td>\n",
              "      <td>12/12/2020 14:58</td>\n",
              "      <td>The US Food and Drug Administration (FDA) has ...</td>\n",
              "      <td>NaN</td>\n",
              "      <td>Twitter Web App</td>\n",
              "      <td>1</td>\n",
              "      <td>5</td>\n",
              "      <td>False</td>\n",
              "      <td>India</td>\n",
              "    </tr>\n",
              "    <tr>\n",
              "      <th>2</th>\n",
              "      <td>1338631874814610000</td>\n",
              "      <td>Dr. Taha Khan</td>\n",
              "      <td>India | USA</td>\n",
              "      <td>MD/MPH • PGY1 Peds/Child Neurology @theBCRP (@...</td>\n",
              "      <td>12/30/2013 8:51</td>\n",
              "      <td>855</td>\n",
              "      <td>3046</td>\n",
              "      <td>8236</td>\n",
              "      <td>False</td>\n",
              "      <td>12/14/2020 23:48</td>\n",
              "      <td>I’ve never been so excited to get a vaccine 💉💉...</td>\n",
              "      <td>['CovidVaccine', 'PfizerBioNTech', 'VaccinesSa...</td>\n",
              "      <td>Twitter for iPhone</td>\n",
              "      <td>1</td>\n",
              "      <td>10</td>\n",
              "      <td>False</td>\n",
              "      <td>India</td>\n",
              "    </tr>\n",
              "    <tr>\n",
              "      <th>3</th>\n",
              "      <td>1338574693087930000</td>\n",
              "      <td>Prof. Manish Thakur</td>\n",
              "      <td>India</td>\n",
              "      <td>#Proprietor English Academy #Blockchain #AI #I...</td>\n",
              "      <td>6/11/2012 13:50</td>\n",
              "      <td>3372</td>\n",
              "      <td>1713</td>\n",
              "      <td>119631</td>\n",
              "      <td>False</td>\n",
              "      <td>12/14/2020 20:00</td>\n",
              "      <td>#UgurSahin #ozlemtureci the #Muslim Scientists...</td>\n",
              "      <td>['UgurSahin', 'ozlemtureci', 'Muslim', 'Pfizer...</td>\n",
              "      <td>Twitter for Android</td>\n",
              "      <td>0</td>\n",
              "      <td>0</td>\n",
              "      <td>False</td>\n",
              "      <td>India</td>\n",
              "    </tr>\n",
              "    <tr>\n",
              "      <th>4</th>\n",
              "      <td>1338551175587780000</td>\n",
              "      <td>India Blooms</td>\n",
              "      <td>India</td>\n",
              "      <td>A news and reference portal on India and a 24X...</td>\n",
              "      <td>10/10/2009 11:19</td>\n",
              "      <td>16816</td>\n",
              "      <td>2448</td>\n",
              "      <td>20</td>\n",
              "      <td>False</td>\n",
              "      <td>12/14/2020 18:27</td>\n",
              "      <td>Toronto to receive Ontario's 1st doses of Pfiz...</td>\n",
              "      <td>['Ontario']</td>\n",
              "      <td>Twitter Web App</td>\n",
              "      <td>0</td>\n",
              "      <td>0</td>\n",
              "      <td>False</td>\n",
              "      <td>India</td>\n",
              "    </tr>\n",
              "  </tbody>\n",
              "</table>\n",
              "</div>\n",
              "      <button class=\"colab-df-convert\" onclick=\"convertToInteractive('df-fc9d5108-35c1-4d2f-8700-e935e22d701a')\"\n",
              "              title=\"Convert this dataframe to an interactive table.\"\n",
              "              style=\"display:none;\">\n",
              "        \n",
              "  <svg xmlns=\"http://www.w3.org/2000/svg\" height=\"24px\"viewBox=\"0 0 24 24\"\n",
              "       width=\"24px\">\n",
              "    <path d=\"M0 0h24v24H0V0z\" fill=\"none\"/>\n",
              "    <path d=\"M18.56 5.44l.94 2.06.94-2.06 2.06-.94-2.06-.94-.94-2.06-.94 2.06-2.06.94zm-11 1L8.5 8.5l.94-2.06 2.06-.94-2.06-.94L8.5 2.5l-.94 2.06-2.06.94zm10 10l.94 2.06.94-2.06 2.06-.94-2.06-.94-.94-2.06-.94 2.06-2.06.94z\"/><path d=\"M17.41 7.96l-1.37-1.37c-.4-.4-.92-.59-1.43-.59-.52 0-1.04.2-1.43.59L10.3 9.45l-7.72 7.72c-.78.78-.78 2.05 0 2.83L4 21.41c.39.39.9.59 1.41.59.51 0 1.02-.2 1.41-.59l7.78-7.78 2.81-2.81c.8-.78.8-2.07 0-2.86zM5.41 20L4 18.59l7.72-7.72 1.47 1.35L5.41 20z\"/>\n",
              "  </svg>\n",
              "      </button>\n",
              "      \n",
              "  <style>\n",
              "    .colab-df-container {\n",
              "      display:flex;\n",
              "      flex-wrap:wrap;\n",
              "      gap: 12px;\n",
              "    }\n",
              "\n",
              "    .colab-df-convert {\n",
              "      background-color: #E8F0FE;\n",
              "      border: none;\n",
              "      border-radius: 50%;\n",
              "      cursor: pointer;\n",
              "      display: none;\n",
              "      fill: #1967D2;\n",
              "      height: 32px;\n",
              "      padding: 0 0 0 0;\n",
              "      width: 32px;\n",
              "    }\n",
              "\n",
              "    .colab-df-convert:hover {\n",
              "      background-color: #E2EBFA;\n",
              "      box-shadow: 0px 1px 2px rgba(60, 64, 67, 0.3), 0px 1px 3px 1px rgba(60, 64, 67, 0.15);\n",
              "      fill: #174EA6;\n",
              "    }\n",
              "\n",
              "    [theme=dark] .colab-df-convert {\n",
              "      background-color: #3B4455;\n",
              "      fill: #D2E3FC;\n",
              "    }\n",
              "\n",
              "    [theme=dark] .colab-df-convert:hover {\n",
              "      background-color: #434B5C;\n",
              "      box-shadow: 0px 1px 3px 1px rgba(0, 0, 0, 0.15);\n",
              "      filter: drop-shadow(0px 1px 2px rgba(0, 0, 0, 0.3));\n",
              "      fill: #FFFFFF;\n",
              "    }\n",
              "  </style>\n",
              "\n",
              "      <script>\n",
              "        const buttonEl =\n",
              "          document.querySelector('#df-fc9d5108-35c1-4d2f-8700-e935e22d701a button.colab-df-convert');\n",
              "        buttonEl.style.display =\n",
              "          google.colab.kernel.accessAllowed ? 'block' : 'none';\n",
              "\n",
              "        async function convertToInteractive(key) {\n",
              "          const element = document.querySelector('#df-fc9d5108-35c1-4d2f-8700-e935e22d701a');\n",
              "          const dataTable =\n",
              "            await google.colab.kernel.invokeFunction('convertToInteractive',\n",
              "                                                     [key], {});\n",
              "          if (!dataTable) return;\n",
              "\n",
              "          const docLinkHtml = 'Like what you see? Visit the ' +\n",
              "            '<a target=\"_blank\" href=https://colab.research.google.com/notebooks/data_table.ipynb>data table notebook</a>'\n",
              "            + ' to learn more about interactive tables.';\n",
              "          element.innerHTML = '';\n",
              "          dataTable['output_type'] = 'display_data';\n",
              "          await google.colab.output.renderOutput(dataTable, element);\n",
              "          const docLink = document.createElement('div');\n",
              "          docLink.innerHTML = docLinkHtml;\n",
              "          element.appendChild(docLink);\n",
              "        }\n",
              "      </script>\n",
              "    </div>\n",
              "  </div>\n",
              "  "
            ]
          },
          "metadata": {},
          "execution_count": 15
        }
      ]
    },
    {
      "cell_type": "code",
      "source": [
        "#checking data shape\n",
        "df_c.shape"
      ],
      "metadata": {
        "colab": {
          "base_uri": "https://localhost:8080/"
        },
        "id": "TlRgzJRWKKeJ",
        "outputId": "2283e4ab-e226-4d5c-973c-8ec99c3c351f"
      },
      "execution_count": 16,
      "outputs": [
        {
          "output_type": "execute_result",
          "data": {
            "text/plain": [
              "(49995, 17)"
            ]
          },
          "metadata": {},
          "execution_count": 16
        }
      ]
    },
    {
      "cell_type": "code",
      "source": [
        "## country wise tweet count\n",
        "\n",
        "plt.figure(figsize=(15,10))\n",
        "location_serie = df_c['user_country']\n",
        "location_serie = location_serie.value_counts(dropna=True).nlargest(20)\n",
        "location_serie.plot(kind ='bar', color='green')\n",
        "plt.show()"
      ],
      "metadata": {
        "colab": {
          "base_uri": "https://localhost:8080/",
          "height": 640
        },
        "id": "hFizLZdHIt8Z",
        "outputId": "a2bde9bd-f336-4ee0-d8b2-01732ee7b5e4"
      },
      "execution_count": 17,
      "outputs": [
        {
          "output_type": "display_data",
          "data": {
            "text/plain": [
              "<Figure size 1080x720 with 1 Axes>"
            ],
            "image/png": "[encoded data removed]"
          },
          "metadata": {}
        }
      ]
    },
    {
      "cell_type": "code",
      "source": [
        "## Visulizing Tweet Count vs Location  \n",
        "plt.figure(figsize=(15,10))\n",
        "df_c['user_location'].value_counts().nlargest(20).plot(kind='bar')\n",
        "plt.xticks(rotation=60)"
      ],
      "metadata": {
        "colab": {
          "base_uri": "https://localhost:8080/",
          "height": 713
        },
        "id": "pJr7pQoQFnlg",
        "outputId": "a10188f2-8956-41fc-d596-867106020968"
      },
      "execution_count": 18,
      "outputs": [
        {
          "output_type": "execute_result",
          "data": {
            "text/plain": [
              "(array([ 0,  1,  2,  3,  4,  5,  6,  7,  8,  9, 10, 11, 12, 13, 14, 15, 16,\n",
              "        17, 18, 19]), <a list of 20 Text major ticklabel objects>)"
            ]
          },
          "metadata": {},
          "execution_count": 18
        },
        {
          "output_type": "display_data",
          "data": {
            "text/plain": [
              "<Figure size 1080x720 with 1 Axes>"
            ],
            "image/png": "[encoded data removed]"
          },
          "metadata": {}
        }
      ]
    },
    {
      "cell_type": "code",
      "source": [
        "#deleting repeated tweets\n",
        "data = df_c.drop_duplicates(subset='text')"
      ],
      "metadata": {
        "id": "erbDxuBCMggc"
      },
      "execution_count": 19,
      "outputs": []
    },
    {
      "cell_type": "code",
      "source": [
        "#number of unique dates since we began scraping data\n",
        "len(data['date'].unique())"
      ],
      "metadata": {
        "colab": {
          "base_uri": "https://localhost:8080/"
        },
        "id": "mxRkA5uNMrVK",
        "outputId": "e0bc15c3-02bb-44d2-d617-fcba41603152"
      },
      "execution_count": 20,
      "outputs": [
        {
          "output_type": "execute_result",
          "data": {
            "text/plain": [
              "32254"
            ]
          },
          "metadata": {},
          "execution_count": 20
        }
      ]
    },
    {
      "cell_type": "code",
      "source": [
        "#we have almost a year of data concerning vaccine tweets\n",
        "#then, we sort data by date\n",
        "data.sort_values(by=['date'], ascending=True)\n"
      ],
      "metadata": {
        "colab": {
          "base_uri": "https://localhost:8080/",
          "height": 1000
        },
        "id": "Lp7mnIkUMvKA",
        "outputId": "3e935730-1abe-4c4d-e00d-d88ad994b322"
      },
      "execution_count": 21,
      "outputs": [
        {
          "output_type": "execute_result",
          "data": {
            "text/plain": [
              "                        id      user_name     user_location  \\\n",
              "139    1344954186098630000  Truescoopnews  Jalandhar, India   \n",
              "138    1344990838347050000    Tapas Panda  Bengaluru, India   \n",
              "137    1345029236956930000    Tapas Panda  Bengaluru, India   \n",
              "136    1345056137041720000   Shafi Beldar  Bengaluru, India   \n",
              "154    1344834463360970000       LatestLY     Mumbai, India   \n",
              "...                    ...            ...               ...   \n",
              "36707  1435890790484500000         VaxBLR  Bengaluru, India   \n",
              "36705  1435898379377110000         VaxBLR  Bengaluru, India   \n",
              "36323  1435898291242240000         VaxBLR  Bengaluru, India   \n",
              "36706  1435898335362090000         VaxBLR  Bengaluru, India   \n",
              "36322  1435901292744880000      Nikhilesh             INDIA   \n",
              "\n",
              "                                        user_description     user_created  \\\n",
              "139    #TrueScoopNews covers #LatestNews, #breakingNe...  2/26/2019 11:58   \n",
              "138                              https://t.co/V9xYYY02FH    6/4/2015 8:23   \n",
              "137                              https://t.co/V9xYYY02FH    6/4/2015 8:23   \n",
              "136                 ooops. And I speak again. And Again!  5/16/2019 17:32   \n",
              "154    https://t.co/U4rHOvEUQR focuses on the What, W...    2/7/2017 5:41   \n",
              "...                                                  ...              ...   \n",
              "36707  Hourly updates on FREE and PAID 18+ and 45+ va...   6/21/2021 8:44   \n",
              "36705  Hourly updates on FREE and PAID 18+ and 45+ va...   6/21/2021 8:44   \n",
              "36323  Hourly updates on FREE and PAID 18+ and 45+ va...   6/21/2021 8:44   \n",
              "36706  Hourly updates on FREE and PAID 18+ and 45+ va...   6/21/2021 8:44   \n",
              "36322                           Data Engineer by passion  2/18/2019 12:30   \n",
              "\n",
              "       user_followers  user_friends  user_favourites  user_verified  \\\n",
              "139               133           328             1119          False   \n",
              "138                23            65               90          False   \n",
              "137                23            65               90          False   \n",
              "136                56           362             2869          False   \n",
              "154             67274           344              125           True   \n",
              "...               ...           ...              ...            ...   \n",
              "36707              23             0                0          False   \n",
              "36705              23             0                0          False   \n",
              "36323              23             0                0          False   \n",
              "36706              23             0                0          False   \n",
              "36322              13           277              250          False   \n",
              "\n",
              "                 date                                               text  \\\n",
              "139    1/1/2021 10:30  Both these vaccines were recently given nod fo...   \n",
              "138    1/1/2021 12:56  How safe it is to trust on effectivity of made...   \n",
              "137    1/1/2021 15:28  @ndtv I shall better wait for #PfizerBioNTech ...   \n",
              "136    1/1/2021 17:15  Let me also remind you that these were the cou...   \n",
              "154     1/1/2021 2:34  #WHO Clears Pfizer-BioNTech Coronavirus Vaccin...   \n",
              "...               ...                                                ...   \n",
              "36707   9/9/2021 9:00  45+ #URBAN #Bengaluru #CovidVaccine Availabili...   \n",
              "36705   9/9/2021 9:30  18-44 #BBMP #Bengaluru #CovidVaccine Availabil...   \n",
              "36323   9/9/2021 9:30  18-44 #RURAL #Bengaluru #CovidVaccine Availabi...   \n",
              "36706   9/9/2021 9:30  18-44 #URBAN #Bengaluru #CovidVaccine Availabi...   \n",
              "36322   9/9/2021 9:42  Has anyone took Moderna vaccine  after covaxin...   \n",
              "\n",
              "                                                hashtags               source  \\\n",
              "139                                                  NaN      Twitter Web App   \n",
              "138                                                  NaN      Twitter Web App   \n",
              "137                        ['PfizerBioNTech', 'Moderna']      Twitter Web App   \n",
              "136                                                  NaN   Twitter for iPhone   \n",
              "154    ['WHO', 'PfizerBioNTech', 'PfizerVaccine', 'Co...      Twitter Web App   \n",
              "...                                                  ...                  ...   \n",
              "36707  ['URBAN', 'Bengaluru', 'CovidVaccine', 'COVISH...               VaxBlr   \n",
              "36705  ['BBMP', 'Bengaluru', 'CovidVaccine', 'COVISHI...               VaxBlr   \n",
              "36323  ['RURAL', 'Bengaluru', 'CovidVaccine', 'COVISH...               VaxBlr   \n",
              "36706  ['URBAN', 'Bengaluru', 'CovidVaccine', 'COVISH...               VaxBlr   \n",
              "36322                                                NaN  Twitter for Android   \n",
              "\n",
              "       retweets  favorites  is_retweet user_country  \n",
              "139           0          0       False        India  \n",
              "138           0          0       False        India  \n",
              "137           0          1       False        India  \n",
              "136           0          0       False        India  \n",
              "154           0          1       False        India  \n",
              "...         ...        ...         ...          ...  \n",
              "36707         0          0       False        India  \n",
              "36705         0          1       False        India  \n",
              "36323         0          0       False        India  \n",
              "36706         0          0       False        India  \n",
              "36322         1          0       False        India  \n",
              "\n",
              "[49925 rows x 17 columns]"
            ],
            "text/html": [
              "\n",
              "  <div id=\"df-8a8d50b9-9345-445a-8b4e-3046b3e70ae1\">\n",
              "    <div class=\"colab-df-container\">\n",
              "      <div>\n",
              "<style scoped>\n",
              "    .dataframe tbody tr th:only-of-type {\n",
              "        vertical-align: middle;\n",
              "    }\n",
              "\n",
              "    .dataframe tbody tr th {\n",
              "        vertical-align: top;\n",
              "    }\n",
              "\n",
              "    .dataframe thead th {\n",
              "        text-align: right;\n",
              "    }\n",
              "</style>\n",
              "<table border=\"1\" class=\"dataframe\">\n",
              "  <thead>\n",
              "    <tr style=\"text-align: right;\">\n",
              "      <th></th>\n",
              "      <th>id</th>\n",
              "      <th>user_name</th>\n",
              "      <th>user_location</th>\n",
              "      <th>user_description</th>\n",
              "      <th>user_created</th>\n",
              "      <th>user_followers</th>\n",
              "      <th>user_friends</th>\n",
              "      <th>user_favourites</th>\n",
              "      <th>user_verified</th>\n",
              "      <th>date</th>\n",
              "      <th>text</th>\n",
              "      <th>hashtags</th>\n",
              "      <th>source</th>\n",
              "      <th>retweets</th>\n",
              "      <th>favorites</th>\n",
              "      <th>is_retweet</th>\n",
              "      <th>user_country</th>\n",
              "    </tr>\n",
              "  </thead>\n",
              "  <tbody>\n",
              "    <tr>\n",
              "      <th>139</th>\n",
              "      <td>1344954186098630000</td>\n",
              "      <td>Truescoopnews</td>\n",
              "      <td>Jalandhar, India</td>\n",
              "      <td>#TrueScoopNews covers #LatestNews, #breakingNe...</td>\n",
              "      <td>2/26/2019 11:58</td>\n",
              "      <td>133</td>\n",
              "      <td>328</td>\n",
              "      <td>1119</td>\n",
              "      <td>False</td>\n",
              "      <td>1/1/2021 10:30</td>\n",
              "      <td>Both these vaccines were recently given nod fo...</td>\n",
              "      <td>NaN</td>\n",
              "      <td>Twitter Web App</td>\n",
              "      <td>0</td>\n",
              "      <td>0</td>\n",
              "      <td>False</td>\n",
              "      <td>India</td>\n",
              "    </tr>\n",
              "    <tr>\n",
              "      <th>138</th>\n",
              "      <td>1344990838347050000</td>\n",
              "      <td>Tapas Panda</td>\n",
              "      <td>Bengaluru, India</td>\n",
              "      <td>https://t.co/V9xYYY02FH</td>\n",
              "      <td>6/4/2015 8:23</td>\n",
              "      <td>23</td>\n",
              "      <td>65</td>\n",
              "      <td>90</td>\n",
              "      <td>False</td>\n",
              "      <td>1/1/2021 12:56</td>\n",
              "      <td>How safe it is to trust on effectivity of made...</td>\n",
              "      <td>NaN</td>\n",
              "      <td>Twitter Web App</td>\n",
              "      <td>0</td>\n",
              "      <td>0</td>\n",
              "      <td>False</td>\n",
              "      <td>India</td>\n",
              "    </tr>\n",
              "    <tr>\n",
              "      <th>137</th>\n",
              "      <td>1345029236956930000</td>\n",
              "      <td>Tapas Panda</td>\n",
              "      <td>Bengaluru, India</td>\n",
              "      <td>https://t.co/V9xYYY02FH</td>\n",
              "      <td>6/4/2015 8:23</td>\n",
              "      <td>23</td>\n",
              "      <td>65</td>\n",
              "      <td>90</td>\n",
              "      <td>False</td>\n",
              "      <td>1/1/2021 15:28</td>\n",
              "      <td>@ndtv I shall better wait for #PfizerBioNTech ...</td>\n",
              "      <td>['PfizerBioNTech', 'Moderna']</td>\n",
              "      <td>Twitter Web App</td>\n",
              "      <td>0</td>\n",
              "      <td>1</td>\n",
              "      <td>False</td>\n",
              "      <td>India</td>\n",
              "    </tr>\n",
              "    <tr>\n",
              "      <th>136</th>\n",
              "      <td>1345056137041720000</td>\n",
              "      <td>Shafi Beldar</td>\n",
              "      <td>Bengaluru, India</td>\n",
              "      <td>ooops. And I speak again. And Again!</td>\n",
              "      <td>5/16/2019 17:32</td>\n",
              "      <td>56</td>\n",
              "      <td>362</td>\n",
              "      <td>2869</td>\n",
              "      <td>False</td>\n",
              "      <td>1/1/2021 17:15</td>\n",
              "      <td>Let me also remind you that these were the cou...</td>\n",
              "      <td>NaN</td>\n",
              "      <td>Twitter for iPhone</td>\n",
              "      <td>0</td>\n",
              "      <td>0</td>\n",
              "      <td>False</td>\n",
              "      <td>India</td>\n",
              "    </tr>\n",
              "    <tr>\n",
              "      <th>154</th>\n",
              "      <td>1344834463360970000</td>\n",
              "      <td>LatestLY</td>\n",
              "      <td>Mumbai, India</td>\n",
              "      <td>https://t.co/U4rHOvEUQR focuses on the What, W...</td>\n",
              "      <td>2/7/2017 5:41</td>\n",
              "      <td>67274</td>\n",
              "      <td>344</td>\n",
              "      <td>125</td>\n",
              "      <td>True</td>\n",
              "      <td>1/1/2021 2:34</td>\n",
              "      <td>#WHO Clears Pfizer-BioNTech Coronavirus Vaccin...</td>\n",
              "      <td>['WHO', 'PfizerBioNTech', 'PfizerVaccine', 'Co...</td>\n",
              "      <td>Twitter Web App</td>\n",
              "      <td>0</td>\n",
              "      <td>1</td>\n",
              "      <td>False</td>\n",
              "      <td>India</td>\n",
              "    </tr>\n",
              "    <tr>\n",
              "      <th>...</th>\n",
              "      <td>...</td>\n",
              "      <td>...</td>\n",
              "      <td>...</td>\n",
              "      <td>...</td>\n",
              "      <td>...</td>\n",
              "      <td>...</td>\n",
              "      <td>...</td>\n",
              "      <td>...</td>\n",
              "      <td>...</td>\n",
              "      <td>...</td>\n",
              "      <td>...</td>\n",
              "      <td>...</td>\n",
              "      <td>...</td>\n",
              "      <td>...</td>\n",
              "      <td>...</td>\n",
              "      <td>...</td>\n",
              "      <td>...</td>\n",
              "    </tr>\n",
              "    <tr>\n",
              "      <th>36707</th>\n",
              "      <td>1435890790484500000</td>\n",
              "      <td>VaxBLR</td>\n",
              "      <td>Bengaluru, India</td>\n",
              "      <td>Hourly updates on FREE and PAID 18+ and 45+ va...</td>\n",
              "      <td>6/21/2021 8:44</td>\n",
              "      <td>23</td>\n",
              "      <td>0</td>\n",
              "      <td>0</td>\n",
              "      <td>False</td>\n",
              "      <td>9/9/2021 9:00</td>\n",
              "      <td>45+ #URBAN #Bengaluru #CovidVaccine Availabili...</td>\n",
              "      <td>['URBAN', 'Bengaluru', 'CovidVaccine', 'COVISH...</td>\n",
              "      <td>VaxBlr</td>\n",
              "      <td>0</td>\n",
              "      <td>0</td>\n",
              "      <td>False</td>\n",
              "      <td>India</td>\n",
              "    </tr>\n",
              "    <tr>\n",
              "      <th>36705</th>\n",
              "      <td>1435898379377110000</td>\n",
              "      <td>VaxBLR</td>\n",
              "      <td>Bengaluru, India</td>\n",
              "      <td>Hourly updates on FREE and PAID 18+ and 45+ va...</td>\n",
              "      <td>6/21/2021 8:44</td>\n",
              "      <td>23</td>\n",
              "      <td>0</td>\n",
              "      <td>0</td>\n",
              "      <td>False</td>\n",
              "      <td>9/9/2021 9:30</td>\n",
              "      <td>18-44 #BBMP #Bengaluru #CovidVaccine Availabil...</td>\n",
              "      <td>['BBMP', 'Bengaluru', 'CovidVaccine', 'COVISHI...</td>\n",
              "      <td>VaxBlr</td>\n",
              "      <td>0</td>\n",
              "      <td>1</td>\n",
              "      <td>False</td>\n",
              "      <td>India</td>\n",
              "    </tr>\n",
              "    <tr>\n",
              "      <th>36323</th>\n",
              "      <td>1435898291242240000</td>\n",
              "      <td>VaxBLR</td>\n",
              "      <td>Bengaluru, India</td>\n",
              "      <td>Hourly updates on FREE and PAID 18+ and 45+ va...</td>\n",
              "      <td>6/21/2021 8:44</td>\n",
              "      <td>23</td>\n",
              "      <td>0</td>\n",
              "      <td>0</td>\n",
              "      <td>False</td>\n",
              "      <td>9/9/2021 9:30</td>\n",
              "      <td>18-44 #RURAL #Bengaluru #CovidVaccine Availabi...</td>\n",
              "      <td>['RURAL', 'Bengaluru', 'CovidVaccine', 'COVISH...</td>\n",
              "      <td>VaxBlr</td>\n",
              "      <td>0</td>\n",
              "      <td>0</td>\n",
              "      <td>False</td>\n",
              "      <td>India</td>\n",
              "    </tr>\n",
              "    <tr>\n",
              "      <th>36706</th>\n",
              "      <td>1435898335362090000</td>\n",
              "      <td>VaxBLR</td>\n",
              "      <td>Bengaluru, India</td>\n",
              "      <td>Hourly updates on FREE and PAID 18+ and 45+ va...</td>\n",
              "      <td>6/21/2021 8:44</td>\n",
              "      <td>23</td>\n",
              "      <td>0</td>\n",
              "      <td>0</td>\n",
              "      <td>False</td>\n",
              "      <td>9/9/2021 9:30</td>\n",
              "      <td>18-44 #URBAN #Bengaluru #CovidVaccine Availabi...</td>\n",
              "      <td>['URBAN', 'Bengaluru', 'CovidVaccine', 'COVISH...</td>\n",
              "      <td>VaxBlr</td>\n",
              "      <td>0</td>\n",
              "      <td>0</td>\n",
              "      <td>False</td>\n",
              "      <td>India</td>\n",
              "    </tr>\n",
              "    <tr>\n",
              "      <th>36322</th>\n",
              "      <td>1435901292744880000</td>\n",
              "      <td>Nikhilesh</td>\n",
              "      <td>INDIA</td>\n",
              "      <td>Data Engineer by passion</td>\n",
              "      <td>2/18/2019 12:30</td>\n",
              "      <td>13</td>\n",
              "      <td>277</td>\n",
              "      <td>250</td>\n",
              "      <td>False</td>\n",
              "      <td>9/9/2021 9:42</td>\n",
              "      <td>Has anyone took Moderna vaccine  after covaxin...</td>\n",
              "      <td>NaN</td>\n",
              "      <td>Twitter for Android</td>\n",
              "      <td>1</td>\n",
              "      <td>0</td>\n",
              "      <td>False</td>\n",
              "      <td>India</td>\n",
              "    </tr>\n",
              "  </tbody>\n",
              "</table>\n",
              "<p>49925 rows × 17 columns</p>\n",
              "</div>\n",
              "      <button class=\"colab-df-convert\" onclick=\"convertToInteractive('df-8a8d50b9-9345-445a-8b4e-3046b3e70ae1')\"\n",
              "              title=\"Convert this dataframe to an interactive table.\"\n",
              "              style=\"display:none;\">\n",
              "        \n",
              "  <svg xmlns=\"http://www.w3.org/2000/svg\" height=\"24px\"viewBox=\"0 0 24 24\"\n",
              "       width=\"24px\">\n",
              "    <path d=\"M0 0h24v24H0V0z\" fill=\"none\"/>\n",
              "    <path d=\"M18.56 5.44l.94 2.06.94-2.06 2.06-.94-2.06-.94-.94-2.06-.94 2.06-2.06.94zm-11 1L8.5 8.5l.94-2.06 2.06-.94-2.06-.94L8.5 2.5l-.94 2.06-2.06.94zm10 10l.94 2.06.94-2.06 2.06-.94-2.06-.94-.94-2.06-.94 2.06-2.06.94z\"/><path d=\"M17.41 7.96l-1.37-1.37c-.4-.4-.92-.59-1.43-.59-.52 0-1.04.2-1.43.59L10.3 9.45l-7.72 7.72c-.78.78-.78 2.05 0 2.83L4 21.41c.39.39.9.59 1.41.59.51 0 1.02-.2 1.41-.59l7.78-7.78 2.81-2.81c.8-.78.8-2.07 0-2.86zM5.41 20L4 18.59l7.72-7.72 1.47 1.35L5.41 20z\"/>\n",
              "  </svg>\n",
              "      </button>\n",
              "      \n",
              "  <style>\n",
              "    .colab-df-container {\n",
              "      display:flex;\n",
              "      flex-wrap:wrap;\n",
              "      gap: 12px;\n",
              "    }\n",
              "\n",
              "    .colab-df-convert {\n",
              "      background-color: #E8F0FE;\n",
              "      border: none;\n",
              "      border-radius: 50%;\n",
              "      cursor: pointer;\n",
              "      display: none;\n",
              "      fill: #1967D2;\n",
              "      height: 32px;\n",
              "      padding: 0 0 0 0;\n",
              "      width: 32px;\n",
              "    }\n",
              "\n",
              "    .colab-df-convert:hover {\n",
              "      background-color: #E2EBFA;\n",
              "      box-shadow: 0px 1px 2px rgba(60, 64, 67, 0.3), 0px 1px 3px 1px rgba(60, 64, 67, 0.15);\n",
              "      fill: #174EA6;\n",
              "    }\n",
              "\n",
              "    [theme=dark] .colab-df-convert {\n",
              "      background-color: #3B4455;\n",
              "      fill: #D2E3FC;\n",
              "    }\n",
              "\n",
              "    [theme=dark] .colab-df-convert:hover {\n",
              "      background-color: #434B5C;\n",
              "      box-shadow: 0px 1px 3px 1px rgba(0, 0, 0, 0.15);\n",
              "      filter: drop-shadow(0px 1px 2px rgba(0, 0, 0, 0.3));\n",
              "      fill: #FFFFFF;\n",
              "    }\n",
              "  </style>\n",
              "\n",
              "      <script>\n",
              "        const buttonEl =\n",
              "          document.querySelector('#df-8a8d50b9-9345-445a-8b4e-3046b3e70ae1 button.colab-df-convert');\n",
              "        buttonEl.style.display =\n",
              "          google.colab.kernel.accessAllowed ? 'block' : 'none';\n",
              "\n",
              "        async function convertToInteractive(key) {\n",
              "          const element = document.querySelector('#df-8a8d50b9-9345-445a-8b4e-3046b3e70ae1');\n",
              "          const dataTable =\n",
              "            await google.colab.kernel.invokeFunction('convertToInteractive',\n",
              "                                                     [key], {});\n",
              "          if (!dataTable) return;\n",
              "\n",
              "          const docLinkHtml = 'Like what you see? Visit the ' +\n",
              "            '<a target=\"_blank\" href=https://colab.research.google.com/notebooks/data_table.ipynb>data table notebook</a>'\n",
              "            + ' to learn more about interactive tables.';\n",
              "          element.innerHTML = '';\n",
              "          dataTable['output_type'] = 'display_data';\n",
              "          await google.colab.output.renderOutput(dataTable, element);\n",
              "          const docLink = document.createElement('div');\n",
              "          docLink.innerHTML = docLinkHtml;\n",
              "          element.appendChild(docLink);\n",
              "        }\n",
              "      </script>\n",
              "    </div>\n",
              "  </div>\n",
              "  "
            ]
          },
          "metadata": {},
          "execution_count": 21
        }
      ]
    },
    {
      "cell_type": "code",
      "source": [
        "#then we delete all unnecessary columns before starting the cleaning process\n",
        "data.drop(data.columns.difference(['id', 'user_location', 'user_country', 'date','text']), axis=1, inplace=True)\n",
        "data.head()"
      ],
      "metadata": {
        "colab": {
          "base_uri": "https://localhost:8080/",
          "height": 206
        },
        "id": "Jem7Z7N0M0_b",
        "outputId": "4e98538f-3d45-461d-f0b0-5363e941eb0d"
      },
      "execution_count": 22,
      "outputs": [
        {
          "output_type": "execute_result",
          "data": {
            "text/plain": [
              "                    id  user_location              date  \\\n",
              "0  1337815730486700000          India  12/12/2020 17:45   \n",
              "1  1337773751841140000  Mumbai, India  12/12/2020 14:58   \n",
              "2  1338631874814610000    India | USA  12/14/2020 23:48   \n",
              "3  1338574693087930000          India  12/14/2020 20:00   \n",
              "4  1338551175587780000          India  12/14/2020 18:27   \n",
              "\n",
              "                                                text user_country  \n",
              "0  The agency also released new information for h...        India  \n",
              "1  The US Food and Drug Administration (FDA) has ...        India  \n",
              "2  I’ve never been so excited to get a vaccine 💉💉...        India  \n",
              "3  #UgurSahin #ozlemtureci the #Muslim Scientists...        India  \n",
              "4  Toronto to receive Ontario's 1st doses of Pfiz...        India  "
            ],
            "text/html": [
              "\n",
              "  <div id=\"df-7147de46-aa89-4634-9795-3f50eaf69e76\">\n",
              "    <div class=\"colab-df-container\">\n",
              "      <div>\n",
              "<style scoped>\n",
              "    .dataframe tbody tr th:only-of-type {\n",
              "        vertical-align: middle;\n",
              "    }\n",
              "\n",
              "    .dataframe tbody tr th {\n",
              "        vertical-align: top;\n",
              "    }\n",
              "\n",
              "    .dataframe thead th {\n",
              "        text-align: right;\n",
              "    }\n",
              "</style>\n",
              "<table border=\"1\" class=\"dataframe\">\n",
              "  <thead>\n",
              "    <tr style=\"text-align: right;\">\n",
              "      <th></th>\n",
              "      <th>id</th>\n",
              "      <th>user_location</th>\n",
              "      <th>date</th>\n",
              "      <th>text</th>\n",
              "      <th>user_country</th>\n",
              "    </tr>\n",
              "  </thead>\n",
              "  <tbody>\n",
              "    <tr>\n",
              "      <th>0</th>\n",
              "      <td>1337815730486700000</td>\n",
              "      <td>India</td>\n",
              "      <td>12/12/2020 17:45</td>\n",
              "      <td>The agency also released new information for h...</td>\n",
              "      <td>India</td>\n",
              "    </tr>\n",
              "    <tr>\n",
              "      <th>1</th>\n",
              "      <td>1337773751841140000</td>\n",
              "      <td>Mumbai, India</td>\n",
              "      <td>12/12/2020 14:58</td>\n",
              "      <td>The US Food and Drug Administration (FDA) has ...</td>\n",
              "      <td>India</td>\n",
              "    </tr>\n",
              "    <tr>\n",
              "      <th>2</th>\n",
              "      <td>1338631874814610000</td>\n",
              "      <td>India | USA</td>\n",
              "      <td>12/14/2020 23:48</td>\n",
              "      <td>I’ve never been so excited to get a vaccine 💉💉...</td>\n",
              "      <td>India</td>\n",
              "    </tr>\n",
              "    <tr>\n",
              "      <th>3</th>\n",
              "      <td>1338574693087930000</td>\n",
              "      <td>India</td>\n",
              "      <td>12/14/2020 20:00</td>\n",
              "      <td>#UgurSahin #ozlemtureci the #Muslim Scientists...</td>\n",
              "      <td>India</td>\n",
              "    </tr>\n",
              "    <tr>\n",
              "      <th>4</th>\n",
              "      <td>1338551175587780000</td>\n",
              "      <td>India</td>\n",
              "      <td>12/14/2020 18:27</td>\n",
              "      <td>Toronto to receive Ontario's 1st doses of Pfiz...</td>\n",
              "      <td>India</td>\n",
              "    </tr>\n",
              "  </tbody>\n",
              "</table>\n",
              "</div>\n",
              "      <button class=\"colab-df-convert\" onclick=\"convertToInteractive('df-7147de46-aa89-4634-9795-3f50eaf69e76')\"\n",
              "              title=\"Convert this dataframe to an interactive table.\"\n",
              "              style=\"display:none;\">\n",
              "        \n",
              "  <svg xmlns=\"http://www.w3.org/2000/svg\" height=\"24px\"viewBox=\"0 0 24 24\"\n",
              "       width=\"24px\">\n",
              "    <path d=\"M0 0h24v24H0V0z\" fill=\"none\"/>\n",
              "    <path d=\"M18.56 5.44l.94 2.06.94-2.06 2.06-.94-2.06-.94-.94-2.06-.94 2.06-2.06.94zm-11 1L8.5 8.5l.94-2.06 2.06-.94-2.06-.94L8.5 2.5l-.94 2.06-2.06.94zm10 10l.94 2.06.94-2.06 2.06-.94-2.06-.94-.94-2.06-.94 2.06-2.06.94z\"/><path d=\"M17.41 7.96l-1.37-1.37c-.4-.4-.92-.59-1.43-.59-.52 0-1.04.2-1.43.59L10.3 9.45l-7.72 7.72c-.78.78-.78 2.05 0 2.83L4 21.41c.39.39.9.59 1.41.59.51 0 1.02-.2 1.41-.59l7.78-7.78 2.81-2.81c.8-.78.8-2.07 0-2.86zM5.41 20L4 18.59l7.72-7.72 1.47 1.35L5.41 20z\"/>\n",
              "  </svg>\n",
              "      </button>\n",
              "      \n",
              "  <style>\n",
              "    .colab-df-container {\n",
              "      display:flex;\n",
              "      flex-wrap:wrap;\n",
              "      gap: 12px;\n",
              "    }\n",
              "\n",
              "    .colab-df-convert {\n",
              "      background-color: #E8F0FE;\n",
              "      border: none;\n",
              "      border-radius: 50%;\n",
              "      cursor: pointer;\n",
              "      display: none;\n",
              "      fill: #1967D2;\n",
              "      height: 32px;\n",
              "      padding: 0 0 0 0;\n",
              "      width: 32px;\n",
              "    }\n",
              "\n",
              "    .colab-df-convert:hover {\n",
              "      background-color: #E2EBFA;\n",
              "      box-shadow: 0px 1px 2px rgba(60, 64, 67, 0.3), 0px 1px 3px 1px rgba(60, 64, 67, 0.15);\n",
              "      fill: #174EA6;\n",
              "    }\n",
              "\n",
              "    [theme=dark] .colab-df-convert {\n",
              "      background-color: #3B4455;\n",
              "      fill: #D2E3FC;\n",
              "    }\n",
              "\n",
              "    [theme=dark] .colab-df-convert:hover {\n",
              "      background-color: #434B5C;\n",
              "      box-shadow: 0px 1px 3px 1px rgba(0, 0, 0, 0.15);\n",
              "      filter: drop-shadow(0px 1px 2px rgba(0, 0, 0, 0.3));\n",
              "      fill: #FFFFFF;\n",
              "    }\n",
              "  </style>\n",
              "\n",
              "      <script>\n",
              "        const buttonEl =\n",
              "          document.querySelector('#df-7147de46-aa89-4634-9795-3f50eaf69e76 button.colab-df-convert');\n",
              "        buttonEl.style.display =\n",
              "          google.colab.kernel.accessAllowed ? 'block' : 'none';\n",
              "\n",
              "        async function convertToInteractive(key) {\n",
              "          const element = document.querySelector('#df-7147de46-aa89-4634-9795-3f50eaf69e76');\n",
              "          const dataTable =\n",
              "            await google.colab.kernel.invokeFunction('convertToInteractive',\n",
              "                                                     [key], {});\n",
              "          if (!dataTable) return;\n",
              "\n",
              "          const docLinkHtml = 'Like what you see? Visit the ' +\n",
              "            '<a target=\"_blank\" href=https://colab.research.google.com/notebooks/data_table.ipynb>data table notebook</a>'\n",
              "            + ' to learn more about interactive tables.';\n",
              "          element.innerHTML = '';\n",
              "          dataTable['output_type'] = 'display_data';\n",
              "          await google.colab.output.renderOutput(dataTable, element);\n",
              "          const docLink = document.createElement('div');\n",
              "          docLink.innerHTML = docLinkHtml;\n",
              "          element.appendChild(docLink);\n",
              "        }\n",
              "      </script>\n",
              "    </div>\n",
              "  </div>\n",
              "  "
            ]
          },
          "metadata": {},
          "execution_count": 22
        }
      ]
    },
    {
      "cell_type": "code",
      "source": [
        "df.to_csv(\"/content/drive/MyDrive/P2/clean_data_si_twt.csv\", index=False)"
      ],
      "metadata": {
        "id": "aETHyabBRVa4"
      },
      "execution_count": 20,
      "outputs": []
    },
    {
      "cell_type": "code",
      "source": [],
      "metadata": {
        "id": "uXVGHGRyR6NJ"
      },
      "execution_count": null,
      "outputs": []
    },
    {
      "cell_type": "code",
      "source": [],
      "metadata": {
        "id": "F6wzywlt-nfh"
      },
      "execution_count": null,
      "outputs": []
    },
    {
      "cell_type": "markdown",
      "source": [
        "## Cleaning the Dataset from Hashtags, Links, Redundant Letters, ...\n"
      ],
      "metadata": {
        "id": "tDsVFFThNMhs"
      }
    },
    {
      "cell_type": "code",
      "source": [
        "#checking if emot is installed, if not install it\n",
        "try:\n",
        "    import emot\n",
        "except:\n",
        "    !pip install emot\n",
        "    import emot"
      ],
      "metadata": {
        "id": "boLk7d93NM4K",
        "colab": {
          "base_uri": "https://localhost:8080/"
        },
        "outputId": "15c5012c-a1d7-4de3-ce52-30e5ce3a6596"
      },
      "execution_count": 23,
      "outputs": [
        {
          "output_type": "stream",
          "name": "stdout",
          "text": [
            "Looking in indexes: https://pypi.org/simple, https://us-python.pkg.dev/colab-wheels/public/simple/\n",
            "Collecting emot\n",
            "  Downloading emot-3.1-py3-none-any.whl (61 kB)\n",
            "\u001b[2K     \u001b[90m━━━━━━━━━━━━━━━━━━━━━━━━━━━━━━━━━━━━━━━━\u001b[0m \u001b[32m61.5/61.5 KB\u001b[0m \u001b[31m6.5 MB/s\u001b[0m eta \u001b[36m0:00:00\u001b[0m\n",
            "\u001b[?25hInstalling collected packages: emot\n",
            "Successfully installed emot-3.1\n"
          ]
        }
      ]
    },
    {
      "cell_type": "code",
      "source": [
        "from emot.emo_unicode import UNICODE_EMOJI\n",
        "emojis = list(UNICODE_EMOJI.keys())\n",
        "\n",
        "import nltk\n",
        "nltk.download('stopwords')\n",
        "from nltk.corpus import stopwords\n",
        "stopwords_en = stopwords.words('english')\n",
        "\n",
        "import re"
      ],
      "metadata": {
        "colab": {
          "base_uri": "https://localhost:8080/"
        },
        "id": "anPkXtkwNSf1",
        "outputId": "0aa60e48-ce1e-4bc0-8322-2200828385dd"
      },
      "execution_count": 24,
      "outputs": [
        {
          "output_type": "stream",
          "name": "stderr",
          "text": [
            "[nltk_data] Downloading package stopwords to /root/nltk_data...\n",
            "[nltk_data]   Unzipping corpora/stopwords.zip.\n"
          ]
        }
      ]
    },
    {
      "cell_type": "code",
      "source": [
        "def clean_tweets(text):\n",
        "    clean_text = text.lower()\n",
        "    clean_text = clean_text.strip()\n",
        "    \n",
        "    clean_text = re.sub('http\\S+|www\\S+|https\\S+', '', clean_text) #removing urls \n",
        "    clean_text = re.sub('[\\#\\@]\\w+','',clean_text) #removing # and @\n",
        "    clean_text = re.sub('[\\d+]','',clean_text) #removing numbers\n",
        "    clean_text = re.sub('[\\.\\,\\;\\!\\?\\*\\$]','',clean_text) #removing some non-sense characters\n",
        "    clean_text = ' '.join([w for w in clean_text.split() if(len(w)>1)]) #deleting single characters\n",
        "    #text = re.sub(' +',' ', text)#we want to remove double spaces left after deletion\n",
        "    clean_text = ' '.join([word for word in clean_text.split() if word not in stopwords_en]) #removing stop words\n",
        "    clean_text = ' '.join([word for word in clean_text.split() if word not in emojis]) #removing emojis\n",
        "    return clean_text"
      ],
      "metadata": {
        "id": "CyvF_U_INUYy"
      },
      "execution_count": 25,
      "outputs": []
    },
    {
      "cell_type": "code",
      "source": [
        "#example of cleaning data\n",
        "print(clean_tweets(\"I have tested positive for #Covid during 2020 😢 . It was a difficult period, but I am happy 😊 with how things worked out for me\"))"
      ],
      "metadata": {
        "colab": {
          "base_uri": "https://localhost:8080/"
        },
        "id": "SqpSc727NrDV",
        "outputId": "912be575-cd95-4cc8-9f96-4cb64ee7cf8e"
      },
      "execution_count": 26,
      "outputs": [
        {
          "output_type": "stream",
          "name": "stdout",
          "text": [
            "tested positive difficult period happy things worked\n"
          ]
        }
      ]
    },
    {
      "cell_type": "code",
      "source": [
        "#now as for cleaning our data, we proceed as follows :\n",
        "\n",
        "data['clean_text'] = data['text'].apply(lambda text : clean_tweets(text))"
      ],
      "metadata": {
        "id": "4SLH9amKNtLy"
      },
      "execution_count": 27,
      "outputs": []
    },
    {
      "cell_type": "code",
      "source": [
        "data[['clean_text','text']].head()"
      ],
      "metadata": {
        "colab": {
          "base_uri": "https://localhost:8080/",
          "height": 206
        },
        "id": "M3wac3qMNuxq",
        "outputId": "aa323aff-915b-49d0-d286-d4040fbc339a"
      },
      "execution_count": 28,
      "outputs": [
        {
          "output_type": "execute_result",
          "data": {
            "text/plain": [
              "                                          clean_text  \\\n",
              "0  agency also released new information health ca...   \n",
              "1  us food drug administration (fda) granted emer...   \n",
              "2                 i’ve never excited get vaccine 💉💉💉   \n",
              "3               scientists husband-wife saving world   \n",
              "4  toronto receive ontario's st doses pfizer covi...   \n",
              "\n",
              "                                                text  \n",
              "0  The agency also released new information for h...  \n",
              "1  The US Food and Drug Administration (FDA) has ...  \n",
              "2  I’ve never been so excited to get a vaccine 💉💉...  \n",
              "3  #UgurSahin #ozlemtureci the #Muslim Scientists...  \n",
              "4  Toronto to receive Ontario's 1st doses of Pfiz...  "
            ],
            "text/html": [
              "\n",
              "  <div id=\"df-deca4009-3baa-427b-a7f8-b375692dec0e\">\n",
              "    <div class=\"colab-df-container\">\n",
              "      <div>\n",
              "<style scoped>\n",
              "    .dataframe tbody tr th:only-of-type {\n",
              "        vertical-align: middle;\n",
              "    }\n",
              "\n",
              "    .dataframe tbody tr th {\n",
              "        vertical-align: top;\n",
              "    }\n",
              "\n",
              "    .dataframe thead th {\n",
              "        text-align: right;\n",
              "    }\n",
              "</style>\n",
              "<table border=\"1\" class=\"dataframe\">\n",
              "  <thead>\n",
              "    <tr style=\"text-align: right;\">\n",
              "      <th></th>\n",
              "      <th>clean_text</th>\n",
              "      <th>text</th>\n",
              "    </tr>\n",
              "  </thead>\n",
              "  <tbody>\n",
              "    <tr>\n",
              "      <th>0</th>\n",
              "      <td>agency also released new information health ca...</td>\n",
              "      <td>The agency also released new information for h...</td>\n",
              "    </tr>\n",
              "    <tr>\n",
              "      <th>1</th>\n",
              "      <td>us food drug administration (fda) granted emer...</td>\n",
              "      <td>The US Food and Drug Administration (FDA) has ...</td>\n",
              "    </tr>\n",
              "    <tr>\n",
              "      <th>2</th>\n",
              "      <td>i’ve never excited get vaccine 💉💉💉</td>\n",
              "      <td>I’ve never been so excited to get a vaccine 💉💉...</td>\n",
              "    </tr>\n",
              "    <tr>\n",
              "      <th>3</th>\n",
              "      <td>scientists husband-wife saving world</td>\n",
              "      <td>#UgurSahin #ozlemtureci the #Muslim Scientists...</td>\n",
              "    </tr>\n",
              "    <tr>\n",
              "      <th>4</th>\n",
              "      <td>toronto receive ontario's st doses pfizer covi...</td>\n",
              "      <td>Toronto to receive Ontario's 1st doses of Pfiz...</td>\n",
              "    </tr>\n",
              "  </tbody>\n",
              "</table>\n",
              "</div>\n",
              "      <button class=\"colab-df-convert\" onclick=\"convertToInteractive('df-deca4009-3baa-427b-a7f8-b375692dec0e')\"\n",
              "              title=\"Convert this dataframe to an interactive table.\"\n",
              "              style=\"display:none;\">\n",
              "        \n",
              "  <svg xmlns=\"http://www.w3.org/2000/svg\" height=\"24px\"viewBox=\"0 0 24 24\"\n",
              "       width=\"24px\">\n",
              "    <path d=\"M0 0h24v24H0V0z\" fill=\"none\"/>\n",
              "    <path d=\"M18.56 5.44l.94 2.06.94-2.06 2.06-.94-2.06-.94-.94-2.06-.94 2.06-2.06.94zm-11 1L8.5 8.5l.94-2.06 2.06-.94-2.06-.94L8.5 2.5l-.94 2.06-2.06.94zm10 10l.94 2.06.94-2.06 2.06-.94-2.06-.94-.94-2.06-.94 2.06-2.06.94z\"/><path d=\"M17.41 7.96l-1.37-1.37c-.4-.4-.92-.59-1.43-.59-.52 0-1.04.2-1.43.59L10.3 9.45l-7.72 7.72c-.78.78-.78 2.05 0 2.83L4 21.41c.39.39.9.59 1.41.59.51 0 1.02-.2 1.41-.59l7.78-7.78 2.81-2.81c.8-.78.8-2.07 0-2.86zM5.41 20L4 18.59l7.72-7.72 1.47 1.35L5.41 20z\"/>\n",
              "  </svg>\n",
              "      </button>\n",
              "      \n",
              "  <style>\n",
              "    .colab-df-container {\n",
              "      display:flex;\n",
              "      flex-wrap:wrap;\n",
              "      gap: 12px;\n",
              "    }\n",
              "\n",
              "    .colab-df-convert {\n",
              "      background-color: #E8F0FE;\n",
              "      border: none;\n",
              "      border-radius: 50%;\n",
              "      cursor: pointer;\n",
              "      display: none;\n",
              "      fill: #1967D2;\n",
              "      height: 32px;\n",
              "      padding: 0 0 0 0;\n",
              "      width: 32px;\n",
              "    }\n",
              "\n",
              "    .colab-df-convert:hover {\n",
              "      background-color: #E2EBFA;\n",
              "      box-shadow: 0px 1px 2px rgba(60, 64, 67, 0.3), 0px 1px 3px 1px rgba(60, 64, 67, 0.15);\n",
              "      fill: #174EA6;\n",
              "    }\n",
              "\n",
              "    [theme=dark] .colab-df-convert {\n",
              "      background-color: #3B4455;\n",
              "      fill: #D2E3FC;\n",
              "    }\n",
              "\n",
              "    [theme=dark] .colab-df-convert:hover {\n",
              "      background-color: #434B5C;\n",
              "      box-shadow: 0px 1px 3px 1px rgba(0, 0, 0, 0.15);\n",
              "      filter: drop-shadow(0px 1px 2px rgba(0, 0, 0, 0.3));\n",
              "      fill: #FFFFFF;\n",
              "    }\n",
              "  </style>\n",
              "\n",
              "      <script>\n",
              "        const buttonEl =\n",
              "          document.querySelector('#df-deca4009-3baa-427b-a7f8-b375692dec0e button.colab-df-convert');\n",
              "        buttonEl.style.display =\n",
              "          google.colab.kernel.accessAllowed ? 'block' : 'none';\n",
              "\n",
              "        async function convertToInteractive(key) {\n",
              "          const element = document.querySelector('#df-deca4009-3baa-427b-a7f8-b375692dec0e');\n",
              "          const dataTable =\n",
              "            await google.colab.kernel.invokeFunction('convertToInteractive',\n",
              "                                                     [key], {});\n",
              "          if (!dataTable) return;\n",
              "\n",
              "          const docLinkHtml = 'Like what you see? Visit the ' +\n",
              "            '<a target=\"_blank\" href=https://colab.research.google.com/notebooks/data_table.ipynb>data table notebook</a>'\n",
              "            + ' to learn more about interactive tables.';\n",
              "          element.innerHTML = '';\n",
              "          dataTable['output_type'] = 'display_data';\n",
              "          await google.colab.output.renderOutput(dataTable, element);\n",
              "          const docLink = document.createElement('div');\n",
              "          docLink.innerHTML = docLinkHtml;\n",
              "          element.appendChild(docLink);\n",
              "        }\n",
              "      </script>\n",
              "    </div>\n",
              "  </div>\n",
              "  "
            ]
          },
          "metadata": {},
          "execution_count": 28
        }
      ]
    },
    {
      "cell_type": "code",
      "source": [
        "# Punctuation Removal\n",
        "punctuation_removal = string.punctuation\n",
        "def remove_punctuation(clean_text):\n",
        "    \"\"\"custom function to remove the punctuation\"\"\"\n",
        "    return clean_text.translate(str.maketrans('', '', punctuation_removal))\n",
        "data[\"clean_text\"] = data[\"clean_text\"].apply(lambda clean_text: remove_punctuation(clean_text))\n",
        "data[\"clean_text\"]"
      ],
      "metadata": {
        "colab": {
          "base_uri": "https://localhost:8080/"
        },
        "id": "7sm7Z1_Plble",
        "outputId": "417dc67b-98ca-4428-bf6a-e40bee47e0ac"
      },
      "execution_count": 29,
      "outputs": [
        {
          "output_type": "execute_result",
          "data": {
            "text/plain": [
              "0        agency also released new information health ca...\n",
              "1        us food drug administration fda granted emerge...\n",
              "2                       i’ve never excited get vaccine 💉💉💉\n",
              "3                      scientists husbandwife saving world\n",
              "4        toronto receive ontarios st doses pfizer covid...\n",
              "                               ...                        \n",
              "49990            availability pm free slots dose dose pai…\n",
              "49991          availability pm free slots paid slots dose…\n",
              "49992                availability pm free slots dose dose…\n",
              "49993          availability pm free slots paid slots dose…\n",
              "49994          availability pm free slots paid slots dose…\n",
              "Name: clean_text, Length: 49925, dtype: object"
            ]
          },
          "metadata": {},
          "execution_count": 29
        }
      ]
    },
    {
      "cell_type": "code",
      "source": [
        "# Stopword Removal\n",
        "\", \".join(stopwords.words('english'))\n",
        "STOPWORDS = set(stopwords.words('english'))\n",
        "def remove_stopwords(text):\n",
        "    \"\"\"custom function to remove the stopwords\"\"\"\n",
        "    return \" \".join([word for word in str(text).split() if word not in STOPWORDS])\n",
        "\n",
        "data[\"text\"] = data[\"clean_text\"].apply(lambda text: remove_stopwords(text))\n",
        "data[\"text\"]"
      ],
      "metadata": {
        "colab": {
          "base_uri": "https://localhost:8080/"
        },
        "id": "yx-vbNgpmWQl",
        "outputId": "5b99a04d-3f76-4494-bc33-432cae109e9d"
      },
      "execution_count": 30,
      "outputs": [
        {
          "output_type": "execute_result",
          "data": {
            "text/plain": [
              "0        agency also released new information health ca...\n",
              "1        us food drug administration fda granted emerge...\n",
              "2                       i’ve never excited get vaccine 💉💉💉\n",
              "3                      scientists husbandwife saving world\n",
              "4        toronto receive ontarios st doses pfizer covid...\n",
              "                               ...                        \n",
              "49990            availability pm free slots dose dose pai…\n",
              "49991          availability pm free slots paid slots dose…\n",
              "49992                availability pm free slots dose dose…\n",
              "49993          availability pm free slots paid slots dose…\n",
              "49994          availability pm free slots paid slots dose…\n",
              "Name: text, Length: 49925, dtype: object"
            ]
          },
          "metadata": {},
          "execution_count": 30
        }
      ]
    },
    {
      "cell_type": "code",
      "source": [
        "# Emoji Removal\n",
        "def remove_emoji(string):\n",
        "    emoji_pattern = re.compile(\"[\"\n",
        "                               u\"\\U0001F600-\\U0001F64F\"  # emoticons\n",
        "                               u\"\\U0001F300-\\U0001F5FF\"  # symbols & pictographs\n",
        "                               u\"\\U0001F680-\\U0001F6FF\"  # transport & map symbols\n",
        "                               u\"\\U0001F1E0-\\U0001F1FF\"  # flags (iOS)\n",
        "                               u\"\\U00002500-\\U00002BEF\"  # chinese char\n",
        "                               u\"\\U00002702-\\U000027B0\"\n",
        "                               u\"\\U00002702-\\U000027B0\"\n",
        "                               u\"\\U000024C2-\\U0001F251\"\n",
        "                               u\"\\U0001f926-\\U0001f937\"\n",
        "                               u\"\\U00010000-\\U0010ffff\"\n",
        "                               u\"\\u2640-\\u2642\"\n",
        "                               u\"\\u2600-\\u2B55\"\n",
        "                               u\"\\u200d\"\n",
        "                               u\"\\u23cf\"\n",
        "                               u\"\\u23e9\"\n",
        "                               u\"\\u231a\"\n",
        "                               u\"\\ufe0f\"  # dingbats\n",
        "                               u\"\\u3030\"\n",
        "                               \"]+\", flags=re.UNICODE)\n",
        "    return emoji_pattern.sub(r'', string)\n",
        "data[\"clean_text\"] = data[\"clean_text\"].apply(str)\n",
        "data[\"clean_text\"] = data[\"clean_text\"].apply(remove_emoji)\n",
        "data[\"clean_text\"]"
      ],
      "metadata": {
        "colab": {
          "base_uri": "https://localhost:8080/"
        },
        "id": "1Mcp6YYNmkuk",
        "outputId": "e87ddd27-60a9-4e6c-b917-469d33645215"
      },
      "execution_count": 31,
      "outputs": [
        {
          "output_type": "execute_result",
          "data": {
            "text/plain": [
              "0        agency also released new information health ca...\n",
              "1        us food drug administration fda granted emerge...\n",
              "2                          i’ve never excited get vaccine \n",
              "3                      scientists husbandwife saving world\n",
              "4        toronto receive ontarios st doses pfizer covid...\n",
              "                               ...                        \n",
              "49990            availability pm free slots dose dose pai…\n",
              "49991          availability pm free slots paid slots dose…\n",
              "49992                availability pm free slots dose dose…\n",
              "49993          availability pm free slots paid slots dose…\n",
              "49994          availability pm free slots paid slots dose…\n",
              "Name: clean_text, Length: 49925, dtype: object"
            ]
          },
          "metadata": {},
          "execution_count": 31
        }
      ]
    },
    {
      "cell_type": "code",
      "source": [
        "# Single character and double space removal\n",
        "data[\"clean_text\"] = data[\"clean_text\"].apply(lambda x:re.sub(r'\\s+[a-zA-Z]\\s+', '', x))\n",
        "data[\"clean_text\"] = data[\"clean_text\"].apply(lambda x:re.sub(r'\\s+', ' ', x, flags=re.I))\n",
        "data[\"clean_text\"]"
      ],
      "metadata": {
        "colab": {
          "base_uri": "https://localhost:8080/"
        },
        "id": "Ep2k496nm_Ed",
        "outputId": "f722d010-45dd-4871-f56f-b4e982ac7b18"
      },
      "execution_count": 32,
      "outputs": [
        {
          "output_type": "execute_result",
          "data": {
            "text/plain": [
              "0        agency also released new information health ca...\n",
              "1        us food drug administration fda granted emerge...\n",
              "2                          i’ve never excited get vaccine \n",
              "3                      scientists husbandwife saving world\n",
              "4        toronto receive ontarios st doses pfizer covid...\n",
              "                               ...                        \n",
              "49990            availability pm free slots dose dose pai…\n",
              "49991          availability pm free slots paid slots dose…\n",
              "49992                availability pm free slots dose dose…\n",
              "49993          availability pm free slots paid slots dose…\n",
              "49994          availability pm free slots paid slots dose…\n",
              "Name: clean_text, Length: 49925, dtype: object"
            ]
          },
          "metadata": {},
          "execution_count": 32
        }
      ]
    },
    {
      "cell_type": "code",
      "source": [
        "# Most common words\n",
        "from collections import Counter\n",
        "cnt = Counter()\n",
        "for text in data[\"clean_text\"].values:\n",
        "    for word in text.split():\n",
        "        cnt[word] += 1\n",
        "        \n",
        "cnt.most_common(10)"
      ],
      "metadata": {
        "colab": {
          "base_uri": "https://localhost:8080/"
        },
        "id": "ktWCQ7ROnUZF",
        "outputId": "4d52107c-b447-4134-b4f0-7d1e4f27f94d"
      },
      "execution_count": 33,
      "outputs": [
        {
          "output_type": "execute_result",
          "data": {
            "text/plain": [
              "[('slots', 22830),\n",
              " ('dose', 20082),\n",
              " ('covaxin', 13640),\n",
              " ('age', 12701),\n",
              " ('pincode', 12193),\n",
              " ('date', 11635),\n",
              " ('fees', 11444),\n",
              " ('all', 8836),\n",
              " ('ages', 8100),\n",
              " ('free', 7635)]"
            ]
          },
          "metadata": {},
          "execution_count": 33
        }
      ]
    },
    {
      "cell_type": "code",
      "source": [
        "#we count 50 most common words\n",
        "from collections import Counter\n",
        "Counter_ = Counter()\n",
        "\n",
        "for i in data['clean_text'].values:\n",
        "    for j in i.split():\n",
        "        Counter_[j]+=1\n",
        "Counter_.most_common(20)   "
      ],
      "metadata": {
        "colab": {
          "base_uri": "https://localhost:8080/"
        },
        "id": "l84_vBPdN0Ns",
        "outputId": "20f377ee-c395-4f3a-f9e6-89f61fb0e8d3"
      },
      "execution_count": 34,
      "outputs": [
        {
          "output_type": "execute_result",
          "data": {
            "text/plain": [
              "[('slots', 22830),\n",
              " ('dose', 20082),\n",
              " ('covaxin', 13640),\n",
              " ('age', 12701),\n",
              " ('pincode', 12193),\n",
              " ('date', 11635),\n",
              " ('fees', 11444),\n",
              " ('all', 8836),\n",
              " ('ages', 8100),\n",
              " ('free', 7635),\n",
              " ('vaccine', 6931),\n",
              " ('availability', 6723),\n",
              " ('dose…', 6047),\n",
              " ('pm', 4274),\n",
              " ('sep', 4000),\n",
              " ('paid', 3915),\n",
              " ('aug', 3827),\n",
              " ('am', 3002),\n",
              " ('india', 2978),\n",
              " ('covid', 2923)]"
            ]
          },
          "metadata": {},
          "execution_count": 34
        }
      ]
    },
    {
      "cell_type": "code",
      "source": [
        "vaccine_data = data"
      ],
      "metadata": {
        "id": "Bm7gbd9QFJsg"
      },
      "execution_count": 35,
      "outputs": []
    },
    {
      "cell_type": "code",
      "source": [
        "data"
      ],
      "metadata": {
        "colab": {
          "base_uri": "https://localhost:8080/",
          "height": 468
        },
        "id": "hkWq_-KLqVS4",
        "outputId": "44a7a0cd-7641-4a61-98ff-479b23705814"
      },
      "execution_count": 36,
      "outputs": [
        {
          "output_type": "execute_result",
          "data": {
            "text/plain": [
              "                        id     user_location              date  \\\n",
              "0      1337815730486700000             India  12/12/2020 17:45   \n",
              "1      1337773751841140000     Mumbai, India  12/12/2020 14:58   \n",
              "2      1338631874814610000       India | USA  12/14/2020 23:48   \n",
              "3      1338574693087930000             India  12/14/2020 20:00   \n",
              "4      1338551175587780000             India  12/14/2020 18:27   \n",
              "...                    ...               ...               ...   \n",
              "49990  1460178320209820000  Bengaluru, India   11/15/2021 9:30   \n",
              "49991  1460170772299660000  Bengaluru, India   11/15/2021 9:00   \n",
              "49992  1460163268262050000  Bengaluru, India   11/15/2021 8:30   \n",
              "49993  1460163224221850000  Bengaluru, India   11/15/2021 8:30   \n",
              "49994  1460155671140130000  Bengaluru, India   11/15/2021 8:00   \n",
              "\n",
              "                                                    text user_country  \\\n",
              "0      agency also released new information health ca...        India   \n",
              "1      us food drug administration fda granted emerge...        India   \n",
              "2                     i’ve never excited get vaccine 💉💉💉        India   \n",
              "3                    scientists husbandwife saving world        India   \n",
              "4      toronto receive ontarios st doses pfizer covid...        India   \n",
              "...                                                  ...          ...   \n",
              "49990          availability pm free slots dose dose pai…        India   \n",
              "49991        availability pm free slots paid slots dose…        India   \n",
              "49992              availability pm free slots dose dose…        India   \n",
              "49993        availability pm free slots paid slots dose…        India   \n",
              "49994        availability pm free slots paid slots dose…        India   \n",
              "\n",
              "                                              clean_text  \n",
              "0      agency also released new information health ca...  \n",
              "1      us food drug administration fda granted emerge...  \n",
              "2                        i’ve never excited get vaccine   \n",
              "3                    scientists husbandwife saving world  \n",
              "4      toronto receive ontarios st doses pfizer covid...  \n",
              "...                                                  ...  \n",
              "49990          availability pm free slots dose dose pai…  \n",
              "49991        availability pm free slots paid slots dose…  \n",
              "49992              availability pm free slots dose dose…  \n",
              "49993        availability pm free slots paid slots dose…  \n",
              "49994        availability pm free slots paid slots dose…  \n",
              "\n",
              "[49925 rows x 6 columns]"
            ],
            "text/html": [
              "\n",
              "  <div id=\"df-d20c1a6c-6edd-45c5-af44-5f2c46dc091e\">\n",
              "    <div class=\"colab-df-container\">\n",
              "      <div>\n",
              "<style scoped>\n",
              "    .dataframe tbody tr th:only-of-type {\n",
              "        vertical-align: middle;\n",
              "    }\n",
              "\n",
              "    .dataframe tbody tr th {\n",
              "        vertical-align: top;\n",
              "    }\n",
              "\n",
              "    .dataframe thead th {\n",
              "        text-align: right;\n",
              "    }\n",
              "</style>\n",
              "<table border=\"1\" class=\"dataframe\">\n",
              "  <thead>\n",
              "    <tr style=\"text-align: right;\">\n",
              "      <th></th>\n",
              "      <th>id</th>\n",
              "      <th>user_location</th>\n",
              "      <th>date</th>\n",
              "      <th>text</th>\n",
              "      <th>user_country</th>\n",
              "      <th>clean_text</th>\n",
              "    </tr>\n",
              "  </thead>\n",
              "  <tbody>\n",
              "    <tr>\n",
              "      <th>0</th>\n",
              "      <td>1337815730486700000</td>\n",
              "      <td>India</td>\n",
              "      <td>12/12/2020 17:45</td>\n",
              "      <td>agency also released new information health ca...</td>\n",
              "      <td>India</td>\n",
              "      <td>agency also released new information health ca...</td>\n",
              "    </tr>\n",
              "    <tr>\n",
              "      <th>1</th>\n",
              "      <td>1337773751841140000</td>\n",
              "      <td>Mumbai, India</td>\n",
              "      <td>12/12/2020 14:58</td>\n",
              "      <td>us food drug administration fda granted emerge...</td>\n",
              "      <td>India</td>\n",
              "      <td>us food drug administration fda granted emerge...</td>\n",
              "    </tr>\n",
              "    <tr>\n",
              "      <th>2</th>\n",
              "      <td>1338631874814610000</td>\n",
              "      <td>India | USA</td>\n",
              "      <td>12/14/2020 23:48</td>\n",
              "      <td>i’ve never excited get vaccine 💉💉💉</td>\n",
              "      <td>India</td>\n",
              "      <td>i’ve never excited get vaccine</td>\n",
              "    </tr>\n",
              "    <tr>\n",
              "      <th>3</th>\n",
              "      <td>1338574693087930000</td>\n",
              "      <td>India</td>\n",
              "      <td>12/14/2020 20:00</td>\n",
              "      <td>scientists husbandwife saving world</td>\n",
              "      <td>India</td>\n",
              "      <td>scientists husbandwife saving world</td>\n",
              "    </tr>\n",
              "    <tr>\n",
              "      <th>4</th>\n",
              "      <td>1338551175587780000</td>\n",
              "      <td>India</td>\n",
              "      <td>12/14/2020 18:27</td>\n",
              "      <td>toronto receive ontarios st doses pfizer covid...</td>\n",
              "      <td>India</td>\n",
              "      <td>toronto receive ontarios st doses pfizer covid...</td>\n",
              "    </tr>\n",
              "    <tr>\n",
              "      <th>...</th>\n",
              "      <td>...</td>\n",
              "      <td>...</td>\n",
              "      <td>...</td>\n",
              "      <td>...</td>\n",
              "      <td>...</td>\n",
              "      <td>...</td>\n",
              "    </tr>\n",
              "    <tr>\n",
              "      <th>49990</th>\n",
              "      <td>1460178320209820000</td>\n",
              "      <td>Bengaluru, India</td>\n",
              "      <td>11/15/2021 9:30</td>\n",
              "      <td>availability pm free slots dose dose pai…</td>\n",
              "      <td>India</td>\n",
              "      <td>availability pm free slots dose dose pai…</td>\n",
              "    </tr>\n",
              "    <tr>\n",
              "      <th>49991</th>\n",
              "      <td>1460170772299660000</td>\n",
              "      <td>Bengaluru, India</td>\n",
              "      <td>11/15/2021 9:00</td>\n",
              "      <td>availability pm free slots paid slots dose…</td>\n",
              "      <td>India</td>\n",
              "      <td>availability pm free slots paid slots dose…</td>\n",
              "    </tr>\n",
              "    <tr>\n",
              "      <th>49992</th>\n",
              "      <td>1460163268262050000</td>\n",
              "      <td>Bengaluru, India</td>\n",
              "      <td>11/15/2021 8:30</td>\n",
              "      <td>availability pm free slots dose dose…</td>\n",
              "      <td>India</td>\n",
              "      <td>availability pm free slots dose dose…</td>\n",
              "    </tr>\n",
              "    <tr>\n",
              "      <th>49993</th>\n",
              "      <td>1460163224221850000</td>\n",
              "      <td>Bengaluru, India</td>\n",
              "      <td>11/15/2021 8:30</td>\n",
              "      <td>availability pm free slots paid slots dose…</td>\n",
              "      <td>India</td>\n",
              "      <td>availability pm free slots paid slots dose…</td>\n",
              "    </tr>\n",
              "    <tr>\n",
              "      <th>49994</th>\n",
              "      <td>1460155671140130000</td>\n",
              "      <td>Bengaluru, India</td>\n",
              "      <td>11/15/2021 8:00</td>\n",
              "      <td>availability pm free slots paid slots dose…</td>\n",
              "      <td>India</td>\n",
              "      <td>availability pm free slots paid slots dose…</td>\n",
              "    </tr>\n",
              "  </tbody>\n",
              "</table>\n",
              "<p>49925 rows × 6 columns</p>\n",
              "</div>\n",
              "      <button class=\"colab-df-convert\" onclick=\"convertToInteractive('df-d20c1a6c-6edd-45c5-af44-5f2c46dc091e')\"\n",
              "              title=\"Convert this dataframe to an interactive table.\"\n",
              "              style=\"display:none;\">\n",
              "        \n",
              "  <svg xmlns=\"http://www.w3.org/2000/svg\" height=\"24px\"viewBox=\"0 0 24 24\"\n",
              "       width=\"24px\">\n",
              "    <path d=\"M0 0h24v24H0V0z\" fill=\"none\"/>\n",
              "    <path d=\"M18.56 5.44l.94 2.06.94-2.06 2.06-.94-2.06-.94-.94-2.06-.94 2.06-2.06.94zm-11 1L8.5 8.5l.94-2.06 2.06-.94-2.06-.94L8.5 2.5l-.94 2.06-2.06.94zm10 10l.94 2.06.94-2.06 2.06-.94-2.06-.94-.94-2.06-.94 2.06-2.06.94z\"/><path d=\"M17.41 7.96l-1.37-1.37c-.4-.4-.92-.59-1.43-.59-.52 0-1.04.2-1.43.59L10.3 9.45l-7.72 7.72c-.78.78-.78 2.05 0 2.83L4 21.41c.39.39.9.59 1.41.59.51 0 1.02-.2 1.41-.59l7.78-7.78 2.81-2.81c.8-.78.8-2.07 0-2.86zM5.41 20L4 18.59l7.72-7.72 1.47 1.35L5.41 20z\"/>\n",
              "  </svg>\n",
              "      </button>\n",
              "      \n",
              "  <style>\n",
              "    .colab-df-container {\n",
              "      display:flex;\n",
              "      flex-wrap:wrap;\n",
              "      gap: 12px;\n",
              "    }\n",
              "\n",
              "    .colab-df-convert {\n",
              "      background-color: #E8F0FE;\n",
              "      border: none;\n",
              "      border-radius: 50%;\n",
              "      cursor: pointer;\n",
              "      display: none;\n",
              "      fill: #1967D2;\n",
              "      height: 32px;\n",
              "      padding: 0 0 0 0;\n",
              "      width: 32px;\n",
              "    }\n",
              "\n",
              "    .colab-df-convert:hover {\n",
              "      background-color: #E2EBFA;\n",
              "      box-shadow: 0px 1px 2px rgba(60, 64, 67, 0.3), 0px 1px 3px 1px rgba(60, 64, 67, 0.15);\n",
              "      fill: #174EA6;\n",
              "    }\n",
              "\n",
              "    [theme=dark] .colab-df-convert {\n",
              "      background-color: #3B4455;\n",
              "      fill: #D2E3FC;\n",
              "    }\n",
              "\n",
              "    [theme=dark] .colab-df-convert:hover {\n",
              "      background-color: #434B5C;\n",
              "      box-shadow: 0px 1px 3px 1px rgba(0, 0, 0, 0.15);\n",
              "      filter: drop-shadow(0px 1px 2px rgba(0, 0, 0, 0.3));\n",
              "      fill: #FFFFFF;\n",
              "    }\n",
              "  </style>\n",
              "\n",
              "      <script>\n",
              "        const buttonEl =\n",
              "          document.querySelector('#df-d20c1a6c-6edd-45c5-af44-5f2c46dc091e button.colab-df-convert');\n",
              "        buttonEl.style.display =\n",
              "          google.colab.kernel.accessAllowed ? 'block' : 'none';\n",
              "\n",
              "        async function convertToInteractive(key) {\n",
              "          const element = document.querySelector('#df-d20c1a6c-6edd-45c5-af44-5f2c46dc091e');\n",
              "          const dataTable =\n",
              "            await google.colab.kernel.invokeFunction('convertToInteractive',\n",
              "                                                     [key], {});\n",
              "          if (!dataTable) return;\n",
              "\n",
              "          const docLinkHtml = 'Like what you see? Visit the ' +\n",
              "            '<a target=\"_blank\" href=https://colab.research.google.com/notebooks/data_table.ipynb>data table notebook</a>'\n",
              "            + ' to learn more about interactive tables.';\n",
              "          element.innerHTML = '';\n",
              "          dataTable['output_type'] = 'display_data';\n",
              "          await google.colab.output.renderOutput(dataTable, element);\n",
              "          const docLink = document.createElement('div');\n",
              "          docLink.innerHTML = docLinkHtml;\n",
              "          element.appendChild(docLink);\n",
              "        }\n",
              "      </script>\n",
              "    </div>\n",
              "  </div>\n",
              "  "
            ]
          },
          "metadata": {},
          "execution_count": 36
        }
      ]
    },
    {
      "cell_type": "markdown",
      "source": [
        "# **Sentiment Analysis using vader**\n",
        "\n",
        "---\n",
        "\n",
        "\n"
      ],
      "metadata": {
        "id": "2x3WDPdOn9jG"
      }
    },
    {
      "cell_type": "code",
      "source": [
        "# Sentiment analysis\n",
        "sid = SIA()\n",
        "vaccine_data['sentiments'] = vaccine_data[\"clean_text\"].apply(lambda x: sid.polarity_scores(' '.join(re.findall(r'\\w+',str(x).lower()))))\n",
        "vaccine_data['Positive Sentiment'] = vaccine_data['sentiments'].apply(lambda x: x['pos']+1*(10**-6)) \n",
        "vaccine_data['Neutral Sentiment'] = vaccine_data['sentiments'].apply(lambda x: x['neu']+1*(10**-6))\n",
        "vaccine_data['Negative Sentiment'] = vaccine_data['sentiments'].apply(lambda x: x['neg']+1*(10**-6))\n",
        "vaccine_data.head()"
      ],
      "metadata": {
        "colab": {
          "base_uri": "https://localhost:8080/",
          "height": 441
        },
        "id": "ZzwYh0btjQNG",
        "outputId": "d3e3c1d7-a77b-40a6-dad3-709e125490c8"
      },
      "execution_count": 37,
      "outputs": [
        {
          "output_type": "execute_result",
          "data": {
            "text/plain": [
              "                    id  user_location              date  \\\n",
              "0  1337815730486700000          India  12/12/2020 17:45   \n",
              "1  1337773751841140000  Mumbai, India  12/12/2020 14:58   \n",
              "2  1338631874814610000    India | USA  12/14/2020 23:48   \n",
              "3  1338574693087930000          India  12/14/2020 20:00   \n",
              "4  1338551175587780000          India  12/14/2020 18:27   \n",
              "\n",
              "                                                text user_country  \\\n",
              "0  agency also released new information health ca...        India   \n",
              "1  us food drug administration fda granted emerge...        India   \n",
              "2                 i’ve never excited get vaccine 💉💉💉        India   \n",
              "3                scientists husbandwife saving world        India   \n",
              "4  toronto receive ontarios st doses pfizer covid...        India   \n",
              "\n",
              "                                          clean_text  \\\n",
              "0  agency also released new information health ca...   \n",
              "1  us food drug administration fda granted emerge...   \n",
              "2                    i’ve never excited get vaccine    \n",
              "3                scientists husbandwife saving world   \n",
              "4  toronto receive ontarios st doses pfizer covid...   \n",
              "\n",
              "                                          sentiments  Positive Sentiment  \\\n",
              "0  {'neg': 0.0, 'neu': 0.775, 'pos': 0.225, 'comp...            0.225001   \n",
              "1  {'neg': 0.191, 'neu': 0.662, 'pos': 0.147, 'co...            0.147001   \n",
              "2  {'neg': 0.337, 'neu': 0.663, 'pos': 0.0, 'comp...            0.000001   \n",
              "3  {'neg': 0.0, 'neu': 1.0, 'pos': 0.0, 'compound...            0.000001   \n",
              "4  {'neg': 0.0, 'neu': 1.0, 'pos': 0.0, 'compound...            0.000001   \n",
              "\n",
              "   Neutral Sentiment  Negative Sentiment  \n",
              "0           0.775001            0.000001  \n",
              "1           0.662001            0.191001  \n",
              "2           0.663001            0.337001  \n",
              "3           1.000001            0.000001  \n",
              "4           1.000001            0.000001  "
            ],
            "text/html": [
              "\n",
              "  <div id=\"df-b6bc9ccf-d7ad-486a-9216-c34a5260215f\">\n",
              "    <div class=\"colab-df-container\">\n",
              "      <div>\n",
              "<style scoped>\n",
              "    .dataframe tbody tr th:only-of-type {\n",
              "        vertical-align: middle;\n",
              "    }\n",
              "\n",
              "    .dataframe tbody tr th {\n",
              "        vertical-align: top;\n",
              "    }\n",
              "\n",
              "    .dataframe thead th {\n",
              "        text-align: right;\n",
              "    }\n",
              "</style>\n",
              "<table border=\"1\" class=\"dataframe\">\n",
              "  <thead>\n",
              "    <tr style=\"text-align: right;\">\n",
              "      <th></th>\n",
              "      <th>id</th>\n",
              "      <th>user_location</th>\n",
              "      <th>date</th>\n",
              "      <th>text</th>\n",
              "      <th>user_country</th>\n",
              "      <th>clean_text</th>\n",
              "      <th>sentiments</th>\n",
              "      <th>Positive Sentiment</th>\n",
              "      <th>Neutral Sentiment</th>\n",
              "      <th>Negative Sentiment</th>\n",
              "    </tr>\n",
              "  </thead>\n",
              "  <tbody>\n",
              "    <tr>\n",
              "      <th>0</th>\n",
              "      <td>1337815730486700000</td>\n",
              "      <td>India</td>\n",
              "      <td>12/12/2020 17:45</td>\n",
              "      <td>agency also released new information health ca...</td>\n",
              "      <td>India</td>\n",
              "      <td>agency also released new information health ca...</td>\n",
              "      <td>{'neg': 0.0, 'neu': 0.775, 'pos': 0.225, 'comp...</td>\n",
              "      <td>0.225001</td>\n",
              "      <td>0.775001</td>\n",
              "      <td>0.000001</td>\n",
              "    </tr>\n",
              "    <tr>\n",
              "      <th>1</th>\n",
              "      <td>1337773751841140000</td>\n",
              "      <td>Mumbai, India</td>\n",
              "      <td>12/12/2020 14:58</td>\n",
              "      <td>us food drug administration fda granted emerge...</td>\n",
              "      <td>India</td>\n",
              "      <td>us food drug administration fda granted emerge...</td>\n",
              "      <td>{'neg': 0.191, 'neu': 0.662, 'pos': 0.147, 'co...</td>\n",
              "      <td>0.147001</td>\n",
              "      <td>0.662001</td>\n",
              "      <td>0.191001</td>\n",
              "    </tr>\n",
              "    <tr>\n",
              "      <th>2</th>\n",
              "      <td>1338631874814610000</td>\n",
              "      <td>India | USA</td>\n",
              "      <td>12/14/2020 23:48</td>\n",
              "      <td>i’ve never excited get vaccine 💉💉💉</td>\n",
              "      <td>India</td>\n",
              "      <td>i’ve never excited get vaccine</td>\n",
              "      <td>{'neg': 0.337, 'neu': 0.663, 'pos': 0.0, 'comp...</td>\n",
              "      <td>0.000001</td>\n",
              "      <td>0.663001</td>\n",
              "      <td>0.337001</td>\n",
              "    </tr>\n",
              "    <tr>\n",
              "      <th>3</th>\n",
              "      <td>1338574693087930000</td>\n",
              "      <td>India</td>\n",
              "      <td>12/14/2020 20:00</td>\n",
              "      <td>scientists husbandwife saving world</td>\n",
              "      <td>India</td>\n",
              "      <td>scientists husbandwife saving world</td>\n",
              "      <td>{'neg': 0.0, 'neu': 1.0, 'pos': 0.0, 'compound...</td>\n",
              "      <td>0.000001</td>\n",
              "      <td>1.000001</td>\n",
              "      <td>0.000001</td>\n",
              "    </tr>\n",
              "    <tr>\n",
              "      <th>4</th>\n",
              "      <td>1338551175587780000</td>\n",
              "      <td>India</td>\n",
              "      <td>12/14/2020 18:27</td>\n",
              "      <td>toronto receive ontarios st doses pfizer covid...</td>\n",
              "      <td>India</td>\n",
              "      <td>toronto receive ontarios st doses pfizer covid...</td>\n",
              "      <td>{'neg': 0.0, 'neu': 1.0, 'pos': 0.0, 'compound...</td>\n",
              "      <td>0.000001</td>\n",
              "      <td>1.000001</td>\n",
              "      <td>0.000001</td>\n",
              "    </tr>\n",
              "  </tbody>\n",
              "</table>\n",
              "</div>\n",
              "      <button class=\"colab-df-convert\" onclick=\"convertToInteractive('df-b6bc9ccf-d7ad-486a-9216-c34a5260215f')\"\n",
              "              title=\"Convert this dataframe to an interactive table.\"\n",
              "              style=\"display:none;\">\n",
              "        \n",
              "  <svg xmlns=\"http://www.w3.org/2000/svg\" height=\"24px\"viewBox=\"0 0 24 24\"\n",
              "       width=\"24px\">\n",
              "    <path d=\"M0 0h24v24H0V0z\" fill=\"none\"/>\n",
              "    <path d=\"M18.56 5.44l.94 2.06.94-2.06 2.06-.94-2.06-.94-.94-2.06-.94 2.06-2.06.94zm-11 1L8.5 8.5l.94-2.06 2.06-.94-2.06-.94L8.5 2.5l-.94 2.06-2.06.94zm10 10l.94 2.06.94-2.06 2.06-.94-2.06-.94-.94-2.06-.94 2.06-2.06.94z\"/><path d=\"M17.41 7.96l-1.37-1.37c-.4-.4-.92-.59-1.43-.59-.52 0-1.04.2-1.43.59L10.3 9.45l-7.72 7.72c-.78.78-.78 2.05 0 2.83L4 21.41c.39.39.9.59 1.41.59.51 0 1.02-.2 1.41-.59l7.78-7.78 2.81-2.81c.8-.78.8-2.07 0-2.86zM5.41 20L4 18.59l7.72-7.72 1.47 1.35L5.41 20z\"/>\n",
              "  </svg>\n",
              "      </button>\n",
              "      \n",
              "  <style>\n",
              "    .colab-df-container {\n",
              "      display:flex;\n",
              "      flex-wrap:wrap;\n",
              "      gap: 12px;\n",
              "    }\n",
              "\n",
              "    .colab-df-convert {\n",
              "      background-color: #E8F0FE;\n",
              "      border: none;\n",
              "      border-radius: 50%;\n",
              "      cursor: pointer;\n",
              "      display: none;\n",
              "      fill: #1967D2;\n",
              "      height: 32px;\n",
              "      padding: 0 0 0 0;\n",
              "      width: 32px;\n",
              "    }\n",
              "\n",
              "    .colab-df-convert:hover {\n",
              "      background-color: #E2EBFA;\n",
              "      box-shadow: 0px 1px 2px rgba(60, 64, 67, 0.3), 0px 1px 3px 1px rgba(60, 64, 67, 0.15);\n",
              "      fill: #174EA6;\n",
              "    }\n",
              "\n",
              "    [theme=dark] .colab-df-convert {\n",
              "      background-color: #3B4455;\n",
              "      fill: #D2E3FC;\n",
              "    }\n",
              "\n",
              "    [theme=dark] .colab-df-convert:hover {\n",
              "      background-color: #434B5C;\n",
              "      box-shadow: 0px 1px 3px 1px rgba(0, 0, 0, 0.15);\n",
              "      filter: drop-shadow(0px 1px 2px rgba(0, 0, 0, 0.3));\n",
              "      fill: #FFFFFF;\n",
              "    }\n",
              "  </style>\n",
              "\n",
              "      <script>\n",
              "        const buttonEl =\n",
              "          document.querySelector('#df-b6bc9ccf-d7ad-486a-9216-c34a5260215f button.colab-df-convert');\n",
              "        buttonEl.style.display =\n",
              "          google.colab.kernel.accessAllowed ? 'block' : 'none';\n",
              "\n",
              "        async function convertToInteractive(key) {\n",
              "          const element = document.querySelector('#df-b6bc9ccf-d7ad-486a-9216-c34a5260215f');\n",
              "          const dataTable =\n",
              "            await google.colab.kernel.invokeFunction('convertToInteractive',\n",
              "                                                     [key], {});\n",
              "          if (!dataTable) return;\n",
              "\n",
              "          const docLinkHtml = 'Like what you see? Visit the ' +\n",
              "            '<a target=\"_blank\" href=https://colab.research.google.com/notebooks/data_table.ipynb>data table notebook</a>'\n",
              "            + ' to learn more about interactive tables.';\n",
              "          element.innerHTML = '';\n",
              "          dataTable['output_type'] = 'display_data';\n",
              "          await google.colab.output.renderOutput(dataTable, element);\n",
              "          const docLink = document.createElement('div');\n",
              "          docLink.innerHTML = docLinkHtml;\n",
              "          element.appendChild(docLink);\n",
              "        }\n",
              "      </script>\n",
              "    </div>\n",
              "  </div>\n",
              "  "
            ]
          },
          "metadata": {},
          "execution_count": 37
        }
      ]
    },
    {
      "cell_type": "code",
      "source": [
        "#Number of Words\n",
        "vaccine_data['Number_Of_Words'] = vaccine_data['clean_text'].apply(lambda x:len(x.split(' ')))\n",
        "#Average Word Length\n",
        "vaccine_data['Mean_Word_Length'] = vaccine_data['clean_text'].apply(lambda x:np.round(np.mean([len(w) for w in x.split(' ')]),2) )\n",
        "vaccine_data.head()"
      ],
      "metadata": {
        "colab": {
          "base_uri": "https://localhost:8080/",
          "height": 565
        },
        "id": "8qU_8a4PjQQu",
        "outputId": "9a107aec-282c-4b66-f233-def02fd945ab"
      },
      "execution_count": 38,
      "outputs": [
        {
          "output_type": "execute_result",
          "data": {
            "text/plain": [
              "                    id  user_location              date  \\\n",
              "0  1337815730486700000          India  12/12/2020 17:45   \n",
              "1  1337773751841140000  Mumbai, India  12/12/2020 14:58   \n",
              "2  1338631874814610000    India | USA  12/14/2020 23:48   \n",
              "3  1338574693087930000          India  12/14/2020 20:00   \n",
              "4  1338551175587780000          India  12/14/2020 18:27   \n",
              "\n",
              "                                                text user_country  \\\n",
              "0  agency also released new information health ca...        India   \n",
              "1  us food drug administration fda granted emerge...        India   \n",
              "2                 i’ve never excited get vaccine 💉💉💉        India   \n",
              "3                scientists husbandwife saving world        India   \n",
              "4  toronto receive ontarios st doses pfizer covid...        India   \n",
              "\n",
              "                                          clean_text  \\\n",
              "0  agency also released new information health ca...   \n",
              "1  us food drug administration fda granted emerge...   \n",
              "2                    i’ve never excited get vaccine    \n",
              "3                scientists husbandwife saving world   \n",
              "4  toronto receive ontarios st doses pfizer covid...   \n",
              "\n",
              "                                          sentiments  Positive Sentiment  \\\n",
              "0  {'neg': 0.0, 'neu': 0.775, 'pos': 0.225, 'comp...            0.225001   \n",
              "1  {'neg': 0.191, 'neu': 0.662, 'pos': 0.147, 'co...            0.147001   \n",
              "2  {'neg': 0.337, 'neu': 0.663, 'pos': 0.0, 'comp...            0.000001   \n",
              "3  {'neg': 0.0, 'neu': 1.0, 'pos': 0.0, 'compound...            0.000001   \n",
              "4  {'neg': 0.0, 'neu': 1.0, 'pos': 0.0, 'compound...            0.000001   \n",
              "\n",
              "   Neutral Sentiment  Negative Sentiment  Number_Of_Words  Mean_Word_Length  \n",
              "0           0.775001            0.000001               13              6.00  \n",
              "1           0.662001            0.191001               11              7.18  \n",
              "2           0.663001            0.337001                6              4.33  \n",
              "3           1.000001            0.000001                4              8.00  \n",
              "4           1.000001            0.000001                9              5.78  "
            ],
            "text/html": [
              "\n",
              "  <div id=\"df-a1178b74-fb92-4d77-af13-e0e41e1ebd9b\">\n",
              "    <div class=\"colab-df-container\">\n",
              "      <div>\n",
              "<style scoped>\n",
              "    .dataframe tbody tr th:only-of-type {\n",
              "        vertical-align: middle;\n",
              "    }\n",
              "\n",
              "    .dataframe tbody tr th {\n",
              "        vertical-align: top;\n",
              "    }\n",
              "\n",
              "    .dataframe thead th {\n",
              "        text-align: right;\n",
              "    }\n",
              "</style>\n",
              "<table border=\"1\" class=\"dataframe\">\n",
              "  <thead>\n",
              "    <tr style=\"text-align: right;\">\n",
              "      <th></th>\n",
              "      <th>id</th>\n",
              "      <th>user_location</th>\n",
              "      <th>date</th>\n",
              "      <th>text</th>\n",
              "      <th>user_country</th>\n",
              "      <th>clean_text</th>\n",
              "      <th>sentiments</th>\n",
              "      <th>Positive Sentiment</th>\n",
              "      <th>Neutral Sentiment</th>\n",
              "      <th>Negative Sentiment</th>\n",
              "      <th>Number_Of_Words</th>\n",
              "      <th>Mean_Word_Length</th>\n",
              "    </tr>\n",
              "  </thead>\n",
              "  <tbody>\n",
              "    <tr>\n",
              "      <th>0</th>\n",
              "      <td>1337815730486700000</td>\n",
              "      <td>India</td>\n",
              "      <td>12/12/2020 17:45</td>\n",
              "      <td>agency also released new information health ca...</td>\n",
              "      <td>India</td>\n",
              "      <td>agency also released new information health ca...</td>\n",
              "      <td>{'neg': 0.0, 'neu': 0.775, 'pos': 0.225, 'comp...</td>\n",
              "      <td>0.225001</td>\n",
              "      <td>0.775001</td>\n",
              "      <td>0.000001</td>\n",
              "      <td>13</td>\n",
              "      <td>6.00</td>\n",
              "    </tr>\n",
              "    <tr>\n",
              "      <th>1</th>\n",
              "      <td>1337773751841140000</td>\n",
              "      <td>Mumbai, India</td>\n",
              "      <td>12/12/2020 14:58</td>\n",
              "      <td>us food drug administration fda granted emerge...</td>\n",
              "      <td>India</td>\n",
              "      <td>us food drug administration fda granted emerge...</td>\n",
              "      <td>{'neg': 0.191, 'neu': 0.662, 'pos': 0.147, 'co...</td>\n",
              "      <td>0.147001</td>\n",
              "      <td>0.662001</td>\n",
              "      <td>0.191001</td>\n",
              "      <td>11</td>\n",
              "      <td>7.18</td>\n",
              "    </tr>\n",
              "    <tr>\n",
              "      <th>2</th>\n",
              "      <td>1338631874814610000</td>\n",
              "      <td>India | USA</td>\n",
              "      <td>12/14/2020 23:48</td>\n",
              "      <td>i’ve never excited get vaccine 💉💉💉</td>\n",
              "      <td>India</td>\n",
              "      <td>i’ve never excited get vaccine</td>\n",
              "      <td>{'neg': 0.337, 'neu': 0.663, 'pos': 0.0, 'comp...</td>\n",
              "      <td>0.000001</td>\n",
              "      <td>0.663001</td>\n",
              "      <td>0.337001</td>\n",
              "      <td>6</td>\n",
              "      <td>4.33</td>\n",
              "    </tr>\n",
              "    <tr>\n",
              "      <th>3</th>\n",
              "      <td>1338574693087930000</td>\n",
              "      <td>India</td>\n",
              "      <td>12/14/2020 20:00</td>\n",
              "      <td>scientists husbandwife saving world</td>\n",
              "      <td>India</td>\n",
              "      <td>scientists husbandwife saving world</td>\n",
              "      <td>{'neg': 0.0, 'neu': 1.0, 'pos': 0.0, 'compound...</td>\n",
              "      <td>0.000001</td>\n",
              "      <td>1.000001</td>\n",
              "      <td>0.000001</td>\n",
              "      <td>4</td>\n",
              "      <td>8.00</td>\n",
              "    </tr>\n",
              "    <tr>\n",
              "      <th>4</th>\n",
              "      <td>1338551175587780000</td>\n",
              "      <td>India</td>\n",
              "      <td>12/14/2020 18:27</td>\n",
              "      <td>toronto receive ontarios st doses pfizer covid...</td>\n",
              "      <td>India</td>\n",
              "      <td>toronto receive ontarios st doses pfizer covid...</td>\n",
              "      <td>{'neg': 0.0, 'neu': 1.0, 'pos': 0.0, 'compound...</td>\n",
              "      <td>0.000001</td>\n",
              "      <td>1.000001</td>\n",
              "      <td>0.000001</td>\n",
              "      <td>9</td>\n",
              "      <td>5.78</td>\n",
              "    </tr>\n",
              "  </tbody>\n",
              "</table>\n",
              "</div>\n",
              "      <button class=\"colab-df-convert\" onclick=\"convertToInteractive('df-a1178b74-fb92-4d77-af13-e0e41e1ebd9b')\"\n",
              "              title=\"Convert this dataframe to an interactive table.\"\n",
              "              style=\"display:none;\">\n",
              "        \n",
              "  <svg xmlns=\"http://www.w3.org/2000/svg\" height=\"24px\"viewBox=\"0 0 24 24\"\n",
              "       width=\"24px\">\n",
              "    <path d=\"M0 0h24v24H0V0z\" fill=\"none\"/>\n",
              "    <path d=\"M18.56 5.44l.94 2.06.94-2.06 2.06-.94-2.06-.94-.94-2.06-.94 2.06-2.06.94zm-11 1L8.5 8.5l.94-2.06 2.06-.94-2.06-.94L8.5 2.5l-.94 2.06-2.06.94zm10 10l.94 2.06.94-2.06 2.06-.94-2.06-.94-.94-2.06-.94 2.06-2.06.94z\"/><path d=\"M17.41 7.96l-1.37-1.37c-.4-.4-.92-.59-1.43-.59-.52 0-1.04.2-1.43.59L10.3 9.45l-7.72 7.72c-.78.78-.78 2.05 0 2.83L4 21.41c.39.39.9.59 1.41.59.51 0 1.02-.2 1.41-.59l7.78-7.78 2.81-2.81c.8-.78.8-2.07 0-2.86zM5.41 20L4 18.59l7.72-7.72 1.47 1.35L5.41 20z\"/>\n",
              "  </svg>\n",
              "      </button>\n",
              "      \n",
              "  <style>\n",
              "    .colab-df-container {\n",
              "      display:flex;\n",
              "      flex-wrap:wrap;\n",
              "      gap: 12px;\n",
              "    }\n",
              "\n",
              "    .colab-df-convert {\n",
              "      background-color: #E8F0FE;\n",
              "      border: none;\n",
              "      border-radius: 50%;\n",
              "      cursor: pointer;\n",
              "      display: none;\n",
              "      fill: #1967D2;\n",
              "      height: 32px;\n",
              "      padding: 0 0 0 0;\n",
              "      width: 32px;\n",
              "    }\n",
              "\n",
              "    .colab-df-convert:hover {\n",
              "      background-color: #E2EBFA;\n",
              "      box-shadow: 0px 1px 2px rgba(60, 64, 67, 0.3), 0px 1px 3px 1px rgba(60, 64, 67, 0.15);\n",
              "      fill: #174EA6;\n",
              "    }\n",
              "\n",
              "    [theme=dark] .colab-df-convert {\n",
              "      background-color: #3B4455;\n",
              "      fill: #D2E3FC;\n",
              "    }\n",
              "\n",
              "    [theme=dark] .colab-df-convert:hover {\n",
              "      background-color: #434B5C;\n",
              "      box-shadow: 0px 1px 3px 1px rgba(0, 0, 0, 0.15);\n",
              "      filter: drop-shadow(0px 1px 2px rgba(0, 0, 0, 0.3));\n",
              "      fill: #FFFFFF;\n",
              "    }\n",
              "  </style>\n",
              "\n",
              "      <script>\n",
              "        const buttonEl =\n",
              "          document.querySelector('#df-a1178b74-fb92-4d77-af13-e0e41e1ebd9b button.colab-df-convert');\n",
              "        buttonEl.style.display =\n",
              "          google.colab.kernel.accessAllowed ? 'block' : 'none';\n",
              "\n",
              "        async function convertToInteractive(key) {\n",
              "          const element = document.querySelector('#df-a1178b74-fb92-4d77-af13-e0e41e1ebd9b');\n",
              "          const dataTable =\n",
              "            await google.colab.kernel.invokeFunction('convertToInteractive',\n",
              "                                                     [key], {});\n",
              "          if (!dataTable) return;\n",
              "\n",
              "          const docLinkHtml = 'Like what you see? Visit the ' +\n",
              "            '<a target=\"_blank\" href=https://colab.research.google.com/notebooks/data_table.ipynb>data table notebook</a>'\n",
              "            + ' to learn more about interactive tables.';\n",
              "          element.innerHTML = '';\n",
              "          dataTable['output_type'] = 'display_data';\n",
              "          await google.colab.output.renderOutput(dataTable, element);\n",
              "          const docLink = document.createElement('div');\n",
              "          docLink.innerHTML = docLinkHtml;\n",
              "          element.appendChild(docLink);\n",
              "        }\n",
              "      </script>\n",
              "    </div>\n",
              "  </div>\n",
              "  "
            ]
          },
          "metadata": {},
          "execution_count": 38
        }
      ]
    },
    {
      "cell_type": "code",
      "source": [
        "import nltk\n",
        "\n",
        "\n",
        "\n",
        "from nltk.stem import WordNetLemmatizer\n"
      ],
      "metadata": {
        "id": "90L4e47NssBe"
      },
      "execution_count": 39,
      "outputs": []
    },
    {
      "cell_type": "code",
      "source": [
        "import nltk\n",
        "nltk.download('wordnet')"
      ],
      "metadata": {
        "colab": {
          "base_uri": "https://localhost:8080/"
        },
        "id": "8clwaAt8tuFO",
        "outputId": "cb90cf79-ecf3-400e-a2f8-e4193ae30164"
      },
      "execution_count": 40,
      "outputs": [
        {
          "output_type": "stream",
          "name": "stderr",
          "text": [
            "[nltk_data] Downloading package wordnet to /root/nltk_data...\n"
          ]
        },
        {
          "output_type": "execute_result",
          "data": {
            "text/plain": [
              "True"
            ]
          },
          "metadata": {},
          "execution_count": 40
        }
      ]
    },
    {
      "cell_type": "code",
      "source": [
        "nltk.download('omw-1.4')"
      ],
      "metadata": {
        "colab": {
          "base_uri": "https://localhost:8080/"
        },
        "id": "5RwuywLwuA2O",
        "outputId": "1e9d4005-5ae8-4005-f7f8-15680fda6f8f"
      },
      "execution_count": 41,
      "outputs": [
        {
          "output_type": "stream",
          "name": "stderr",
          "text": [
            "[nltk_data] Downloading package omw-1.4 to /root/nltk_data...\n"
          ]
        },
        {
          "output_type": "execute_result",
          "data": {
            "text/plain": [
              "True"
            ]
          },
          "metadata": {},
          "execution_count": 41
        }
      ]
    },
    {
      "cell_type": "code",
      "source": [
        "# Tokenization and lemmatization\n",
        "def tokenization(text):\n",
        "    text = re.split('\\W+', text)\n",
        "    return text\n",
        "vaccine_data['tokenized'] = vaccine_data['clean_text'].apply(lambda x: tokenization(x.lower()))\n",
        "wn = nltk.WordNetLemmatizer()\n",
        "def lemmatizer(text):\n",
        "    text = [wn.lemmatize(word) for word in text]\n",
        "    return text\n",
        "vaccine_data['lemmatized'] = vaccine_data['tokenized'].apply(lambda x: lemmatizer(x))\n",
        "vaccine_data.head()\n",
        "vaccine_data.tail()"
      ],
      "metadata": {
        "colab": {
          "base_uri": "https://localhost:8080/",
          "height": 617
        },
        "id": "MlDpXwQzsWxp",
        "outputId": "7f388ed1-ffc7-4cf5-8826-c0382a060305"
      },
      "execution_count": 42,
      "outputs": [
        {
          "output_type": "execute_result",
          "data": {
            "text/plain": [
              "                        id     user_location             date  \\\n",
              "49990  1460178320209820000  Bengaluru, India  11/15/2021 9:30   \n",
              "49991  1460170772299660000  Bengaluru, India  11/15/2021 9:00   \n",
              "49992  1460163268262050000  Bengaluru, India  11/15/2021 8:30   \n",
              "49993  1460163224221850000  Bengaluru, India  11/15/2021 8:30   \n",
              "49994  1460155671140130000  Bengaluru, India  11/15/2021 8:00   \n",
              "\n",
              "                                              text user_country  \\\n",
              "49990    availability pm free slots dose dose pai…        India   \n",
              "49991  availability pm free slots paid slots dose…        India   \n",
              "49992        availability pm free slots dose dose…        India   \n",
              "49993  availability pm free slots paid slots dose…        India   \n",
              "49994  availability pm free slots paid slots dose…        India   \n",
              "\n",
              "                                        clean_text  \\\n",
              "49990    availability pm free slots dose dose pai…   \n",
              "49991  availability pm free slots paid slots dose…   \n",
              "49992        availability pm free slots dose dose…   \n",
              "49993  availability pm free slots paid slots dose…   \n",
              "49994  availability pm free slots paid slots dose…   \n",
              "\n",
              "                                              sentiments  Positive Sentiment  \\\n",
              "49990  {'neg': 0.0, 'neu': 0.645, 'pos': 0.355, 'comp...            0.355001   \n",
              "49991  {'neg': 0.0, 'neu': 0.645, 'pos': 0.355, 'comp...            0.355001   \n",
              "49992  {'neg': 0.0, 'neu': 0.602, 'pos': 0.398, 'comp...            0.398001   \n",
              "49993  {'neg': 0.0, 'neu': 0.645, 'pos': 0.355, 'comp...            0.355001   \n",
              "49994  {'neg': 0.0, 'neu': 0.645, 'pos': 0.355, 'comp...            0.355001   \n",
              "\n",
              "       Neutral Sentiment  Negative Sentiment  Number_Of_Words  \\\n",
              "49990           0.645001            0.000001                7   \n",
              "49991           0.645001            0.000001                7   \n",
              "49992           0.602001            0.000001                6   \n",
              "49993           0.645001            0.000001                7   \n",
              "49994           0.645001            0.000001                7   \n",
              "\n",
              "       Mean_Word_Length                                          tokenized  \\\n",
              "49990              5.00  [availability, pm, free, slots, dose, dose, pa...   \n",
              "49991              5.29  [availability, pm, free, slots, paid, slots, d...   \n",
              "49992              5.33      [availability, pm, free, slots, dose, dose, ]   \n",
              "49993              5.29  [availability, pm, free, slots, paid, slots, d...   \n",
              "49994              5.29  [availability, pm, free, slots, paid, slots, d...   \n",
              "\n",
              "                                              lemmatized  \n",
              "49990  [availability, pm, free, slot, dose, dose, pai, ]  \n",
              "49991  [availability, pm, free, slot, paid, slot, dos...  \n",
              "49992       [availability, pm, free, slot, dose, dose, ]  \n",
              "49993  [availability, pm, free, slot, paid, slot, dos...  \n",
              "49994  [availability, pm, free, slot, paid, slot, dos...  "
            ],
            "text/html": [
              "\n",
              "  <div id=\"df-ae64fec4-e101-4255-b336-5b0c55d899cb\">\n",
              "    <div class=\"colab-df-container\">\n",
              "      <div>\n",
              "<style scoped>\n",
              "    .dataframe tbody tr th:only-of-type {\n",
              "        vertical-align: middle;\n",
              "    }\n",
              "\n",
              "    .dataframe tbody tr th {\n",
              "        vertical-align: top;\n",
              "    }\n",
              "\n",
              "    .dataframe thead th {\n",
              "        text-align: right;\n",
              "    }\n",
              "</style>\n",
              "<table border=\"1\" class=\"dataframe\">\n",
              "  <thead>\n",
              "    <tr style=\"text-align: right;\">\n",
              "      <th></th>\n",
              "      <th>id</th>\n",
              "      <th>user_location</th>\n",
              "      <th>date</th>\n",
              "      <th>text</th>\n",
              "      <th>user_country</th>\n",
              "      <th>clean_text</th>\n",
              "      <th>sentiments</th>\n",
              "      <th>Positive Sentiment</th>\n",
              "      <th>Neutral Sentiment</th>\n",
              "      <th>Negative Sentiment</th>\n",
              "      <th>Number_Of_Words</th>\n",
              "      <th>Mean_Word_Length</th>\n",
              "      <th>tokenized</th>\n",
              "      <th>lemmatized</th>\n",
              "    </tr>\n",
              "  </thead>\n",
              "  <tbody>\n",
              "    <tr>\n",
              "      <th>49990</th>\n",
              "      <td>1460178320209820000</td>\n",
              "      <td>Bengaluru, India</td>\n",
              "      <td>11/15/2021 9:30</td>\n",
              "      <td>availability pm free slots dose dose pai…</td>\n",
              "      <td>India</td>\n",
              "      <td>availability pm free slots dose dose pai…</td>\n",
              "      <td>{'neg': 0.0, 'neu': 0.645, 'pos': 0.355, 'comp...</td>\n",
              "      <td>0.355001</td>\n",
              "      <td>0.645001</td>\n",
              "      <td>0.000001</td>\n",
              "      <td>7</td>\n",
              "      <td>5.00</td>\n",
              "      <td>[availability, pm, free, slots, dose, dose, pa...</td>\n",
              "      <td>[availability, pm, free, slot, dose, dose, pai, ]</td>\n",
              "    </tr>\n",
              "    <tr>\n",
              "      <th>49991</th>\n",
              "      <td>1460170772299660000</td>\n",
              "      <td>Bengaluru, India</td>\n",
              "      <td>11/15/2021 9:00</td>\n",
              "      <td>availability pm free slots paid slots dose…</td>\n",
              "      <td>India</td>\n",
              "      <td>availability pm free slots paid slots dose…</td>\n",
              "      <td>{'neg': 0.0, 'neu': 0.645, 'pos': 0.355, 'comp...</td>\n",
              "      <td>0.355001</td>\n",
              "      <td>0.645001</td>\n",
              "      <td>0.000001</td>\n",
              "      <td>7</td>\n",
              "      <td>5.29</td>\n",
              "      <td>[availability, pm, free, slots, paid, slots, d...</td>\n",
              "      <td>[availability, pm, free, slot, paid, slot, dos...</td>\n",
              "    </tr>\n",
              "    <tr>\n",
              "      <th>49992</th>\n",
              "      <td>1460163268262050000</td>\n",
              "      <td>Bengaluru, India</td>\n",
              "      <td>11/15/2021 8:30</td>\n",
              "      <td>availability pm free slots dose dose…</td>\n",
              "      <td>India</td>\n",
              "      <td>availability pm free slots dose dose…</td>\n",
              "      <td>{'neg': 0.0, 'neu': 0.602, 'pos': 0.398, 'comp...</td>\n",
              "      <td>0.398001</td>\n",
              "      <td>0.602001</td>\n",
              "      <td>0.000001</td>\n",
              "      <td>6</td>\n",
              "      <td>5.33</td>\n",
              "      <td>[availability, pm, free, slots, dose, dose, ]</td>\n",
              "      <td>[availability, pm, free, slot, dose, dose, ]</td>\n",
              "    </tr>\n",
              "    <tr>\n",
              "      <th>49993</th>\n",
              "      <td>1460163224221850000</td>\n",
              "      <td>Bengaluru, India</td>\n",
              "      <td>11/15/2021 8:30</td>\n",
              "      <td>availability pm free slots paid slots dose…</td>\n",
              "      <td>India</td>\n",
              "      <td>availability pm free slots paid slots dose…</td>\n",
              "      <td>{'neg': 0.0, 'neu': 0.645, 'pos': 0.355, 'comp...</td>\n",
              "      <td>0.355001</td>\n",
              "      <td>0.645001</td>\n",
              "      <td>0.000001</td>\n",
              "      <td>7</td>\n",
              "      <td>5.29</td>\n",
              "      <td>[availability, pm, free, slots, paid, slots, d...</td>\n",
              "      <td>[availability, pm, free, slot, paid, slot, dos...</td>\n",
              "    </tr>\n",
              "    <tr>\n",
              "      <th>49994</th>\n",
              "      <td>1460155671140130000</td>\n",
              "      <td>Bengaluru, India</td>\n",
              "      <td>11/15/2021 8:00</td>\n",
              "      <td>availability pm free slots paid slots dose…</td>\n",
              "      <td>India</td>\n",
              "      <td>availability pm free slots paid slots dose…</td>\n",
              "      <td>{'neg': 0.0, 'neu': 0.645, 'pos': 0.355, 'comp...</td>\n",
              "      <td>0.355001</td>\n",
              "      <td>0.645001</td>\n",
              "      <td>0.000001</td>\n",
              "      <td>7</td>\n",
              "      <td>5.29</td>\n",
              "      <td>[availability, pm, free, slots, paid, slots, d...</td>\n",
              "      <td>[availability, pm, free, slot, paid, slot, dos...</td>\n",
              "    </tr>\n",
              "  </tbody>\n",
              "</table>\n",
              "</div>\n",
              "      <button class=\"colab-df-convert\" onclick=\"convertToInteractive('df-ae64fec4-e101-4255-b336-5b0c55d899cb')\"\n",
              "              title=\"Convert this dataframe to an interactive table.\"\n",
              "              style=\"display:none;\">\n",
              "        \n",
              "  <svg xmlns=\"http://www.w3.org/2000/svg\" height=\"24px\"viewBox=\"0 0 24 24\"\n",
              "       width=\"24px\">\n",
              "    <path d=\"M0 0h24v24H0V0z\" fill=\"none\"/>\n",
              "    <path d=\"M18.56 5.44l.94 2.06.94-2.06 2.06-.94-2.06-.94-.94-2.06-.94 2.06-2.06.94zm-11 1L8.5 8.5l.94-2.06 2.06-.94-2.06-.94L8.5 2.5l-.94 2.06-2.06.94zm10 10l.94 2.06.94-2.06 2.06-.94-2.06-.94-.94-2.06-.94 2.06-2.06.94z\"/><path d=\"M17.41 7.96l-1.37-1.37c-.4-.4-.92-.59-1.43-.59-.52 0-1.04.2-1.43.59L10.3 9.45l-7.72 7.72c-.78.78-.78 2.05 0 2.83L4 21.41c.39.39.9.59 1.41.59.51 0 1.02-.2 1.41-.59l7.78-7.78 2.81-2.81c.8-.78.8-2.07 0-2.86zM5.41 20L4 18.59l7.72-7.72 1.47 1.35L5.41 20z\"/>\n",
              "  </svg>\n",
              "      </button>\n",
              "      \n",
              "  <style>\n",
              "    .colab-df-container {\n",
              "      display:flex;\n",
              "      flex-wrap:wrap;\n",
              "      gap: 12px;\n",
              "    }\n",
              "\n",
              "    .colab-df-convert {\n",
              "      background-color: #E8F0FE;\n",
              "      border: none;\n",
              "      border-radius: 50%;\n",
              "      cursor: pointer;\n",
              "      display: none;\n",
              "      fill: #1967D2;\n",
              "      height: 32px;\n",
              "      padding: 0 0 0 0;\n",
              "      width: 32px;\n",
              "    }\n",
              "\n",
              "    .colab-df-convert:hover {\n",
              "      background-color: #E2EBFA;\n",
              "      box-shadow: 0px 1px 2px rgba(60, 64, 67, 0.3), 0px 1px 3px 1px rgba(60, 64, 67, 0.15);\n",
              "      fill: #174EA6;\n",
              "    }\n",
              "\n",
              "    [theme=dark] .colab-df-convert {\n",
              "      background-color: #3B4455;\n",
              "      fill: #D2E3FC;\n",
              "    }\n",
              "\n",
              "    [theme=dark] .colab-df-convert:hover {\n",
              "      background-color: #434B5C;\n",
              "      box-shadow: 0px 1px 3px 1px rgba(0, 0, 0, 0.15);\n",
              "      filter: drop-shadow(0px 1px 2px rgba(0, 0, 0, 0.3));\n",
              "      fill: #FFFFFF;\n",
              "    }\n",
              "  </style>\n",
              "\n",
              "      <script>\n",
              "        const buttonEl =\n",
              "          document.querySelector('#df-ae64fec4-e101-4255-b336-5b0c55d899cb button.colab-df-convert');\n",
              "        buttonEl.style.display =\n",
              "          google.colab.kernel.accessAllowed ? 'block' : 'none';\n",
              "\n",
              "        async function convertToInteractive(key) {\n",
              "          const element = document.querySelector('#df-ae64fec4-e101-4255-b336-5b0c55d899cb');\n",
              "          const dataTable =\n",
              "            await google.colab.kernel.invokeFunction('convertToInteractive',\n",
              "                                                     [key], {});\n",
              "          if (!dataTable) return;\n",
              "\n",
              "          const docLinkHtml = 'Like what you see? Visit the ' +\n",
              "            '<a target=\"_blank\" href=https://colab.research.google.com/notebooks/data_table.ipynb>data table notebook</a>'\n",
              "            + ' to learn more about interactive tables.';\n",
              "          element.innerHTML = '';\n",
              "          dataTable['output_type'] = 'display_data';\n",
              "          await google.colab.output.renderOutput(dataTable, element);\n",
              "          const docLink = document.createElement('div');\n",
              "          docLink.innerHTML = docLinkHtml;\n",
              "          element.appendChild(docLink);\n",
              "        }\n",
              "      </script>\n",
              "    </div>\n",
              "  </div>\n",
              "  "
            ]
          },
          "metadata": {},
          "execution_count": 42
        }
      ]
    },
    {
      "cell_type": "markdown",
      "source": [
        "**Analysis**"
      ],
      "metadata": {
        "id": "GF5UUO5z3Z2-"
      }
    },
    {
      "cell_type": "code",
      "source": [
        "# World Cloud\n",
        "tweet_All = \" \".join(review for review in vaccine_data[\"clean_text\"])\n",
        "\n",
        "fig, ax = plt.subplots(1, 1, figsize  = (10,10))\n",
        "# Create and generate a word cloud image:\n",
        "wordcloud_ALL = WordCloud(max_font_size=50, max_words=100, background_color=\"white\").generate(tweet_All)\n",
        "\n",
        "# Display the generated image:\n",
        "ax.imshow(wordcloud_ALL, interpolation='bilinear')\n",
        "\n",
        "ax.axis('off')"
      ],
      "metadata": {
        "colab": {
          "base_uri": "https://localhost:8080/",
          "height": 327
        },
        "id": "oFkEKS41sXMl",
        "outputId": "9fb58f43-41bf-4eda-f295-3bc961e771be"
      },
      "execution_count": 43,
      "outputs": [
        {
          "output_type": "execute_result",
          "data": {
            "text/plain": [
              "(-0.5, 399.5, 199.5, -0.5)"
            ]
          },
          "metadata": {},
          "execution_count": 43
        },
        {
          "output_type": "display_data",
          "data": {
            "text/plain": [
              "<Figure size 720x720 with 1 Axes>"
            ],
            "image/png": "[encoded data removed]"
          },
          "metadata": {}
        }
      ]
    },
    {
      "cell_type": "code",
      "source": [
        "# Sentiment Distribution\n",
        "plt.subplot(2,1,1)\n",
        "plt.title('Distriubtion Of Sentiments Across Tweets',fontsize=19,fontweight='bold')\n",
        "sns.kdeplot(vaccine_data['Negative Sentiment'], color = 'blue')\n",
        "sns.kdeplot(vaccine_data['Positive Sentiment'], color = 'orange')\n",
        "sns.kdeplot(vaccine_data['Neutral Sentiment'], color = 'green')\n",
        "plt.xlabel(' ')\n",
        "plt.legend(['Negative Sentiment','Positive Sentiment','Neutral Sentiment'])\n",
        "plt.subplot(2,1,2)\n",
        "plt.title('Average Sentiments Across Tweets',fontsize=19,fontweight='bold')\n",
        "neg_total_avg = (vaccine_data['Negative Sentiment'].sum())/len(vaccine_data.index)\n",
        "print(neg_total_avg)\n",
        "pos_total_avg = (vaccine_data['Positive Sentiment'].sum())/len(vaccine_data.index)\n",
        "print(pos_total_avg)\n",
        "neu_total_avg = (vaccine_data['Neutral Sentiment'].sum())/len(vaccine_data.index)\n",
        "print(neu_total_avg)\n",
        "sentiment_type = ['Negative','Positive','Neutral']\n",
        "sentiment_total_avg = [neg_total_avg, pos_total_avg, neu_total_avg]\n",
        "plt.bar(sentiment_type, sentiment_total_avg, color = ['blue', 'orange', 'green'])\n",
        "plt.ylabel('Average Sentiment Per Tweet',fontsize=19)\n",
        "plt.xlabel('Sentiment Type',fontsize=19)\n",
        "plt.show()"
      ],
      "metadata": {
        "colab": {
          "base_uri": "https://localhost:8080/",
          "height": 851
        },
        "id": "7t7KUQvRsXUV",
        "outputId": "c64271a6-4d4e-4541-b3d7-65dc5fe70efe"
      },
      "execution_count": 44,
      "outputs": [
        {
          "output_type": "stream",
          "name": "stdout",
          "text": [
            "0.03357958788182273\n",
            "0.15372596745117673\n",
            "0.8067895428142213\n"
          ]
        },
        {
          "output_type": "display_data",
          "data": {
            "text/plain": [
              "<Figure size 1224x936 with 2 Axes>"
            ],
            "image/png": "[encoded data removed]"
          },
          "metadata": {}
        }
      ]
    },
    {
      "cell_type": "code",
      "source": [
        "# 50 most common words\n",
        "all_words=[]\n",
        "for i in range(len(vaccine_data['lemmatized'])):\n",
        "    a=vaccine_data['lemmatized'][i]\n",
        "    for i in a:\n",
        "        all_words.append(i)\n",
        "all_words=pd.Series(np.array(all_words))\n",
        "\n",
        "common_words=all_words.value_counts()[:50].rename_axis('Common Words').reset_index(name='count')\n",
        "\n",
        "fig = ex.treemap(common_words, path=['Common Words'], values='count',title='50 Most Common Words In Tweets')\n",
        "fig.show()"
      ],
      "metadata": {
        "colab": {
          "base_uri": "https://localhost:8080/",
          "height": 502
        },
        "id": "cZJbO_Z9sXXu",
        "outputId": "248fd711-0b33-4da7-90c6-fc6bcfe35ec0"
      },
      "execution_count": 45,
      "outputs": [
        {
          "output_type": "error",
          "ename": "KeyError",
          "evalue": "ignored",
          "traceback": [
            "\u001b[0;31m---------------------------------------------------------------------------\u001b[0m",
            "\u001b[0;31mKeyError\u001b[0m                                  Traceback (most recent call last)",
            "\u001b[0;32m/usr/local/lib/python3.8/dist-packages/pandas/core/indexes/base.py\u001b[0m in \u001b[0;36mget_loc\u001b[0;34m(self, key, method, tolerance)\u001b[0m\n\u001b[1;32m   3360\u001b[0m             \u001b[0;32mtry\u001b[0m\u001b[0;34m:\u001b[0m\u001b[0;34m\u001b[0m\u001b[0;34m\u001b[0m\u001b[0m\n\u001b[0;32m-> 3361\u001b[0;31m                 \u001b[0;32mreturn\u001b[0m \u001b[0mself\u001b[0m\u001b[0;34m.\u001b[0m\u001b[0m_engine\u001b[0m\u001b[0;34m.\u001b[0m\u001b[0mget_loc\u001b[0m\u001b[0;34m(\u001b[0m\u001b[0mcasted_key\u001b[0m\u001b[0;34m)\u001b[0m\u001b[0;34m\u001b[0m\u001b[0;34m\u001b[0m\u001b[0m\n\u001b[0m\u001b[1;32m   3362\u001b[0m             \u001b[0;32mexcept\u001b[0m \u001b[0mKeyError\u001b[0m \u001b[0;32mas\u001b[0m \u001b[0merr\u001b[0m\u001b[0;34m:\u001b[0m\u001b[0;34m\u001b[0m\u001b[0;34m\u001b[0m\u001b[0m\n",
            "\u001b[0;32m/usr/local/lib/python3.8/dist-packages/pandas/_libs/index.pyx\u001b[0m in \u001b[0;36mpandas._libs.index.IndexEngine.get_loc\u001b[0;34m()\u001b[0m\n",
            "\u001b[0;32m/usr/local/lib/python3.8/dist-packages/pandas/_libs/index.pyx\u001b[0m in \u001b[0;36mpandas._libs.index.IndexEngine.get_loc\u001b[0;34m()\u001b[0m\n",
            "\u001b[0;32mpandas/_libs/hashtable_class_helper.pxi\u001b[0m in \u001b[0;36mpandas._libs.hashtable.Int64HashTable.get_item\u001b[0;34m()\u001b[0m\n",
            "\u001b[0;32mpandas/_libs/hashtable_class_helper.pxi\u001b[0m in \u001b[0;36mpandas._libs.hashtable.Int64HashTable.get_item\u001b[0;34m()\u001b[0m\n",
            "\u001b[0;31mKeyError\u001b[0m: 794",
            "\nThe above exception was the direct cause of the following exception:\n",
            "\u001b[0;31mKeyError\u001b[0m                                  Traceback (most recent call last)",
            "\u001b[0;32m<ipython-input-45-04899fafa0bf>\u001b[0m in \u001b[0;36m<module>\u001b[0;34m\u001b[0m\n\u001b[1;32m      2\u001b[0m \u001b[0mall_words\u001b[0m\u001b[0;34m=\u001b[0m\u001b[0;34m[\u001b[0m\u001b[0;34m]\u001b[0m\u001b[0;34m\u001b[0m\u001b[0;34m\u001b[0m\u001b[0m\n\u001b[1;32m      3\u001b[0m \u001b[0;32mfor\u001b[0m \u001b[0mi\u001b[0m \u001b[0;32min\u001b[0m \u001b[0mrange\u001b[0m\u001b[0;34m(\u001b[0m\u001b[0mlen\u001b[0m\u001b[0;34m(\u001b[0m\u001b[0mvaccine_data\u001b[0m\u001b[0;34m[\u001b[0m\u001b[0;34m'lemmatized'\u001b[0m\u001b[0;34m]\u001b[0m\u001b[0;34m)\u001b[0m\u001b[0;34m)\u001b[0m\u001b[0;34m:\u001b[0m\u001b[0;34m\u001b[0m\u001b[0;34m\u001b[0m\u001b[0m\n\u001b[0;32m----> 4\u001b[0;31m     \u001b[0ma\u001b[0m\u001b[0;34m=\u001b[0m\u001b[0mvaccine_data\u001b[0m\u001b[0;34m[\u001b[0m\u001b[0;34m'lemmatized'\u001b[0m\u001b[0;34m]\u001b[0m\u001b[0;34m[\u001b[0m\u001b[0mi\u001b[0m\u001b[0;34m]\u001b[0m\u001b[0;34m\u001b[0m\u001b[0;34m\u001b[0m\u001b[0m\n\u001b[0m\u001b[1;32m      5\u001b[0m     \u001b[0;32mfor\u001b[0m \u001b[0mi\u001b[0m \u001b[0;32min\u001b[0m \u001b[0ma\u001b[0m\u001b[0;34m:\u001b[0m\u001b[0;34m\u001b[0m\u001b[0;34m\u001b[0m\u001b[0m\n\u001b[1;32m      6\u001b[0m         \u001b[0mall_words\u001b[0m\u001b[0;34m.\u001b[0m\u001b[0mappend\u001b[0m\u001b[0;34m(\u001b[0m\u001b[0mi\u001b[0m\u001b[0;34m)\u001b[0m\u001b[0;34m\u001b[0m\u001b[0;34m\u001b[0m\u001b[0m\n",
            "\u001b[0;32m/usr/local/lib/python3.8/dist-packages/pandas/core/series.py\u001b[0m in \u001b[0;36m__getitem__\u001b[0;34m(self, key)\u001b[0m\n\u001b[1;32m    940\u001b[0m \u001b[0;34m\u001b[0m\u001b[0m\n\u001b[1;32m    941\u001b[0m         \u001b[0;32melif\u001b[0m \u001b[0mkey_is_scalar\u001b[0m\u001b[0;34m:\u001b[0m\u001b[0;34m\u001b[0m\u001b[0;34m\u001b[0m\u001b[0m\n\u001b[0;32m--> 942\u001b[0;31m             \u001b[0;32mreturn\u001b[0m \u001b[0mself\u001b[0m\u001b[0;34m.\u001b[0m\u001b[0m_get_value\u001b[0m\u001b[0;34m(\u001b[0m\u001b[0mkey\u001b[0m\u001b[0;34m)\u001b[0m\u001b[0;34m\u001b[0m\u001b[0;34m\u001b[0m\u001b[0m\n\u001b[0m\u001b[1;32m    943\u001b[0m \u001b[0;34m\u001b[0m\u001b[0m\n\u001b[1;32m    944\u001b[0m         \u001b[0;32mif\u001b[0m \u001b[0mis_hashable\u001b[0m\u001b[0;34m(\u001b[0m\u001b[0mkey\u001b[0m\u001b[0;34m)\u001b[0m\u001b[0;34m:\u001b[0m\u001b[0;34m\u001b[0m\u001b[0;34m\u001b[0m\u001b[0m\n",
            "\u001b[0;32m/usr/local/lib/python3.8/dist-packages/pandas/core/series.py\u001b[0m in \u001b[0;36m_get_value\u001b[0;34m(self, label, takeable)\u001b[0m\n\u001b[1;32m   1049\u001b[0m \u001b[0;34m\u001b[0m\u001b[0m\n\u001b[1;32m   1050\u001b[0m         \u001b[0;31m# Similar to Index.get_value, but we do not fall back to positional\u001b[0m\u001b[0;34m\u001b[0m\u001b[0;34m\u001b[0m\u001b[0;34m\u001b[0m\u001b[0m\n\u001b[0;32m-> 1051\u001b[0;31m         \u001b[0mloc\u001b[0m \u001b[0;34m=\u001b[0m \u001b[0mself\u001b[0m\u001b[0;34m.\u001b[0m\u001b[0mindex\u001b[0m\u001b[0;34m.\u001b[0m\u001b[0mget_loc\u001b[0m\u001b[0;34m(\u001b[0m\u001b[0mlabel\u001b[0m\u001b[0;34m)\u001b[0m\u001b[0;34m\u001b[0m\u001b[0;34m\u001b[0m\u001b[0m\n\u001b[0m\u001b[1;32m   1052\u001b[0m         \u001b[0;32mreturn\u001b[0m \u001b[0mself\u001b[0m\u001b[0;34m.\u001b[0m\u001b[0mindex\u001b[0m\u001b[0;34m.\u001b[0m\u001b[0m_get_values_for_loc\u001b[0m\u001b[0;34m(\u001b[0m\u001b[0mself\u001b[0m\u001b[0;34m,\u001b[0m \u001b[0mloc\u001b[0m\u001b[0;34m,\u001b[0m \u001b[0mlabel\u001b[0m\u001b[0;34m)\u001b[0m\u001b[0;34m\u001b[0m\u001b[0;34m\u001b[0m\u001b[0m\n\u001b[1;32m   1053\u001b[0m \u001b[0;34m\u001b[0m\u001b[0m\n",
            "\u001b[0;32m/usr/local/lib/python3.8/dist-packages/pandas/core/indexes/base.py\u001b[0m in \u001b[0;36mget_loc\u001b[0;34m(self, key, method, tolerance)\u001b[0m\n\u001b[1;32m   3361\u001b[0m                 \u001b[0;32mreturn\u001b[0m \u001b[0mself\u001b[0m\u001b[0;34m.\u001b[0m\u001b[0m_engine\u001b[0m\u001b[0;34m.\u001b[0m\u001b[0mget_loc\u001b[0m\u001b[0;34m(\u001b[0m\u001b[0mcasted_key\u001b[0m\u001b[0;34m)\u001b[0m\u001b[0;34m\u001b[0m\u001b[0;34m\u001b[0m\u001b[0m\n\u001b[1;32m   3362\u001b[0m             \u001b[0;32mexcept\u001b[0m \u001b[0mKeyError\u001b[0m \u001b[0;32mas\u001b[0m \u001b[0merr\u001b[0m\u001b[0;34m:\u001b[0m\u001b[0;34m\u001b[0m\u001b[0;34m\u001b[0m\u001b[0m\n\u001b[0;32m-> 3363\u001b[0;31m                 \u001b[0;32mraise\u001b[0m \u001b[0mKeyError\u001b[0m\u001b[0;34m(\u001b[0m\u001b[0mkey\u001b[0m\u001b[0;34m)\u001b[0m \u001b[0;32mfrom\u001b[0m \u001b[0merr\u001b[0m\u001b[0;34m\u001b[0m\u001b[0;34m\u001b[0m\u001b[0m\n\u001b[0m\u001b[1;32m   3364\u001b[0m \u001b[0;34m\u001b[0m\u001b[0m\n\u001b[1;32m   3365\u001b[0m         \u001b[0;32mif\u001b[0m \u001b[0mis_scalar\u001b[0m\u001b[0;34m(\u001b[0m\u001b[0mkey\u001b[0m\u001b[0;34m)\u001b[0m \u001b[0;32mand\u001b[0m \u001b[0misna\u001b[0m\u001b[0;34m(\u001b[0m\u001b[0mkey\u001b[0m\u001b[0;34m)\u001b[0m \u001b[0;32mand\u001b[0m \u001b[0;32mnot\u001b[0m \u001b[0mself\u001b[0m\u001b[0;34m.\u001b[0m\u001b[0mhasnans\u001b[0m\u001b[0;34m:\u001b[0m\u001b[0;34m\u001b[0m\u001b[0;34m\u001b[0m\u001b[0m\n",
            "\u001b[0;31mKeyError\u001b[0m: 794"
          ]
        }
      ]
    },
    {
      "cell_type": "code",
      "source": [
        "# Change variables\n",
        "ft_data = vaccine_data.copy()\n",
        "ft_data['date'] = pd.to_datetime(vaccine_data['date']).dt.date\n",
        "ft_data['year'] = pd.DatetimeIndex(ft_data['date']).year\n",
        "b_date_count = ft_data.groupby(by='date').count().reset_index()\n",
        "b_date_count = b_date_count.rename(columns={'id':'Tweets Per Day'})\n",
        "fig = ex.line(b_date_count,x='date',y='Tweets Per Day')\n",
        "\n",
        "fig.add_shape(type=\"line\",\n",
        "    x0=b_date_count['date'].values[0], y0=b_date_count['Negative Sentiment'].mean(), x1=b_date_count['date'].values[-1], y1=b_date_count['Negative Sentiment'].mean(),\n",
        "    line=dict(\n",
        "        color=\"Red\",\n",
        "        width=2,\n",
        "        dash=\"dashdot\",\n",
        "    ),\n",
        "        name='Mean',\n",
        ")\n",
        "\n",
        "fig.update_traces(mode=\"markers+lines\")\n",
        "fig.update_layout(hovermode=\"x unified\")\n",
        "\n",
        "\n",
        "# ###annots\n",
        "b_date_count.date = pd.to_datetime(b_date_count.date)\n",
        "b_date_count_dt = b_date_count.set_index('date')\n",
        "\n",
        "fig.add_annotation(x=datetime.datetime(2021,3,1), y=b_date_count_dt.loc[pd.Timestamp('2021-03-1'),'year'],\n",
        "            text=r\"J&J authorization\",\n",
        "            showarrow=True,\n",
        "            arrowhead= 3,\n",
        "            bordercolor=\"#c7c7c7\")\n",
        "\n",
        "fig.add_annotation(x=datetime.datetime(2021,4,21), y=b_date_count_dt.loc[pd.Timestamp('2021-04-21'),'year'],\n",
        "            text=r\"Fear of supply outstripping demand & CDC discussion of J&J bloodclots\",\n",
        "            showarrow=True,\n",
        "            arrowhead=3,\n",
        "            yshift=5,bordercolor=\"#c7c7c7\")\n",
        "\n",
        "fig.add_annotation(x=datetime.datetime(2021,6,29), y=b_date_count_dt.loc[pd.Timestamp('2021-06-29'),'year'],\n",
        "            text=r\"Discussion of vaccine protection against delta variant\",\n",
        "            showarrow=True,\n",
        "            arrowhead=3,\n",
        "            yshift=5,ay=-30,bordercolor=\"#c7c7c7\")\n",
        "\n",
        "fig.update_layout(title='<b>Daily Tweets<b>',width=1000)\n",
        "fig.show()"
      ],
      "metadata": {
        "colab": {
          "base_uri": "https://localhost:8080/",
          "height": 542
        },
        "id": "w3KL79oZviMg",
        "outputId": "fc21444d-5fdb-4761-ab2a-5b2e822ff590"
      },
      "execution_count": 46,
      "outputs": [
        {
          "output_type": "display_data",
          "data": {
            "text/html": [
              "<html>\n",
              "<head><meta charset=\"utf-8\" /></head>\n",
              "<body>\n",
              "    <div>            <script src=\"https://cdnjs.cloudflare.com/ajax/libs/mathjax/2.7.5/MathJax.js?config=TeX-AMS-MML_SVG\"></script><script type=\"text/javascript\">if (window.MathJax) {MathJax.Hub.Config({SVG: {font: \"STIX-Web\"}});}</script>                <script type=\"text/javascript\">window.PlotlyConfig = {MathJaxConfig: 'local'};</script>\n",
              "        <script src=\"https://cdn.plot.ly/plotly-2.8.3.min.js\"></script>                <div id=\"28e05536-901c-45a5-8f86-36582126ca3b\" class=\"plotly-graph-div\" style=\"height:525px; width:1000px;\"></div>            <script type=\"text/javascript\">                                    window.PLOTLYENV=window.PLOTLYENV || {};                                    if (document.getElementById(\"28e05536-901c-45a5-8f86-36582126ca3b\")) {                    Plotly.newPlot(                        \"28e05536-901c-45a5-8f86-36582126ca3b\",                        [{\"hovertemplate\":\"date=%{x}<br>Tweets Per Day=%{y}<extra></extra>\",\"legendgroup\":\"\",\"line\":{\"color\":\"#636efa\",\"dash\":\"solid\"},\"marker\":{\"symbol\":\"circle\"},\"mode\":\"markers+lines\",\"name\":\"\",\"orientation\":\"v\",\"showlegend\":false,\"x\":[\"2020-12-12\",\"2020-12-13\",\"2020-12-14\",\"2020-12-15\",\"2020-12-16\",\"2020-12-17\",\"2020-12-18\",\"2020-12-19\",\"2020-12-20\",\"2020-12-21\",\"2020-12-22\",\"2020-12-23\",\"2020-12-24\",\"2020-12-25\",\"2020-12-26\",\"2020-12-27\",\"2020-12-28\",\"2020-12-29\",\"2020-12-30\",\"2020-12-31\",\"2021-01-01\",\"2021-01-02\",\"2021-01-03\",\"2021-01-04\",\"2021-01-05\",\"2021-01-06\",\"2021-01-07\",\"2021-01-08\",\"2021-01-09\",\"2021-01-10\",\"2021-01-11\",\"2021-01-12\",\"2021-01-13\",\"2021-01-15\",\"2021-01-16\",\"2021-01-17\",\"2021-01-18\",\"2021-01-19\",\"2021-01-20\",\"2021-01-21\",\"2021-01-22\",\"2021-01-23\",\"2021-01-24\",\"2021-01-25\",\"2021-01-26\",\"2021-01-27\",\"2021-01-28\",\"2021-01-29\",\"2021-01-30\",\"2021-01-31\",\"2021-02-01\",\"2021-02-02\",\"2021-02-03\",\"2021-02-04\",\"2021-02-05\",\"2021-02-06\",\"2021-02-07\",\"2021-02-08\",\"2021-02-09\",\"2021-02-10\",\"2021-02-11\",\"2021-02-12\",\"2021-02-13\",\"2021-02-14\",\"2021-02-15\",\"2021-02-16\",\"2021-02-17\",\"2021-02-18\",\"2021-02-19\",\"2021-02-20\",\"2021-02-21\",\"2021-02-22\",\"2021-02-23\",\"2021-02-24\",\"2021-02-25\",\"2021-02-26\",\"2021-02-27\",\"2021-02-28\",\"2021-03-01\",\"2021-03-02\",\"2021-03-03\",\"2021-03-04\",\"2021-03-05\",\"2021-03-06\",\"2021-03-07\",\"2021-03-08\",\"2021-03-09\",\"2021-03-10\",\"2021-03-11\",\"2021-03-12\",\"2021-03-13\",\"2021-03-14\",\"2021-03-15\",\"2021-03-16\",\"2021-03-17\",\"2021-03-18\",\"2021-03-19\",\"2021-03-20\",\"2021-03-21\",\"2021-03-22\",\"2021-03-23\",\"2021-03-24\",\"2021-03-25\",\"2021-03-26\",\"2021-03-27\",\"2021-03-28\",\"2021-03-29\",\"2021-03-30\",\"2021-03-31\",\"2021-04-01\",\"2021-04-02\",\"2021-04-03\",\"2021-04-04\",\"2021-04-05\",\"2021-04-06\",\"2021-04-07\",\"2021-04-08\",\"2021-04-09\",\"2021-04-10\",\"2021-04-11\",\"2021-04-12\",\"2021-04-13\",\"2021-04-14\",\"2021-04-15\",\"2021-04-16\",\"2021-04-17\",\"2021-04-18\",\"2021-04-19\",\"2021-04-20\",\"2021-04-21\",\"2021-04-22\",\"2021-05-13\",\"2021-05-14\",\"2021-05-15\",\"2021-05-16\",\"2021-05-17\",\"2021-05-18\",\"2021-05-19\",\"2021-05-20\",\"2021-05-21\",\"2021-05-22\",\"2021-05-23\",\"2021-05-24\",\"2021-05-25\",\"2021-05-26\",\"2021-05-27\",\"2021-05-28\",\"2021-05-29\",\"2021-05-30\",\"2021-05-31\",\"2021-06-01\",\"2021-06-02\",\"2021-06-03\",\"2021-06-04\",\"2021-06-05\",\"2021-06-06\",\"2021-06-07\",\"2021-06-08\",\"2021-06-09\",\"2021-06-10\",\"2021-06-11\",\"2021-06-12\",\"2021-06-13\",\"2021-06-14\",\"2021-06-15\",\"2021-06-16\",\"2021-06-17\",\"2021-06-18\",\"2021-06-19\",\"2021-06-20\",\"2021-06-21\",\"2021-06-22\",\"2021-06-23\",\"2021-06-24\",\"2021-06-25\",\"2021-06-26\",\"2021-06-27\",\"2021-06-28\",\"2021-06-29\",\"2021-06-30\",\"2021-07-01\",\"2021-07-07\",\"2021-07-08\",\"2021-07-09\",\"2021-07-10\",\"2021-07-11\",\"2021-07-12\",\"2021-07-13\",\"2021-07-14\",\"2021-07-15\",\"2021-07-16\",\"2021-07-17\",\"2021-07-18\",\"2021-07-19\",\"2021-07-20\",\"2021-07-21\",\"2021-07-22\",\"2021-07-23\",\"2021-07-24\",\"2021-07-25\",\"2021-07-26\",\"2021-07-27\",\"2021-07-28\",\"2021-07-29\",\"2021-07-30\",\"2021-07-31\",\"2021-08-01\",\"2021-08-02\",\"2021-08-03\",\"2021-08-04\",\"2021-08-05\",\"2021-08-06\",\"2021-08-07\",\"2021-08-08\",\"2021-08-09\",\"2021-08-10\",\"2021-08-11\",\"2021-08-12\",\"2021-08-13\",\"2021-08-14\",\"2021-08-15\",\"2021-08-16\",\"2021-08-17\",\"2021-08-18\",\"2021-08-19\",\"2021-08-20\",\"2021-08-21\",\"2021-08-22\",\"2021-08-23\",\"2021-08-24\",\"2021-08-25\",\"2021-08-26\",\"2021-08-27\",\"2021-08-28\",\"2021-08-29\",\"2021-08-30\",\"2021-08-31\",\"2021-09-01\",\"2021-09-02\",\"2021-09-03\",\"2021-09-04\",\"2021-09-05\",\"2021-09-06\",\"2021-09-07\",\"2021-09-08\",\"2021-09-09\",\"2021-09-10\",\"2021-09-11\",\"2021-09-12\",\"2021-09-13\",\"2021-09-14\",\"2021-09-15\",\"2021-09-16\",\"2021-09-17\",\"2021-09-18\",\"2021-09-19\",\"2021-09-20\",\"2021-09-21\",\"2021-09-22\",\"2021-09-23\",\"2021-09-24\",\"2021-09-25\",\"2021-09-26\",\"2021-09-27\",\"2021-09-28\",\"2021-09-29\",\"2021-09-30\",\"2021-10-01\",\"2021-10-02\",\"2021-10-03\",\"2021-10-04\",\"2021-10-05\",\"2021-10-06\",\"2021-10-07\",\"2021-10-08\",\"2021-10-09\",\"2021-10-10\",\"2021-10-11\",\"2021-10-12\",\"2021-10-13\",\"2021-10-14\",\"2021-10-15\",\"2021-10-16\",\"2021-10-17\",\"2021-10-18\",\"2021-10-19\",\"2021-10-20\",\"2021-10-21\",\"2021-10-22\",\"2021-10-23\",\"2021-10-24\",\"2021-10-29\",\"2021-10-30\",\"2021-10-31\",\"2021-11-01\",\"2021-11-02\",\"2021-11-03\",\"2021-11-04\",\"2021-11-05\",\"2021-11-06\",\"2021-11-07\",\"2021-11-08\",\"2021-11-09\",\"2021-11-10\",\"2021-11-11\",\"2021-11-12\",\"2021-11-13\",\"2021-11-14\",\"2021-11-15\",\"2021-11-16\",\"2021-11-17\",\"2021-11-18\",\"2021-11-19\",\"2021-11-20\",\"2021-11-21\",\"2021-11-22\",\"2021-11-23\"],\"xaxis\":\"x\",\"y\":[4,10,9,6,8,9,4,6,6,7,22,5,7,3,1,2,2,1,16,1,20,7,7,3,4,4,2,11,3,1,2,1,2,4,12,11,3,4,2,5,1,4,2,3,2,1,2,2,1,2,1,2,1,3,3,4,21,27,22,24,26,40,24,17,25,23,14,24,35,23,8,25,22,42,31,58,34,30,960,101,294,167,126,63,25,33,87,88,101,57,35,28,41,169,94,61,71,135,60,83,67,61,45,31,36,19,43,86,108,101,66,79,70,55,75,114,366,166,111,122,585,354,158,99,171,159,78,139,148,690,192,81,440,175,391,346,290,264,275,74,83,205,461,342,283,303,320,331,173,248,284,118,85,51,114,117,447,594,491,300,441,310,190,75,59,78,281,202,139,52,39,279,210,132,158,94,56,91,472,740,348,1,55,87,69,61,158,532,338,309,314,164,45,331,186,113,111,332,268,40,89,122,357,339,348,320,87,328,332,339,446,352,329,293,379,392,430,260,325,384,94,113,92,121,109,106,176,246,368,284,251,327,317,279,216,285,248,338,143,267,333,214,306,258,258,85,76,104,186,378,343,232,263,337,396,177,293,270,44,199,242,106,258,375,300,437,237,175,116,213,301,280,264,167,88,76,71,84,901,311,219,176,392,231,298,194,116,299,142,116,98,41,38,13,21,39,782,242,89,133,66,104,197,149,137,207,94,61,83,89,82,87,96,154,75,101,94],\"yaxis\":\"y\",\"type\":\"scatter\"}],                        {\"template\":{\"data\":{\"bar\":[{\"error_x\":{\"color\":\"#2a3f5f\"},\"error_y\":{\"color\":\"#2a3f5f\"},\"marker\":{\"line\":{\"color\":\"#E5ECF6\",\"width\":0.5},\"pattern\":{\"fillmode\":\"overlay\",\"size\":10,\"solidity\":0.2}},\"type\":\"bar\"}],\"barpolar\":[{\"marker\":{\"line\":{\"color\":\"#E5ECF6\",\"width\":0.5},\"pattern\":{\"fillmode\":\"overlay\",\"size\":10,\"solidity\":0.2}},\"type\":\"barpolar\"}],\"carpet\":[{\"aaxis\":{\"endlinecolor\":\"#2a3f5f\",\"gridcolor\":\"white\",\"linecolor\":\"white\",\"minorgridcolor\":\"white\",\"startlinecolor\":\"#2a3f5f\"},\"baxis\":{\"endlinecolor\":\"#2a3f5f\",\"gridcolor\":\"white\",\"linecolor\":\"white\",\"minorgridcolor\":\"white\",\"startlinecolor\":\"#2a3f5f\"},\"type\":\"carpet\"}],\"choropleth\":[{\"colorbar\":{\"outlinewidth\":0,\"ticks\":\"\"},\"type\":\"choropleth\"}],\"contour\":[{\"colorbar\":{\"outlinewidth\":0,\"ticks\":\"\"},\"colorscale\":[[0.0,\"#0d0887\"],[0.1111111111111111,\"#46039f\"],[0.2222222222222222,\"#7201a8\"],[0.3333333333333333,\"#9c179e\"],[0.4444444444444444,\"#bd3786\"],[0.5555555555555556,\"#d8576b\"],[0.6666666666666666,\"#ed7953\"],[0.7777777777777778,\"#fb9f3a\"],[0.8888888888888888,\"#fdca26\"],[1.0,\"#f0f921\"]],\"type\":\"contour\"}],\"contourcarpet\":[{\"colorbar\":{\"outlinewidth\":0,\"ticks\":\"\"},\"type\":\"contourcarpet\"}],\"heatmap\":[{\"colorbar\":{\"outlinewidth\":0,\"ticks\":\"\"},\"colorscale\":[[0.0,\"#0d0887\"],[0.1111111111111111,\"#46039f\"],[0.2222222222222222,\"#7201a8\"],[0.3333333333333333,\"#9c179e\"],[0.4444444444444444,\"#bd3786\"],[0.5555555555555556,\"#d8576b\"],[0.6666666666666666,\"#ed7953\"],[0.7777777777777778,\"#fb9f3a\"],[0.8888888888888888,\"#fdca26\"],[1.0,\"#f0f921\"]],\"type\":\"heatmap\"}],\"heatmapgl\":[{\"colorbar\":{\"outlinewidth\":0,\"ticks\":\"\"},\"colorscale\":[[0.0,\"#0d0887\"],[0.1111111111111111,\"#46039f\"],[0.2222222222222222,\"#7201a8\"],[0.3333333333333333,\"#9c179e\"],[0.4444444444444444,\"#bd3786\"],[0.5555555555555556,\"#d8576b\"],[0.6666666666666666,\"#ed7953\"],[0.7777777777777778,\"#fb9f3a\"],[0.8888888888888888,\"#fdca26\"],[1.0,\"#f0f921\"]],\"type\":\"heatmapgl\"}],\"histogram\":[{\"marker\":{\"pattern\":{\"fillmode\":\"overlay\",\"size\":10,\"solidity\":0.2}},\"type\":\"histogram\"}],\"histogram2d\":[{\"colorbar\":{\"outlinewidth\":0,\"ticks\":\"\"},\"colorscale\":[[0.0,\"#0d0887\"],[0.1111111111111111,\"#46039f\"],[0.2222222222222222,\"#7201a8\"],[0.3333333333333333,\"#9c179e\"],[0.4444444444444444,\"#bd3786\"],[0.5555555555555556,\"#d8576b\"],[0.6666666666666666,\"#ed7953\"],[0.7777777777777778,\"#fb9f3a\"],[0.8888888888888888,\"#fdca26\"],[1.0,\"#f0f921\"]],\"type\":\"histogram2d\"}],\"histogram2dcontour\":[{\"colorbar\":{\"outlinewidth\":0,\"ticks\":\"\"},\"colorscale\":[[0.0,\"#0d0887\"],[0.1111111111111111,\"#46039f\"],[0.2222222222222222,\"#7201a8\"],[0.3333333333333333,\"#9c179e\"],[0.4444444444444444,\"#bd3786\"],[0.5555555555555556,\"#d8576b\"],[0.6666666666666666,\"#ed7953\"],[0.7777777777777778,\"#fb9f3a\"],[0.8888888888888888,\"#fdca26\"],[1.0,\"#f0f921\"]],\"type\":\"histogram2dcontour\"}],\"mesh3d\":[{\"colorbar\":{\"outlinewidth\":0,\"ticks\":\"\"},\"type\":\"mesh3d\"}],\"parcoords\":[{\"line\":{\"colorbar\":{\"outlinewidth\":0,\"ticks\":\"\"}},\"type\":\"parcoords\"}],\"pie\":[{\"automargin\":true,\"type\":\"pie\"}],\"scatter\":[{\"marker\":{\"colorbar\":{\"outlinewidth\":0,\"ticks\":\"\"}},\"type\":\"scatter\"}],\"scatter3d\":[{\"line\":{\"colorbar\":{\"outlinewidth\":0,\"ticks\":\"\"}},\"marker\":{\"colorbar\":{\"outlinewidth\":0,\"ticks\":\"\"}},\"type\":\"scatter3d\"}],\"scattercarpet\":[{\"marker\":{\"colorbar\":{\"outlinewidth\":0,\"ticks\":\"\"}},\"type\":\"scattercarpet\"}],\"scattergeo\":[{\"marker\":{\"colorbar\":{\"outlinewidth\":0,\"ticks\":\"\"}},\"type\":\"scattergeo\"}],\"scattergl\":[{\"marker\":{\"colorbar\":{\"outlinewidth\":0,\"ticks\":\"\"}},\"type\":\"scattergl\"}],\"scattermapbox\":[{\"marker\":{\"colorbar\":{\"outlinewidth\":0,\"ticks\":\"\"}},\"type\":\"scattermapbox\"}],\"scatterpolar\":[{\"marker\":{\"colorbar\":{\"outlinewidth\":0,\"ticks\":\"\"}},\"type\":\"scatterpolar\"}],\"scatterpolargl\":[{\"marker\":{\"colorbar\":{\"outlinewidth\":0,\"ticks\":\"\"}},\"type\":\"scatterpolargl\"}],\"scatterternary\":[{\"marker\":{\"colorbar\":{\"outlinewidth\":0,\"ticks\":\"\"}},\"type\":\"scatterternary\"}],\"surface\":[{\"colorbar\":{\"outlinewidth\":0,\"ticks\":\"\"},\"colorscale\":[[0.0,\"#0d0887\"],[0.1111111111111111,\"#46039f\"],[0.2222222222222222,\"#7201a8\"],[0.3333333333333333,\"#9c179e\"],[0.4444444444444444,\"#bd3786\"],[0.5555555555555556,\"#d8576b\"],[0.6666666666666666,\"#ed7953\"],[0.7777777777777778,\"#fb9f3a\"],[0.8888888888888888,\"#fdca26\"],[1.0,\"#f0f921\"]],\"type\":\"surface\"}],\"table\":[{\"cells\":{\"fill\":{\"color\":\"#EBF0F8\"},\"line\":{\"color\":\"white\"}},\"header\":{\"fill\":{\"color\":\"#C8D4E3\"},\"line\":{\"color\":\"white\"}},\"type\":\"table\"}]},\"layout\":{\"annotationdefaults\":{\"arrowcolor\":\"#2a3f5f\",\"arrowhead\":0,\"arrowwidth\":1},\"autotypenumbers\":\"strict\",\"coloraxis\":{\"colorbar\":{\"outlinewidth\":0,\"ticks\":\"\"}},\"colorscale\":{\"diverging\":[[0,\"#8e0152\"],[0.1,\"#c51b7d\"],[0.2,\"#de77ae\"],[0.3,\"#f1b6da\"],[0.4,\"#fde0ef\"],[0.5,\"#f7f7f7\"],[0.6,\"#e6f5d0\"],[0.7,\"#b8e186\"],[0.8,\"#7fbc41\"],[0.9,\"#4d9221\"],[1,\"#276419\"]],\"sequential\":[[0.0,\"#0d0887\"],[0.1111111111111111,\"#46039f\"],[0.2222222222222222,\"#7201a8\"],[0.3333333333333333,\"#9c179e\"],[0.4444444444444444,\"#bd3786\"],[0.5555555555555556,\"#d8576b\"],[0.6666666666666666,\"#ed7953\"],[0.7777777777777778,\"#fb9f3a\"],[0.8888888888888888,\"#fdca26\"],[1.0,\"#f0f921\"]],\"sequentialminus\":[[0.0,\"#0d0887\"],[0.1111111111111111,\"#46039f\"],[0.2222222222222222,\"#7201a8\"],[0.3333333333333333,\"#9c179e\"],[0.4444444444444444,\"#bd3786\"],[0.5555555555555556,\"#d8576b\"],[0.6666666666666666,\"#ed7953\"],[0.7777777777777778,\"#fb9f3a\"],[0.8888888888888888,\"#fdca26\"],[1.0,\"#f0f921\"]]},\"colorway\":[\"#636efa\",\"#EF553B\",\"#00cc96\",\"#ab63fa\",\"#FFA15A\",\"#19d3f3\",\"#FF6692\",\"#B6E880\",\"#FF97FF\",\"#FECB52\"],\"font\":{\"color\":\"#2a3f5f\"},\"geo\":{\"bgcolor\":\"white\",\"lakecolor\":\"white\",\"landcolor\":\"#E5ECF6\",\"showlakes\":true,\"showland\":true,\"subunitcolor\":\"white\"},\"hoverlabel\":{\"align\":\"left\"},\"hovermode\":\"closest\",\"mapbox\":{\"style\":\"light\"},\"paper_bgcolor\":\"white\",\"plot_bgcolor\":\"#E5ECF6\",\"polar\":{\"angularaxis\":{\"gridcolor\":\"white\",\"linecolor\":\"white\",\"ticks\":\"\"},\"bgcolor\":\"#E5ECF6\",\"radialaxis\":{\"gridcolor\":\"white\",\"linecolor\":\"white\",\"ticks\":\"\"}},\"scene\":{\"xaxis\":{\"backgroundcolor\":\"#E5ECF6\",\"gridcolor\":\"white\",\"gridwidth\":2,\"linecolor\":\"white\",\"showbackground\":true,\"ticks\":\"\",\"zerolinecolor\":\"white\"},\"yaxis\":{\"backgroundcolor\":\"#E5ECF6\",\"gridcolor\":\"white\",\"gridwidth\":2,\"linecolor\":\"white\",\"showbackground\":true,\"ticks\":\"\",\"zerolinecolor\":\"white\"},\"zaxis\":{\"backgroundcolor\":\"#E5ECF6\",\"gridcolor\":\"white\",\"gridwidth\":2,\"linecolor\":\"white\",\"showbackground\":true,\"ticks\":\"\",\"zerolinecolor\":\"white\"}},\"shapedefaults\":{\"line\":{\"color\":\"#2a3f5f\"}},\"ternary\":{\"aaxis\":{\"gridcolor\":\"white\",\"linecolor\":\"white\",\"ticks\":\"\"},\"baxis\":{\"gridcolor\":\"white\",\"linecolor\":\"white\",\"ticks\":\"\"},\"bgcolor\":\"#E5ECF6\",\"caxis\":{\"gridcolor\":\"white\",\"linecolor\":\"white\",\"ticks\":\"\"}},\"title\":{\"x\":0.05},\"xaxis\":{\"automargin\":true,\"gridcolor\":\"white\",\"linecolor\":\"white\",\"ticks\":\"\",\"title\":{\"standoff\":15},\"zerolinecolor\":\"white\",\"zerolinewidth\":2},\"yaxis\":{\"automargin\":true,\"gridcolor\":\"white\",\"linecolor\":\"white\",\"ticks\":\"\",\"title\":{\"standoff\":15},\"zerolinecolor\":\"white\",\"zerolinewidth\":2}}},\"xaxis\":{\"anchor\":\"y\",\"domain\":[0.0,1.0],\"title\":{\"text\":\"date\"}},\"yaxis\":{\"anchor\":\"x\",\"domain\":[0.0,1.0],\"title\":{\"text\":\"Tweets Per Day\"}},\"legend\":{\"tracegroupgap\":0},\"margin\":{\"t\":60},\"shapes\":[{\"line\":{\"color\":\"Red\",\"dash\":\"dashdot\",\"width\":2},\"name\":\"Mean\",\"type\":\"line\",\"x0\":\"2020-12-12\",\"x1\":\"2021-11-23\",\"y0\":157.49211356466876,\"y1\":157.49211356466876}],\"hovermode\":\"x unified\",\"annotations\":[{\"arrowhead\":3,\"bordercolor\":\"#c7c7c7\",\"showarrow\":true,\"text\":\"J&J authorization\",\"x\":\"2021-03-01T00:00:00\",\"y\":960},{\"arrowhead\":3,\"bordercolor\":\"#c7c7c7\",\"showarrow\":true,\"text\":\"Fear of supply outstripping demand & CDC discussion of J&J bloodclots\",\"x\":\"2021-04-21T00:00:00\",\"y\":690,\"yshift\":5},{\"arrowhead\":3,\"ay\":-30,\"bordercolor\":\"#c7c7c7\",\"showarrow\":true,\"text\":\"Discussion of vaccine protection against delta variant\",\"x\":\"2021-06-29T00:00:00\",\"y\":472,\"yshift\":5}],\"title\":{\"text\":\"<b>Daily Tweets<b>\"},\"width\":1000},                        {\"responsive\": true}                    ).then(function(){\n",
              "                            \n",
              "var gd = document.getElementById('28e05536-901c-45a5-8f86-36582126ca3b');\n",
              "var x = new MutationObserver(function (mutations, observer) {{\n",
              "        var display = window.getComputedStyle(gd).display;\n",
              "        if (!display || display === 'none') {{\n",
              "            console.log([gd, 'removed!']);\n",
              "            Plotly.purge(gd);\n",
              "            observer.disconnect();\n",
              "        }}\n",
              "}});\n",
              "\n",
              "// Listen for the removal of the full notebook cells\n",
              "var notebookContainer = gd.closest('#notebook-container');\n",
              "if (notebookContainer) {{\n",
              "    x.observe(notebookContainer, {childList: true});\n",
              "}}\n",
              "\n",
              "// Listen for the clearing of the current output cell\n",
              "var outputEl = gd.closest('.output');\n",
              "if (outputEl) {{\n",
              "    x.observe(outputEl, {childList: true});\n",
              "}}\n",
              "\n",
              "                        })                };                            </script>        </div>\n",
              "</body>\n",
              "</html>"
            ]
          },
          "metadata": {}
        }
      ]
    },
    {
      "cell_type": "code",
      "source": [],
      "metadata": {
        "id": "b5i8uXuY25Oq"
      },
      "execution_count": null,
      "outputs": []
    },
    {
      "cell_type": "code",
      "source": [
        "# Assigning sentiment \n",
        "Positive_tweet = vaccine_data[vaccine_data['Positive Sentiment'] >= 0.5].reset_index()\n",
        "Negative_tweet = vaccine_data[vaccine_data['Negative Sentiment']>= 0.5].reset_index()\n",
        "Neutral_tweet = vaccine_data[vaccine_data['Neutral Sentiment']>= 0.5].reset_index()"
      ],
      "metadata": {
        "id": "jMGehDyzvqvH"
      },
      "execution_count": 47,
      "outputs": []
    },
    {
      "cell_type": "code",
      "source": [
        "# 50 most common positive words\n",
        "\n",
        "all_positive_words=[]\n",
        "for i in range(len(Positive_tweet['lemmatized'])):\n",
        "    a=Positive_tweet['lemmatized'][i]\n",
        "    for i in a:\n",
        "        all_positive_words.append(i)\n",
        "all_positive_words=pd.Series(np.array(all_positive_words))\n",
        "common_words=all_positive_words.value_counts()[:50].rename_axis('Common Positive Words').reset_index(name='count')\n",
        "fig = ex.treemap(common_words, path=['Common Positive Words'], values='count',title='50 Most Common Words In Positive Tweets')\n",
        "fig.show()"
      ],
      "metadata": {
        "colab": {
          "base_uri": "https://localhost:8080/",
          "height": 542
        },
        "id": "B93ROrAFsXa4",
        "outputId": "047bf511-c463-49e2-88e6-0ed127a48bae"
      },
      "execution_count": 48,
      "outputs": [
        {
          "output_type": "display_data",
          "data": {
            "text/html": [
              "<html>\n",
              "<head><meta charset=\"utf-8\" /></head>\n",
              "<body>\n",
              "    <div>            <script src=\"https://cdnjs.cloudflare.com/ajax/libs/mathjax/2.7.5/MathJax.js?config=TeX-AMS-MML_SVG\"></script><script type=\"text/javascript\">if (window.MathJax) {MathJax.Hub.Config({SVG: {font: \"STIX-Web\"}});}</script>                <script type=\"text/javascript\">window.PlotlyConfig = {MathJaxConfig: 'local'};</script>\n",
              "        <script src=\"https://cdn.plot.ly/plotly-2.8.3.min.js\"></script>                <div id=\"cce7edf1-a702-48e0-8957-4b986ce28302\" class=\"plotly-graph-div\" style=\"height:525px; width:100%;\"></div>            <script type=\"text/javascript\">                                    window.PLOTLYENV=window.PLOTLYENV || {};                                    if (document.getElementById(\"cce7edf1-a702-48e0-8957-4b986ce28302\")) {                    Plotly.newPlot(                        \"cce7edf1-a702-48e0-8957-4b986ce28302\",                        [{\"branchvalues\":\"total\",\"domain\":{\"x\":[0.0,1.0],\"y\":[0.0,1.0]},\"hovertemplate\":\"labels=%{label}<br>count=%{value}<br>parent=%{parent}<br>id=%{id}<extra></extra>\",\"ids\":[\"\",\"amp\",\"approval\",\"approved\",\"approves\",\"best\",\"better\",\"bharat\",\"child\",\"congratulation\",\"covaxin\",\"covid\",\"dear\",\"dose\",\"effective\",\"finally\",\"free\",\"get\",\"getting\",\"good\",\"got\",\"great\",\"happy\",\"help\",\"hope\",\"india\",\"indian\",\"ji\",\"kindly\",\"like\",\"news\",\"one\",\"people\",\"please\",\"pm\",\"proud\",\"s\",\"safe\",\"share\",\"sir\",\"successfully\",\"thank\",\"thanks\",\"today\",\"u\",\"vaccinated\",\"vaccination\",\"vaccine\",\"well\",\"world\"],\"labels\":[\"\",\"amp\",\"approval\",\"approved\",\"approves\",\"best\",\"better\",\"bharat\",\"child\",\"congratulation\",\"covaxin\",\"covid\",\"dear\",\"dose\",\"effective\",\"finally\",\"free\",\"get\",\"getting\",\"good\",\"got\",\"great\",\"happy\",\"help\",\"hope\",\"india\",\"indian\",\"ji\",\"kindly\",\"like\",\"news\",\"one\",\"people\",\"please\",\"pm\",\"proud\",\"s\",\"safe\",\"share\",\"sir\",\"successfully\",\"thank\",\"thanks\",\"today\",\"u\",\"vaccinated\",\"vaccination\",\"vaccine\",\"well\",\"world\"],\"name\":\"\",\"parents\":[\"\",\"\",\"\",\"\",\"\",\"\",\"\",\"\",\"\",\"\",\"\",\"\",\"\",\"\",\"\",\"\",\"\",\"\",\"\",\"\",\"\",\"\",\"\",\"\",\"\",\"\",\"\",\"\",\"\",\"\",\"\",\"\",\"\",\"\",\"\",\"\",\"\",\"\",\"\",\"\",\"\",\"\",\"\",\"\",\"\",\"\",\"\",\"\",\"\",\"\"],\"values\":[885,114,292,234,36,114,81,42,46,132,68,57,46,81,130,50,60,165,46,133,75,154,53,65,78,173,63,48,45,77,122,55,45,139,40,65,82,84,39,45,37,155,105,45,45,94,65,306,55,39],\"type\":\"treemap\"}],                        {\"template\":{\"data\":{\"bar\":[{\"error_x\":{\"color\":\"#2a3f5f\"},\"error_y\":{\"color\":\"#2a3f5f\"},\"marker\":{\"line\":{\"color\":\"#E5ECF6\",\"width\":0.5},\"pattern\":{\"fillmode\":\"overlay\",\"size\":10,\"solidity\":0.2}},\"type\":\"bar\"}],\"barpolar\":[{\"marker\":{\"line\":{\"color\":\"#E5ECF6\",\"width\":0.5},\"pattern\":{\"fillmode\":\"overlay\",\"size\":10,\"solidity\":0.2}},\"type\":\"barpolar\"}],\"carpet\":[{\"aaxis\":{\"endlinecolor\":\"#2a3f5f\",\"gridcolor\":\"white\",\"linecolor\":\"white\",\"minorgridcolor\":\"white\",\"startlinecolor\":\"#2a3f5f\"},\"baxis\":{\"endlinecolor\":\"#2a3f5f\",\"gridcolor\":\"white\",\"linecolor\":\"white\",\"minorgridcolor\":\"white\",\"startlinecolor\":\"#2a3f5f\"},\"type\":\"carpet\"}],\"choropleth\":[{\"colorbar\":{\"outlinewidth\":0,\"ticks\":\"\"},\"type\":\"choropleth\"}],\"contour\":[{\"colorbar\":{\"outlinewidth\":0,\"ticks\":\"\"},\"colorscale\":[[0.0,\"#0d0887\"],[0.1111111111111111,\"#46039f\"],[0.2222222222222222,\"#7201a8\"],[0.3333333333333333,\"#9c179e\"],[0.4444444444444444,\"#bd3786\"],[0.5555555555555556,\"#d8576b\"],[0.6666666666666666,\"#ed7953\"],[0.7777777777777778,\"#fb9f3a\"],[0.8888888888888888,\"#fdca26\"],[1.0,\"#f0f921\"]],\"type\":\"contour\"}],\"contourcarpet\":[{\"colorbar\":{\"outlinewidth\":0,\"ticks\":\"\"},\"type\":\"contourcarpet\"}],\"heatmap\":[{\"colorbar\":{\"outlinewidth\":0,\"ticks\":\"\"},\"colorscale\":[[0.0,\"#0d0887\"],[0.1111111111111111,\"#46039f\"],[0.2222222222222222,\"#7201a8\"],[0.3333333333333333,\"#9c179e\"],[0.4444444444444444,\"#bd3786\"],[0.5555555555555556,\"#d8576b\"],[0.6666666666666666,\"#ed7953\"],[0.7777777777777778,\"#fb9f3a\"],[0.8888888888888888,\"#fdca26\"],[1.0,\"#f0f921\"]],\"type\":\"heatmap\"}],\"heatmapgl\":[{\"colorbar\":{\"outlinewidth\":0,\"ticks\":\"\"},\"colorscale\":[[0.0,\"#0d0887\"],[0.1111111111111111,\"#46039f\"],[0.2222222222222222,\"#7201a8\"],[0.3333333333333333,\"#9c179e\"],[0.4444444444444444,\"#bd3786\"],[0.5555555555555556,\"#d8576b\"],[0.6666666666666666,\"#ed7953\"],[0.7777777777777778,\"#fb9f3a\"],[0.8888888888888888,\"#fdca26\"],[1.0,\"#f0f921\"]],\"type\":\"heatmapgl\"}],\"histogram\":[{\"marker\":{\"pattern\":{\"fillmode\":\"overlay\",\"size\":10,\"solidity\":0.2}},\"type\":\"histogram\"}],\"histogram2d\":[{\"colorbar\":{\"outlinewidth\":0,\"ticks\":\"\"},\"colorscale\":[[0.0,\"#0d0887\"],[0.1111111111111111,\"#46039f\"],[0.2222222222222222,\"#7201a8\"],[0.3333333333333333,\"#9c179e\"],[0.4444444444444444,\"#bd3786\"],[0.5555555555555556,\"#d8576b\"],[0.6666666666666666,\"#ed7953\"],[0.7777777777777778,\"#fb9f3a\"],[0.8888888888888888,\"#fdca26\"],[1.0,\"#f0f921\"]],\"type\":\"histogram2d\"}],\"histogram2dcontour\":[{\"colorbar\":{\"outlinewidth\":0,\"ticks\":\"\"},\"colorscale\":[[0.0,\"#0d0887\"],[0.1111111111111111,\"#46039f\"],[0.2222222222222222,\"#7201a8\"],[0.3333333333333333,\"#9c179e\"],[0.4444444444444444,\"#bd3786\"],[0.5555555555555556,\"#d8576b\"],[0.6666666666666666,\"#ed7953\"],[0.7777777777777778,\"#fb9f3a\"],[0.8888888888888888,\"#fdca26\"],[1.0,\"#f0f921\"]],\"type\":\"histogram2dcontour\"}],\"mesh3d\":[{\"colorbar\":{\"outlinewidth\":0,\"ticks\":\"\"},\"type\":\"mesh3d\"}],\"parcoords\":[{\"line\":{\"colorbar\":{\"outlinewidth\":0,\"ticks\":\"\"}},\"type\":\"parcoords\"}],\"pie\":[{\"automargin\":true,\"type\":\"pie\"}],\"scatter\":[{\"marker\":{\"colorbar\":{\"outlinewidth\":0,\"ticks\":\"\"}},\"type\":\"scatter\"}],\"scatter3d\":[{\"line\":{\"colorbar\":{\"outlinewidth\":0,\"ticks\":\"\"}},\"marker\":{\"colorbar\":{\"outlinewidth\":0,\"ticks\":\"\"}},\"type\":\"scatter3d\"}],\"scattercarpet\":[{\"marker\":{\"colorbar\":{\"outlinewidth\":0,\"ticks\":\"\"}},\"type\":\"scattercarpet\"}],\"scattergeo\":[{\"marker\":{\"colorbar\":{\"outlinewidth\":0,\"ticks\":\"\"}},\"type\":\"scattergeo\"}],\"scattergl\":[{\"marker\":{\"colorbar\":{\"outlinewidth\":0,\"ticks\":\"\"}},\"type\":\"scattergl\"}],\"scattermapbox\":[{\"marker\":{\"colorbar\":{\"outlinewidth\":0,\"ticks\":\"\"}},\"type\":\"scattermapbox\"}],\"scatterpolar\":[{\"marker\":{\"colorbar\":{\"outlinewidth\":0,\"ticks\":\"\"}},\"type\":\"scatterpolar\"}],\"scatterpolargl\":[{\"marker\":{\"colorbar\":{\"outlinewidth\":0,\"ticks\":\"\"}},\"type\":\"scatterpolargl\"}],\"scatterternary\":[{\"marker\":{\"colorbar\":{\"outlinewidth\":0,\"ticks\":\"\"}},\"type\":\"scatterternary\"}],\"surface\":[{\"colorbar\":{\"outlinewidth\":0,\"ticks\":\"\"},\"colorscale\":[[0.0,\"#0d0887\"],[0.1111111111111111,\"#46039f\"],[0.2222222222222222,\"#7201a8\"],[0.3333333333333333,\"#9c179e\"],[0.4444444444444444,\"#bd3786\"],[0.5555555555555556,\"#d8576b\"],[0.6666666666666666,\"#ed7953\"],[0.7777777777777778,\"#fb9f3a\"],[0.8888888888888888,\"#fdca26\"],[1.0,\"#f0f921\"]],\"type\":\"surface\"}],\"table\":[{\"cells\":{\"fill\":{\"color\":\"#EBF0F8\"},\"line\":{\"color\":\"white\"}},\"header\":{\"fill\":{\"color\":\"#C8D4E3\"},\"line\":{\"color\":\"white\"}},\"type\":\"table\"}]},\"layout\":{\"annotationdefaults\":{\"arrowcolor\":\"#2a3f5f\",\"arrowhead\":0,\"arrowwidth\":1},\"autotypenumbers\":\"strict\",\"coloraxis\":{\"colorbar\":{\"outlinewidth\":0,\"ticks\":\"\"}},\"colorscale\":{\"diverging\":[[0,\"#8e0152\"],[0.1,\"#c51b7d\"],[0.2,\"#de77ae\"],[0.3,\"#f1b6da\"],[0.4,\"#fde0ef\"],[0.5,\"#f7f7f7\"],[0.6,\"#e6f5d0\"],[0.7,\"#b8e186\"],[0.8,\"#7fbc41\"],[0.9,\"#4d9221\"],[1,\"#276419\"]],\"sequential\":[[0.0,\"#0d0887\"],[0.1111111111111111,\"#46039f\"],[0.2222222222222222,\"#7201a8\"],[0.3333333333333333,\"#9c179e\"],[0.4444444444444444,\"#bd3786\"],[0.5555555555555556,\"#d8576b\"],[0.6666666666666666,\"#ed7953\"],[0.7777777777777778,\"#fb9f3a\"],[0.8888888888888888,\"#fdca26\"],[1.0,\"#f0f921\"]],\"sequentialminus\":[[0.0,\"#0d0887\"],[0.1111111111111111,\"#46039f\"],[0.2222222222222222,\"#7201a8\"],[0.3333333333333333,\"#9c179e\"],[0.4444444444444444,\"#bd3786\"],[0.5555555555555556,\"#d8576b\"],[0.6666666666666666,\"#ed7953\"],[0.7777777777777778,\"#fb9f3a\"],[0.8888888888888888,\"#fdca26\"],[1.0,\"#f0f921\"]]},\"colorway\":[\"#636efa\",\"#EF553B\",\"#00cc96\",\"#ab63fa\",\"#FFA15A\",\"#19d3f3\",\"#FF6692\",\"#B6E880\",\"#FF97FF\",\"#FECB52\"],\"font\":{\"color\":\"#2a3f5f\"},\"geo\":{\"bgcolor\":\"white\",\"lakecolor\":\"white\",\"landcolor\":\"#E5ECF6\",\"showlakes\":true,\"showland\":true,\"subunitcolor\":\"white\"},\"hoverlabel\":{\"align\":\"left\"},\"hovermode\":\"closest\",\"mapbox\":{\"style\":\"light\"},\"paper_bgcolor\":\"white\",\"plot_bgcolor\":\"#E5ECF6\",\"polar\":{\"angularaxis\":{\"gridcolor\":\"white\",\"linecolor\":\"white\",\"ticks\":\"\"},\"bgcolor\":\"#E5ECF6\",\"radialaxis\":{\"gridcolor\":\"white\",\"linecolor\":\"white\",\"ticks\":\"\"}},\"scene\":{\"xaxis\":{\"backgroundcolor\":\"#E5ECF6\",\"gridcolor\":\"white\",\"gridwidth\":2,\"linecolor\":\"white\",\"showbackground\":true,\"ticks\":\"\",\"zerolinecolor\":\"white\"},\"yaxis\":{\"backgroundcolor\":\"#E5ECF6\",\"gridcolor\":\"white\",\"gridwidth\":2,\"linecolor\":\"white\",\"showbackground\":true,\"ticks\":\"\",\"zerolinecolor\":\"white\"},\"zaxis\":{\"backgroundcolor\":\"#E5ECF6\",\"gridcolor\":\"white\",\"gridwidth\":2,\"linecolor\":\"white\",\"showbackground\":true,\"ticks\":\"\",\"zerolinecolor\":\"white\"}},\"shapedefaults\":{\"line\":{\"color\":\"#2a3f5f\"}},\"ternary\":{\"aaxis\":{\"gridcolor\":\"white\",\"linecolor\":\"white\",\"ticks\":\"\"},\"baxis\":{\"gridcolor\":\"white\",\"linecolor\":\"white\",\"ticks\":\"\"},\"bgcolor\":\"#E5ECF6\",\"caxis\":{\"gridcolor\":\"white\",\"linecolor\":\"white\",\"ticks\":\"\"}},\"title\":{\"x\":0.05},\"xaxis\":{\"automargin\":true,\"gridcolor\":\"white\",\"linecolor\":\"white\",\"ticks\":\"\",\"title\":{\"standoff\":15},\"zerolinecolor\":\"white\",\"zerolinewidth\":2},\"yaxis\":{\"automargin\":true,\"gridcolor\":\"white\",\"linecolor\":\"white\",\"ticks\":\"\",\"title\":{\"standoff\":15},\"zerolinecolor\":\"white\",\"zerolinewidth\":2}}},\"legend\":{\"tracegroupgap\":0},\"title\":{\"text\":\"50 Most Common Words In Positive Tweets\"}},                        {\"responsive\": true}                    ).then(function(){\n",
              "                            \n",
              "var gd = document.getElementById('cce7edf1-a702-48e0-8957-4b986ce28302');\n",
              "var x = new MutationObserver(function (mutations, observer) {{\n",
              "        var display = window.getComputedStyle(gd).display;\n",
              "        if (!display || display === 'none') {{\n",
              "            console.log([gd, 'removed!']);\n",
              "            Plotly.purge(gd);\n",
              "            observer.disconnect();\n",
              "        }}\n",
              "}});\n",
              "\n",
              "// Listen for the removal of the full notebook cells\n",
              "var notebookContainer = gd.closest('#notebook-container');\n",
              "if (notebookContainer) {{\n",
              "    x.observe(notebookContainer, {childList: true});\n",
              "}}\n",
              "\n",
              "// Listen for the clearing of the current output cell\n",
              "var outputEl = gd.closest('.output');\n",
              "if (outputEl) {{\n",
              "    x.observe(outputEl, {childList: true});\n",
              "}}\n",
              "\n",
              "                        })                };                            </script>        </div>\n",
              "</body>\n",
              "</html>"
            ]
          },
          "metadata": {}
        }
      ]
    },
    {
      "cell_type": "code",
      "source": [
        "# 50 most common negative words\n",
        "\n",
        "all_negative_words=[]\n",
        "for i in range(len(Negative_tweet['lemmatized'])):\n",
        "    a=Negative_tweet['lemmatized'][i]\n",
        "    for i in a:\n",
        "        all_negative_words.append(i)\n",
        "all_negative_words=pd.Series(np.array(all_negative_words))\n",
        "common_words=all_negative_words.value_counts()[:50].rename_axis('Common Negative Words').reset_index(name='count')\n",
        "fig = ex.treemap(common_words, path=['Common Negative Words'], values='count',title='50 Most Common Words In Negative Tweets')\n",
        "fig.show()"
      ],
      "metadata": {
        "colab": {
          "base_uri": "https://localhost:8080/",
          "height": 542
        },
        "id": "U-G-JbedsXeK",
        "outputId": "c387f7d2-4fef-4187-f0cf-337f7cd06b8f"
      },
      "execution_count": 49,
      "outputs": [
        {
          "output_type": "display_data",
          "data": {
            "text/html": [
              "<html>\n",
              "<head><meta charset=\"utf-8\" /></head>\n",
              "<body>\n",
              "    <div>            <script src=\"https://cdnjs.cloudflare.com/ajax/libs/mathjax/2.7.5/MathJax.js?config=TeX-AMS-MML_SVG\"></script><script type=\"text/javascript\">if (window.MathJax) {MathJax.Hub.Config({SVG: {font: \"STIX-Web\"}});}</script>                <script type=\"text/javascript\">window.PlotlyConfig = {MathJaxConfig: 'local'};</script>\n",
              "        <script src=\"https://cdn.plot.ly/plotly-2.8.3.min.js\"></script>                <div id=\"b0c76726-24ae-4d4c-a78d-3ce0127f24e3\" class=\"plotly-graph-div\" style=\"height:525px; width:100%;\"></div>            <script type=\"text/javascript\">                                    window.PLOTLYENV=window.PLOTLYENV || {};                                    if (document.getElementById(\"b0c76726-24ae-4d4c-a78d-3ce0127f24e3\")) {                    Plotly.newPlot(                        \"b0c76726-24ae-4d4c-a78d-3ce0127f24e3\",                        [{\"branchvalues\":\"total\",\"domain\":{\"x\":[0.0,1.0],\"y\":[0.0,1.0]},\"hovertemplate\":\"labels=%{label}<br>count=%{value}<br>parent=%{parent}<br>id=%{id}<extra></extra>\",\"ids\":[\"\",\"amp\",\"authorisation\",\"bad\",\"country\",\"covaxin\",\"covid\",\"crisis\",\"day\",\"death\",\"delay\",\"delayed\",\"die\",\"emergency\",\"failed\",\"fake\",\"fear\",\"fight\",\"fuck\",\"get\",\"getting\",\"hell\",\"india\",\"indian\",\"killed\",\"make\",\"news\",\"panic\",\"people\",\"poor\",\"problem\",\"reject\",\"rejected\",\"restricted\",\"risk\",\"s\",\"say\",\"serious\",\"severe\",\"shame\",\"shortage\",\"sick\",\"stop\",\"take\",\"u\",\"use\",\"vaccinated\",\"vaccination\",\"vaccine\",\"worry\"],\"labels\":[\"\",\"amp\",\"authorisation\",\"bad\",\"country\",\"covaxin\",\"covid\",\"crisis\",\"day\",\"death\",\"delay\",\"delayed\",\"die\",\"emergency\",\"failed\",\"fake\",\"fear\",\"fight\",\"fuck\",\"get\",\"getting\",\"hell\",\"india\",\"indian\",\"killed\",\"make\",\"news\",\"panic\",\"people\",\"poor\",\"problem\",\"reject\",\"rejected\",\"restricted\",\"risk\",\"s\",\"say\",\"serious\",\"severe\",\"shame\",\"shortage\",\"sick\",\"stop\",\"take\",\"u\",\"use\",\"vaccinated\",\"vaccination\",\"vaccine\",\"worry\"],\"name\":\"\",\"parents\":[\"\",\"\",\"\",\"\",\"\",\"\",\"\",\"\",\"\",\"\",\"\",\"\",\"\",\"\",\"\",\"\",\"\",\"\",\"\",\"\",\"\",\"\",\"\",\"\",\"\",\"\",\"\",\"\",\"\",\"\",\"\",\"\",\"\",\"\",\"\",\"\",\"\",\"\",\"\",\"\",\"\",\"\",\"\",\"\",\"\",\"\",\"\",\"\",\"\",\"\"],\"values\":[151,10,8,6,8,6,15,5,6,6,10,5,6,23,8,9,10,8,6,14,7,6,17,6,6,6,6,6,13,6,7,10,6,5,6,18,8,7,6,9,9,5,16,11,10,21,7,7,39,6],\"type\":\"treemap\"}],                        {\"template\":{\"data\":{\"bar\":[{\"error_x\":{\"color\":\"#2a3f5f\"},\"error_y\":{\"color\":\"#2a3f5f\"},\"marker\":{\"line\":{\"color\":\"#E5ECF6\",\"width\":0.5},\"pattern\":{\"fillmode\":\"overlay\",\"size\":10,\"solidity\":0.2}},\"type\":\"bar\"}],\"barpolar\":[{\"marker\":{\"line\":{\"color\":\"#E5ECF6\",\"width\":0.5},\"pattern\":{\"fillmode\":\"overlay\",\"size\":10,\"solidity\":0.2}},\"type\":\"barpolar\"}],\"carpet\":[{\"aaxis\":{\"endlinecolor\":\"#2a3f5f\",\"gridcolor\":\"white\",\"linecolor\":\"white\",\"minorgridcolor\":\"white\",\"startlinecolor\":\"#2a3f5f\"},\"baxis\":{\"endlinecolor\":\"#2a3f5f\",\"gridcolor\":\"white\",\"linecolor\":\"white\",\"minorgridcolor\":\"white\",\"startlinecolor\":\"#2a3f5f\"},\"type\":\"carpet\"}],\"choropleth\":[{\"colorbar\":{\"outlinewidth\":0,\"ticks\":\"\"},\"type\":\"choropleth\"}],\"contour\":[{\"colorbar\":{\"outlinewidth\":0,\"ticks\":\"\"},\"colorscale\":[[0.0,\"#0d0887\"],[0.1111111111111111,\"#46039f\"],[0.2222222222222222,\"#7201a8\"],[0.3333333333333333,\"#9c179e\"],[0.4444444444444444,\"#bd3786\"],[0.5555555555555556,\"#d8576b\"],[0.6666666666666666,\"#ed7953\"],[0.7777777777777778,\"#fb9f3a\"],[0.8888888888888888,\"#fdca26\"],[1.0,\"#f0f921\"]],\"type\":\"contour\"}],\"contourcarpet\":[{\"colorbar\":{\"outlinewidth\":0,\"ticks\":\"\"},\"type\":\"contourcarpet\"}],\"heatmap\":[{\"colorbar\":{\"outlinewidth\":0,\"ticks\":\"\"},\"colorscale\":[[0.0,\"#0d0887\"],[0.1111111111111111,\"#46039f\"],[0.2222222222222222,\"#7201a8\"],[0.3333333333333333,\"#9c179e\"],[0.4444444444444444,\"#bd3786\"],[0.5555555555555556,\"#d8576b\"],[0.6666666666666666,\"#ed7953\"],[0.7777777777777778,\"#fb9f3a\"],[0.8888888888888888,\"#fdca26\"],[1.0,\"#f0f921\"]],\"type\":\"heatmap\"}],\"heatmapgl\":[{\"colorbar\":{\"outlinewidth\":0,\"ticks\":\"\"},\"colorscale\":[[0.0,\"#0d0887\"],[0.1111111111111111,\"#46039f\"],[0.2222222222222222,\"#7201a8\"],[0.3333333333333333,\"#9c179e\"],[0.4444444444444444,\"#bd3786\"],[0.5555555555555556,\"#d8576b\"],[0.6666666666666666,\"#ed7953\"],[0.7777777777777778,\"#fb9f3a\"],[0.8888888888888888,\"#fdca26\"],[1.0,\"#f0f921\"]],\"type\":\"heatmapgl\"}],\"histogram\":[{\"marker\":{\"pattern\":{\"fillmode\":\"overlay\",\"size\":10,\"solidity\":0.2}},\"type\":\"histogram\"}],\"histogram2d\":[{\"colorbar\":{\"outlinewidth\":0,\"ticks\":\"\"},\"colorscale\":[[0.0,\"#0d0887\"],[0.1111111111111111,\"#46039f\"],[0.2222222222222222,\"#7201a8\"],[0.3333333333333333,\"#9c179e\"],[0.4444444444444444,\"#bd3786\"],[0.5555555555555556,\"#d8576b\"],[0.6666666666666666,\"#ed7953\"],[0.7777777777777778,\"#fb9f3a\"],[0.8888888888888888,\"#fdca26\"],[1.0,\"#f0f921\"]],\"type\":\"histogram2d\"}],\"histogram2dcontour\":[{\"colorbar\":{\"outlinewidth\":0,\"ticks\":\"\"},\"colorscale\":[[0.0,\"#0d0887\"],[0.1111111111111111,\"#46039f\"],[0.2222222222222222,\"#7201a8\"],[0.3333333333333333,\"#9c179e\"],[0.4444444444444444,\"#bd3786\"],[0.5555555555555556,\"#d8576b\"],[0.6666666666666666,\"#ed7953\"],[0.7777777777777778,\"#fb9f3a\"],[0.8888888888888888,\"#fdca26\"],[1.0,\"#f0f921\"]],\"type\":\"histogram2dcontour\"}],\"mesh3d\":[{\"colorbar\":{\"outlinewidth\":0,\"ticks\":\"\"},\"type\":\"mesh3d\"}],\"parcoords\":[{\"line\":{\"colorbar\":{\"outlinewidth\":0,\"ticks\":\"\"}},\"type\":\"parcoords\"}],\"pie\":[{\"automargin\":true,\"type\":\"pie\"}],\"scatter\":[{\"marker\":{\"colorbar\":{\"outlinewidth\":0,\"ticks\":\"\"}},\"type\":\"scatter\"}],\"scatter3d\":[{\"line\":{\"colorbar\":{\"outlinewidth\":0,\"ticks\":\"\"}},\"marker\":{\"colorbar\":{\"outlinewidth\":0,\"ticks\":\"\"}},\"type\":\"scatter3d\"}],\"scattercarpet\":[{\"marker\":{\"colorbar\":{\"outlinewidth\":0,\"ticks\":\"\"}},\"type\":\"scattercarpet\"}],\"scattergeo\":[{\"marker\":{\"colorbar\":{\"outlinewidth\":0,\"ticks\":\"\"}},\"type\":\"scattergeo\"}],\"scattergl\":[{\"marker\":{\"colorbar\":{\"outlinewidth\":0,\"ticks\":\"\"}},\"type\":\"scattergl\"}],\"scattermapbox\":[{\"marker\":{\"colorbar\":{\"outlinewidth\":0,\"ticks\":\"\"}},\"type\":\"scattermapbox\"}],\"scatterpolar\":[{\"marker\":{\"colorbar\":{\"outlinewidth\":0,\"ticks\":\"\"}},\"type\":\"scatterpolar\"}],\"scatterpolargl\":[{\"marker\":{\"colorbar\":{\"outlinewidth\":0,\"ticks\":\"\"}},\"type\":\"scatterpolargl\"}],\"scatterternary\":[{\"marker\":{\"colorbar\":{\"outlinewidth\":0,\"ticks\":\"\"}},\"type\":\"scatterternary\"}],\"surface\":[{\"colorbar\":{\"outlinewidth\":0,\"ticks\":\"\"},\"colorscale\":[[0.0,\"#0d0887\"],[0.1111111111111111,\"#46039f\"],[0.2222222222222222,\"#7201a8\"],[0.3333333333333333,\"#9c179e\"],[0.4444444444444444,\"#bd3786\"],[0.5555555555555556,\"#d8576b\"],[0.6666666666666666,\"#ed7953\"],[0.7777777777777778,\"#fb9f3a\"],[0.8888888888888888,\"#fdca26\"],[1.0,\"#f0f921\"]],\"type\":\"surface\"}],\"table\":[{\"cells\":{\"fill\":{\"color\":\"#EBF0F8\"},\"line\":{\"color\":\"white\"}},\"header\":{\"fill\":{\"color\":\"#C8D4E3\"},\"line\":{\"color\":\"white\"}},\"type\":\"table\"}]},\"layout\":{\"annotationdefaults\":{\"arrowcolor\":\"#2a3f5f\",\"arrowhead\":0,\"arrowwidth\":1},\"autotypenumbers\":\"strict\",\"coloraxis\":{\"colorbar\":{\"outlinewidth\":0,\"ticks\":\"\"}},\"colorscale\":{\"diverging\":[[0,\"#8e0152\"],[0.1,\"#c51b7d\"],[0.2,\"#de77ae\"],[0.3,\"#f1b6da\"],[0.4,\"#fde0ef\"],[0.5,\"#f7f7f7\"],[0.6,\"#e6f5d0\"],[0.7,\"#b8e186\"],[0.8,\"#7fbc41\"],[0.9,\"#4d9221\"],[1,\"#276419\"]],\"sequential\":[[0.0,\"#0d0887\"],[0.1111111111111111,\"#46039f\"],[0.2222222222222222,\"#7201a8\"],[0.3333333333333333,\"#9c179e\"],[0.4444444444444444,\"#bd3786\"],[0.5555555555555556,\"#d8576b\"],[0.6666666666666666,\"#ed7953\"],[0.7777777777777778,\"#fb9f3a\"],[0.8888888888888888,\"#fdca26\"],[1.0,\"#f0f921\"]],\"sequentialminus\":[[0.0,\"#0d0887\"],[0.1111111111111111,\"#46039f\"],[0.2222222222222222,\"#7201a8\"],[0.3333333333333333,\"#9c179e\"],[0.4444444444444444,\"#bd3786\"],[0.5555555555555556,\"#d8576b\"],[0.6666666666666666,\"#ed7953\"],[0.7777777777777778,\"#fb9f3a\"],[0.8888888888888888,\"#fdca26\"],[1.0,\"#f0f921\"]]},\"colorway\":[\"#636efa\",\"#EF553B\",\"#00cc96\",\"#ab63fa\",\"#FFA15A\",\"#19d3f3\",\"#FF6692\",\"#B6E880\",\"#FF97FF\",\"#FECB52\"],\"font\":{\"color\":\"#2a3f5f\"},\"geo\":{\"bgcolor\":\"white\",\"lakecolor\":\"white\",\"landcolor\":\"#E5ECF6\",\"showlakes\":true,\"showland\":true,\"subunitcolor\":\"white\"},\"hoverlabel\":{\"align\":\"left\"},\"hovermode\":\"closest\",\"mapbox\":{\"style\":\"light\"},\"paper_bgcolor\":\"white\",\"plot_bgcolor\":\"#E5ECF6\",\"polar\":{\"angularaxis\":{\"gridcolor\":\"white\",\"linecolor\":\"white\",\"ticks\":\"\"},\"bgcolor\":\"#E5ECF6\",\"radialaxis\":{\"gridcolor\":\"white\",\"linecolor\":\"white\",\"ticks\":\"\"}},\"scene\":{\"xaxis\":{\"backgroundcolor\":\"#E5ECF6\",\"gridcolor\":\"white\",\"gridwidth\":2,\"linecolor\":\"white\",\"showbackground\":true,\"ticks\":\"\",\"zerolinecolor\":\"white\"},\"yaxis\":{\"backgroundcolor\":\"#E5ECF6\",\"gridcolor\":\"white\",\"gridwidth\":2,\"linecolor\":\"white\",\"showbackground\":true,\"ticks\":\"\",\"zerolinecolor\":\"white\"},\"zaxis\":{\"backgroundcolor\":\"#E5ECF6\",\"gridcolor\":\"white\",\"gridwidth\":2,\"linecolor\":\"white\",\"showbackground\":true,\"ticks\":\"\",\"zerolinecolor\":\"white\"}},\"shapedefaults\":{\"line\":{\"color\":\"#2a3f5f\"}},\"ternary\":{\"aaxis\":{\"gridcolor\":\"white\",\"linecolor\":\"white\",\"ticks\":\"\"},\"baxis\":{\"gridcolor\":\"white\",\"linecolor\":\"white\",\"ticks\":\"\"},\"bgcolor\":\"#E5ECF6\",\"caxis\":{\"gridcolor\":\"white\",\"linecolor\":\"white\",\"ticks\":\"\"}},\"title\":{\"x\":0.05},\"xaxis\":{\"automargin\":true,\"gridcolor\":\"white\",\"linecolor\":\"white\",\"ticks\":\"\",\"title\":{\"standoff\":15},\"zerolinecolor\":\"white\",\"zerolinewidth\":2},\"yaxis\":{\"automargin\":true,\"gridcolor\":\"white\",\"linecolor\":\"white\",\"ticks\":\"\",\"title\":{\"standoff\":15},\"zerolinecolor\":\"white\",\"zerolinewidth\":2}}},\"legend\":{\"tracegroupgap\":0},\"title\":{\"text\":\"50 Most Common Words In Negative Tweets\"}},                        {\"responsive\": true}                    ).then(function(){\n",
              "                            \n",
              "var gd = document.getElementById('b0c76726-24ae-4d4c-a78d-3ce0127f24e3');\n",
              "var x = new MutationObserver(function (mutations, observer) {{\n",
              "        var display = window.getComputedStyle(gd).display;\n",
              "        if (!display || display === 'none') {{\n",
              "            console.log([gd, 'removed!']);\n",
              "            Plotly.purge(gd);\n",
              "            observer.disconnect();\n",
              "        }}\n",
              "}});\n",
              "\n",
              "// Listen for the removal of the full notebook cells\n",
              "var notebookContainer = gd.closest('#notebook-container');\n",
              "if (notebookContainer) {{\n",
              "    x.observe(notebookContainer, {childList: true});\n",
              "}}\n",
              "\n",
              "// Listen for the clearing of the current output cell\n",
              "var outputEl = gd.closest('.output');\n",
              "if (outputEl) {{\n",
              "    x.observe(outputEl, {childList: true});\n",
              "}}\n",
              "\n",
              "                        })                };                            </script>        </div>\n",
              "</body>\n",
              "</html>"
            ]
          },
          "metadata": {}
        }
      ]
    },
    {
      "cell_type": "code",
      "source": [
        "# 50 most common neutral words\n",
        "\n",
        "all_neutral_words=[]\n",
        "for i in range(len(Neutral_tweet['lemmatized'])):\n",
        "    a=Neutral_tweet['lemmatized'][i]\n",
        "    for i in a:\n",
        "        all_neutral_words.append(i)\n",
        "all_neutral_words=pd.Series(np.array(all_neutral_words))\n",
        "common_words=all_neutral_words.value_counts()[:50].rename_axis('Common Neutral Words').reset_index(name='count')\n",
        "fig = ex.treemap(common_words, path=['Common Neutral Words'], values='count',title='50 Most Common Words In Neutral Tweets')\n",
        "fig.show()"
      ],
      "metadata": {
        "colab": {
          "base_uri": "https://localhost:8080/",
          "height": 542
        },
        "id": "YHV7cwDMsXiZ",
        "outputId": "a4928e19-43de-4be9-92ee-933d13844224"
      },
      "execution_count": 50,
      "outputs": [
        {
          "output_type": "display_data",
          "data": {
            "text/html": [
              "<html>\n",
              "<head><meta charset=\"utf-8\" /></head>\n",
              "<body>\n",
              "    <div>            <script src=\"https://cdnjs.cloudflare.com/ajax/libs/mathjax/2.7.5/MathJax.js?config=TeX-AMS-MML_SVG\"></script><script type=\"text/javascript\">if (window.MathJax) {MathJax.Hub.Config({SVG: {font: \"STIX-Web\"}});}</script>                <script type=\"text/javascript\">window.PlotlyConfig = {MathJaxConfig: 'local'};</script>\n",
              "        <script src=\"https://cdn.plot.ly/plotly-2.8.3.min.js\"></script>                <div id=\"d46f5352-b81a-408d-965c-f501af0e6dff\" class=\"plotly-graph-div\" style=\"height:525px; width:100%;\"></div>            <script type=\"text/javascript\">                                    window.PLOTLYENV=window.PLOTLYENV || {};                                    if (document.getElementById(\"d46f5352-b81a-408d-965c-f501af0e6dff\")) {                    Plotly.newPlot(                        \"d46f5352-b81a-408d-965c-f501af0e6dff\",                        [{\"branchvalues\":\"total\",\"domain\":{\"x\":[0.0,1.0],\"y\":[0.0,1.0]},\"hovertemplate\":\"labels=%{label}<br>count=%{value}<br>parent=%{parent}<br>id=%{id}<extra></extra>\",\"ids\":[\"\",\"age\",\"all\",\"am\",\"amp\",\"apollo\",\"approval\",\"approved\",\"aug\",\"availability\",\"available\",\"bharat\",\"biotech\",\"covaxin\",\"covid\",\"date\",\"dos\",\"dose\",\"dr\",\"emergency\",\"fee\",\"first\",\"free\",\"get\",\"got\",\"ho\",\"hospital\",\"india\",\"indian\",\"jul\",\"million\",\"nd\",\"oct\",\"paid\",\"people\",\"pincode\",\"pm\",\"s\",\"say\",\"second\",\"sep\",\"slot\",\"sputnik\",\"st\",\"today\",\"trial\",\"use\",\"vaccinated\",\"vaccination\",\"vaccine\"],\"labels\":[\"\",\"age\",\"all\",\"am\",\"amp\",\"apollo\",\"approval\",\"approved\",\"aug\",\"availability\",\"available\",\"bharat\",\"biotech\",\"covaxin\",\"covid\",\"date\",\"dos\",\"dose\",\"dr\",\"emergency\",\"fee\",\"first\",\"free\",\"get\",\"got\",\"ho\",\"hospital\",\"india\",\"indian\",\"jul\",\"million\",\"nd\",\"oct\",\"paid\",\"people\",\"pincode\",\"pm\",\"s\",\"say\",\"second\",\"sep\",\"slot\",\"sputnik\",\"st\",\"today\",\"trial\",\"use\",\"vaccinated\",\"vaccination\",\"vaccine\"],\"name\":\"\",\"parents\":[\"\",\"\",\"\",\"\",\"\",\"\",\"\",\"\",\"\",\"\",\"\",\"\",\"\",\"\",\"\",\"\",\"\",\"\",\"\",\"\",\"\",\"\",\"\",\"\",\"\",\"\",\"\",\"\",\"\",\"\",\"\",\"\",\"\",\"\",\"\",\"\",\"\",\"\",\"\",\"\",\"\",\"\",\"\",\"\",\"\",\"\",\"\",\"\",\"\",\"\"],\"values\":[35297,21527,8860,3013,1646,1589,880,855,3839,6714,893,1357,1309,13647,2833,11651,2236,26027,1179,883,11448,1881,7567,1772,1491,855,2255,3312,854,1758,950,1352,2074,3980,1111,12193,4250,1892,884,1079,4004,22999,1841,1209,1500,924,1186,1460,1547,8441],\"type\":\"treemap\"}],                        {\"template\":{\"data\":{\"bar\":[{\"error_x\":{\"color\":\"#2a3f5f\"},\"error_y\":{\"color\":\"#2a3f5f\"},\"marker\":{\"line\":{\"color\":\"#E5ECF6\",\"width\":0.5},\"pattern\":{\"fillmode\":\"overlay\",\"size\":10,\"solidity\":0.2}},\"type\":\"bar\"}],\"barpolar\":[{\"marker\":{\"line\":{\"color\":\"#E5ECF6\",\"width\":0.5},\"pattern\":{\"fillmode\":\"overlay\",\"size\":10,\"solidity\":0.2}},\"type\":\"barpolar\"}],\"carpet\":[{\"aaxis\":{\"endlinecolor\":\"#2a3f5f\",\"gridcolor\":\"white\",\"linecolor\":\"white\",\"minorgridcolor\":\"white\",\"startlinecolor\":\"#2a3f5f\"},\"baxis\":{\"endlinecolor\":\"#2a3f5f\",\"gridcolor\":\"white\",\"linecolor\":\"white\",\"minorgridcolor\":\"white\",\"startlinecolor\":\"#2a3f5f\"},\"type\":\"carpet\"}],\"choropleth\":[{\"colorbar\":{\"outlinewidth\":0,\"ticks\":\"\"},\"type\":\"choropleth\"}],\"contour\":[{\"colorbar\":{\"outlinewidth\":0,\"ticks\":\"\"},\"colorscale\":[[0.0,\"#0d0887\"],[0.1111111111111111,\"#46039f\"],[0.2222222222222222,\"#7201a8\"],[0.3333333333333333,\"#9c179e\"],[0.4444444444444444,\"#bd3786\"],[0.5555555555555556,\"#d8576b\"],[0.6666666666666666,\"#ed7953\"],[0.7777777777777778,\"#fb9f3a\"],[0.8888888888888888,\"#fdca26\"],[1.0,\"#f0f921\"]],\"type\":\"contour\"}],\"contourcarpet\":[{\"colorbar\":{\"outlinewidth\":0,\"ticks\":\"\"},\"type\":\"contourcarpet\"}],\"heatmap\":[{\"colorbar\":{\"outlinewidth\":0,\"ticks\":\"\"},\"colorscale\":[[0.0,\"#0d0887\"],[0.1111111111111111,\"#46039f\"],[0.2222222222222222,\"#7201a8\"],[0.3333333333333333,\"#9c179e\"],[0.4444444444444444,\"#bd3786\"],[0.5555555555555556,\"#d8576b\"],[0.6666666666666666,\"#ed7953\"],[0.7777777777777778,\"#fb9f3a\"],[0.8888888888888888,\"#fdca26\"],[1.0,\"#f0f921\"]],\"type\":\"heatmap\"}],\"heatmapgl\":[{\"colorbar\":{\"outlinewidth\":0,\"ticks\":\"\"},\"colorscale\":[[0.0,\"#0d0887\"],[0.1111111111111111,\"#46039f\"],[0.2222222222222222,\"#7201a8\"],[0.3333333333333333,\"#9c179e\"],[0.4444444444444444,\"#bd3786\"],[0.5555555555555556,\"#d8576b\"],[0.6666666666666666,\"#ed7953\"],[0.7777777777777778,\"#fb9f3a\"],[0.8888888888888888,\"#fdca26\"],[1.0,\"#f0f921\"]],\"type\":\"heatmapgl\"}],\"histogram\":[{\"marker\":{\"pattern\":{\"fillmode\":\"overlay\",\"size\":10,\"solidity\":0.2}},\"type\":\"histogram\"}],\"histogram2d\":[{\"colorbar\":{\"outlinewidth\":0,\"ticks\":\"\"},\"colorscale\":[[0.0,\"#0d0887\"],[0.1111111111111111,\"#46039f\"],[0.2222222222222222,\"#7201a8\"],[0.3333333333333333,\"#9c179e\"],[0.4444444444444444,\"#bd3786\"],[0.5555555555555556,\"#d8576b\"],[0.6666666666666666,\"#ed7953\"],[0.7777777777777778,\"#fb9f3a\"],[0.8888888888888888,\"#fdca26\"],[1.0,\"#f0f921\"]],\"type\":\"histogram2d\"}],\"histogram2dcontour\":[{\"colorbar\":{\"outlinewidth\":0,\"ticks\":\"\"},\"colorscale\":[[0.0,\"#0d0887\"],[0.1111111111111111,\"#46039f\"],[0.2222222222222222,\"#7201a8\"],[0.3333333333333333,\"#9c179e\"],[0.4444444444444444,\"#bd3786\"],[0.5555555555555556,\"#d8576b\"],[0.6666666666666666,\"#ed7953\"],[0.7777777777777778,\"#fb9f3a\"],[0.8888888888888888,\"#fdca26\"],[1.0,\"#f0f921\"]],\"type\":\"histogram2dcontour\"}],\"mesh3d\":[{\"colorbar\":{\"outlinewidth\":0,\"ticks\":\"\"},\"type\":\"mesh3d\"}],\"parcoords\":[{\"line\":{\"colorbar\":{\"outlinewidth\":0,\"ticks\":\"\"}},\"type\":\"parcoords\"}],\"pie\":[{\"automargin\":true,\"type\":\"pie\"}],\"scatter\":[{\"marker\":{\"colorbar\":{\"outlinewidth\":0,\"ticks\":\"\"}},\"type\":\"scatter\"}],\"scatter3d\":[{\"line\":{\"colorbar\":{\"outlinewidth\":0,\"ticks\":\"\"}},\"marker\":{\"colorbar\":{\"outlinewidth\":0,\"ticks\":\"\"}},\"type\":\"scatter3d\"}],\"scattercarpet\":[{\"marker\":{\"colorbar\":{\"outlinewidth\":0,\"ticks\":\"\"}},\"type\":\"scattercarpet\"}],\"scattergeo\":[{\"marker\":{\"colorbar\":{\"outlinewidth\":0,\"ticks\":\"\"}},\"type\":\"scattergeo\"}],\"scattergl\":[{\"marker\":{\"colorbar\":{\"outlinewidth\":0,\"ticks\":\"\"}},\"type\":\"scattergl\"}],\"scattermapbox\":[{\"marker\":{\"colorbar\":{\"outlinewidth\":0,\"ticks\":\"\"}},\"type\":\"scattermapbox\"}],\"scatterpolar\":[{\"marker\":{\"colorbar\":{\"outlinewidth\":0,\"ticks\":\"\"}},\"type\":\"scatterpolar\"}],\"scatterpolargl\":[{\"marker\":{\"colorbar\":{\"outlinewidth\":0,\"ticks\":\"\"}},\"type\":\"scatterpolargl\"}],\"scatterternary\":[{\"marker\":{\"colorbar\":{\"outlinewidth\":0,\"ticks\":\"\"}},\"type\":\"scatterternary\"}],\"surface\":[{\"colorbar\":{\"outlinewidth\":0,\"ticks\":\"\"},\"colorscale\":[[0.0,\"#0d0887\"],[0.1111111111111111,\"#46039f\"],[0.2222222222222222,\"#7201a8\"],[0.3333333333333333,\"#9c179e\"],[0.4444444444444444,\"#bd3786\"],[0.5555555555555556,\"#d8576b\"],[0.6666666666666666,\"#ed7953\"],[0.7777777777777778,\"#fb9f3a\"],[0.8888888888888888,\"#fdca26\"],[1.0,\"#f0f921\"]],\"type\":\"surface\"}],\"table\":[{\"cells\":{\"fill\":{\"color\":\"#EBF0F8\"},\"line\":{\"color\":\"white\"}},\"header\":{\"fill\":{\"color\":\"#C8D4E3\"},\"line\":{\"color\":\"white\"}},\"type\":\"table\"}]},\"layout\":{\"annotationdefaults\":{\"arrowcolor\":\"#2a3f5f\",\"arrowhead\":0,\"arrowwidth\":1},\"autotypenumbers\":\"strict\",\"coloraxis\":{\"colorbar\":{\"outlinewidth\":0,\"ticks\":\"\"}},\"colorscale\":{\"diverging\":[[0,\"#8e0152\"],[0.1,\"#c51b7d\"],[0.2,\"#de77ae\"],[0.3,\"#f1b6da\"],[0.4,\"#fde0ef\"],[0.5,\"#f7f7f7\"],[0.6,\"#e6f5d0\"],[0.7,\"#b8e186\"],[0.8,\"#7fbc41\"],[0.9,\"#4d9221\"],[1,\"#276419\"]],\"sequential\":[[0.0,\"#0d0887\"],[0.1111111111111111,\"#46039f\"],[0.2222222222222222,\"#7201a8\"],[0.3333333333333333,\"#9c179e\"],[0.4444444444444444,\"#bd3786\"],[0.5555555555555556,\"#d8576b\"],[0.6666666666666666,\"#ed7953\"],[0.7777777777777778,\"#fb9f3a\"],[0.8888888888888888,\"#fdca26\"],[1.0,\"#f0f921\"]],\"sequentialminus\":[[0.0,\"#0d0887\"],[0.1111111111111111,\"#46039f\"],[0.2222222222222222,\"#7201a8\"],[0.3333333333333333,\"#9c179e\"],[0.4444444444444444,\"#bd3786\"],[0.5555555555555556,\"#d8576b\"],[0.6666666666666666,\"#ed7953\"],[0.7777777777777778,\"#fb9f3a\"],[0.8888888888888888,\"#fdca26\"],[1.0,\"#f0f921\"]]},\"colorway\":[\"#636efa\",\"#EF553B\",\"#00cc96\",\"#ab63fa\",\"#FFA15A\",\"#19d3f3\",\"#FF6692\",\"#B6E880\",\"#FF97FF\",\"#FECB52\"],\"font\":{\"color\":\"#2a3f5f\"},\"geo\":{\"bgcolor\":\"white\",\"lakecolor\":\"white\",\"landcolor\":\"#E5ECF6\",\"showlakes\":true,\"showland\":true,\"subunitcolor\":\"white\"},\"hoverlabel\":{\"align\":\"left\"},\"hovermode\":\"closest\",\"mapbox\":{\"style\":\"light\"},\"paper_bgcolor\":\"white\",\"plot_bgcolor\":\"#E5ECF6\",\"polar\":{\"angularaxis\":{\"gridcolor\":\"white\",\"linecolor\":\"white\",\"ticks\":\"\"},\"bgcolor\":\"#E5ECF6\",\"radialaxis\":{\"gridcolor\":\"white\",\"linecolor\":\"white\",\"ticks\":\"\"}},\"scene\":{\"xaxis\":{\"backgroundcolor\":\"#E5ECF6\",\"gridcolor\":\"white\",\"gridwidth\":2,\"linecolor\":\"white\",\"showbackground\":true,\"ticks\":\"\",\"zerolinecolor\":\"white\"},\"yaxis\":{\"backgroundcolor\":\"#E5ECF6\",\"gridcolor\":\"white\",\"gridwidth\":2,\"linecolor\":\"white\",\"showbackground\":true,\"ticks\":\"\",\"zerolinecolor\":\"white\"},\"zaxis\":{\"backgroundcolor\":\"#E5ECF6\",\"gridcolor\":\"white\",\"gridwidth\":2,\"linecolor\":\"white\",\"showbackground\":true,\"ticks\":\"\",\"zerolinecolor\":\"white\"}},\"shapedefaults\":{\"line\":{\"color\":\"#2a3f5f\"}},\"ternary\":{\"aaxis\":{\"gridcolor\":\"white\",\"linecolor\":\"white\",\"ticks\":\"\"},\"baxis\":{\"gridcolor\":\"white\",\"linecolor\":\"white\",\"ticks\":\"\"},\"bgcolor\":\"#E5ECF6\",\"caxis\":{\"gridcolor\":\"white\",\"linecolor\":\"white\",\"ticks\":\"\"}},\"title\":{\"x\":0.05},\"xaxis\":{\"automargin\":true,\"gridcolor\":\"white\",\"linecolor\":\"white\",\"ticks\":\"\",\"title\":{\"standoff\":15},\"zerolinecolor\":\"white\",\"zerolinewidth\":2},\"yaxis\":{\"automargin\":true,\"gridcolor\":\"white\",\"linecolor\":\"white\",\"ticks\":\"\",\"title\":{\"standoff\":15},\"zerolinecolor\":\"white\",\"zerolinewidth\":2}}},\"legend\":{\"tracegroupgap\":0},\"title\":{\"text\":\"50 Most Common Words In Neutral Tweets\"}},                        {\"responsive\": true}                    ).then(function(){\n",
              "                            \n",
              "var gd = document.getElementById('d46f5352-b81a-408d-965c-f501af0e6dff');\n",
              "var x = new MutationObserver(function (mutations, observer) {{\n",
              "        var display = window.getComputedStyle(gd).display;\n",
              "        if (!display || display === 'none') {{\n",
              "            console.log([gd, 'removed!']);\n",
              "            Plotly.purge(gd);\n",
              "            observer.disconnect();\n",
              "        }}\n",
              "}});\n",
              "\n",
              "// Listen for the removal of the full notebook cells\n",
              "var notebookContainer = gd.closest('#notebook-container');\n",
              "if (notebookContainer) {{\n",
              "    x.observe(notebookContainer, {childList: true});\n",
              "}}\n",
              "\n",
              "// Listen for the clearing of the current output cell\n",
              "var outputEl = gd.closest('.output');\n",
              "if (outputEl) {{\n",
              "    x.observe(outputEl, {childList: true});\n",
              "}}\n",
              "\n",
              "                        })                };                            </script>        </div>\n",
              "</body>\n",
              "</html>"
            ]
          },
          "metadata": {}
        }
      ]
    },
    {
      "cell_type": "code",
      "source": [
        "from nltk.sentiment.vader import SentimentIntensityAnalyzer\n",
        "SIA = SentimentIntensityAnalyzer()\n",
        "\n",
        "vaccine_data[\"Positive Sentiment\"] = [SIA.polarity_scores(i)[\"pos\"] for i in vaccine_data[\"text\"]]\n",
        "vaccine_data[\"Neutral Sentiment\"] = [SIA.polarity_scores(j)[\"neu\"] for j in vaccine_data[\"text\"]]\n",
        "vaccine_data[\"Negative Sentiment\"] = [SIA.polarity_scores(k)[\"neg\"] for k in vaccine_data[\"text\"]]\n",
        "\n",
        "df1 = vaccine_data[[\"clean_text\", \"Positive Sentiment\",\"Neutral Sentiment\", \"Negative Sentiment\"]]\n",
        "df1.head()"
      ],
      "metadata": {
        "colab": {
          "base_uri": "https://localhost:8080/",
          "height": 206
        },
        "id": "8zvL8_susXtw",
        "outputId": "77758709-fe27-4d42-c00e-4f5ce1e9b824"
      },
      "execution_count": 51,
      "outputs": [
        {
          "output_type": "execute_result",
          "data": {
            "text/plain": [
              "                                          clean_text  Positive Sentiment  \\\n",
              "0  agency also released new information health ca...               0.211   \n",
              "1  us food drug administration fda granted emerge...               0.147   \n",
              "2                    i’ve never excited get vaccine                0.000   \n",
              "3                scientists husbandwife saving world               0.000   \n",
              "4  toronto receive ontarios st doses pfizer covid...               0.000   \n",
              "\n",
              "   Neutral Sentiment  Negative Sentiment  \n",
              "0              0.789               0.000  \n",
              "1              0.662               0.191  \n",
              "2              0.711               0.289  \n",
              "3              1.000               0.000  \n",
              "4              1.000               0.000  "
            ],
            "text/html": [
              "\n",
              "  <div id=\"df-3b0ddc15-3ade-4b2d-908f-dbaaf1b8b666\">\n",
              "    <div class=\"colab-df-container\">\n",
              "      <div>\n",
              "<style scoped>\n",
              "    .dataframe tbody tr th:only-of-type {\n",
              "        vertical-align: middle;\n",
              "    }\n",
              "\n",
              "    .dataframe tbody tr th {\n",
              "        vertical-align: top;\n",
              "    }\n",
              "\n",
              "    .dataframe thead th {\n",
              "        text-align: right;\n",
              "    }\n",
              "</style>\n",
              "<table border=\"1\" class=\"dataframe\">\n",
              "  <thead>\n",
              "    <tr style=\"text-align: right;\">\n",
              "      <th></th>\n",
              "      <th>clean_text</th>\n",
              "      <th>Positive Sentiment</th>\n",
              "      <th>Neutral Sentiment</th>\n",
              "      <th>Negative Sentiment</th>\n",
              "    </tr>\n",
              "  </thead>\n",
              "  <tbody>\n",
              "    <tr>\n",
              "      <th>0</th>\n",
              "      <td>agency also released new information health ca...</td>\n",
              "      <td>0.211</td>\n",
              "      <td>0.789</td>\n",
              "      <td>0.000</td>\n",
              "    </tr>\n",
              "    <tr>\n",
              "      <th>1</th>\n",
              "      <td>us food drug administration fda granted emerge...</td>\n",
              "      <td>0.147</td>\n",
              "      <td>0.662</td>\n",
              "      <td>0.191</td>\n",
              "    </tr>\n",
              "    <tr>\n",
              "      <th>2</th>\n",
              "      <td>i’ve never excited get vaccine</td>\n",
              "      <td>0.000</td>\n",
              "      <td>0.711</td>\n",
              "      <td>0.289</td>\n",
              "    </tr>\n",
              "    <tr>\n",
              "      <th>3</th>\n",
              "      <td>scientists husbandwife saving world</td>\n",
              "      <td>0.000</td>\n",
              "      <td>1.000</td>\n",
              "      <td>0.000</td>\n",
              "    </tr>\n",
              "    <tr>\n",
              "      <th>4</th>\n",
              "      <td>toronto receive ontarios st doses pfizer covid...</td>\n",
              "      <td>0.000</td>\n",
              "      <td>1.000</td>\n",
              "      <td>0.000</td>\n",
              "    </tr>\n",
              "  </tbody>\n",
              "</table>\n",
              "</div>\n",
              "      <button class=\"colab-df-convert\" onclick=\"convertToInteractive('df-3b0ddc15-3ade-4b2d-908f-dbaaf1b8b666')\"\n",
              "              title=\"Convert this dataframe to an interactive table.\"\n",
              "              style=\"display:none;\">\n",
              "        \n",
              "  <svg xmlns=\"http://www.w3.org/2000/svg\" height=\"24px\"viewBox=\"0 0 24 24\"\n",
              "       width=\"24px\">\n",
              "    <path d=\"M0 0h24v24H0V0z\" fill=\"none\"/>\n",
              "    <path d=\"M18.56 5.44l.94 2.06.94-2.06 2.06-.94-2.06-.94-.94-2.06-.94 2.06-2.06.94zm-11 1L8.5 8.5l.94-2.06 2.06-.94-2.06-.94L8.5 2.5l-.94 2.06-2.06.94zm10 10l.94 2.06.94-2.06 2.06-.94-2.06-.94-.94-2.06-.94 2.06-2.06.94z\"/><path d=\"M17.41 7.96l-1.37-1.37c-.4-.4-.92-.59-1.43-.59-.52 0-1.04.2-1.43.59L10.3 9.45l-7.72 7.72c-.78.78-.78 2.05 0 2.83L4 21.41c.39.39.9.59 1.41.59.51 0 1.02-.2 1.41-.59l7.78-7.78 2.81-2.81c.8-.78.8-2.07 0-2.86zM5.41 20L4 18.59l7.72-7.72 1.47 1.35L5.41 20z\"/>\n",
              "  </svg>\n",
              "      </button>\n",
              "      \n",
              "  <style>\n",
              "    .colab-df-container {\n",
              "      display:flex;\n",
              "      flex-wrap:wrap;\n",
              "      gap: 12px;\n",
              "    }\n",
              "\n",
              "    .colab-df-convert {\n",
              "      background-color: #E8F0FE;\n",
              "      border: none;\n",
              "      border-radius: 50%;\n",
              "      cursor: pointer;\n",
              "      display: none;\n",
              "      fill: #1967D2;\n",
              "      height: 32px;\n",
              "      padding: 0 0 0 0;\n",
              "      width: 32px;\n",
              "    }\n",
              "\n",
              "    .colab-df-convert:hover {\n",
              "      background-color: #E2EBFA;\n",
              "      box-shadow: 0px 1px 2px rgba(60, 64, 67, 0.3), 0px 1px 3px 1px rgba(60, 64, 67, 0.15);\n",
              "      fill: #174EA6;\n",
              "    }\n",
              "\n",
              "    [theme=dark] .colab-df-convert {\n",
              "      background-color: #3B4455;\n",
              "      fill: #D2E3FC;\n",
              "    }\n",
              "\n",
              "    [theme=dark] .colab-df-convert:hover {\n",
              "      background-color: #434B5C;\n",
              "      box-shadow: 0px 1px 3px 1px rgba(0, 0, 0, 0.15);\n",
              "      filter: drop-shadow(0px 1px 2px rgba(0, 0, 0, 0.3));\n",
              "      fill: #FFFFFF;\n",
              "    }\n",
              "  </style>\n",
              "\n",
              "      <script>\n",
              "        const buttonEl =\n",
              "          document.querySelector('#df-3b0ddc15-3ade-4b2d-908f-dbaaf1b8b666 button.colab-df-convert');\n",
              "        buttonEl.style.display =\n",
              "          google.colab.kernel.accessAllowed ? 'block' : 'none';\n",
              "\n",
              "        async function convertToInteractive(key) {\n",
              "          const element = document.querySelector('#df-3b0ddc15-3ade-4b2d-908f-dbaaf1b8b666');\n",
              "          const dataTable =\n",
              "            await google.colab.kernel.invokeFunction('convertToInteractive',\n",
              "                                                     [key], {});\n",
              "          if (!dataTable) return;\n",
              "\n",
              "          const docLinkHtml = 'Like what you see? Visit the ' +\n",
              "            '<a target=\"_blank\" href=https://colab.research.google.com/notebooks/data_table.ipynb>data table notebook</a>'\n",
              "            + ' to learn more about interactive tables.';\n",
              "          element.innerHTML = '';\n",
              "          dataTable['output_type'] = 'display_data';\n",
              "          await google.colab.output.renderOutput(dataTable, element);\n",
              "          const docLink = document.createElement('div');\n",
              "          docLink.innerHTML = docLinkHtml;\n",
              "          element.appendChild(docLink);\n",
              "        }\n",
              "      </script>\n",
              "    </div>\n",
              "  </div>\n",
              "  "
            ]
          },
          "metadata": {},
          "execution_count": 51
        }
      ]
    },
    {
      "cell_type": "code",
      "source": [
        "# sums of sentiment scores\n",
        "pos = sum(df1[\"Positive Sentiment\"])\n",
        "neu = sum(df1[\"Neutral Sentiment\"])\n",
        "neg = sum(df1[\"Negative Sentiment\"])\n",
        "\n",
        "# calculates sentiment score\n",
        "def sentiment_score(pos, neu, neg):\n",
        "    if (pos>neu) and (pos>neg):\n",
        "        print(\"Positive :)\")\n",
        "    elif (neu>pos) and (neu>neg):\n",
        "        print(\"Neutral :|\")\n",
        "    else:\n",
        "        print(\"Negative :(\")\n",
        "        \n",
        "sentiment_score(pos, neu, neg)"
      ],
      "metadata": {
        "colab": {
          "base_uri": "https://localhost:8080/"
        },
        "id": "BICkNq-esXxZ",
        "outputId": "46ff05ec-af19-4a04-836a-62ff8e5e05aa"
      },
      "execution_count": 52,
      "outputs": [
        {
          "output_type": "stream",
          "name": "stdout",
          "text": [
            "Neutral :|\n"
          ]
        }
      ]
    },
    {
      "cell_type": "code",
      "source": [
        "# counting positive, neutral and negative tweets\n",
        "\n",
        "sentiments_nltk = []\n",
        "\n",
        "for tweet in vaccine_data.text:\n",
        "     sentiment_dict = SIA.polarity_scores(tweet)\n",
        "     sentiment_dict.pop('compound', None)\n",
        "     sentiments_nltk.append(max(sentiment_dict , key=sentiment_dict.get))\n",
        "    \n",
        "vaccine_data['sentiment_nltk'] = sentiments_nltk\n",
        "vaccine_data['sentiment_nltk'].value_counts()"
      ],
      "metadata": {
        "colab": {
          "base_uri": "https://localhost:8080/"
        },
        "id": "QEHTSVo8sX0k",
        "outputId": "68ce782d-6f5e-4037-ec32-00def2374611"
      },
      "execution_count": 53,
      "outputs": [
        {
          "output_type": "execute_result",
          "data": {
            "text/plain": [
              "neu    46981\n",
              "pos     2254\n",
              "neg      690\n",
              "Name: sentiment_nltk, dtype: int64"
            ]
          },
          "metadata": {},
          "execution_count": 53
        }
      ]
    },
    {
      "cell_type": "code",
      "source": [],
      "metadata": {
        "colab": {
          "base_uri": "https://localhost:8080/"
        },
        "id": "wLmtKyhlxQOR",
        "outputId": "96d2c7ff-1876-4dd9-843f-5617170aec1c"
      },
      "execution_count": 54,
      "outputs": [
        {
          "output_type": "stream",
          "name": "stdout",
          "text": [
            "(49925,)\n",
            "(49925,)\n"
          ]
        }
      ]
    },
    {
      "cell_type": "markdown",
      "source": [
        "# ML Model"
      ],
      "metadata": {
        "id": "jMeRDy_Vx6QZ"
      }
    },
    {
      "cell_type": "code",
      "source": [
        "#training and testing dataset\n",
        "X = vaccine_data.text # get all the text in x variable\n",
        "y = vaccine_data.sentiment_nltk # get all the sentiments into y variable\n",
        "print(X.shape) #print shape of x\n",
        "print(y.shape) # print shape of y"
      ],
      "metadata": {
        "colab": {
          "base_uri": "https://localhost:8080/"
        },
        "id": "sa79uqHIxIqa",
        "outputId": "2ef97136-4897-4078-dd4d-50b12021fe30"
      },
      "execution_count": 55,
      "outputs": [
        {
          "output_type": "stream",
          "name": "stdout",
          "text": [
            "(49925,)\n",
            "(49925,)\n"
          ]
        }
      ]
    },
    {
      "cell_type": "code",
      "source": [
        "from sklearn.model_selection import train_test_split\n",
        "#from sklearn.cross_validation import train_test_split #from sklearn.cross_validation import train_test_split to split the data into training and tesing set\n",
        "X_train, X_test, y_train, y_test = train_test_split(X, y, test_size = 0.20, random_state= 1) # split the data into traing and testing set where ratio is 80:20"
      ],
      "metadata": {
        "id": "st6bHj2qsX3k"
      },
      "execution_count": 56,
      "outputs": []
    },
    {
      "cell_type": "code",
      "source": [
        "#  import TF-idf vectorizer\n",
        "from sklearn.feature_extraction.text import TfidfVectorizer \n"
      ],
      "metadata": {
        "id": "XWGS-GgZxg64"
      },
      "execution_count": 57,
      "outputs": []
    },
    {
      "cell_type": "code",
      "source": [
        "vect = TfidfVectorizer(analyzer = \"word\", ngram_range=(1,3))\n"
      ],
      "metadata": {
        "id": "--68axZ-xg99"
      },
      "execution_count": 58,
      "outputs": []
    },
    {
      "cell_type": "code",
      "source": [
        "vect.fit(X_train) # fit or traing data tweets to vect\n",
        "X_train_dtm = vect.transform(X_train) # transform our training data tweets\n",
        "X_test_dtm = vect.transform(X_test)# transform our testing data tweets"
      ],
      "metadata": {
        "id": "EEAi8ARkxhA3"
      },
      "execution_count": 59,
      "outputs": []
    },
    {
      "cell_type": "code",
      "source": [
        "# Oversample imbalanced dataset with SMOTE\n",
        "from collections import Counter\n",
        "counter = Counter(y_train)\n",
        "print(\"Imbalanced data:\",counter)\n",
        "\n",
        "from imblearn.over_sampling import SMOTE\n",
        "sm = SMOTE(random_state=2)\n",
        "X_train_res, y_train_res = sm.fit_resample(X_train_dtm, y_train.ravel())\n",
        "\n",
        "counter = Counter(y_train_res)\n",
        "print(\"Balanced data:\",counter)"
      ],
      "metadata": {
        "colab": {
          "base_uri": "https://localhost:8080/"
        },
        "id": "0Vuu1AUcxhD3",
        "outputId": "33f102dc-8056-416a-9a72-484bcb58053e"
      },
      "execution_count": 69,
      "outputs": [
        {
          "output_type": "stream",
          "name": "stdout",
          "text": [
            "Imbalanced data: Counter({'neu': 37576, 'pos': 1833, 'neg': 531})\n",
            "Balanced data: Counter({'neu': 37576, 'pos': 37576, 'neg': 37576})\n"
          ]
        }
      ]
    },
    {
      "cell_type": "code",
      "source": [
        "#Import modules to calculate accuracy and confusion matrix\n",
        "from sklearn.metrics import confusion_matrix, accuracy_score\n",
        "from sklearn.metrics import classification_report"
      ],
      "metadata": {
        "id": "xhGyOQXvYMO-"
      },
      "execution_count": 61,
      "outputs": []
    },
    {
      "cell_type": "markdown",
      "source": [
        "**Logistic Regression**"
      ],
      "metadata": {
        "id": "2Yt1D5sMq-sx"
      }
    },
    {
      "cell_type": "code",
      "source": [
        "from sklearn.linear_model import LogisticRegression\n",
        "lr = LogisticRegression()"
      ],
      "metadata": {
        "id": "kO_wX1G7q_ys"
      },
      "execution_count": 62,
      "outputs": []
    },
    {
      "cell_type": "code",
      "source": [
        "lr.fit(X_train_res, y_train_res)\n",
        "pred_lr = lr.predict(X_test_dtm)"
      ],
      "metadata": {
        "colab": {
          "base_uri": "https://localhost:8080/"
        },
        "id": "9B9nd2tyvCxY",
        "outputId": "d0906872-3bfd-4cf8-a49a-999f75f36126"
      },
      "execution_count": 63,
      "outputs": [
        {
          "output_type": "execute_result",
          "data": {
            "text/plain": [
              "LogisticRegression()"
            ]
          },
          "metadata": {},
          "execution_count": 63
        }
      ]
    },
    {
      "cell_type": "code",
      "source": [
        "accuracy = accuracy_score(y_test, pred_lr)\n",
        "print(\"LR: Test Accuracy: {:.2f}%\".format(accuracy * 100))\n",
        "print(classification_report(y_test,pred_lr))\n",
        "print(confusion_matrix(y_test,pred_lr))"
      ],
      "metadata": {
        "colab": {
          "base_uri": "https://localhost:8080/"
        },
        "id": "vRVJ6vxcxp8H",
        "outputId": "96bf9521-1840-4f29-82e1-a0be64987653"
      },
      "execution_count": 67,
      "outputs": [
        {
          "output_type": "stream",
          "name": "stdout",
          "text": [
            "LR: Test Accuracy: 94.86%\n",
            "              precision    recall  f1-score   support\n",
            "\n",
            "         neg       0.38      0.64      0.48       159\n",
            "         neu       0.99      0.96      0.97      9405\n",
            "         pos       0.60      0.79      0.68       421\n",
            "\n",
            "    accuracy                           0.95      9985\n",
            "   macro avg       0.66      0.80      0.71      9985\n",
            "weighted avg       0.96      0.95      0.95      9985\n",
            "\n",
            "[[ 102   51    6]\n",
            " [ 154 9038  213]\n",
            " [  10   79  332]]\n"
          ]
        }
      ]
    },
    {
      "cell_type": "markdown",
      "source": [
        "**Random Forest**"
      ],
      "metadata": {
        "id": "i-VLw7sB17ID"
      }
    },
    {
      "cell_type": "code",
      "source": [
        "#random forest\n",
        "from sklearn.ensemble import RandomForestClassifier # import Random forest from sklearn\n",
        "#randomfor =RandomForestClassifier(n_estimators=200, random_state=0)"
      ],
      "metadata": {
        "id": "UKs9wwqKxhGs"
      },
      "execution_count": 54,
      "outputs": []
    },
    {
      "cell_type": "code",
      "source": [
        "rf = RandomForestClassifier()\n",
        "\n"
      ],
      "metadata": {
        "id": "MjuGHCwvU6iO"
      },
      "execution_count": 55,
      "outputs": []
    },
    {
      "cell_type": "code",
      "source": [
        "rf.fit(X_train_res, y_train_res)"
      ],
      "metadata": {
        "colab": {
          "base_uri": "https://localhost:8080/"
        },
        "id": "yqF5qYRwVlS7",
        "outputId": "6c19fe3f-d232-4b29-a21d-8e8d88100594"
      },
      "execution_count": 56,
      "outputs": [
        {
          "output_type": "execute_result",
          "data": {
            "text/plain": [
              "RandomForestClassifier()"
            ]
          },
          "metadata": {},
          "execution_count": 56
        }
      ]
    },
    {
      "cell_type": "code",
      "source": [
        "rf_pred = rf.predict(X_test_dtm)"
      ],
      "metadata": {
        "id": "wPY7RbYIVNNm"
      },
      "execution_count": 57,
      "outputs": []
    },
    {
      "cell_type": "code",
      "source": [
        "accuracy = accuracy_score(y_test, rf_pred)\n",
        "print(\"RF: Test Accuracy: {:.2f}%\".format(accuracy * 100))\n",
        "print(classification_report(y_test,rf_pred))\n",
        "print(confusion_matrix(y_test,rf_pred))"
      ],
      "metadata": {
        "colab": {
          "base_uri": "https://localhost:8080/"
        },
        "id": "B4aJveLUWGxM",
        "outputId": "5048e61c-233d-42cb-e905-082db507b9e3"
      },
      "execution_count": 60,
      "outputs": [
        {
          "output_type": "stream",
          "name": "stdout",
          "text": [
            "RF: Test Accuracy: 94.14%\n",
            "              precision    recall  f1-score   support\n",
            "\n",
            "         neg       0.36      0.52      0.43       159\n",
            "         neu       0.98      0.96      0.97      9405\n",
            "         pos       0.54      0.66      0.59       421\n",
            "\n",
            "    accuracy                           0.94      9985\n",
            "   macro avg       0.62      0.71      0.66      9985\n",
            "weighted avg       0.95      0.94      0.95      9985\n",
            "\n",
            "[[  83   64   12]\n",
            " [ 137 9040  228]\n",
            " [  11  133  277]]\n"
          ]
        }
      ]
    },
    {
      "cell_type": "code",
      "source": [
        "#randomfor.fit(X_train_res, y_train_res)\n"
      ],
      "metadata": {
        "id": "90JG-y4ayk_i"
      },
      "execution_count": null,
      "outputs": []
    },
    {
      "cell_type": "code",
      "source": [
        "#y_pred_lg =randomfor.predict(X_test_dtm) "
      ],
      "metadata": {
        "id": "Eo9I0MI4xhJl"
      },
      "execution_count": null,
      "outputs": []
    },
    {
      "cell_type": "markdown",
      "source": [
        "**Naive Bayes**"
      ],
      "metadata": {
        "id": "t6gUrkjNz8lD"
      }
    },
    {
      "cell_type": "code",
      "source": [
        "from sklearn.naive_bayes import MultinomialNB # import Multinomial Naive Bayes model from sklearn.naive_bayes\n",
        "nb = MultinomialNB(alpha = 10) # get object of Multinomial naive bayes model with alpha parameter = 10\n",
        "nb.fit(X_train_res, y_train_res)# fit our both traing data tweets as well as its sentiments to the multinomial naive bayes mod\n",
        "y_pred_nb = nb.predict(X_test_dtm) # predict the sentiments of testing data tweets"
      ],
      "metadata": {
        "id": "LV33LhTzxhYG"
      },
      "execution_count": 65,
      "outputs": []
    },
    {
      "cell_type": "code",
      "source": [],
      "metadata": {
        "colab": {
          "base_uri": "https://localhost:8080/"
        },
        "id": "N0dfm5-T-YXs",
        "outputId": "321019fc-8251-4748-c9c4-a4abec9eb87d"
      },
      "execution_count": 73,
      "outputs": [
        {
          "output_type": "stream",
          "name": "stdout",
          "text": [
            "NB: Test Accuracy: 83.58%\n"
          ]
        }
      ]
    },
    {
      "cell_type": "code",
      "source": [
        "accuracy = accuracy_score(y_test, y_pred_nb)\n",
        "print(\"NB: Test Accuracy: {:.2f}%\".format(accuracy * 100))\n",
        "print(classification_report(y_test,y_pred_nb))\n",
        "print(confusion_matrix(y_test,y_pred_nb))"
      ],
      "metadata": {
        "colab": {
          "base_uri": "https://localhost:8080/"
        },
        "id": "8J2bVp_Nxhcv",
        "outputId": "2fc4d4a5-2880-413d-8ec7-26b7c950fb57"
      },
      "execution_count": 74,
      "outputs": [
        {
          "output_type": "stream",
          "name": "stdout",
          "text": [
            "NB: Test Accuracy: 83.58%\n",
            "              precision    recall  f1-score   support\n",
            "\n",
            "         neg       0.45      0.64      0.53       159\n",
            "         neu       0.99      0.83      0.91      9405\n",
            "         pos       0.21      0.94      0.35       421\n",
            "\n",
            "    accuracy                           0.84      9985\n",
            "   macro avg       0.55      0.80      0.59      9985\n",
            "weighted avg       0.95      0.84      0.88      9985\n",
            "\n",
            "[[ 102   27   30]\n",
            " [ 124 7849 1432]\n",
            " [   3   24  394]]\n"
          ]
        }
      ]
    },
    {
      "cell_type": "code",
      "source": [
        "from sklearn.model_selection import cross_val_score  # import cross_val_score from sklear.model_selection\n",
        "accuracies = cross_val_score(estimator = nb, X = X_train_res, y = y_train_res, cv = 10) # do K- fold cross validation on our traing data and its sentimenst with 10 fold cross validation\n",
        "accuracies.mean() # measure the mean accuray of 10 fold cross validation"
      ],
      "metadata": {
        "colab": {
          "base_uri": "https://localhost:8080/"
        },
        "id": "Lg2_Q8ebxhgA",
        "outputId": "9564e527-d379-4f42-bb3d-2138bc794875"
      },
      "execution_count": null,
      "outputs": [
        {
          "output_type": "execute_result",
          "data": {
            "text/plain": [
              "0.8577119566986366"
            ]
          },
          "metadata": {},
          "execution_count": 138
        }
      ]
    },
    {
      "cell_type": "code",
      "source": [
        "#y_pred_nb = nb.predict(X_test_dtm) # predict the sentiments of testing data tweets"
      ],
      "metadata": {
        "id": "WOun0mozxhiy"
      },
      "execution_count": null,
      "outputs": []
    },
    {
      "cell_type": "code",
      "source": [
        "#from sklearn import metrics # import metrics from sklearn\n",
        "#metrics.accuracy_score(y_test, y_pred_nb) # measure the accuracy of our model on the testing data"
      ],
      "metadata": {
        "id": "PrFfsZKv0S3a"
      },
      "execution_count": null,
      "outputs": []
    },
    {
      "cell_type": "code",
      "source": [
        "#from sklearn.metrics import confusion_matrix # import confusion matrix from the sklearn.metrics\n",
        "#confusion_matrix(y_test, y_pred_nb) # plot the confusion matrix between our predicted sentiments and the original testing data sentiments"
      ],
      "metadata": {
        "id": "Y0GiTSBg0S7t"
      },
      "execution_count": null,
      "outputs": []
    },
    {
      "cell_type": "markdown",
      "source": [
        "**Linear SVM**"
      ],
      "metadata": {
        "id": "sptiKowb0fhH"
      }
    },
    {
      "cell_type": "code",
      "source": [
        "from sklearn.svm import LinearSVC # import SVC model from sklearn.svm\n",
        "svm_clf = LinearSVC(random_state=0) # get object of SVC model with random_state parameter = 0"
      ],
      "metadata": {
        "id": "YM56YJwK0TCo"
      },
      "execution_count": 75,
      "outputs": []
    },
    {
      "cell_type": "code",
      "source": [
        "svm_clf.fit(X_train_dtm, y_train)# fit our both traing data tweets as well as its sentiments to the SVC model\n",
        "y_pred_svm = svm_clf.predict(X_test_dtm)  # predict the sentiments of testing data tweets\n",
        "\n",
        "accuracy = accuracy_score(y_test, y_pred_svm)\n",
        "print(\"SVM: Test Accuracy: {:.2f}%\".format(accuracy * 100))\n",
        "print(classification_report(y_test,y_pred_svm))\n",
        "print(confusion_matrix(y_test,y_pred_svm))"
      ],
      "metadata": {
        "colab": {
          "base_uri": "https://localhost:8080/"
        },
        "id": "5qwN7zoW0TFg",
        "outputId": "a2290e6f-4d0c-4e30-ae2a-3f57384834eb"
      },
      "execution_count": 78,
      "outputs": [
        {
          "output_type": "stream",
          "name": "stdout",
          "text": [
            "SVM: Test Accuracy: 96.21%\n",
            "              precision    recall  f1-score   support\n",
            "\n",
            "         neg       0.93      0.09      0.16       159\n",
            "         neu       0.97      0.99      0.98      9405\n",
            "         pos       0.76      0.63      0.69       421\n",
            "\n",
            "    accuracy                           0.96      9985\n",
            "   macro avg       0.89      0.57      0.61      9985\n",
            "weighted avg       0.96      0.96      0.96      9985\n",
            "\n",
            "[[  14  141    4]\n",
            " [   0 9326   79]\n",
            " [   1  153  267]]\n"
          ]
        }
      ]
    },
    {
      "cell_type": "code",
      "source": [],
      "metadata": {
        "id": "xSgq0bW1DhIK"
      },
      "execution_count": null,
      "outputs": []
    },
    {
      "cell_type": "code",
      "source": [
        "from sklearn.model_selection import cross_val_score  # import cross_val_score from sklear.model_selection\n",
        "accuracies = cross_val_score(estimator = svm_clf, X = X_train_dtm, y = y_train, cv = 10)# do K- fold cross validation on our traing data and its sentimenst with 10 fold cross validation\n",
        "accuracies.mean() # measure the mean accuray of 10 fold cross validation"
      ],
      "metadata": {
        "id": "KCj4j-rN0TIB"
      },
      "execution_count": null,
      "outputs": []
    },
    {
      "cell_type": "code",
      "source": [
        "#y_pred_svm = svm_clf.predict(X_test_dtm)  # predict the sentiments of testing data tweets"
      ],
      "metadata": {
        "id": "HKKO2ptP0TMF"
      },
      "execution_count": null,
      "outputs": []
    },
    {
      "cell_type": "code",
      "source": [
        "#from sklearn import metrics # import metrics from sklearn\n",
        "#metrics.accuracy_score(y_test, y_pred_svm) # measure the accuracy of our model on the testing data"
      ],
      "metadata": {
        "colab": {
          "base_uri": "https://localhost:8080/"
        },
        "id": "PssnhfuY1j6O",
        "outputId": "3abfab2a-a0fc-4119-8639-e141e59a6667"
      },
      "execution_count": null,
      "outputs": [
        {
          "output_type": "execute_result",
          "data": {
            "text/plain": [
              "0.9621432148222333"
            ]
          },
          "metadata": {},
          "execution_count": 148
        }
      ]
    },
    {
      "cell_type": "code",
      "source": [
        "#from sklearn.metrics import confusion_matrix # import confusion matrix from the sklearn.metrics\n",
        "#confusion_matrix(y_test, y_pred_svm) # plot the confusion matrix between our predicted sentiments and the original testing data sentiments"
      ],
      "metadata": {
        "colab": {
          "base_uri": "https://localhost:8080/"
        },
        "id": "pl6w-B_T1tTq",
        "outputId": "511ef148-15b5-411f-b443-9ba135fb59af"
      },
      "execution_count": null,
      "outputs": [
        {
          "output_type": "execute_result",
          "data": {
            "text/plain": [
              "array([[  14,  141,    4],\n",
              "       [   0, 9326,   79],\n",
              "       [   1,  153,  267]])"
            ]
          },
          "metadata": {},
          "execution_count": 149
        }
      ]
    },
    {
      "cell_type": "code",
      "source": [],
      "metadata": {
        "id": "Vxeh8lve0TWA"
      },
      "execution_count": null,
      "outputs": []
    },
    {
      "cell_type": "code",
      "source": [],
      "metadata": {
        "id": "GQ2s2skc0TYp"
      },
      "execution_count": null,
      "outputs": []
    },
    {
      "cell_type": "markdown",
      "source": [
        "**XGBoost**"
      ],
      "metadata": {
        "id": "GEQFOTyTEmVL"
      }
    },
    {
      "cell_type": "code",
      "source": [
        "!pip install xgboost"
      ],
      "metadata": {
        "colab": {
          "base_uri": "https://localhost:8080/"
        },
        "id": "YqbEamMlEo73",
        "outputId": "51d3abc2-7a4a-4c21-cecc-03aa124922cf"
      },
      "execution_count": 79,
      "outputs": [
        {
          "output_type": "stream",
          "name": "stdout",
          "text": [
            "Looking in indexes: https://pypi.org/simple, https://us-python.pkg.dev/colab-wheels/public/simple/\n",
            "Requirement already satisfied: xgboost in /usr/local/lib/python3.8/dist-packages (0.90)\n",
            "Requirement already satisfied: scipy in /usr/local/lib/python3.8/dist-packages (from xgboost) (1.7.3)\n",
            "Requirement already satisfied: numpy in /usr/local/lib/python3.8/dist-packages (from xgboost) (1.21.6)\n"
          ]
        }
      ]
    },
    {
      "cell_type": "code",
      "source": [
        "from xgboost import XGBClassifier"
      ],
      "metadata": {
        "id": "y-dURKE_GKs9"
      },
      "execution_count": 81,
      "outputs": []
    },
    {
      "cell_type": "code",
      "source": [
        "xgb = XGBClassifier(max_depth=10, n_estimators=400, learning_rate=0.3, objective='binary:logistic')\n"
      ],
      "metadata": {
        "id": "njV8gJzYEo-9"
      },
      "execution_count": 83,
      "outputs": []
    },
    {
      "cell_type": "code",
      "source": [
        "xgb.fit(X_train_dtm, y_train)\n"
      ],
      "metadata": {
        "colab": {
          "base_uri": "https://localhost:8080/"
        },
        "id": "DfR3l5RMJI0p",
        "outputId": "07b53c27-d4f0-46e3-da77-cee522d5021d"
      },
      "execution_count": 85,
      "outputs": [
        {
          "output_type": "execute_result",
          "data": {
            "text/plain": [
              "XGBClassifier(learning_rate=0.3, max_depth=10, n_estimators=400,\n",
              "              objective='multi:softprob')"
            ]
          },
          "metadata": {},
          "execution_count": 85
        }
      ]
    },
    {
      "cell_type": "code",
      "source": [
        "xgb_pred = xgb.predict(X_test_dtm)"
      ],
      "metadata": {
        "id": "EfvEn1pdEpC0"
      },
      "execution_count": 88,
      "outputs": []
    },
    {
      "cell_type": "code",
      "source": [
        "accuracy = accuracy_score(y_test, xgb_pred)\n",
        "print(\"xgb: Test Accuracy: {:.2f}%\".format(accuracy * 100))\n",
        "print(classification_report(y_test,xgb_pred))\n",
        "print(confusion_matrix(y_test,xgb_pred))"
      ],
      "metadata": {
        "colab": {
          "base_uri": "https://localhost:8080/"
        },
        "id": "943XMt8NP-3T",
        "outputId": "c01c9e7b-203f-4289-bdd7-f8159ef19ed9"
      },
      "execution_count": 89,
      "outputs": [
        {
          "output_type": "stream",
          "name": "stdout",
          "text": [
            "xgb: Test Accuracy: 93.80%\n",
            "              precision    recall  f1-score   support\n",
            "\n",
            "         neg       0.49      0.14      0.22       159\n",
            "         neu       0.98      0.96      0.97      9405\n",
            "         pos       0.47      0.81      0.59       421\n",
            "\n",
            "    accuracy                           0.94      9985\n",
            "   macro avg       0.64      0.63      0.59      9985\n",
            "weighted avg       0.95      0.94      0.94      9985\n",
            "\n",
            "[[  22  126   11]\n",
            " [  22 9004  379]\n",
            " [   1   80  340]]\n"
          ]
        }
      ]
    },
    {
      "cell_type": "markdown",
      "source": [
        "**Decision Tree**\n"
      ],
      "metadata": {
        "id": "or-azQscTE06"
      }
    },
    {
      "cell_type": "code",
      "source": [
        "from sklearn.tree import DecisionTreeClassifier\n",
        "dt = DecisionTreeClassifier()"
      ],
      "metadata": {
        "id": "sTp5aSqqTLYy"
      },
      "execution_count": 90,
      "outputs": []
    },
    {
      "cell_type": "code",
      "source": [
        "\n",
        "dt.fit(X_train_dtm,y_train)\n"
      ],
      "metadata": {
        "colab": {
          "base_uri": "https://localhost:8080/"
        },
        "id": "GaYC28MoTWgQ",
        "outputId": "1f9d7514-39de-4bba-9021-370b33a2e016"
      },
      "execution_count": 91,
      "outputs": [
        {
          "output_type": "execute_result",
          "data": {
            "text/plain": [
              "DecisionTreeClassifier()"
            ]
          },
          "metadata": {},
          "execution_count": 91
        }
      ]
    },
    {
      "cell_type": "code",
      "source": [
        "dt_pred = dt.predict(X_test_dtm)"
      ],
      "metadata": {
        "id": "LqJgcDRKTht_"
      },
      "execution_count": 92,
      "outputs": []
    },
    {
      "cell_type": "code",
      "source": [
        "accuracy = accuracy_score(y_test, dt_pred)\n",
        "print(\"DT: Test Accuracy: {:.2f}%\".format(accuracy * 100))\n",
        "print(classification_report(y_test,dt_pred))\n",
        "print(confusion_matrix(y_test,dt_pred))"
      ],
      "metadata": {
        "colab": {
          "base_uri": "https://localhost:8080/"
        },
        "id": "ggOEf4h_UEkk",
        "outputId": "45651555-7ab0-4dd4-b6b3-b00a12cf3468"
      },
      "execution_count": 93,
      "outputs": [
        {
          "output_type": "stream",
          "name": "stdout",
          "text": [
            "DT: Test Accuracy: 90.56%\n",
            "              precision    recall  f1-score   support\n",
            "\n",
            "         neg       0.33      0.69      0.44       159\n",
            "         neu       0.99      0.91      0.95      9405\n",
            "         pos       0.36      0.79      0.49       421\n",
            "\n",
            "    accuracy                           0.91      9985\n",
            "   macro avg       0.56      0.80      0.63      9985\n",
            "weighted avg       0.95      0.91      0.92      9985\n",
            "\n",
            "[[ 110   38   11]\n",
            " [ 216 8601  588]\n",
            " [  10   80  331]]\n"
          ]
        }
      ]
    },
    {
      "cell_type": "code",
      "source": [],
      "metadata": {
        "id": "dPrLr72h9l6v"
      },
      "execution_count": null,
      "outputs": []
    },
    {
      "cell_type": "markdown",
      "source": [
        "**Catboost**"
      ],
      "metadata": {
        "id": "OX7zwgpX4o65"
      }
    },
    {
      "cell_type": "code",
      "source": [
        "pip install catboost"
      ],
      "metadata": {
        "colab": {
          "base_uri": "https://localhost:8080/"
        },
        "id": "_QmbFqi45p9W",
        "outputId": "0a7bc704-9c93-4a77-b09e-bc951953dfe3"
      },
      "execution_count": 73,
      "outputs": [
        {
          "output_type": "stream",
          "name": "stdout",
          "text": [
            "Looking in indexes: https://pypi.org/simple, https://us-python.pkg.dev/colab-wheels/public/simple/\n",
            "Collecting catboost\n",
            "  Downloading catboost-1.1.1-cp38-none-manylinux1_x86_64.whl (76.6 MB)\n",
            "\u001b[2K     \u001b[90m━━━━━━━━━━━━━━━━━━━━━━━━━━━━━━━━━━━━━━━━\u001b[0m \u001b[32m76.6/76.6 MB\u001b[0m \u001b[31m13.3 MB/s\u001b[0m eta \u001b[36m0:00:00\u001b[0m\n",
            "\u001b[?25hRequirement already satisfied: matplotlib in /usr/local/lib/python3.8/dist-packages (from catboost) (3.2.2)\n",
            "Requirement already satisfied: graphviz in /usr/local/lib/python3.8/dist-packages (from catboost) (0.10.1)\n",
            "Requirement already satisfied: numpy>=1.16.0 in /usr/local/lib/python3.8/dist-packages (from catboost) (1.21.6)\n",
            "Requirement already satisfied: scipy in /usr/local/lib/python3.8/dist-packages (from catboost) (1.7.3)\n",
            "Requirement already satisfied: six in /usr/local/lib/python3.8/dist-packages (from catboost) (1.15.0)\n",
            "Requirement already satisfied: plotly in /usr/local/lib/python3.8/dist-packages (from catboost) (5.5.0)\n",
            "Requirement already satisfied: pandas>=0.24.0 in /usr/local/lib/python3.8/dist-packages (from catboost) (1.3.5)\n",
            "Requirement already satisfied: pytz>=2017.3 in /usr/local/lib/python3.8/dist-packages (from pandas>=0.24.0->catboost) (2022.7)\n",
            "Requirement already satisfied: python-dateutil>=2.7.3 in /usr/local/lib/python3.8/dist-packages (from pandas>=0.24.0->catboost) (2.8.2)\n",
            "Requirement already satisfied: kiwisolver>=1.0.1 in /usr/local/lib/python3.8/dist-packages (from matplotlib->catboost) (1.4.4)\n",
            "Requirement already satisfied: pyparsing!=2.0.4,!=2.1.2,!=2.1.6,>=2.0.1 in /usr/local/lib/python3.8/dist-packages (from matplotlib->catboost) (3.0.9)\n",
            "Requirement already satisfied: cycler>=0.10 in /usr/local/lib/python3.8/dist-packages (from matplotlib->catboost) (0.11.0)\n",
            "Requirement already satisfied: tenacity>=6.2.0 in /usr/local/lib/python3.8/dist-packages (from plotly->catboost) (8.1.0)\n",
            "Installing collected packages: catboost\n",
            "Successfully installed catboost-1.1.1\n"
          ]
        }
      ]
    },
    {
      "cell_type": "code",
      "source": [
        "import catboost as ctb"
      ],
      "metadata": {
        "id": "ZJiOBR569l9z"
      },
      "execution_count": 74,
      "outputs": []
    },
    {
      "cell_type": "code",
      "source": [
        "model_CBC = ctb.CatBoostClassifier()"
      ],
      "metadata": {
        "id": "Wz-eaGrq9mAr"
      },
      "execution_count": 75,
      "outputs": []
    },
    {
      "cell_type": "code",
      "source": [
        "model_CBC.fit(X_train_dtm, y_train)"
      ],
      "metadata": {
        "id": "qpdC0nMy9mDj",
        "colab": {
          "base_uri": "https://localhost:8080/"
        },
        "outputId": "5ebccfa6-7496-46c1-f78a-c25d3a1626bc"
      },
      "execution_count": 76,
      "outputs": [
        {
          "output_type": "stream",
          "name": "stdout",
          "text": [
            "Learning rate set to 0.095498\n",
            "0:\tlearn: 0.9456012\ttotal: 2.13s\tremaining: 35m 28s\n",
            "1:\tlearn: 0.8312352\ttotal: 3.87s\tremaining: 32m 9s\n",
            "2:\tlearn: 0.7396645\ttotal: 5.62s\tremaining: 31m 9s\n",
            "3:\tlearn: 0.6655670\ttotal: 7.39s\tremaining: 30m 39s\n",
            "4:\tlearn: 0.6054361\ttotal: 9.49s\tremaining: 31m 28s\n",
            "5:\tlearn: 0.5547534\ttotal: 11.3s\tremaining: 31m 9s\n",
            "6:\tlearn: 0.5125638\ttotal: 13.4s\tremaining: 31m 39s\n",
            "7:\tlearn: 0.4764100\ttotal: 16.2s\tremaining: 33m 26s\n",
            "8:\tlearn: 0.4450890\ttotal: 18s\tremaining: 33m 5s\n",
            "9:\tlearn: 0.4172127\ttotal: 20.2s\tremaining: 33m 21s\n",
            "10:\tlearn: 0.3922939\ttotal: 22s\tremaining: 32m 56s\n",
            "11:\tlearn: 0.3706455\ttotal: 23.7s\tremaining: 32m 34s\n",
            "12:\tlearn: 0.3518094\ttotal: 25.6s\tremaining: 32m 21s\n",
            "13:\tlearn: 0.3350340\ttotal: 27.3s\tremaining: 32m 4s\n",
            "14:\tlearn: 0.3205779\ttotal: 29.1s\tremaining: 31m 49s\n",
            "15:\tlearn: 0.3070319\ttotal: 31.1s\tremaining: 31m 50s\n",
            "16:\tlearn: 0.2945474\ttotal: 33s\tremaining: 31m 50s\n",
            "17:\tlearn: 0.2840390\ttotal: 34.8s\tremaining: 31m 38s\n",
            "18:\tlearn: 0.2743802\ttotal: 36.6s\tremaining: 31m 30s\n",
            "19:\tlearn: 0.2663047\ttotal: 38.4s\tremaining: 31m 19s\n",
            "20:\tlearn: 0.2589090\ttotal: 40.1s\tremaining: 31m 9s\n",
            "21:\tlearn: 0.2522127\ttotal: 41.8s\tremaining: 30m 58s\n",
            "22:\tlearn: 0.2459729\ttotal: 44s\tremaining: 31m 7s\n",
            "23:\tlearn: 0.2401673\ttotal: 45.8s\tremaining: 31m\n",
            "24:\tlearn: 0.2359178\ttotal: 47.5s\tremaining: 30m 53s\n",
            "25:\tlearn: 0.2317462\ttotal: 49.3s\tremaining: 30m 46s\n",
            "26:\tlearn: 0.2278284\ttotal: 51s\tremaining: 30m 38s\n",
            "27:\tlearn: 0.2244889\ttotal: 52.8s\tremaining: 30m 31s\n",
            "28:\tlearn: 0.2207298\ttotal: 54.9s\tremaining: 30m 39s\n",
            "29:\tlearn: 0.2180993\ttotal: 56.7s\tremaining: 30m 33s\n",
            "30:\tlearn: 0.2156874\ttotal: 58.5s\tremaining: 30m 27s\n",
            "31:\tlearn: 0.2121662\ttotal: 1m\tremaining: 30m 23s\n",
            "32:\tlearn: 0.2097179\ttotal: 1m 2s\tremaining: 30m 17s\n",
            "33:\tlearn: 0.2080592\ttotal: 1m 3s\tremaining: 30m 12s\n",
            "34:\tlearn: 0.2055108\ttotal: 1m 5s\tremaining: 30m 17s\n",
            "35:\tlearn: 0.2039484\ttotal: 1m 7s\tremaining: 30m 11s\n",
            "36:\tlearn: 0.2025153\ttotal: 1m 9s\tremaining: 30m 6s\n",
            "37:\tlearn: 0.2013409\ttotal: 1m 11s\tremaining: 30m 1s\n",
            "38:\tlearn: 0.2002119\ttotal: 1m 12s\tremaining: 29m 56s\n",
            "39:\tlearn: 0.1992953\ttotal: 1m 14s\tremaining: 29m 52s\n",
            "40:\tlearn: 0.1968327\ttotal: 1m 16s\tremaining: 29m 56s\n",
            "41:\tlearn: 0.1959308\ttotal: 1m 18s\tremaining: 29m 55s\n",
            "42:\tlearn: 0.1950745\ttotal: 1m 20s\tremaining: 29m 50s\n",
            "43:\tlearn: 0.1941066\ttotal: 1m 22s\tremaining: 29m 45s\n",
            "44:\tlearn: 0.1925251\ttotal: 1m 23s\tremaining: 29m 42s\n",
            "45:\tlearn: 0.1917388\ttotal: 1m 26s\tremaining: 29m 53s\n",
            "46:\tlearn: 0.1909483\ttotal: 1m 28s\tremaining: 29m 48s\n",
            "47:\tlearn: 0.1894330\ttotal: 1m 29s\tremaining: 29m 44s\n",
            "48:\tlearn: 0.1888175\ttotal: 1m 31s\tremaining: 29m 40s\n",
            "49:\tlearn: 0.1882643\ttotal: 1m 33s\tremaining: 29m 35s\n",
            "50:\tlearn: 0.1870246\ttotal: 1m 36s\tremaining: 30m 1s\n",
            "51:\tlearn: 0.1855084\ttotal: 1m 38s\tremaining: 29m 57s\n",
            "52:\tlearn: 0.1849193\ttotal: 1m 40s\tremaining: 29m 53s\n",
            "53:\tlearn: 0.1845023\ttotal: 1m 42s\tremaining: 29m 49s\n",
            "54:\tlearn: 0.1840028\ttotal: 1m 43s\tremaining: 29m 44s\n",
            "55:\tlearn: 0.1836015\ttotal: 1m 45s\tremaining: 29m 40s\n",
            "56:\tlearn: 0.1831440\ttotal: 1m 47s\tremaining: 29m 36s\n",
            "57:\tlearn: 0.1826246\ttotal: 1m 49s\tremaining: 29m 32s\n",
            "58:\tlearn: 0.1823217\ttotal: 1m 50s\tremaining: 29m 28s\n",
            "59:\tlearn: 0.1816882\ttotal: 1m 52s\tremaining: 29m 24s\n",
            "60:\tlearn: 0.1813768\ttotal: 1m 54s\tremaining: 29m 21s\n",
            "61:\tlearn: 0.1810388\ttotal: 1m 56s\tremaining: 29m 17s\n",
            "62:\tlearn: 0.1808147\ttotal: 1m 57s\tremaining: 29m 14s\n",
            "63:\tlearn: 0.1797563\ttotal: 1m 59s\tremaining: 29m 12s\n",
            "64:\tlearn: 0.1792428\ttotal: 2m 1s\tremaining: 29m 8s\n",
            "65:\tlearn: 0.1787493\ttotal: 2m 3s\tremaining: 29m 5s\n",
            "66:\tlearn: 0.1785029\ttotal: 2m 5s\tremaining: 29m 2s\n",
            "67:\tlearn: 0.1780363\ttotal: 2m 6s\tremaining: 28m 58s\n",
            "68:\tlearn: 0.1777715\ttotal: 2m 8s\tremaining: 28m 55s\n",
            "69:\tlearn: 0.1776558\ttotal: 2m 10s\tremaining: 28m 51s\n",
            "70:\tlearn: 0.1773862\ttotal: 2m 12s\tremaining: 28m 48s\n",
            "71:\tlearn: 0.1771424\ttotal: 2m 13s\tremaining: 28m 45s\n",
            "72:\tlearn: 0.1767737\ttotal: 2m 15s\tremaining: 28m 42s\n",
            "73:\tlearn: 0.1764839\ttotal: 2m 17s\tremaining: 28m 39s\n",
            "74:\tlearn: 0.1761028\ttotal: 2m 19s\tremaining: 28m 36s\n",
            "75:\tlearn: 0.1759072\ttotal: 2m 20s\tremaining: 28m 33s\n",
            "76:\tlearn: 0.1756332\ttotal: 2m 22s\tremaining: 28m 30s\n",
            "77:\tlearn: 0.1753711\ttotal: 2m 24s\tremaining: 28m 27s\n",
            "78:\tlearn: 0.1750144\ttotal: 2m 26s\tremaining: 28m 24s\n",
            "79:\tlearn: 0.1748571\ttotal: 2m 27s\tremaining: 28m 21s\n",
            "80:\tlearn: 0.1744718\ttotal: 2m 29s\tremaining: 28m 18s\n",
            "81:\tlearn: 0.1741755\ttotal: 2m 31s\tremaining: 28m 16s\n",
            "82:\tlearn: 0.1739015\ttotal: 2m 33s\tremaining: 28m 13s\n",
            "83:\tlearn: 0.1736494\ttotal: 2m 35s\tremaining: 28m 10s\n",
            "84:\tlearn: 0.1733492\ttotal: 2m 36s\tremaining: 28m 7s\n",
            "85:\tlearn: 0.1730573\ttotal: 2m 38s\tremaining: 28m 4s\n",
            "86:\tlearn: 0.1729328\ttotal: 2m 40s\tremaining: 28m 2s\n",
            "87:\tlearn: 0.1727081\ttotal: 2m 42s\tremaining: 27m 59s\n",
            "88:\tlearn: 0.1724937\ttotal: 2m 43s\tremaining: 27m 56s\n",
            "89:\tlearn: 0.1723249\ttotal: 2m 45s\tremaining: 27m 53s\n",
            "90:\tlearn: 0.1720659\ttotal: 2m 47s\tremaining: 27m 51s\n",
            "91:\tlearn: 0.1717536\ttotal: 2m 49s\tremaining: 27m 49s\n",
            "92:\tlearn: 0.1716026\ttotal: 2m 50s\tremaining: 27m 46s\n",
            "93:\tlearn: 0.1714859\ttotal: 2m 52s\tremaining: 27m 43s\n",
            "94:\tlearn: 0.1713540\ttotal: 2m 54s\tremaining: 27m 40s\n",
            "95:\tlearn: 0.1711444\ttotal: 2m 56s\tremaining: 27m 38s\n",
            "96:\tlearn: 0.1709270\ttotal: 2m 57s\tremaining: 27m 36s\n",
            "97:\tlearn: 0.1707334\ttotal: 2m 59s\tremaining: 27m 33s\n",
            "98:\tlearn: 0.1704781\ttotal: 3m 1s\tremaining: 27m 31s\n",
            "99:\tlearn: 0.1702603\ttotal: 3m 3s\tremaining: 27m 29s\n",
            "100:\tlearn: 0.1690037\ttotal: 3m 5s\tremaining: 27m 28s\n",
            "101:\tlearn: 0.1687754\ttotal: 3m 7s\tremaining: 27m 28s\n",
            "102:\tlearn: 0.1685821\ttotal: 3m 8s\tremaining: 27m 25s\n",
            "103:\tlearn: 0.1683246\ttotal: 3m 10s\tremaining: 27m 23s\n",
            "104:\tlearn: 0.1681600\ttotal: 3m 13s\tremaining: 27m 30s\n",
            "105:\tlearn: 0.1679871\ttotal: 3m 15s\tremaining: 27m 30s\n",
            "106:\tlearn: 0.1678929\ttotal: 3m 17s\tremaining: 27m 31s\n",
            "107:\tlearn: 0.1677067\ttotal: 3m 19s\tremaining: 27m 29s\n",
            "108:\tlearn: 0.1675761\ttotal: 3m 21s\tremaining: 27m 27s\n",
            "109:\tlearn: 0.1673825\ttotal: 3m 23s\tremaining: 27m 24s\n",
            "110:\tlearn: 0.1671415\ttotal: 3m 25s\tremaining: 27m 21s\n",
            "111:\tlearn: 0.1668314\ttotal: 3m 26s\tremaining: 27m 19s\n",
            "112:\tlearn: 0.1667292\ttotal: 3m 28s\tremaining: 27m 17s\n",
            "113:\tlearn: 0.1665496\ttotal: 3m 30s\tremaining: 27m 14s\n",
            "114:\tlearn: 0.1661562\ttotal: 3m 32s\tremaining: 27m 12s\n",
            "115:\tlearn: 0.1659998\ttotal: 3m 33s\tremaining: 27m 10s\n",
            "116:\tlearn: 0.1658142\ttotal: 3m 35s\tremaining: 27m 7s\n",
            "117:\tlearn: 0.1656391\ttotal: 3m 37s\tremaining: 27m 4s\n",
            "118:\tlearn: 0.1654438\ttotal: 3m 39s\tremaining: 27m 2s\n",
            "119:\tlearn: 0.1651698\ttotal: 3m 40s\tremaining: 27m\n",
            "120:\tlearn: 0.1648965\ttotal: 3m 42s\tremaining: 26m 57s\n",
            "121:\tlearn: 0.1647826\ttotal: 3m 44s\tremaining: 26m 55s\n",
            "122:\tlearn: 0.1645854\ttotal: 3m 46s\tremaining: 26m 52s\n",
            "123:\tlearn: 0.1644344\ttotal: 3m 47s\tremaining: 26m 50s\n",
            "124:\tlearn: 0.1642995\ttotal: 3m 49s\tremaining: 26m 48s\n",
            "125:\tlearn: 0.1641320\ttotal: 3m 51s\tremaining: 26m 45s\n",
            "126:\tlearn: 0.1639263\ttotal: 3m 53s\tremaining: 26m 43s\n",
            "127:\tlearn: 0.1637589\ttotal: 3m 54s\tremaining: 26m 40s\n",
            "128:\tlearn: 0.1635372\ttotal: 3m 56s\tremaining: 26m 38s\n",
            "129:\tlearn: 0.1633306\ttotal: 3m 58s\tremaining: 26m 36s\n",
            "130:\tlearn: 0.1631348\ttotal: 4m\tremaining: 26m 33s\n",
            "131:\tlearn: 0.1629103\ttotal: 4m 1s\tremaining: 26m 31s\n",
            "132:\tlearn: 0.1627713\ttotal: 4m 3s\tremaining: 26m 28s\n",
            "133:\tlearn: 0.1626123\ttotal: 4m 5s\tremaining: 26m 26s\n",
            "134:\tlearn: 0.1624540\ttotal: 4m 7s\tremaining: 26m 24s\n",
            "135:\tlearn: 0.1623232\ttotal: 4m 9s\tremaining: 26m 22s\n",
            "136:\tlearn: 0.1622235\ttotal: 4m 10s\tremaining: 26m 19s\n",
            "137:\tlearn: 0.1620603\ttotal: 4m 12s\tremaining: 26m 17s\n",
            "138:\tlearn: 0.1619282\ttotal: 4m 14s\tremaining: 26m 15s\n",
            "139:\tlearn: 0.1618231\ttotal: 4m 16s\tremaining: 26m 13s\n",
            "140:\tlearn: 0.1617021\ttotal: 4m 17s\tremaining: 26m 10s\n",
            "141:\tlearn: 0.1616005\ttotal: 4m 19s\tremaining: 26m 8s\n",
            "142:\tlearn: 0.1614777\ttotal: 4m 21s\tremaining: 26m 6s\n",
            "143:\tlearn: 0.1613512\ttotal: 4m 23s\tremaining: 26m 4s\n",
            "144:\tlearn: 0.1611794\ttotal: 4m 24s\tremaining: 26m 1s\n",
            "145:\tlearn: 0.1610801\ttotal: 4m 26s\tremaining: 25m 59s\n",
            "146:\tlearn: 0.1609663\ttotal: 4m 28s\tremaining: 25m 57s\n",
            "147:\tlearn: 0.1608395\ttotal: 4m 30s\tremaining: 25m 55s\n",
            "148:\tlearn: 0.1600925\ttotal: 4m 31s\tremaining: 25m 53s\n",
            "149:\tlearn: 0.1599335\ttotal: 4m 33s\tremaining: 25m 50s\n",
            "150:\tlearn: 0.1598278\ttotal: 4m 35s\tremaining: 25m 48s\n",
            "151:\tlearn: 0.1596939\ttotal: 4m 37s\tremaining: 25m 46s\n",
            "152:\tlearn: 0.1595365\ttotal: 4m 38s\tremaining: 25m 44s\n",
            "153:\tlearn: 0.1593552\ttotal: 4m 40s\tremaining: 25m 42s\n",
            "154:\tlearn: 0.1592478\ttotal: 4m 42s\tremaining: 25m 41s\n",
            "155:\tlearn: 0.1590773\ttotal: 4m 44s\tremaining: 25m 39s\n",
            "156:\tlearn: 0.1589460\ttotal: 4m 46s\tremaining: 25m 37s\n",
            "157:\tlearn: 0.1587971\ttotal: 4m 48s\tremaining: 25m 35s\n",
            "158:\tlearn: 0.1586919\ttotal: 4m 49s\tremaining: 25m 33s\n",
            "159:\tlearn: 0.1585119\ttotal: 4m 51s\tremaining: 25m 31s\n",
            "160:\tlearn: 0.1583711\ttotal: 4m 53s\tremaining: 25m 29s\n",
            "161:\tlearn: 0.1582299\ttotal: 4m 55s\tremaining: 25m 28s\n",
            "162:\tlearn: 0.1580532\ttotal: 4m 57s\tremaining: 25m 26s\n",
            "163:\tlearn: 0.1579354\ttotal: 4m 59s\tremaining: 25m 24s\n",
            "164:\tlearn: 0.1578354\ttotal: 5m\tremaining: 25m 22s\n",
            "165:\tlearn: 0.1576838\ttotal: 5m 2s\tremaining: 25m 20s\n",
            "166:\tlearn: 0.1575857\ttotal: 5m 4s\tremaining: 25m 18s\n",
            "167:\tlearn: 0.1574916\ttotal: 5m 6s\tremaining: 25m 17s\n",
            "168:\tlearn: 0.1573728\ttotal: 5m 8s\tremaining: 25m 15s\n",
            "169:\tlearn: 0.1572878\ttotal: 5m 9s\tremaining: 25m 13s\n",
            "170:\tlearn: 0.1571418\ttotal: 5m 11s\tremaining: 25m 11s\n",
            "171:\tlearn: 0.1570412\ttotal: 5m 13s\tremaining: 25m 9s\n",
            "172:\tlearn: 0.1568649\ttotal: 5m 15s\tremaining: 25m 6s\n",
            "173:\tlearn: 0.1567457\ttotal: 5m 17s\tremaining: 25m 4s\n",
            "174:\tlearn: 0.1566299\ttotal: 5m 18s\tremaining: 25m 2s\n",
            "175:\tlearn: 0.1565067\ttotal: 5m 20s\tremaining: 25m\n",
            "176:\tlearn: 0.1563640\ttotal: 5m 22s\tremaining: 24m 58s\n",
            "177:\tlearn: 0.1562917\ttotal: 5m 24s\tremaining: 24m 56s\n",
            "178:\tlearn: 0.1561442\ttotal: 5m 25s\tremaining: 24m 54s\n",
            "179:\tlearn: 0.1559974\ttotal: 5m 27s\tremaining: 24m 52s\n",
            "180:\tlearn: 0.1559175\ttotal: 5m 29s\tremaining: 24m 50s\n",
            "181:\tlearn: 0.1557905\ttotal: 5m 31s\tremaining: 24m 48s\n",
            "182:\tlearn: 0.1556727\ttotal: 5m 32s\tremaining: 24m 46s\n",
            "183:\tlearn: 0.1555923\ttotal: 5m 34s\tremaining: 24m 44s\n",
            "184:\tlearn: 0.1554707\ttotal: 5m 36s\tremaining: 24m 41s\n",
            "185:\tlearn: 0.1553198\ttotal: 5m 38s\tremaining: 24m 39s\n",
            "186:\tlearn: 0.1552531\ttotal: 5m 39s\tremaining: 24m 37s\n",
            "187:\tlearn: 0.1551758\ttotal: 5m 41s\tremaining: 24m 35s\n",
            "188:\tlearn: 0.1543280\ttotal: 5m 43s\tremaining: 24m 33s\n",
            "189:\tlearn: 0.1542182\ttotal: 5m 45s\tremaining: 24m 31s\n",
            "190:\tlearn: 0.1541046\ttotal: 5m 46s\tremaining: 24m 29s\n",
            "191:\tlearn: 0.1540102\ttotal: 5m 48s\tremaining: 24m 27s\n",
            "192:\tlearn: 0.1539178\ttotal: 5m 50s\tremaining: 24m 25s\n",
            "193:\tlearn: 0.1537945\ttotal: 5m 52s\tremaining: 24m 23s\n",
            "194:\tlearn: 0.1535828\ttotal: 5m 53s\tremaining: 24m 21s\n",
            "195:\tlearn: 0.1534988\ttotal: 5m 55s\tremaining: 24m 19s\n",
            "196:\tlearn: 0.1534197\ttotal: 5m 57s\tremaining: 24m 17s\n",
            "197:\tlearn: 0.1532819\ttotal: 5m 59s\tremaining: 24m 15s\n",
            "198:\tlearn: 0.1531717\ttotal: 6m 1s\tremaining: 24m 13s\n",
            "199:\tlearn: 0.1530348\ttotal: 6m 2s\tremaining: 24m 11s\n",
            "200:\tlearn: 0.1529067\ttotal: 6m 4s\tremaining: 24m 9s\n",
            "201:\tlearn: 0.1528319\ttotal: 6m 6s\tremaining: 24m 7s\n",
            "202:\tlearn: 0.1526904\ttotal: 6m 8s\tremaining: 24m 7s\n",
            "203:\tlearn: 0.1526097\ttotal: 6m 11s\tremaining: 24m 8s\n",
            "204:\tlearn: 0.1525437\ttotal: 6m 13s\tremaining: 24m 6s\n",
            "205:\tlearn: 0.1524754\ttotal: 6m 14s\tremaining: 24m 4s\n",
            "206:\tlearn: 0.1523915\ttotal: 6m 16s\tremaining: 24m 2s\n",
            "207:\tlearn: 0.1523297\ttotal: 6m 18s\tremaining: 24m\n",
            "208:\tlearn: 0.1522684\ttotal: 6m 20s\tremaining: 23m 58s\n",
            "209:\tlearn: 0.1521904\ttotal: 6m 21s\tremaining: 23m 56s\n",
            "210:\tlearn: 0.1521151\ttotal: 6m 23s\tremaining: 23m 54s\n",
            "211:\tlearn: 0.1520675\ttotal: 6m 25s\tremaining: 23m 52s\n",
            "212:\tlearn: 0.1520049\ttotal: 6m 27s\tremaining: 23m 50s\n",
            "213:\tlearn: 0.1519385\ttotal: 6m 28s\tremaining: 23m 48s\n",
            "214:\tlearn: 0.1518299\ttotal: 6m 30s\tremaining: 23m 46s\n",
            "215:\tlearn: 0.1517564\ttotal: 6m 32s\tremaining: 23m 44s\n",
            "216:\tlearn: 0.1516676\ttotal: 6m 34s\tremaining: 23m 42s\n",
            "217:\tlearn: 0.1515772\ttotal: 6m 35s\tremaining: 23m 40s\n",
            "218:\tlearn: 0.1515082\ttotal: 6m 37s\tremaining: 23m 37s\n",
            "219:\tlearn: 0.1514456\ttotal: 6m 39s\tremaining: 23m 35s\n",
            "220:\tlearn: 0.1513254\ttotal: 6m 41s\tremaining: 23m 33s\n",
            "221:\tlearn: 0.1512531\ttotal: 6m 42s\tremaining: 23m 31s\n",
            "222:\tlearn: 0.1511694\ttotal: 6m 44s\tremaining: 23m 29s\n",
            "223:\tlearn: 0.1510935\ttotal: 6m 46s\tremaining: 23m 27s\n",
            "224:\tlearn: 0.1510091\ttotal: 6m 48s\tremaining: 23m 25s\n",
            "225:\tlearn: 0.1509067\ttotal: 6m 49s\tremaining: 23m 23s\n",
            "226:\tlearn: 0.1508124\ttotal: 6m 51s\tremaining: 23m 21s\n",
            "227:\tlearn: 0.1507241\ttotal: 6m 53s\tremaining: 23m 19s\n",
            "228:\tlearn: 0.1505928\ttotal: 6m 55s\tremaining: 23m 17s\n",
            "229:\tlearn: 0.1505363\ttotal: 6m 56s\tremaining: 23m 15s\n",
            "230:\tlearn: 0.1504725\ttotal: 6m 58s\tremaining: 23m 13s\n",
            "231:\tlearn: 0.1503976\ttotal: 7m\tremaining: 23m 11s\n",
            "232:\tlearn: 0.1503190\ttotal: 7m 2s\tremaining: 23m 9s\n",
            "233:\tlearn: 0.1502527\ttotal: 7m 3s\tremaining: 23m 7s\n",
            "234:\tlearn: 0.1501684\ttotal: 7m 5s\tremaining: 23m 5s\n",
            "235:\tlearn: 0.1501179\ttotal: 7m 7s\tremaining: 23m 3s\n",
            "236:\tlearn: 0.1500300\ttotal: 7m 9s\tremaining: 23m 1s\n",
            "237:\tlearn: 0.1499583\ttotal: 7m 10s\tremaining: 22m 59s\n",
            "238:\tlearn: 0.1499028\ttotal: 7m 12s\tremaining: 22m 57s\n",
            "239:\tlearn: 0.1498280\ttotal: 7m 14s\tremaining: 22m 55s\n",
            "240:\tlearn: 0.1497072\ttotal: 7m 16s\tremaining: 22m 53s\n",
            "241:\tlearn: 0.1496349\ttotal: 7m 17s\tremaining: 22m 51s\n",
            "242:\tlearn: 0.1495224\ttotal: 7m 19s\tremaining: 22m 49s\n",
            "243:\tlearn: 0.1493828\ttotal: 7m 21s\tremaining: 22m 47s\n",
            "244:\tlearn: 0.1492594\ttotal: 7m 23s\tremaining: 22m 45s\n",
            "245:\tlearn: 0.1491967\ttotal: 7m 24s\tremaining: 22m 43s\n",
            "246:\tlearn: 0.1491307\ttotal: 7m 26s\tremaining: 22m 41s\n",
            "247:\tlearn: 0.1490697\ttotal: 7m 28s\tremaining: 22m 39s\n",
            "248:\tlearn: 0.1490114\ttotal: 7m 30s\tremaining: 22m 37s\n",
            "249:\tlearn: 0.1489214\ttotal: 7m 31s\tremaining: 22m 35s\n",
            "250:\tlearn: 0.1488431\ttotal: 7m 33s\tremaining: 22m 33s\n",
            "251:\tlearn: 0.1486931\ttotal: 7m 35s\tremaining: 22m 31s\n",
            "252:\tlearn: 0.1486448\ttotal: 7m 37s\tremaining: 22m 29s\n",
            "253:\tlearn: 0.1483952\ttotal: 7m 38s\tremaining: 22m 27s\n",
            "254:\tlearn: 0.1483238\ttotal: 7m 40s\tremaining: 22m 25s\n",
            "255:\tlearn: 0.1482671\ttotal: 7m 42s\tremaining: 22m 23s\n",
            "256:\tlearn: 0.1482238\ttotal: 7m 44s\tremaining: 22m 21s\n",
            "257:\tlearn: 0.1481539\ttotal: 7m 45s\tremaining: 22m 19s\n",
            "258:\tlearn: 0.1480871\ttotal: 7m 47s\tremaining: 22m 18s\n",
            "259:\tlearn: 0.1480355\ttotal: 7m 49s\tremaining: 22m 16s\n",
            "260:\tlearn: 0.1479244\ttotal: 7m 51s\tremaining: 22m 14s\n",
            "261:\tlearn: 0.1477531\ttotal: 7m 52s\tremaining: 22m 12s\n",
            "262:\tlearn: 0.1476846\ttotal: 7m 54s\tremaining: 22m 10s\n",
            "263:\tlearn: 0.1475957\ttotal: 7m 56s\tremaining: 22m 8s\n",
            "264:\tlearn: 0.1475044\ttotal: 7m 58s\tremaining: 22m 6s\n",
            "265:\tlearn: 0.1474564\ttotal: 8m\tremaining: 22m 4s\n",
            "266:\tlearn: 0.1473734\ttotal: 8m 1s\tremaining: 22m 2s\n",
            "267:\tlearn: 0.1472657\ttotal: 8m 3s\tremaining: 22m\n",
            "268:\tlearn: 0.1471924\ttotal: 8m 5s\tremaining: 21m 59s\n",
            "269:\tlearn: 0.1471139\ttotal: 8m 7s\tremaining: 21m 57s\n",
            "270:\tlearn: 0.1470723\ttotal: 8m 8s\tremaining: 21m 55s\n",
            "271:\tlearn: 0.1470113\ttotal: 8m 10s\tremaining: 21m 53s\n",
            "272:\tlearn: 0.1468389\ttotal: 8m 12s\tremaining: 21m 51s\n",
            "273:\tlearn: 0.1467632\ttotal: 8m 14s\tremaining: 21m 49s\n",
            "274:\tlearn: 0.1467039\ttotal: 8m 15s\tremaining: 21m 47s\n",
            "275:\tlearn: 0.1466104\ttotal: 8m 17s\tremaining: 21m 45s\n",
            "276:\tlearn: 0.1465226\ttotal: 8m 19s\tremaining: 21m 43s\n",
            "277:\tlearn: 0.1464455\ttotal: 8m 21s\tremaining: 21m 41s\n",
            "278:\tlearn: 0.1463963\ttotal: 8m 23s\tremaining: 21m 39s\n",
            "279:\tlearn: 0.1462671\ttotal: 8m 24s\tremaining: 21m 38s\n",
            "280:\tlearn: 0.1462412\ttotal: 8m 26s\tremaining: 21m 36s\n",
            "281:\tlearn: 0.1461840\ttotal: 8m 28s\tremaining: 21m 34s\n",
            "282:\tlearn: 0.1461301\ttotal: 8m 30s\tremaining: 21m 32s\n",
            "283:\tlearn: 0.1460689\ttotal: 8m 31s\tremaining: 21m 30s\n",
            "284:\tlearn: 0.1459921\ttotal: 8m 33s\tremaining: 21m 28s\n",
            "285:\tlearn: 0.1458981\ttotal: 8m 35s\tremaining: 21m 26s\n",
            "286:\tlearn: 0.1458246\ttotal: 8m 37s\tremaining: 21m 24s\n",
            "287:\tlearn: 0.1457584\ttotal: 8m 38s\tremaining: 21m 22s\n",
            "288:\tlearn: 0.1457166\ttotal: 8m 40s\tremaining: 21m 20s\n",
            "289:\tlearn: 0.1456310\ttotal: 8m 42s\tremaining: 21m 19s\n",
            "290:\tlearn: 0.1455596\ttotal: 8m 44s\tremaining: 21m 17s\n",
            "291:\tlearn: 0.1454820\ttotal: 8m 45s\tremaining: 21m 15s\n",
            "292:\tlearn: 0.1454242\ttotal: 8m 47s\tremaining: 21m 13s\n",
            "293:\tlearn: 0.1453472\ttotal: 8m 49s\tremaining: 21m 11s\n",
            "294:\tlearn: 0.1452853\ttotal: 8m 51s\tremaining: 21m 9s\n",
            "295:\tlearn: 0.1452351\ttotal: 8m 53s\tremaining: 21m 7s\n",
            "296:\tlearn: 0.1451743\ttotal: 8m 54s\tremaining: 21m 5s\n",
            "297:\tlearn: 0.1451202\ttotal: 8m 56s\tremaining: 21m 3s\n",
            "298:\tlearn: 0.1450382\ttotal: 8m 58s\tremaining: 21m 1s\n",
            "299:\tlearn: 0.1449833\ttotal: 9m\tremaining: 21m\n",
            "300:\tlearn: 0.1449356\ttotal: 9m 1s\tremaining: 20m 58s\n",
            "301:\tlearn: 0.1448834\ttotal: 9m 3s\tremaining: 20m 57s\n",
            "302:\tlearn: 0.1448350\ttotal: 9m 6s\tremaining: 20m 57s\n",
            "303:\tlearn: 0.1447723\ttotal: 9m 8s\tremaining: 20m 56s\n",
            "304:\tlearn: 0.1443153\ttotal: 9m 10s\tremaining: 20m 54s\n",
            "305:\tlearn: 0.1442624\ttotal: 9m 12s\tremaining: 20m 52s\n",
            "306:\tlearn: 0.1442295\ttotal: 9m 13s\tremaining: 20m 50s\n",
            "307:\tlearn: 0.1441273\ttotal: 9m 15s\tremaining: 20m 48s\n",
            "308:\tlearn: 0.1440711\ttotal: 9m 17s\tremaining: 20m 46s\n",
            "309:\tlearn: 0.1439681\ttotal: 9m 19s\tremaining: 20m 44s\n",
            "310:\tlearn: 0.1438939\ttotal: 9m 20s\tremaining: 20m 42s\n",
            "311:\tlearn: 0.1438578\ttotal: 9m 22s\tremaining: 20m 40s\n",
            "312:\tlearn: 0.1438013\ttotal: 9m 24s\tremaining: 20m 39s\n",
            "313:\tlearn: 0.1437529\ttotal: 9m 26s\tremaining: 20m 37s\n",
            "314:\tlearn: 0.1436446\ttotal: 9m 28s\tremaining: 20m 35s\n",
            "315:\tlearn: 0.1435941\ttotal: 9m 29s\tremaining: 20m 33s\n",
            "316:\tlearn: 0.1435720\ttotal: 9m 31s\tremaining: 20m 31s\n",
            "317:\tlearn: 0.1434678\ttotal: 9m 33s\tremaining: 20m 29s\n",
            "318:\tlearn: 0.1434352\ttotal: 9m 35s\tremaining: 20m 28s\n",
            "319:\tlearn: 0.1433426\ttotal: 9m 37s\tremaining: 20m 26s\n",
            "320:\tlearn: 0.1432997\ttotal: 9m 38s\tremaining: 20m 24s\n",
            "321:\tlearn: 0.1431341\ttotal: 9m 40s\tremaining: 20m 22s\n",
            "322:\tlearn: 0.1430729\ttotal: 9m 42s\tremaining: 20m 20s\n",
            "323:\tlearn: 0.1429527\ttotal: 9m 44s\tremaining: 20m 18s\n",
            "324:\tlearn: 0.1428931\ttotal: 9m 45s\tremaining: 20m 16s\n",
            "325:\tlearn: 0.1428254\ttotal: 9m 47s\tremaining: 20m 14s\n",
            "326:\tlearn: 0.1426703\ttotal: 9m 49s\tremaining: 20m 13s\n",
            "327:\tlearn: 0.1426029\ttotal: 9m 51s\tremaining: 20m 11s\n",
            "328:\tlearn: 0.1425453\ttotal: 9m 52s\tremaining: 20m 9s\n",
            "329:\tlearn: 0.1424769\ttotal: 9m 54s\tremaining: 20m 7s\n",
            "330:\tlearn: 0.1424316\ttotal: 9m 56s\tremaining: 20m 5s\n",
            "331:\tlearn: 0.1423339\ttotal: 9m 58s\tremaining: 20m 3s\n",
            "332:\tlearn: 0.1422849\ttotal: 9m 59s\tremaining: 20m 1s\n",
            "333:\tlearn: 0.1422242\ttotal: 10m 1s\tremaining: 19m 59s\n",
            "334:\tlearn: 0.1421407\ttotal: 10m 3s\tremaining: 19m 57s\n",
            "335:\tlearn: 0.1420725\ttotal: 10m 5s\tremaining: 19m 56s\n",
            "336:\tlearn: 0.1420217\ttotal: 10m 7s\tremaining: 19m 54s\n",
            "337:\tlearn: 0.1419711\ttotal: 10m 8s\tremaining: 19m 52s\n",
            "338:\tlearn: 0.1419204\ttotal: 10m 10s\tremaining: 19m 50s\n",
            "339:\tlearn: 0.1418291\ttotal: 10m 12s\tremaining: 19m 48s\n",
            "340:\tlearn: 0.1418006\ttotal: 10m 13s\tremaining: 19m 46s\n",
            "341:\tlearn: 0.1417207\ttotal: 10m 15s\tremaining: 19m 44s\n",
            "342:\tlearn: 0.1416898\ttotal: 10m 17s\tremaining: 19m 42s\n",
            "343:\tlearn: 0.1416356\ttotal: 10m 19s\tremaining: 19m 40s\n",
            "344:\tlearn: 0.1415998\ttotal: 10m 20s\tremaining: 19m 38s\n",
            "345:\tlearn: 0.1415505\ttotal: 10m 22s\tremaining: 19m 36s\n",
            "346:\tlearn: 0.1414929\ttotal: 10m 24s\tremaining: 19m 35s\n",
            "347:\tlearn: 0.1414396\ttotal: 10m 26s\tremaining: 19m 33s\n",
            "348:\tlearn: 0.1413868\ttotal: 10m 27s\tremaining: 19m 31s\n",
            "349:\tlearn: 0.1413433\ttotal: 10m 29s\tremaining: 19m 29s\n",
            "350:\tlearn: 0.1413173\ttotal: 10m 31s\tremaining: 19m 27s\n",
            "351:\tlearn: 0.1412361\ttotal: 10m 33s\tremaining: 19m 25s\n",
            "352:\tlearn: 0.1411704\ttotal: 10m 34s\tremaining: 19m 23s\n",
            "353:\tlearn: 0.1411004\ttotal: 10m 36s\tremaining: 19m 22s\n",
            "354:\tlearn: 0.1410695\ttotal: 10m 38s\tremaining: 19m 20s\n",
            "355:\tlearn: 0.1410013\ttotal: 10m 40s\tremaining: 19m 18s\n",
            "356:\tlearn: 0.1409523\ttotal: 10m 42s\tremaining: 19m 16s\n",
            "357:\tlearn: 0.1408977\ttotal: 10m 43s\tremaining: 19m 14s\n",
            "358:\tlearn: 0.1408152\ttotal: 10m 45s\tremaining: 19m 12s\n",
            "359:\tlearn: 0.1407591\ttotal: 10m 47s\tremaining: 19m 10s\n",
            "360:\tlearn: 0.1407009\ttotal: 10m 49s\tremaining: 19m 9s\n",
            "361:\tlearn: 0.1406394\ttotal: 10m 50s\tremaining: 19m 7s\n",
            "362:\tlearn: 0.1405707\ttotal: 10m 52s\tremaining: 19m 5s\n",
            "363:\tlearn: 0.1405114\ttotal: 10m 54s\tremaining: 19m 3s\n",
            "364:\tlearn: 0.1404672\ttotal: 10m 56s\tremaining: 19m 1s\n",
            "365:\tlearn: 0.1404082\ttotal: 10m 57s\tremaining: 18m 59s\n",
            "366:\tlearn: 0.1403449\ttotal: 10m 59s\tremaining: 18m 57s\n",
            "367:\tlearn: 0.1402847\ttotal: 11m 1s\tremaining: 18m 55s\n",
            "368:\tlearn: 0.1402088\ttotal: 11m 3s\tremaining: 18m 53s\n",
            "369:\tlearn: 0.1401279\ttotal: 11m 4s\tremaining: 18m 52s\n",
            "370:\tlearn: 0.1400774\ttotal: 11m 6s\tremaining: 18m 50s\n",
            "371:\tlearn: 0.1400291\ttotal: 11m 8s\tremaining: 18m 48s\n",
            "372:\tlearn: 0.1399707\ttotal: 11m 10s\tremaining: 18m 46s\n",
            "373:\tlearn: 0.1399039\ttotal: 11m 11s\tremaining: 18m 44s\n",
            "374:\tlearn: 0.1398394\ttotal: 11m 13s\tremaining: 18m 42s\n",
            "375:\tlearn: 0.1397717\ttotal: 11m 15s\tremaining: 18m 41s\n",
            "376:\tlearn: 0.1397180\ttotal: 11m 17s\tremaining: 18m 39s\n",
            "377:\tlearn: 0.1396371\ttotal: 11m 19s\tremaining: 18m 37s\n",
            "378:\tlearn: 0.1395872\ttotal: 11m 20s\tremaining: 18m 35s\n",
            "379:\tlearn: 0.1395356\ttotal: 11m 22s\tremaining: 18m 33s\n",
            "380:\tlearn: 0.1394472\ttotal: 11m 24s\tremaining: 18m 31s\n",
            "381:\tlearn: 0.1393635\ttotal: 11m 26s\tremaining: 18m 29s\n",
            "382:\tlearn: 0.1392910\ttotal: 11m 27s\tremaining: 18m 27s\n",
            "383:\tlearn: 0.1392007\ttotal: 11m 29s\tremaining: 18m 26s\n",
            "384:\tlearn: 0.1391420\ttotal: 11m 31s\tremaining: 18m 24s\n",
            "385:\tlearn: 0.1390911\ttotal: 11m 33s\tremaining: 18m 22s\n",
            "386:\tlearn: 0.1390269\ttotal: 11m 34s\tremaining: 18m 20s\n",
            "387:\tlearn: 0.1389836\ttotal: 11m 36s\tremaining: 18m 18s\n",
            "388:\tlearn: 0.1389300\ttotal: 11m 38s\tremaining: 18m 16s\n",
            "389:\tlearn: 0.1388714\ttotal: 11m 40s\tremaining: 18m 14s\n",
            "390:\tlearn: 0.1388209\ttotal: 11m 41s\tremaining: 18m 13s\n",
            "391:\tlearn: 0.1387239\ttotal: 11m 43s\tremaining: 18m 11s\n",
            "392:\tlearn: 0.1386833\ttotal: 11m 45s\tremaining: 18m 9s\n",
            "393:\tlearn: 0.1386329\ttotal: 11m 47s\tremaining: 18m 7s\n",
            "394:\tlearn: 0.1386065\ttotal: 11m 48s\tremaining: 18m 5s\n",
            "395:\tlearn: 0.1385753\ttotal: 11m 50s\tremaining: 18m 3s\n",
            "396:\tlearn: 0.1385432\ttotal: 11m 52s\tremaining: 18m 2s\n",
            "397:\tlearn: 0.1384803\ttotal: 11m 54s\tremaining: 18m\n",
            "398:\tlearn: 0.1384072\ttotal: 11m 55s\tremaining: 17m 58s\n",
            "399:\tlearn: 0.1383579\ttotal: 11m 57s\tremaining: 17m 56s\n",
            "400:\tlearn: 0.1383119\ttotal: 11m 59s\tremaining: 17m 54s\n",
            "401:\tlearn: 0.1382873\ttotal: 12m 2s\tremaining: 17m 54s\n",
            "402:\tlearn: 0.1382440\ttotal: 12m 4s\tremaining: 17m 53s\n",
            "403:\tlearn: 0.1382087\ttotal: 12m 6s\tremaining: 17m 51s\n",
            "404:\tlearn: 0.1381663\ttotal: 12m 7s\tremaining: 17m 49s\n",
            "405:\tlearn: 0.1381476\ttotal: 12m 9s\tremaining: 17m 47s\n",
            "406:\tlearn: 0.1380984\ttotal: 12m 11s\tremaining: 17m 45s\n",
            "407:\tlearn: 0.1380485\ttotal: 12m 13s\tremaining: 17m 43s\n",
            "408:\tlearn: 0.1380006\ttotal: 12m 14s\tremaining: 17m 42s\n",
            "409:\tlearn: 0.1379367\ttotal: 12m 16s\tremaining: 17m 40s\n",
            "410:\tlearn: 0.1379026\ttotal: 12m 18s\tremaining: 17m 38s\n",
            "411:\tlearn: 0.1378676\ttotal: 12m 20s\tremaining: 17m 36s\n",
            "412:\tlearn: 0.1378027\ttotal: 12m 21s\tremaining: 17m 34s\n",
            "413:\tlearn: 0.1377479\ttotal: 12m 23s\tremaining: 17m 32s\n",
            "414:\tlearn: 0.1376880\ttotal: 12m 25s\tremaining: 17m 30s\n",
            "415:\tlearn: 0.1376435\ttotal: 12m 27s\tremaining: 17m 29s\n",
            "416:\tlearn: 0.1375713\ttotal: 12m 29s\tremaining: 17m 27s\n",
            "417:\tlearn: 0.1375027\ttotal: 12m 30s\tremaining: 17m 25s\n",
            "418:\tlearn: 0.1374505\ttotal: 12m 32s\tremaining: 17m 23s\n",
            "419:\tlearn: 0.1373811\ttotal: 12m 34s\tremaining: 17m 21s\n",
            "420:\tlearn: 0.1373313\ttotal: 12m 36s\tremaining: 17m 19s\n",
            "421:\tlearn: 0.1372953\ttotal: 12m 37s\tremaining: 17m 17s\n",
            "422:\tlearn: 0.1372580\ttotal: 12m 39s\tremaining: 17m 16s\n",
            "423:\tlearn: 0.1372223\ttotal: 12m 41s\tremaining: 17m 14s\n",
            "424:\tlearn: 0.1371640\ttotal: 12m 43s\tremaining: 17m 12s\n",
            "425:\tlearn: 0.1371104\ttotal: 12m 44s\tremaining: 17m 10s\n",
            "426:\tlearn: 0.1370455\ttotal: 12m 46s\tremaining: 17m 8s\n",
            "427:\tlearn: 0.1370083\ttotal: 12m 48s\tremaining: 17m 6s\n",
            "428:\tlearn: 0.1369344\ttotal: 12m 50s\tremaining: 17m 5s\n",
            "429:\tlearn: 0.1368944\ttotal: 12m 51s\tremaining: 17m 3s\n",
            "430:\tlearn: 0.1367951\ttotal: 12m 53s\tremaining: 17m 1s\n",
            "431:\tlearn: 0.1367255\ttotal: 12m 55s\tremaining: 16m 59s\n",
            "432:\tlearn: 0.1366897\ttotal: 12m 57s\tremaining: 16m 57s\n",
            "433:\tlearn: 0.1366364\ttotal: 12m 58s\tremaining: 16m 55s\n",
            "434:\tlearn: 0.1365797\ttotal: 13m\tremaining: 16m 54s\n",
            "435:\tlearn: 0.1365395\ttotal: 13m 2s\tremaining: 16m 52s\n",
            "436:\tlearn: 0.1364620\ttotal: 13m 4s\tremaining: 16m 50s\n",
            "437:\tlearn: 0.1364042\ttotal: 13m 6s\tremaining: 16m 48s\n",
            "438:\tlearn: 0.1363675\ttotal: 13m 7s\tremaining: 16m 46s\n",
            "439:\tlearn: 0.1363216\ttotal: 13m 9s\tremaining: 16m 44s\n",
            "440:\tlearn: 0.1362821\ttotal: 13m 11s\tremaining: 16m 43s\n",
            "441:\tlearn: 0.1362207\ttotal: 13m 13s\tremaining: 16m 41s\n",
            "442:\tlearn: 0.1361901\ttotal: 13m 14s\tremaining: 16m 39s\n",
            "443:\tlearn: 0.1361379\ttotal: 13m 16s\tremaining: 16m 37s\n",
            "444:\tlearn: 0.1360888\ttotal: 13m 18s\tremaining: 16m 35s\n",
            "445:\tlearn: 0.1360350\ttotal: 13m 20s\tremaining: 16m 34s\n",
            "446:\tlearn: 0.1359811\ttotal: 13m 22s\tremaining: 16m 32s\n",
            "447:\tlearn: 0.1359294\ttotal: 13m 23s\tremaining: 16m 30s\n",
            "448:\tlearn: 0.1358902\ttotal: 13m 25s\tremaining: 16m 28s\n",
            "449:\tlearn: 0.1358494\ttotal: 13m 27s\tremaining: 16m 26s\n",
            "450:\tlearn: 0.1357986\ttotal: 13m 29s\tremaining: 16m 25s\n",
            "451:\tlearn: 0.1357556\ttotal: 13m 30s\tremaining: 16m 23s\n",
            "452:\tlearn: 0.1357347\ttotal: 13m 32s\tremaining: 16m 21s\n",
            "453:\tlearn: 0.1356696\ttotal: 13m 34s\tremaining: 16m 19s\n",
            "454:\tlearn: 0.1356173\ttotal: 13m 36s\tremaining: 16m 17s\n",
            "455:\tlearn: 0.1355756\ttotal: 13m 38s\tremaining: 16m 15s\n",
            "456:\tlearn: 0.1354998\ttotal: 13m 39s\tremaining: 16m 14s\n",
            "457:\tlearn: 0.1354573\ttotal: 13m 41s\tremaining: 16m 12s\n",
            "458:\tlearn: 0.1354147\ttotal: 13m 43s\tremaining: 16m 10s\n",
            "459:\tlearn: 0.1353254\ttotal: 13m 45s\tremaining: 16m 8s\n",
            "460:\tlearn: 0.1351891\ttotal: 13m 46s\tremaining: 16m 6s\n",
            "461:\tlearn: 0.1351330\ttotal: 13m 48s\tremaining: 16m 4s\n",
            "462:\tlearn: 0.1350992\ttotal: 13m 50s\tremaining: 16m 3s\n",
            "463:\tlearn: 0.1350751\ttotal: 13m 52s\tremaining: 16m 1s\n",
            "464:\tlearn: 0.1350453\ttotal: 13m 53s\tremaining: 15m 59s\n",
            "465:\tlearn: 0.1350212\ttotal: 13m 55s\tremaining: 15m 57s\n",
            "466:\tlearn: 0.1349593\ttotal: 13m 57s\tremaining: 15m 55s\n",
            "467:\tlearn: 0.1348827\ttotal: 13m 59s\tremaining: 15m 53s\n",
            "468:\tlearn: 0.1348422\ttotal: 14m 1s\tremaining: 15m 52s\n",
            "469:\tlearn: 0.1348050\ttotal: 14m 2s\tremaining: 15m 50s\n",
            "470:\tlearn: 0.1347723\ttotal: 14m 4s\tremaining: 15m 48s\n",
            "471:\tlearn: 0.1347505\ttotal: 14m 6s\tremaining: 15m 46s\n",
            "472:\tlearn: 0.1347181\ttotal: 14m 8s\tremaining: 15m 44s\n",
            "473:\tlearn: 0.1346438\ttotal: 14m 9s\tremaining: 15m 43s\n",
            "474:\tlearn: 0.1345946\ttotal: 14m 11s\tremaining: 15m 41s\n",
            "475:\tlearn: 0.1345569\ttotal: 14m 13s\tremaining: 15m 39s\n",
            "476:\tlearn: 0.1345202\ttotal: 14m 15s\tremaining: 15m 37s\n",
            "477:\tlearn: 0.1344725\ttotal: 14m 16s\tremaining: 15m 35s\n",
            "478:\tlearn: 0.1344254\ttotal: 14m 18s\tremaining: 15m 33s\n",
            "479:\tlearn: 0.1343765\ttotal: 14m 20s\tremaining: 15m 32s\n",
            "480:\tlearn: 0.1343249\ttotal: 14m 22s\tremaining: 15m 30s\n",
            "481:\tlearn: 0.1342944\ttotal: 14m 23s\tremaining: 15m 28s\n",
            "482:\tlearn: 0.1342362\ttotal: 14m 25s\tremaining: 15m 26s\n",
            "483:\tlearn: 0.1341720\ttotal: 14m 27s\tremaining: 15m 24s\n",
            "484:\tlearn: 0.1341277\ttotal: 14m 29s\tremaining: 15m 22s\n",
            "485:\tlearn: 0.1340876\ttotal: 14m 30s\tremaining: 15m 21s\n",
            "486:\tlearn: 0.1340385\ttotal: 14m 32s\tremaining: 15m 19s\n",
            "487:\tlearn: 0.1340102\ttotal: 14m 34s\tremaining: 15m 17s\n",
            "488:\tlearn: 0.1339752\ttotal: 14m 36s\tremaining: 15m 15s\n",
            "489:\tlearn: 0.1339236\ttotal: 14m 38s\tremaining: 15m 13s\n",
            "490:\tlearn: 0.1338941\ttotal: 14m 39s\tremaining: 15m 12s\n",
            "491:\tlearn: 0.1338697\ttotal: 14m 41s\tremaining: 15m 10s\n",
            "492:\tlearn: 0.1338392\ttotal: 14m 43s\tremaining: 15m 8s\n",
            "493:\tlearn: 0.1337892\ttotal: 14m 45s\tremaining: 15m 6s\n",
            "494:\tlearn: 0.1337597\ttotal: 14m 46s\tremaining: 15m 4s\n",
            "495:\tlearn: 0.1336843\ttotal: 14m 48s\tremaining: 15m 3s\n",
            "496:\tlearn: 0.1336424\ttotal: 14m 50s\tremaining: 15m 1s\n",
            "497:\tlearn: 0.1335614\ttotal: 14m 52s\tremaining: 14m 59s\n",
            "498:\tlearn: 0.1335295\ttotal: 14m 54s\tremaining: 14m 57s\n",
            "499:\tlearn: 0.1335024\ttotal: 14m 57s\tremaining: 14m 57s\n",
            "500:\tlearn: 0.1334572\ttotal: 14m 59s\tremaining: 14m 55s\n",
            "501:\tlearn: 0.1334170\ttotal: 15m\tremaining: 14m 53s\n",
            "502:\tlearn: 0.1333839\ttotal: 15m 2s\tremaining: 14m 51s\n",
            "503:\tlearn: 0.1333359\ttotal: 15m 4s\tremaining: 14m 49s\n",
            "504:\tlearn: 0.1333029\ttotal: 15m 6s\tremaining: 14m 48s\n",
            "505:\tlearn: 0.1332044\ttotal: 15m 7s\tremaining: 14m 46s\n",
            "506:\tlearn: 0.1331766\ttotal: 15m 9s\tremaining: 14m 44s\n",
            "507:\tlearn: 0.1331303\ttotal: 15m 11s\tremaining: 14m 42s\n",
            "508:\tlearn: 0.1331011\ttotal: 15m 13s\tremaining: 14m 41s\n",
            "509:\tlearn: 0.1330393\ttotal: 15m 15s\tremaining: 14m 39s\n",
            "510:\tlearn: 0.1330099\ttotal: 15m 17s\tremaining: 14m 37s\n",
            "511:\tlearn: 0.1329795\ttotal: 15m 18s\tremaining: 14m 35s\n",
            "512:\tlearn: 0.1329201\ttotal: 15m 20s\tremaining: 14m 33s\n",
            "513:\tlearn: 0.1328814\ttotal: 15m 22s\tremaining: 14m 32s\n",
            "514:\tlearn: 0.1328490\ttotal: 15m 24s\tremaining: 14m 30s\n",
            "515:\tlearn: 0.1327626\ttotal: 15m 26s\tremaining: 14m 28s\n",
            "516:\tlearn: 0.1327250\ttotal: 15m 28s\tremaining: 14m 26s\n",
            "517:\tlearn: 0.1327002\ttotal: 15m 29s\tremaining: 14m 25s\n",
            "518:\tlearn: 0.1326446\ttotal: 15m 31s\tremaining: 14m 23s\n",
            "519:\tlearn: 0.1325898\ttotal: 15m 33s\tremaining: 14m 21s\n",
            "520:\tlearn: 0.1325474\ttotal: 15m 35s\tremaining: 14m 19s\n",
            "521:\tlearn: 0.1324997\ttotal: 15m 37s\tremaining: 14m 18s\n",
            "522:\tlearn: 0.1323589\ttotal: 15m 38s\tremaining: 14m 16s\n",
            "523:\tlearn: 0.1323323\ttotal: 15m 41s\tremaining: 14m 15s\n",
            "524:\tlearn: 0.1323011\ttotal: 15m 44s\tremaining: 14m 14s\n",
            "525:\tlearn: 0.1322805\ttotal: 15m 47s\tremaining: 14m 13s\n",
            "526:\tlearn: 0.1322211\ttotal: 15m 51s\tremaining: 14m 13s\n",
            "527:\tlearn: 0.1321732\ttotal: 15m 54s\tremaining: 14m 12s\n",
            "528:\tlearn: 0.1321132\ttotal: 15m 57s\tremaining: 14m 12s\n",
            "529:\tlearn: 0.1320785\ttotal: 16m\tremaining: 14m 11s\n",
            "530:\tlearn: 0.1320417\ttotal: 16m 3s\tremaining: 14m 10s\n",
            "531:\tlearn: 0.1319834\ttotal: 16m 5s\tremaining: 14m 9s\n",
            "532:\tlearn: 0.1319277\ttotal: 16m 9s\tremaining: 14m 9s\n",
            "533:\tlearn: 0.1318996\ttotal: 16m 12s\tremaining: 14m 8s\n",
            "534:\tlearn: 0.1318570\ttotal: 16m 13s\tremaining: 14m 6s\n",
            "535:\tlearn: 0.1318358\ttotal: 16m 15s\tremaining: 14m 4s\n",
            "536:\tlearn: 0.1317792\ttotal: 16m 17s\tremaining: 14m 2s\n",
            "537:\tlearn: 0.1317263\ttotal: 16m 19s\tremaining: 14m\n",
            "538:\tlearn: 0.1316922\ttotal: 16m 20s\tremaining: 13m 58s\n",
            "539:\tlearn: 0.1316554\ttotal: 16m 22s\tremaining: 13m 57s\n",
            "540:\tlearn: 0.1315967\ttotal: 16m 24s\tremaining: 13m 55s\n",
            "541:\tlearn: 0.1315518\ttotal: 16m 26s\tremaining: 13m 53s\n",
            "542:\tlearn: 0.1315109\ttotal: 16m 27s\tremaining: 13m 51s\n",
            "543:\tlearn: 0.1314830\ttotal: 16m 29s\tremaining: 13m 49s\n",
            "544:\tlearn: 0.1314512\ttotal: 16m 31s\tremaining: 13m 47s\n",
            "545:\tlearn: 0.1314236\ttotal: 16m 33s\tremaining: 13m 45s\n",
            "546:\tlearn: 0.1313815\ttotal: 16m 34s\tremaining: 13m 43s\n",
            "547:\tlearn: 0.1313601\ttotal: 16m 36s\tremaining: 13m 42s\n",
            "548:\tlearn: 0.1313214\ttotal: 16m 38s\tremaining: 13m 40s\n",
            "549:\tlearn: 0.1312915\ttotal: 16m 40s\tremaining: 13m 38s\n",
            "550:\tlearn: 0.1312506\ttotal: 16m 42s\tremaining: 13m 36s\n",
            "551:\tlearn: 0.1312120\ttotal: 16m 43s\tremaining: 13m 34s\n",
            "552:\tlearn: 0.1311713\ttotal: 16m 45s\tremaining: 13m 32s\n",
            "553:\tlearn: 0.1311398\ttotal: 16m 47s\tremaining: 13m 30s\n",
            "554:\tlearn: 0.1310876\ttotal: 16m 49s\tremaining: 13m 29s\n",
            "555:\tlearn: 0.1310413\ttotal: 16m 50s\tremaining: 13m 27s\n",
            "556:\tlearn: 0.1310255\ttotal: 16m 52s\tremaining: 13m 25s\n",
            "557:\tlearn: 0.1309522\ttotal: 16m 54s\tremaining: 13m 23s\n",
            "558:\tlearn: 0.1309289\ttotal: 16m 55s\tremaining: 13m 21s\n",
            "559:\tlearn: 0.1309041\ttotal: 16m 57s\tremaining: 13m 19s\n",
            "560:\tlearn: 0.1308800\ttotal: 16m 59s\tremaining: 13m 17s\n",
            "561:\tlearn: 0.1308424\ttotal: 17m 1s\tremaining: 13m 15s\n",
            "562:\tlearn: 0.1307629\ttotal: 17m 2s\tremaining: 13m 14s\n",
            "563:\tlearn: 0.1307394\ttotal: 17m 4s\tremaining: 13m 12s\n",
            "564:\tlearn: 0.1306970\ttotal: 17m 6s\tremaining: 13m 10s\n",
            "565:\tlearn: 0.1306732\ttotal: 17m 8s\tremaining: 13m 8s\n",
            "566:\tlearn: 0.1306231\ttotal: 17m 9s\tremaining: 13m 6s\n",
            "567:\tlearn: 0.1305719\ttotal: 17m 11s\tremaining: 13m 4s\n",
            "568:\tlearn: 0.1305250\ttotal: 17m 13s\tremaining: 13m 2s\n",
            "569:\tlearn: 0.1305018\ttotal: 17m 15s\tremaining: 13m\n",
            "570:\tlearn: 0.1304832\ttotal: 17m 16s\tremaining: 12m 59s\n",
            "571:\tlearn: 0.1304426\ttotal: 17m 18s\tremaining: 12m 57s\n",
            "572:\tlearn: 0.1303967\ttotal: 17m 20s\tremaining: 12m 55s\n",
            "573:\tlearn: 0.1303678\ttotal: 17m 22s\tremaining: 12m 53s\n",
            "574:\tlearn: 0.1303443\ttotal: 17m 24s\tremaining: 12m 51s\n",
            "575:\tlearn: 0.1303041\ttotal: 17m 25s\tremaining: 12m 49s\n",
            "576:\tlearn: 0.1302467\ttotal: 17m 27s\tremaining: 12m 47s\n",
            "577:\tlearn: 0.1302120\ttotal: 17m 29s\tremaining: 12m 46s\n",
            "578:\tlearn: 0.1301858\ttotal: 17m 31s\tremaining: 12m 44s\n",
            "579:\tlearn: 0.1301233\ttotal: 17m 32s\tremaining: 12m 42s\n",
            "580:\tlearn: 0.1300915\ttotal: 17m 34s\tremaining: 12m 40s\n",
            "581:\tlearn: 0.1300771\ttotal: 17m 36s\tremaining: 12m 38s\n",
            "582:\tlearn: 0.1300548\ttotal: 17m 38s\tremaining: 12m 36s\n",
            "583:\tlearn: 0.1300251\ttotal: 17m 39s\tremaining: 12m 35s\n",
            "584:\tlearn: 0.1299957\ttotal: 17m 43s\tremaining: 12m 34s\n",
            "585:\tlearn: 0.1299634\ttotal: 17m 45s\tremaining: 12m 32s\n",
            "586:\tlearn: 0.1299301\ttotal: 17m 47s\tremaining: 12m 30s\n",
            "587:\tlearn: 0.1298843\ttotal: 17m 49s\tremaining: 12m 29s\n",
            "588:\tlearn: 0.1298297\ttotal: 17m 51s\tremaining: 12m 28s\n",
            "589:\tlearn: 0.1297862\ttotal: 17m 54s\tremaining: 12m 26s\n",
            "590:\tlearn: 0.1297510\ttotal: 17m 55s\tremaining: 12m 24s\n",
            "591:\tlearn: 0.1296545\ttotal: 17m 57s\tremaining: 12m 22s\n",
            "592:\tlearn: 0.1296247\ttotal: 17m 59s\tremaining: 12m 20s\n",
            "593:\tlearn: 0.1296049\ttotal: 18m 1s\tremaining: 12m 18s\n",
            "594:\tlearn: 0.1295871\ttotal: 18m 2s\tremaining: 12m 17s\n",
            "595:\tlearn: 0.1295600\ttotal: 18m 4s\tremaining: 12m 15s\n",
            "596:\tlearn: 0.1295352\ttotal: 18m 6s\tremaining: 12m 13s\n",
            "597:\tlearn: 0.1294939\ttotal: 18m 8s\tremaining: 12m 11s\n",
            "598:\tlearn: 0.1294587\ttotal: 18m 9s\tremaining: 12m 9s\n",
            "599:\tlearn: 0.1294271\ttotal: 18m 11s\tremaining: 12m 7s\n",
            "600:\tlearn: 0.1293965\ttotal: 18m 13s\tremaining: 12m 5s\n",
            "601:\tlearn: 0.1293477\ttotal: 18m 15s\tremaining: 12m 4s\n",
            "602:\tlearn: 0.1293280\ttotal: 18m 17s\tremaining: 12m 2s\n",
            "603:\tlearn: 0.1293109\ttotal: 18m 19s\tremaining: 12m\n",
            "604:\tlearn: 0.1292821\ttotal: 18m 20s\tremaining: 11m 58s\n",
            "605:\tlearn: 0.1292436\ttotal: 18m 22s\tremaining: 11m 56s\n",
            "606:\tlearn: 0.1292067\ttotal: 18m 24s\tremaining: 11m 55s\n",
            "607:\tlearn: 0.1291656\ttotal: 18m 26s\tremaining: 11m 53s\n",
            "608:\tlearn: 0.1291341\ttotal: 18m 27s\tremaining: 11m 51s\n",
            "609:\tlearn: 0.1291149\ttotal: 18m 29s\tremaining: 11m 49s\n",
            "610:\tlearn: 0.1290964\ttotal: 18m 31s\tremaining: 11m 47s\n",
            "611:\tlearn: 0.1290480\ttotal: 18m 33s\tremaining: 11m 45s\n",
            "612:\tlearn: 0.1290311\ttotal: 18m 34s\tremaining: 11m 43s\n",
            "613:\tlearn: 0.1290133\ttotal: 18m 36s\tremaining: 11m 42s\n",
            "614:\tlearn: 0.1289632\ttotal: 18m 38s\tremaining: 11m 40s\n",
            "615:\tlearn: 0.1289451\ttotal: 18m 40s\tremaining: 11m 38s\n",
            "616:\tlearn: 0.1289200\ttotal: 18m 41s\tremaining: 11m 36s\n",
            "617:\tlearn: 0.1288886\ttotal: 18m 43s\tremaining: 11m 34s\n",
            "618:\tlearn: 0.1288703\ttotal: 18m 45s\tremaining: 11m 32s\n",
            "619:\tlearn: 0.1288392\ttotal: 18m 47s\tremaining: 11m 30s\n",
            "620:\tlearn: 0.1288138\ttotal: 18m 49s\tremaining: 11m 29s\n",
            "621:\tlearn: 0.1287518\ttotal: 18m 50s\tremaining: 11m 27s\n",
            "622:\tlearn: 0.1287302\ttotal: 18m 52s\tremaining: 11m 25s\n",
            "623:\tlearn: 0.1286956\ttotal: 18m 54s\tremaining: 11m 23s\n",
            "624:\tlearn: 0.1286650\ttotal: 18m 56s\tremaining: 11m 21s\n",
            "625:\tlearn: 0.1286351\ttotal: 18m 57s\tremaining: 11m 19s\n",
            "626:\tlearn: 0.1286064\ttotal: 18m 59s\tremaining: 11m 17s\n",
            "627:\tlearn: 0.1285623\ttotal: 19m 1s\tremaining: 11m 16s\n",
            "628:\tlearn: 0.1285438\ttotal: 19m 3s\tremaining: 11m 14s\n",
            "629:\tlearn: 0.1285115\ttotal: 19m 4s\tremaining: 11m 12s\n",
            "630:\tlearn: 0.1284909\ttotal: 19m 6s\tremaining: 11m 10s\n",
            "631:\tlearn: 0.1284704\ttotal: 19m 8s\tremaining: 11m 8s\n",
            "632:\tlearn: 0.1283967\ttotal: 19m 10s\tremaining: 11m 6s\n",
            "633:\tlearn: 0.1283770\ttotal: 19m 11s\tremaining: 11m 4s\n",
            "634:\tlearn: 0.1283524\ttotal: 19m 13s\tremaining: 11m 3s\n",
            "635:\tlearn: 0.1283287\ttotal: 19m 15s\tremaining: 11m 1s\n",
            "636:\tlearn: 0.1283011\ttotal: 19m 17s\tremaining: 10m 59s\n",
            "637:\tlearn: 0.1282771\ttotal: 19m 19s\tremaining: 10m 57s\n",
            "638:\tlearn: 0.1282220\ttotal: 19m 20s\tremaining: 10m 55s\n",
            "639:\tlearn: 0.1281767\ttotal: 19m 22s\tremaining: 10m 53s\n",
            "640:\tlearn: 0.1281574\ttotal: 19m 24s\tremaining: 10m 52s\n",
            "641:\tlearn: 0.1281209\ttotal: 19m 26s\tremaining: 10m 50s\n",
            "642:\tlearn: 0.1280898\ttotal: 19m 27s\tremaining: 10m 48s\n",
            "643:\tlearn: 0.1280567\ttotal: 19m 29s\tremaining: 10m 46s\n",
            "644:\tlearn: 0.1279764\ttotal: 19m 31s\tremaining: 10m 44s\n",
            "645:\tlearn: 0.1279530\ttotal: 19m 33s\tremaining: 10m 42s\n",
            "646:\tlearn: 0.1279285\ttotal: 19m 34s\tremaining: 10m 41s\n",
            "647:\tlearn: 0.1278905\ttotal: 19m 36s\tremaining: 10m 39s\n",
            "648:\tlearn: 0.1278696\ttotal: 19m 38s\tremaining: 10m 37s\n",
            "649:\tlearn: 0.1278321\ttotal: 19m 40s\tremaining: 10m 35s\n",
            "650:\tlearn: 0.1277969\ttotal: 19m 41s\tremaining: 10m 33s\n",
            "651:\tlearn: 0.1277748\ttotal: 19m 43s\tremaining: 10m 31s\n",
            "652:\tlearn: 0.1277514\ttotal: 19m 45s\tremaining: 10m 29s\n",
            "653:\tlearn: 0.1277349\ttotal: 19m 47s\tremaining: 10m 28s\n",
            "654:\tlearn: 0.1277140\ttotal: 19m 48s\tremaining: 10m 26s\n",
            "655:\tlearn: 0.1276962\ttotal: 19m 50s\tremaining: 10m 24s\n",
            "656:\tlearn: 0.1276486\ttotal: 19m 52s\tremaining: 10m 22s\n",
            "657:\tlearn: 0.1276304\ttotal: 19m 54s\tremaining: 10m 20s\n",
            "658:\tlearn: 0.1275611\ttotal: 19m 55s\tremaining: 10m 18s\n",
            "659:\tlearn: 0.1275371\ttotal: 19m 57s\tremaining: 10m 16s\n",
            "660:\tlearn: 0.1275149\ttotal: 19m 59s\tremaining: 10m 15s\n",
            "661:\tlearn: 0.1274862\ttotal: 20m 1s\tremaining: 10m 13s\n",
            "662:\tlearn: 0.1274641\ttotal: 20m 2s\tremaining: 10m 11s\n",
            "663:\tlearn: 0.1274466\ttotal: 20m 4s\tremaining: 10m 9s\n",
            "664:\tlearn: 0.1274142\ttotal: 20m 6s\tremaining: 10m 7s\n",
            "665:\tlearn: 0.1273862\ttotal: 20m 8s\tremaining: 10m 5s\n",
            "666:\tlearn: 0.1273244\ttotal: 20m 9s\tremaining: 10m 3s\n",
            "667:\tlearn: 0.1272908\ttotal: 20m 11s\tremaining: 10m 2s\n",
            "668:\tlearn: 0.1272649\ttotal: 20m 13s\tremaining: 10m\n",
            "669:\tlearn: 0.1272378\ttotal: 20m 15s\tremaining: 9m 58s\n",
            "670:\tlearn: 0.1271996\ttotal: 20m 16s\tremaining: 9m 56s\n",
            "671:\tlearn: 0.1271727\ttotal: 20m 18s\tremaining: 9m 54s\n",
            "672:\tlearn: 0.1271561\ttotal: 20m 20s\tremaining: 9m 52s\n",
            "673:\tlearn: 0.1271380\ttotal: 20m 22s\tremaining: 9m 51s\n",
            "674:\tlearn: 0.1270992\ttotal: 20m 23s\tremaining: 9m 49s\n",
            "675:\tlearn: 0.1270743\ttotal: 20m 25s\tremaining: 9m 47s\n",
            "676:\tlearn: 0.1269970\ttotal: 20m 27s\tremaining: 9m 45s\n",
            "677:\tlearn: 0.1269610\ttotal: 20m 29s\tremaining: 9m 43s\n",
            "678:\tlearn: 0.1269491\ttotal: 20m 30s\tremaining: 9m 41s\n",
            "679:\tlearn: 0.1269292\ttotal: 20m 32s\tremaining: 9m 40s\n",
            "680:\tlearn: 0.1268983\ttotal: 20m 34s\tremaining: 9m 38s\n",
            "681:\tlearn: 0.1268616\ttotal: 20m 36s\tremaining: 9m 36s\n",
            "682:\tlearn: 0.1268267\ttotal: 20m 37s\tremaining: 9m 34s\n",
            "683:\tlearn: 0.1268009\ttotal: 20m 39s\tremaining: 9m 32s\n",
            "684:\tlearn: 0.1267734\ttotal: 20m 41s\tremaining: 9m 30s\n",
            "685:\tlearn: 0.1267308\ttotal: 20m 43s\tremaining: 9m 28s\n",
            "686:\tlearn: 0.1267090\ttotal: 20m 45s\tremaining: 9m 27s\n",
            "687:\tlearn: 0.1266925\ttotal: 20m 48s\tremaining: 9m 25s\n",
            "688:\tlearn: 0.1266746\ttotal: 20m 49s\tremaining: 9m 24s\n",
            "689:\tlearn: 0.1266389\ttotal: 20m 51s\tremaining: 9m 22s\n",
            "690:\tlearn: 0.1266073\ttotal: 20m 53s\tremaining: 9m 20s\n",
            "691:\tlearn: 0.1265821\ttotal: 20m 55s\tremaining: 9m 18s\n",
            "692:\tlearn: 0.1265615\ttotal: 20m 56s\tremaining: 9m 16s\n",
            "693:\tlearn: 0.1265433\ttotal: 20m 58s\tremaining: 9m 14s\n",
            "694:\tlearn: 0.1265187\ttotal: 21m\tremaining: 9m 13s\n",
            "695:\tlearn: 0.1264940\ttotal: 21m 1s\tremaining: 9m 11s\n",
            "696:\tlearn: 0.1264457\ttotal: 21m 3s\tremaining: 9m 9s\n",
            "697:\tlearn: 0.1264262\ttotal: 21m 5s\tremaining: 9m 7s\n",
            "698:\tlearn: 0.1263903\ttotal: 21m 7s\tremaining: 9m 5s\n",
            "699:\tlearn: 0.1263706\ttotal: 21m 8s\tremaining: 9m 3s\n",
            "700:\tlearn: 0.1263550\ttotal: 21m 10s\tremaining: 9m 1s\n",
            "701:\tlearn: 0.1263344\ttotal: 21m 12s\tremaining: 9m\n",
            "702:\tlearn: 0.1263211\ttotal: 21m 14s\tremaining: 8m 58s\n",
            "703:\tlearn: 0.1262927\ttotal: 21m 15s\tremaining: 8m 56s\n",
            "704:\tlearn: 0.1262781\ttotal: 21m 17s\tremaining: 8m 54s\n",
            "705:\tlearn: 0.1262462\ttotal: 21m 19s\tremaining: 8m 52s\n",
            "706:\tlearn: 0.1262180\ttotal: 21m 21s\tremaining: 8m 50s\n",
            "707:\tlearn: 0.1261945\ttotal: 21m 22s\tremaining: 8m 49s\n",
            "708:\tlearn: 0.1261594\ttotal: 21m 24s\tremaining: 8m 47s\n",
            "709:\tlearn: 0.1261288\ttotal: 21m 26s\tremaining: 8m 45s\n",
            "710:\tlearn: 0.1260945\ttotal: 21m 28s\tremaining: 8m 43s\n",
            "711:\tlearn: 0.1260703\ttotal: 21m 29s\tremaining: 8m 41s\n",
            "712:\tlearn: 0.1260529\ttotal: 21m 31s\tremaining: 8m 39s\n",
            "713:\tlearn: 0.1260061\ttotal: 21m 33s\tremaining: 8m 38s\n",
            "714:\tlearn: 0.1259638\ttotal: 21m 35s\tremaining: 8m 36s\n",
            "715:\tlearn: 0.1259325\ttotal: 21m 36s\tremaining: 8m 34s\n",
            "716:\tlearn: 0.1259151\ttotal: 21m 38s\tremaining: 8m 32s\n",
            "717:\tlearn: 0.1258784\ttotal: 21m 40s\tremaining: 8m 30s\n",
            "718:\tlearn: 0.1258596\ttotal: 21m 42s\tremaining: 8m 28s\n",
            "719:\tlearn: 0.1258259\ttotal: 21m 43s\tremaining: 8m 27s\n",
            "720:\tlearn: 0.1258098\ttotal: 21m 45s\tremaining: 8m 25s\n",
            "721:\tlearn: 0.1257764\ttotal: 21m 47s\tremaining: 8m 23s\n",
            "722:\tlearn: 0.1257410\ttotal: 21m 49s\tremaining: 8m 21s\n",
            "723:\tlearn: 0.1257294\ttotal: 21m 50s\tremaining: 8m 19s\n",
            "724:\tlearn: 0.1257124\ttotal: 21m 52s\tremaining: 8m 17s\n",
            "725:\tlearn: 0.1256906\ttotal: 21m 54s\tremaining: 8m 16s\n",
            "726:\tlearn: 0.1256647\ttotal: 21m 56s\tremaining: 8m 14s\n",
            "727:\tlearn: 0.1256458\ttotal: 21m 57s\tremaining: 8m 12s\n",
            "728:\tlearn: 0.1256106\ttotal: 21m 59s\tremaining: 8m 10s\n",
            "729:\tlearn: 0.1255928\ttotal: 22m 1s\tremaining: 8m 8s\n",
            "730:\tlearn: 0.1255752\ttotal: 22m 3s\tremaining: 8m 6s\n",
            "731:\tlearn: 0.1255527\ttotal: 22m 5s\tremaining: 8m 5s\n",
            "732:\tlearn: 0.1255272\ttotal: 22m 6s\tremaining: 8m 3s\n",
            "733:\tlearn: 0.1254882\ttotal: 22m 8s\tremaining: 8m 1s\n",
            "734:\tlearn: 0.1254581\ttotal: 22m 10s\tremaining: 7m 59s\n",
            "735:\tlearn: 0.1254348\ttotal: 22m 12s\tremaining: 7m 57s\n",
            "736:\tlearn: 0.1254132\ttotal: 22m 13s\tremaining: 7m 55s\n",
            "737:\tlearn: 0.1253896\ttotal: 22m 15s\tremaining: 7m 54s\n",
            "738:\tlearn: 0.1253520\ttotal: 22m 17s\tremaining: 7m 52s\n",
            "739:\tlearn: 0.1253181\ttotal: 22m 19s\tremaining: 7m 50s\n",
            "740:\tlearn: 0.1252934\ttotal: 22m 20s\tremaining: 7m 48s\n",
            "741:\tlearn: 0.1252783\ttotal: 22m 22s\tremaining: 7m 46s\n",
            "742:\tlearn: 0.1252688\ttotal: 22m 24s\tremaining: 7m 45s\n",
            "743:\tlearn: 0.1252115\ttotal: 22m 26s\tremaining: 7m 43s\n",
            "744:\tlearn: 0.1251813\ttotal: 22m 27s\tremaining: 7m 41s\n",
            "745:\tlearn: 0.1250635\ttotal: 22m 29s\tremaining: 7m 39s\n",
            "746:\tlearn: 0.1250470\ttotal: 22m 31s\tremaining: 7m 37s\n",
            "747:\tlearn: 0.1250246\ttotal: 22m 33s\tremaining: 7m 35s\n",
            "748:\tlearn: 0.1250038\ttotal: 22m 34s\tremaining: 7m 34s\n",
            "749:\tlearn: 0.1249806\ttotal: 22m 36s\tremaining: 7m 32s\n",
            "750:\tlearn: 0.1249704\ttotal: 22m 38s\tremaining: 7m 30s\n",
            "751:\tlearn: 0.1249429\ttotal: 22m 40s\tremaining: 7m 28s\n",
            "752:\tlearn: 0.1248980\ttotal: 22m 42s\tremaining: 7m 26s\n",
            "753:\tlearn: 0.1248700\ttotal: 22m 43s\tremaining: 7m 25s\n",
            "754:\tlearn: 0.1248501\ttotal: 22m 45s\tremaining: 7m 23s\n",
            "755:\tlearn: 0.1248254\ttotal: 22m 47s\tremaining: 7m 21s\n",
            "756:\tlearn: 0.1248053\ttotal: 22m 49s\tremaining: 7m 19s\n",
            "757:\tlearn: 0.1247799\ttotal: 22m 51s\tremaining: 7m 17s\n",
            "758:\tlearn: 0.1247524\ttotal: 22m 52s\tremaining: 7m 15s\n",
            "759:\tlearn: 0.1247292\ttotal: 22m 54s\tremaining: 7m 14s\n",
            "760:\tlearn: 0.1247052\ttotal: 22m 56s\tremaining: 7m 12s\n",
            "761:\tlearn: 0.1246863\ttotal: 22m 58s\tremaining: 7m 10s\n",
            "762:\tlearn: 0.1246498\ttotal: 23m\tremaining: 7m 8s\n",
            "763:\tlearn: 0.1246320\ttotal: 23m 1s\tremaining: 7m 6s\n",
            "764:\tlearn: 0.1246047\ttotal: 23m 3s\tremaining: 7m 5s\n",
            "765:\tlearn: 0.1245797\ttotal: 23m 5s\tremaining: 7m 3s\n",
            "766:\tlearn: 0.1245591\ttotal: 23m 7s\tremaining: 7m 1s\n",
            "767:\tlearn: 0.1245336\ttotal: 23m 8s\tremaining: 6m 59s\n",
            "768:\tlearn: 0.1245208\ttotal: 23m 10s\tremaining: 6m 57s\n",
            "769:\tlearn: 0.1245020\ttotal: 23m 12s\tremaining: 6m 55s\n",
            "770:\tlearn: 0.1244766\ttotal: 23m 14s\tremaining: 6m 54s\n",
            "771:\tlearn: 0.1244594\ttotal: 23m 16s\tremaining: 6m 52s\n",
            "772:\tlearn: 0.1244439\ttotal: 23m 17s\tremaining: 6m 50s\n",
            "773:\tlearn: 0.1244242\ttotal: 23m 19s\tremaining: 6m 48s\n",
            "774:\tlearn: 0.1244036\ttotal: 23m 21s\tremaining: 6m 46s\n",
            "775:\tlearn: 0.1243845\ttotal: 23m 23s\tremaining: 6m 45s\n",
            "776:\tlearn: 0.1243649\ttotal: 23m 24s\tremaining: 6m 43s\n",
            "777:\tlearn: 0.1243426\ttotal: 23m 26s\tremaining: 6m 41s\n",
            "778:\tlearn: 0.1243192\ttotal: 23m 28s\tremaining: 6m 39s\n",
            "779:\tlearn: 0.1243061\ttotal: 23m 30s\tremaining: 6m 37s\n",
            "780:\tlearn: 0.1242861\ttotal: 23m 32s\tremaining: 6m 35s\n",
            "781:\tlearn: 0.1242673\ttotal: 23m 33s\tremaining: 6m 34s\n",
            "782:\tlearn: 0.1242435\ttotal: 23m 35s\tremaining: 6m 32s\n",
            "783:\tlearn: 0.1242157\ttotal: 23m 37s\tremaining: 6m 30s\n",
            "784:\tlearn: 0.1241849\ttotal: 23m 40s\tremaining: 6m 29s\n",
            "785:\tlearn: 0.1241462\ttotal: 23m 42s\tremaining: 6m 27s\n",
            "786:\tlearn: 0.1241185\ttotal: 23m 44s\tremaining: 6m 25s\n",
            "787:\tlearn: 0.1240944\ttotal: 23m 46s\tremaining: 6m 23s\n",
            "788:\tlearn: 0.1240663\ttotal: 23m 47s\tremaining: 6m 21s\n",
            "789:\tlearn: 0.1240503\ttotal: 23m 49s\tremaining: 6m 20s\n",
            "790:\tlearn: 0.1240105\ttotal: 23m 51s\tremaining: 6m 18s\n",
            "791:\tlearn: 0.1239632\ttotal: 23m 53s\tremaining: 6m 16s\n",
            "792:\tlearn: 0.1239355\ttotal: 23m 54s\tremaining: 6m 14s\n",
            "793:\tlearn: 0.1239136\ttotal: 23m 56s\tremaining: 6m 12s\n",
            "794:\tlearn: 0.1238856\ttotal: 23m 58s\tremaining: 6m 10s\n",
            "795:\tlearn: 0.1238650\ttotal: 24m\tremaining: 6m 9s\n",
            "796:\tlearn: 0.1238434\ttotal: 24m 1s\tremaining: 6m 7s\n",
            "797:\tlearn: 0.1238035\ttotal: 24m 3s\tremaining: 6m 5s\n",
            "798:\tlearn: 0.1237867\ttotal: 24m 5s\tremaining: 6m 3s\n",
            "799:\tlearn: 0.1237493\ttotal: 24m 7s\tremaining: 6m 1s\n",
            "800:\tlearn: 0.1236749\ttotal: 24m 8s\tremaining: 5m 59s\n",
            "801:\tlearn: 0.1236620\ttotal: 24m 10s\tremaining: 5m 58s\n",
            "802:\tlearn: 0.1236409\ttotal: 24m 12s\tremaining: 5m 56s\n",
            "803:\tlearn: 0.1235947\ttotal: 24m 14s\tremaining: 5m 54s\n",
            "804:\tlearn: 0.1235612\ttotal: 24m 16s\tremaining: 5m 52s\n",
            "805:\tlearn: 0.1235297\ttotal: 24m 17s\tremaining: 5m 50s\n",
            "806:\tlearn: 0.1234984\ttotal: 24m 19s\tremaining: 5m 49s\n",
            "807:\tlearn: 0.1234614\ttotal: 24m 21s\tremaining: 5m 47s\n",
            "808:\tlearn: 0.1234411\ttotal: 24m 23s\tremaining: 5m 45s\n",
            "809:\tlearn: 0.1234229\ttotal: 24m 24s\tremaining: 5m 43s\n",
            "810:\tlearn: 0.1234044\ttotal: 24m 26s\tremaining: 5m 41s\n",
            "811:\tlearn: 0.1233883\ttotal: 24m 28s\tremaining: 5m 39s\n",
            "812:\tlearn: 0.1233600\ttotal: 24m 30s\tremaining: 5m 38s\n",
            "813:\tlearn: 0.1233302\ttotal: 24m 31s\tremaining: 5m 36s\n",
            "814:\tlearn: 0.1232879\ttotal: 24m 33s\tremaining: 5m 34s\n",
            "815:\tlearn: 0.1232676\ttotal: 24m 35s\tremaining: 5m 32s\n",
            "816:\tlearn: 0.1232418\ttotal: 24m 37s\tremaining: 5m 30s\n",
            "817:\tlearn: 0.1232234\ttotal: 24m 39s\tremaining: 5m 29s\n",
            "818:\tlearn: 0.1232055\ttotal: 24m 40s\tremaining: 5m 27s\n",
            "819:\tlearn: 0.1231806\ttotal: 24m 42s\tremaining: 5m 25s\n",
            "820:\tlearn: 0.1231644\ttotal: 24m 44s\tremaining: 5m 23s\n",
            "821:\tlearn: 0.1231453\ttotal: 24m 46s\tremaining: 5m 21s\n",
            "822:\tlearn: 0.1231296\ttotal: 24m 47s\tremaining: 5m 19s\n",
            "823:\tlearn: 0.1231064\ttotal: 24m 49s\tremaining: 5m 18s\n",
            "824:\tlearn: 0.1230469\ttotal: 24m 51s\tremaining: 5m 16s\n",
            "825:\tlearn: 0.1230287\ttotal: 24m 53s\tremaining: 5m 14s\n",
            "826:\tlearn: 0.1230103\ttotal: 24m 54s\tremaining: 5m 12s\n",
            "827:\tlearn: 0.1229886\ttotal: 24m 56s\tremaining: 5m 10s\n",
            "828:\tlearn: 0.1229670\ttotal: 24m 58s\tremaining: 5m 9s\n",
            "829:\tlearn: 0.1229411\ttotal: 25m\tremaining: 5m 7s\n",
            "830:\tlearn: 0.1229161\ttotal: 25m 2s\tremaining: 5m 5s\n",
            "831:\tlearn: 0.1229018\ttotal: 25m 3s\tremaining: 5m 3s\n",
            "832:\tlearn: 0.1228817\ttotal: 25m 5s\tremaining: 5m 1s\n",
            "833:\tlearn: 0.1228637\ttotal: 25m 7s\tremaining: 5m\n",
            "834:\tlearn: 0.1228475\ttotal: 25m 9s\tremaining: 4m 58s\n",
            "835:\tlearn: 0.1227379\ttotal: 25m 10s\tremaining: 4m 56s\n",
            "836:\tlearn: 0.1227182\ttotal: 25m 12s\tremaining: 4m 54s\n",
            "837:\tlearn: 0.1226845\ttotal: 25m 14s\tremaining: 4m 52s\n",
            "838:\tlearn: 0.1226285\ttotal: 25m 16s\tremaining: 4m 50s\n",
            "839:\tlearn: 0.1226039\ttotal: 25m 17s\tremaining: 4m 49s\n",
            "840:\tlearn: 0.1225612\ttotal: 25m 19s\tremaining: 4m 47s\n",
            "841:\tlearn: 0.1225421\ttotal: 25m 21s\tremaining: 4m 45s\n",
            "842:\tlearn: 0.1225125\ttotal: 25m 23s\tremaining: 4m 43s\n",
            "843:\tlearn: 0.1224926\ttotal: 25m 25s\tremaining: 4m 41s\n",
            "844:\tlearn: 0.1224725\ttotal: 25m 26s\tremaining: 4m 40s\n",
            "845:\tlearn: 0.1224558\ttotal: 25m 28s\tremaining: 4m 38s\n",
            "846:\tlearn: 0.1224114\ttotal: 25m 30s\tremaining: 4m 36s\n",
            "847:\tlearn: 0.1223927\ttotal: 25m 32s\tremaining: 4m 34s\n",
            "848:\tlearn: 0.1223707\ttotal: 25m 33s\tremaining: 4m 32s\n",
            "849:\tlearn: 0.1223552\ttotal: 25m 35s\tremaining: 4m 31s\n",
            "850:\tlearn: 0.1223302\ttotal: 25m 37s\tremaining: 4m 29s\n",
            "851:\tlearn: 0.1223109\ttotal: 25m 39s\tremaining: 4m 27s\n",
            "852:\tlearn: 0.1222923\ttotal: 25m 40s\tremaining: 4m 25s\n",
            "853:\tlearn: 0.1222710\ttotal: 25m 42s\tremaining: 4m 23s\n",
            "854:\tlearn: 0.1222277\ttotal: 25m 44s\tremaining: 4m 21s\n",
            "855:\tlearn: 0.1221766\ttotal: 25m 46s\tremaining: 4m 20s\n",
            "856:\tlearn: 0.1221416\ttotal: 25m 48s\tremaining: 4m 18s\n",
            "857:\tlearn: 0.1221282\ttotal: 25m 49s\tremaining: 4m 16s\n",
            "858:\tlearn: 0.1221105\ttotal: 25m 51s\tremaining: 4m 14s\n",
            "859:\tlearn: 0.1220932\ttotal: 25m 53s\tremaining: 4m 12s\n",
            "860:\tlearn: 0.1220716\ttotal: 25m 55s\tremaining: 4m 11s\n",
            "861:\tlearn: 0.1220509\ttotal: 25m 57s\tremaining: 4m 9s\n",
            "862:\tlearn: 0.1220318\ttotal: 25m 58s\tremaining: 4m 7s\n",
            "863:\tlearn: 0.1220074\ttotal: 26m\tremaining: 4m 5s\n",
            "864:\tlearn: 0.1219702\ttotal: 26m 2s\tremaining: 4m 3s\n",
            "865:\tlearn: 0.1219494\ttotal: 26m 4s\tremaining: 4m 2s\n",
            "866:\tlearn: 0.1219407\ttotal: 26m 5s\tremaining: 4m\n",
            "867:\tlearn: 0.1219153\ttotal: 26m 7s\tremaining: 3m 58s\n",
            "868:\tlearn: 0.1218969\ttotal: 26m 9s\tremaining: 3m 56s\n",
            "869:\tlearn: 0.1218652\ttotal: 26m 11s\tremaining: 3m 54s\n",
            "870:\tlearn: 0.1218480\ttotal: 26m 12s\tremaining: 3m 52s\n",
            "871:\tlearn: 0.1218298\ttotal: 26m 14s\tremaining: 3m 51s\n",
            "872:\tlearn: 0.1217904\ttotal: 26m 16s\tremaining: 3m 49s\n",
            "873:\tlearn: 0.1217768\ttotal: 26m 18s\tremaining: 3m 47s\n",
            "874:\tlearn: 0.1217438\ttotal: 26m 19s\tremaining: 3m 45s\n",
            "875:\tlearn: 0.1217239\ttotal: 26m 21s\tremaining: 3m 43s\n",
            "876:\tlearn: 0.1217068\ttotal: 26m 23s\tremaining: 3m 42s\n",
            "877:\tlearn: 0.1216875\ttotal: 26m 25s\tremaining: 3m 40s\n",
            "878:\tlearn: 0.1215582\ttotal: 26m 27s\tremaining: 3m 38s\n",
            "879:\tlearn: 0.1215417\ttotal: 26m 28s\tremaining: 3m 36s\n",
            "880:\tlearn: 0.1215203\ttotal: 26m 30s\tremaining: 3m 34s\n",
            "881:\tlearn: 0.1214844\ttotal: 26m 32s\tremaining: 3m 33s\n",
            "882:\tlearn: 0.1214636\ttotal: 26m 35s\tremaining: 3m 31s\n",
            "883:\tlearn: 0.1214474\ttotal: 26m 37s\tremaining: 3m 29s\n",
            "884:\tlearn: 0.1214302\ttotal: 26m 39s\tremaining: 3m 27s\n",
            "885:\tlearn: 0.1214162\ttotal: 26m 40s\tremaining: 3m 25s\n",
            "886:\tlearn: 0.1213952\ttotal: 26m 42s\tremaining: 3m 24s\n",
            "887:\tlearn: 0.1213754\ttotal: 26m 44s\tremaining: 3m 22s\n",
            "888:\tlearn: 0.1213605\ttotal: 26m 46s\tremaining: 3m 20s\n",
            "889:\tlearn: 0.1213371\ttotal: 26m 48s\tremaining: 3m 18s\n",
            "890:\tlearn: 0.1213253\ttotal: 26m 49s\tremaining: 3m 16s\n",
            "891:\tlearn: 0.1213035\ttotal: 26m 51s\tremaining: 3m 15s\n",
            "892:\tlearn: 0.1212795\ttotal: 26m 53s\tremaining: 3m 13s\n",
            "893:\tlearn: 0.1212510\ttotal: 26m 55s\tremaining: 3m 11s\n",
            "894:\tlearn: 0.1212335\ttotal: 26m 56s\tremaining: 3m 9s\n",
            "895:\tlearn: 0.1212182\ttotal: 26m 58s\tremaining: 3m 7s\n",
            "896:\tlearn: 0.1211883\ttotal: 27m\tremaining: 3m 6s\n",
            "897:\tlearn: 0.1211660\ttotal: 27m 2s\tremaining: 3m 4s\n",
            "898:\tlearn: 0.1211451\ttotal: 27m 3s\tremaining: 3m 2s\n",
            "899:\tlearn: 0.1211269\ttotal: 27m 5s\tremaining: 3m\n",
            "900:\tlearn: 0.1211134\ttotal: 27m 7s\tremaining: 2m 58s\n",
            "901:\tlearn: 0.1210932\ttotal: 27m 9s\tremaining: 2m 56s\n",
            "902:\tlearn: 0.1210787\ttotal: 27m 10s\tremaining: 2m 55s\n",
            "903:\tlearn: 0.1210480\ttotal: 27m 12s\tremaining: 2m 53s\n",
            "904:\tlearn: 0.1210287\ttotal: 27m 14s\tremaining: 2m 51s\n",
            "905:\tlearn: 0.1210075\ttotal: 27m 16s\tremaining: 2m 49s\n",
            "906:\tlearn: 0.1209913\ttotal: 27m 17s\tremaining: 2m 47s\n",
            "907:\tlearn: 0.1209754\ttotal: 27m 19s\tremaining: 2m 46s\n",
            "908:\tlearn: 0.1209585\ttotal: 27m 21s\tremaining: 2m 44s\n",
            "909:\tlearn: 0.1209406\ttotal: 27m 23s\tremaining: 2m 42s\n",
            "910:\tlearn: 0.1209141\ttotal: 27m 24s\tremaining: 2m 40s\n",
            "911:\tlearn: 0.1208979\ttotal: 27m 26s\tremaining: 2m 38s\n",
            "912:\tlearn: 0.1208773\ttotal: 27m 28s\tremaining: 2m 37s\n",
            "913:\tlearn: 0.1208401\ttotal: 27m 30s\tremaining: 2m 35s\n",
            "914:\tlearn: 0.1207997\ttotal: 27m 31s\tremaining: 2m 33s\n",
            "915:\tlearn: 0.1207797\ttotal: 27m 33s\tremaining: 2m 31s\n",
            "916:\tlearn: 0.1207609\ttotal: 27m 35s\tremaining: 2m 29s\n",
            "917:\tlearn: 0.1207435\ttotal: 27m 37s\tremaining: 2m 28s\n",
            "918:\tlearn: 0.1207240\ttotal: 27m 39s\tremaining: 2m 26s\n",
            "919:\tlearn: 0.1207048\ttotal: 27m 40s\tremaining: 2m 24s\n",
            "920:\tlearn: 0.1206812\ttotal: 27m 42s\tremaining: 2m 22s\n",
            "921:\tlearn: 0.1206658\ttotal: 27m 44s\tremaining: 2m 20s\n",
            "922:\tlearn: 0.1206409\ttotal: 27m 46s\tremaining: 2m 18s\n",
            "923:\tlearn: 0.1206255\ttotal: 27m 47s\tremaining: 2m 17s\n",
            "924:\tlearn: 0.1206049\ttotal: 27m 49s\tremaining: 2m 15s\n",
            "925:\tlearn: 0.1205919\ttotal: 27m 51s\tremaining: 2m 13s\n",
            "926:\tlearn: 0.1205612\ttotal: 27m 53s\tremaining: 2m 11s\n",
            "927:\tlearn: 0.1205206\ttotal: 27m 54s\tremaining: 2m 9s\n",
            "928:\tlearn: 0.1205015\ttotal: 27m 56s\tremaining: 2m 8s\n",
            "929:\tlearn: 0.1204404\ttotal: 27m 58s\tremaining: 2m 6s\n",
            "930:\tlearn: 0.1204164\ttotal: 28m\tremaining: 2m 4s\n",
            "931:\tlearn: 0.1203963\ttotal: 28m 1s\tremaining: 2m 2s\n",
            "932:\tlearn: 0.1203832\ttotal: 28m 3s\tremaining: 2m\n",
            "933:\tlearn: 0.1203537\ttotal: 28m 5s\tremaining: 1m 59s\n",
            "934:\tlearn: 0.1203329\ttotal: 28m 7s\tremaining: 1m 57s\n",
            "935:\tlearn: 0.1203049\ttotal: 28m 8s\tremaining: 1m 55s\n",
            "936:\tlearn: 0.1202672\ttotal: 28m 10s\tremaining: 1m 53s\n",
            "937:\tlearn: 0.1202452\ttotal: 28m 12s\tremaining: 1m 51s\n",
            "938:\tlearn: 0.1202220\ttotal: 28m 14s\tremaining: 1m 50s\n",
            "939:\tlearn: 0.1202138\ttotal: 28m 16s\tremaining: 1m 48s\n",
            "940:\tlearn: 0.1201924\ttotal: 28m 17s\tremaining: 1m 46s\n",
            "941:\tlearn: 0.1201632\ttotal: 28m 19s\tremaining: 1m 44s\n",
            "942:\tlearn: 0.1201356\ttotal: 28m 21s\tremaining: 1m 42s\n",
            "943:\tlearn: 0.1201172\ttotal: 28m 23s\tremaining: 1m 41s\n",
            "944:\tlearn: 0.1200804\ttotal: 28m 24s\tremaining: 1m 39s\n",
            "945:\tlearn: 0.1200648\ttotal: 28m 26s\tremaining: 1m 37s\n",
            "946:\tlearn: 0.1200417\ttotal: 28m 28s\tremaining: 1m 35s\n",
            "947:\tlearn: 0.1200271\ttotal: 28m 30s\tremaining: 1m 33s\n",
            "948:\tlearn: 0.1200093\ttotal: 28m 31s\tremaining: 1m 32s\n",
            "949:\tlearn: 0.1199891\ttotal: 28m 33s\tremaining: 1m 30s\n",
            "950:\tlearn: 0.1199691\ttotal: 28m 35s\tremaining: 1m 28s\n",
            "951:\tlearn: 0.1199478\ttotal: 28m 37s\tremaining: 1m 26s\n",
            "952:\tlearn: 0.1199304\ttotal: 28m 38s\tremaining: 1m 24s\n",
            "953:\tlearn: 0.1199164\ttotal: 28m 40s\tremaining: 1m 22s\n",
            "954:\tlearn: 0.1198936\ttotal: 28m 42s\tremaining: 1m 21s\n",
            "955:\tlearn: 0.1198657\ttotal: 28m 44s\tremaining: 1m 19s\n",
            "956:\tlearn: 0.1198465\ttotal: 28m 46s\tremaining: 1m 17s\n",
            "957:\tlearn: 0.1198186\ttotal: 28m 47s\tremaining: 1m 15s\n",
            "958:\tlearn: 0.1198041\ttotal: 28m 49s\tremaining: 1m 13s\n",
            "959:\tlearn: 0.1197843\ttotal: 28m 51s\tremaining: 1m 12s\n",
            "960:\tlearn: 0.1197474\ttotal: 28m 53s\tremaining: 1m 10s\n",
            "961:\tlearn: 0.1197169\ttotal: 28m 55s\tremaining: 1m 8s\n",
            "962:\tlearn: 0.1196913\ttotal: 28m 56s\tremaining: 1m 6s\n",
            "963:\tlearn: 0.1196722\ttotal: 28m 58s\tremaining: 1m 4s\n",
            "964:\tlearn: 0.1196274\ttotal: 29m\tremaining: 1m 3s\n",
            "965:\tlearn: 0.1196181\ttotal: 29m 2s\tremaining: 1m 1s\n",
            "966:\tlearn: 0.1196024\ttotal: 29m 3s\tremaining: 59.5s\n",
            "967:\tlearn: 0.1195884\ttotal: 29m 5s\tremaining: 57.7s\n",
            "968:\tlearn: 0.1195758\ttotal: 29m 7s\tremaining: 55.9s\n",
            "969:\tlearn: 0.1195558\ttotal: 29m 9s\tremaining: 54.1s\n",
            "970:\tlearn: 0.1195369\ttotal: 29m 10s\tremaining: 52.3s\n",
            "971:\tlearn: 0.1195256\ttotal: 29m 12s\tremaining: 50.5s\n",
            "972:\tlearn: 0.1195083\ttotal: 29m 14s\tremaining: 48.7s\n",
            "973:\tlearn: 0.1194906\ttotal: 29m 16s\tremaining: 46.9s\n",
            "974:\tlearn: 0.1194693\ttotal: 29m 18s\tremaining: 45.1s\n",
            "975:\tlearn: 0.1194378\ttotal: 29m 19s\tremaining: 43.3s\n",
            "976:\tlearn: 0.1194254\ttotal: 29m 21s\tremaining: 41.5s\n",
            "977:\tlearn: 0.1194145\ttotal: 29m 23s\tremaining: 39.7s\n",
            "978:\tlearn: 0.1193962\ttotal: 29m 25s\tremaining: 37.9s\n",
            "979:\tlearn: 0.1193793\ttotal: 29m 27s\tremaining: 36.1s\n",
            "980:\tlearn: 0.1193547\ttotal: 29m 29s\tremaining: 34.3s\n",
            "981:\tlearn: 0.1193402\ttotal: 29m 32s\tremaining: 32.5s\n",
            "982:\tlearn: 0.1193322\ttotal: 29m 33s\tremaining: 30.7s\n",
            "983:\tlearn: 0.1193116\ttotal: 29m 35s\tremaining: 28.9s\n",
            "984:\tlearn: 0.1192993\ttotal: 29m 37s\tremaining: 27.1s\n",
            "985:\tlearn: 0.1192819\ttotal: 29m 39s\tremaining: 25.3s\n",
            "986:\tlearn: 0.1192714\ttotal: 29m 41s\tremaining: 23.5s\n",
            "987:\tlearn: 0.1192638\ttotal: 29m 42s\tremaining: 21.7s\n",
            "988:\tlearn: 0.1192500\ttotal: 29m 44s\tremaining: 19.8s\n",
            "989:\tlearn: 0.1192075\ttotal: 29m 46s\tremaining: 18s\n",
            "990:\tlearn: 0.1190648\ttotal: 29m 48s\tremaining: 16.2s\n",
            "991:\tlearn: 0.1190478\ttotal: 29m 49s\tremaining: 14.4s\n",
            "992:\tlearn: 0.1190339\ttotal: 29m 51s\tremaining: 12.6s\n",
            "993:\tlearn: 0.1190121\ttotal: 29m 53s\tremaining: 10.8s\n",
            "994:\tlearn: 0.1189701\ttotal: 29m 55s\tremaining: 9.02s\n",
            "995:\tlearn: 0.1189330\ttotal: 29m 57s\tremaining: 7.22s\n",
            "996:\tlearn: 0.1189206\ttotal: 29m 58s\tremaining: 5.41s\n",
            "997:\tlearn: 0.1189047\ttotal: 30m\tremaining: 3.61s\n",
            "998:\tlearn: 0.1188837\ttotal: 30m 2s\tremaining: 1.8s\n",
            "999:\tlearn: 0.1188516\ttotal: 30m 4s\tremaining: 0us\n"
          ]
        },
        {
          "output_type": "execute_result",
          "data": {
            "text/plain": [
              "<catboost.core.CatBoostClassifier at 0x7fa7b4b71880>"
            ]
          },
          "metadata": {},
          "execution_count": 76
        }
      ]
    },
    {
      "cell_type": "code",
      "source": [
        "print(model_CBC)"
      ],
      "metadata": {
        "id": "VugjjqH19mGq",
        "colab": {
          "base_uri": "https://localhost:8080/"
        },
        "outputId": "2f746a1a-f80f-49a6-e251-52021f1bd9e3"
      },
      "execution_count": 77,
      "outputs": [
        {
          "output_type": "stream",
          "name": "stdout",
          "text": [
            "<catboost.core.CatBoostClassifier object at 0x7fa7b4b71880>\n"
          ]
        }
      ]
    },
    {
      "cell_type": "code",
      "source": [
        "y_pred_cb = model_CBC.predict(X_test_dtm)"
      ],
      "metadata": {
        "id": "kWgjRgMX9mJz"
      },
      "execution_count": 78,
      "outputs": []
    },
    {
      "cell_type": "code",
      "source": [
        "accuracy = accuracy_score(y_test, y_pred_cb)\n",
        "print(\"Catboost: Test Accuracy: {:.2f}%\".format(accuracy * 100))\n",
        "print(classification_report(y_test,y_pred_cb))\n",
        "print(confusion_matrix(y_test,y_pred_cb))"
      ],
      "metadata": {
        "id": "mvlDpKzJ9mOE",
        "colab": {
          "base_uri": "https://localhost:8080/"
        },
        "outputId": "27b99492-94f6-4815-d16e-d819e99110a3"
      },
      "execution_count": 79,
      "outputs": [
        {
          "output_type": "stream",
          "name": "stdout",
          "text": [
            "DT: Test Accuracy: 93.83%\n",
            "              precision    recall  f1-score   support\n",
            "\n",
            "         neg       0.42      0.03      0.06       159\n",
            "         neu       0.97      0.96      0.97      9405\n",
            "         pos       0.47      0.71      0.56       421\n",
            "\n",
            "    accuracy                           0.94      9985\n",
            "   macro avg       0.62      0.57      0.53      9985\n",
            "weighted avg       0.94      0.94      0.94      9985\n",
            "\n",
            "[[   5  147    7]\n",
            " [   7 9067  331]\n",
            " [   0  124  297]]\n"
          ]
        }
      ]
    }
  ]
}